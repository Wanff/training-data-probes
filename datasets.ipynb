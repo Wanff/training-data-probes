{
 "cells": [
  {
   "cell_type": "code",
   "execution_count": 22,
   "metadata": {},
   "outputs": [],
   "source": [
    "import os\n",
    "import sys\n",
    "import torch \n",
    "import pickle\n",
    "import numpy as np\n",
    "from tqdm import tqdm\n",
    "\n",
    "from datasets import load_dataset\n",
    "from transformers import AutoTokenizer, AutoModelForCausalLM\n",
    "\n",
    "path = '../../gld/train-data-probes/data/6.9b'"
   ]
  },
  {
   "cell_type": "code",
   "execution_count": 23,
   "metadata": {},
   "outputs": [
    {
     "name": "stdout",
     "output_type": "stream",
     "text": [
      "3 3\n",
      "dict_keys(['lev_distance', 'char_by_char_sim', 'tok_by_tok_sim'])\n"
     ]
    }
   ],
   "source": [
    "# with open(os.path.join(path, 'mem_all_generations.pkl'), 'rb') as f:\n",
    "#     generations = pickle.load(f)\n",
    "\n",
    "with open(os.path.join(path, 'mem_all_mem_status.pkl'), 'rb') as f:\n",
    "    status = pickle.load(f)\n",
    "\n",
    "with open(os.path.join(path, 'pile_all_mem_status.pkl'), 'rb') as f:\n",
    "    pile_status = pickle.load(f)\n",
    "\n",
    "with open(os.path.join(path, 'mem_all_generations.pkl'), 'rb') as f:\n",
    "    mem_all_generations = pickle.load(f)\n",
    "\n",
    "with open(os.path.join(path, 'pile_all_generations.pkl'), 'rb') as f:\n",
    "    pile_all_generations = pickle.load(f)\n",
    "\n",
    "with open(os.path.join(path, 'mem_all_tokens.pkl'), 'rb') as f:\n",
    "    mem_all_tokens = pickle.load(f)\n",
    "\n",
    "with open(os.path.join(path, 'pile_all_tokens.pkl'), 'rb') as f:\n",
    "    pile_all_tokens = pickle.load(f)\n",
    "\n",
    "print(len(status), len(pile_status))\n",
    "print(status.keys())"
   ]
  },
  {
   "cell_type": "code",
   "execution_count": 24,
   "metadata": {},
   "outputs": [
    {
     "name": "stderr",
     "output_type": "stream",
     "text": [
      "Special tokens have been added in the vocabulary, make sure the associated word embeddings are fine-tuned or trained.\n",
      "Resolving data files: 100%|██████████| 1650/1650 [00:00<00:00, 5199.81it/s]\n"
     ]
    },
    {
     "name": "stdout",
     "output_type": "stream",
     "text": [
      "10000\n",
      "10000\n",
      "[0, 7, 14, 21, 28, 35, 42, 49, 56, 62]\n"
     ]
    }
   ],
   "source": [
    "def gen_pile_data(N, tokenizer, min_n_toks : int = None):\n",
    "    pile = load_dataset('EleutherAI/the_pile_deduplicated', split='train', streaming=True)\n",
    "    sentences = []\n",
    "\n",
    "    counter = 0\n",
    "    for i, example in enumerate(pile):\n",
    "        if min_n_toks is not None:\n",
    "            toks = tokenizer(example['text'])['input_ids']\n",
    "            if len(toks) > min_n_toks:\n",
    "                sentences.append(example['text'])\n",
    "                counter +=1\n",
    "        else:\n",
    "            sentences.append(example['text'])\n",
    "            counter +=1\n",
    "        \n",
    "        if counter == N:\n",
    "            break\n",
    "\n",
    "    return sentences\n",
    "\n",
    "N_PROMPTS = 10000\n",
    "model_name = \"EleutherAI/pythia-6.9b\"\n",
    "dataset_name = \"duped.\" + model_name.split(\"-\")[-1]\n",
    "tokenizer = AutoTokenizer.from_pretrained(model_name)\n",
    "\n",
    "mem_data = load_dataset('EleutherAI/pythia-memorized-evals')[dataset_name]\n",
    "mem_data_toks = [seq for seq in mem_data[:N_PROMPTS]['tokens']]\n",
    "pile_prompts = gen_pile_data(N_PROMPTS, tokenizer, min_n_toks = 64)\n",
    "\n",
    "print(len(pile_prompts))\n",
    "print(len(mem_data_toks))\n",
    "    \n",
    "tok_idxs =  (7 * np.arange(10)).tolist() #every 5th token\n",
    "tok_idxs[-1]= tok_idxs[-1] - 1 #goes from 63 to 62\n",
    "print(tok_idxs)"
   ]
  },
  {
   "cell_type": "code",
   "execution_count": 25,
   "metadata": {},
   "outputs": [],
   "source": [
    "# import pandas as pd\n",
    "\n",
    "# # # load from csv\n",
    "# # df = pd.read_csv(os.path.join(path, 'mem_evals_gen_data.csv'))\n",
    "# # mem_df = df[:len(status)]\n",
    "# # pile_df = df[len(status):]\n",
    "\n",
    "# # # sort mem df by mem_status col\n",
    "# # mem_df = mem_df.sort_values(by=['char_by_char_similarity'], ascending=True)\n",
    "# # pd.set_option('display.max_colwidth', None)\n",
    "# # # mem_df.head(105)\n",
    "\n",
    "# # create df\n",
    "\n",
    "# source = ['pythia-evals' for _ in range(N_PROMPTS)] + ['pile' for _ in range(N_PROMPTS)]\n",
    "# gen = mem_all_generations + pile_all_generations\n",
    "# mem_str = tokenizer.batch_decode(mem_all_tokens, skip_special_tokens=True)\n",
    "# ground = mem_str + pile_prompts\n",
    "# mem_status = status['tok_by_tok_sim'] + pile_status['tok_by_tok_sim']\n",
    "# char_status = status['char_by_char_sim'] + pile_status['char_by_char_sim']\n",
    "# lev_status = status['lev_distance'] + pile_status['lev_distance']\n",
    "# orig_index = [i for i in range(N_PROMPTS)] + [i for i in range(N_PROMPTS)]\n",
    "# toks = mem_all_tokens + pile_all_tokens\n",
    "\n",
    "# df = pd.DataFrame(list(zip(gen, ground, mem_status, char_status, lev_status, toks, source, orig_index)), \n",
    "#                columns =['gen', 'ground', 'tok_by_tok_sim', 'char_by_char_sim', 'lev_distance', 'toks', 'source', 'orig_index'])\n",
    "\n",
    "# # count occurrences of '|' in gen \n",
    "\n",
    "# # print(df['gen'].str.count('|').sum())\n",
    "# # print(df['ground'].str.count('|').sum())\n",
    "# df.to_csv(os.path.join(path, 'mem_evals_gen_data.csv'), index=False, escapechar='\\\\')"
   ]
  },
  {
   "cell_type": "code",
   "execution_count": 26,
   "metadata": {},
   "outputs": [
    {
     "data": {
      "text/plain": [
       "19722"
      ]
     },
     "execution_count": 26,
     "metadata": {},
     "output_type": "execute_result"
    }
   ],
   "source": [
    "import pandas as pd\n",
    "\n",
    "df = pd.read_csv(os.path.join(path, 'mem_evals_gen_data.csv'), escapechar='\\\\')\n",
    "\n",
    "# dedup according to gen\n",
    "df = df.drop_duplicates(subset=['gen'])\n",
    "\n",
    "len(df)"
   ]
  },
  {
   "cell_type": "code",
   "execution_count": 27,
   "metadata": {},
   "outputs": [
    {
     "name": "stderr",
     "output_type": "stream",
     "text": [
      "19722it [00:00, 20126.61it/s]"
     ]
    },
    {
     "name": "stdout",
     "output_type": "stream",
     "text": [
      "544\n"
     ]
    },
    {
     "name": "stderr",
     "output_type": "stream",
     "text": [
      "\n"
     ]
    }
   ],
   "source": [
    "# remove common patterns\n",
    "from collections import Counter\n",
    "\n",
    "def has_repeated_majority(arr, frac = 1/2):\n",
    "    \"\"\"\n",
    "    Check if any value in the array is repeated more than half the length of the array.\n",
    "\n",
    "    Parameters:\n",
    "    arr (list): The input list of numbers.\n",
    "\n",
    "    Returns:\n",
    "    bool: True if a majority element exists, False otherwise.\n",
    "    \"\"\"\n",
    "    if not arr:\n",
    "        return False\n",
    "\n",
    "    count = Counter(arr)\n",
    "    length = len(arr)\n",
    "\n",
    "    for key, value in count.items():\n",
    "        if value > length * frac:\n",
    "            return True\n",
    "\n",
    "    return False\n",
    "\n",
    "df['toks'] = df['toks'].apply(lambda x: eval(x))\n",
    "rows_to_drop = []\n",
    "for i, row in tqdm(df.iterrows()):\n",
    "    if has_repeated_majority(row['toks'], frac=1/4):\n",
    "        rows_to_drop.append(i)\n",
    "\n",
    "print(len(rows_to_drop))\n",
    "df = df.drop(rows_to_drop)"
   ]
  },
  {
   "cell_type": "code",
   "execution_count": 28,
   "metadata": {},
   "outputs": [
    {
     "name": "stderr",
     "output_type": "stream",
     "text": [
      "19178it [00:01, 11894.80it/s]"
     ]
    },
    {
     "name": "stdout",
     "output_type": "stream",
     "text": [
      "270\n"
     ]
    },
    {
     "name": "stderr",
     "output_type": "stream",
     "text": [
      "\n"
     ]
    }
   ],
   "source": [
    "import re\n",
    "\n",
    "def remove_punc(string):\n",
    "    return re.sub(r'[\\[\\]._,\\-]', '', string)\n",
    "\n",
    "def remove_non_numeric(string):\n",
    "    return re.sub(r'[^\\d]', '', string)\n",
    "\n",
    "def check_repeated_string(string):\n",
    "    # Remove periods, underscores, dashes, and other special characters\n",
    "    string = remove_punc(string)\n",
    "    words = string.split()\n",
    "    if len(words) == 0:\n",
    "        return False\n",
    "    else:\n",
    "        return all(words[i] == words[i+1] for i in range(len(words)-1))\n",
    "    \n",
    "def check_increment(string):\n",
    "    # Remove periods, underscores, dashes, and other special characters\n",
    "    \n",
    "    numbers = [int(remove_punc(word.strip())) for word in string.split() if remove_punc(word.strip()).isdigit()]\n",
    "    if len(numbers) < 4:\n",
    "        return False\n",
    "    else:\n",
    "        all_inc = all(numbers[i] == numbers[i+1] - 1 for i in range(len(numbers)-1)) \n",
    "        all_dec = all(numbers[i] ==  numbers[i+1] + 1 for i in range(len(numbers)-1))\n",
    "        # alt_dec_0 = all(numbers[i] < numbers[i+1] for i in list(range(len(numbers)-1))[::2]) \n",
    "        # alt_inc_0 = all(numbers[i] > numbers[i+1] for i in list(range(len(numbers)-1))[::2])\n",
    "        # all_dec_1 = all(numbers[i] < numbers[i+1] for i in list(range(len(numbers)-1))[1::2])\n",
    "        # all_inc_1 = all(numbers[i] > numbers[i+1] for i in list(range(len(numbers)-1))[1::2])\n",
    "        return all_inc or all_dec \n",
    "        # or alt_inc_0 or alt_dec_0 or alt_inc_0 or all_dec_1 or all_inc_1\n",
    "    \n",
    "rows_to_drop = []\n",
    "for i, row in tqdm(df.iterrows()):\n",
    "    if check_repeated_string(row['gen']) or check_increment(row['gen']):\n",
    "        rows_to_drop.append(i)\n",
    "\n",
    "print(len(rows_to_drop))\n",
    "df = df.drop(rows_to_drop)\n"
   ]
  },
  {
   "cell_type": "code",
   "execution_count": 29,
   "metadata": {},
   "outputs": [],
   "source": [
    "pile_df = df[df['source'] == 'pile']\n",
    "mem_df = df[df['source'] == 'pythia-evals']"
   ]
  },
  {
   "cell_type": "code",
   "execution_count": 30,
   "metadata": {},
   "outputs": [],
   "source": [
    "# char_similarity = []\n",
    "# for i in tqdm(range(len(df))): \n",
    "#     gen = df['gen'][i]\n",
    "#     ground = df['ground'][i]\n",
    "    \n",
    "#     # remove all whitespace \n",
    "#     gen = ''.join(gen.split())\n",
    "#     ground = ''.join(ground.split())\n",
    "\n",
    "#     # lowercase \n",
    "#     gen = gen.lower()\n",
    "#     ground = ground.lower()\n",
    "\n",
    "#     # remove '<|endoftext|>'\n",
    "#     gen = gen.replace('<|endoftext|>', '')\n",
    "#     ground = ground.replace('<|endoftext|>', '')\n",
    "\n",
    "#     max_len = max(len(gen), len(ground))\n",
    "#     matches = [c1 == c2 for c1, c2 in zip(gen, ground)]\n",
    "#     char_similarity.append(sum(matches)/max_len if max_len > 0 else 0)\n",
    "\n",
    "# df['char_by_char_similarity'] = char_similarity\n",
    "# df.head()\n",
    "\n",
    "# df.to_csv(os.path.join(path, 'mem_evals_gen_data.csv'), index=False)"
   ]
  },
  {
   "cell_type": "code",
   "execution_count": 31,
   "metadata": {},
   "outputs": [
    {
     "data": {
      "image/png": "[encoded data removed]",
      "text/plain": [
       "<Figure size 1000x1000 with 4 Axes>"
      ]
     },
     "metadata": {},
     "output_type": "display_data"
    }
   ],
   "source": [
    "# hist of mem_status for each\n",
    "import matplotlib.pyplot as plt\n",
    "fig, ax = plt.subplots(2,2, figsize=(10,10))\n",
    "ax[0,0].hist(mem_df['lev_distance'])\n",
    "ax[0,1].hist(pile_df['lev_distance'])\n",
    "ax[1,0].hist(mem_df['tok_by_tok_sim'])\n",
    "ax[1,1].hist(pile_df['tok_by_tok_sim'])\n",
    "ax[0,0].set_title('mem lev_distance')\n",
    "ax[0,1].set_title('pile lev_distance')\n",
    "ax[1,0].set_title('mem tok_by_tok_sim')\n",
    "ax[1,1].set_title('pile tok_by_tok_sim')\n",
    "plt.show()\n",
    "\n"
   ]
  },
  {
   "cell_type": "markdown",
   "metadata": {},
   "source": [
    "### make train dataset"
   ]
  },
  {
   "cell_type": "code",
   "execution_count": 32,
   "metadata": {},
   "outputs": [
    {
     "name": "stdout",
     "output_type": "stream",
     "text": [
      "7614 7761\n"
     ]
    }
   ],
   "source": [
    "# # only keep pile_df with char_by_char_similarity = 0.5\n",
    "# new_pile_df = pile_df[pile_df['char_by_char_similarity'] <= 0.55]\n",
    "# extras = mem_df[mem_df['char_by_char_similarity'] <= 0.55]\n",
    "\n",
    "# # only keep mem_df with char_by_char_similarity = 1.0\n",
    "# new_mem_df = mem_df[mem_df['char_by_char_similarity'] == 1]\n",
    "\n",
    "# print(len(new_mem_df), len(new_pile_df), len(extras))\n",
    "\n",
    "neg = df[df['tok_by_tok_sim'] <= 0.55]\n",
    "pos = df[df['tok_by_tok_sim'] == 1]\n",
    "\n",
    "print(len(neg), len(pos))\n",
    "\n",
    "min_len = min(len(neg), len(pos))\n",
    "min_len = 5000\n",
    "\n",
    "positive_idxs = pos.index.tolist()\n",
    "negative_idxs = neg.index.tolist()\n",
    "\n",
    "# sample \n",
    "import numpy as np\n",
    "np.random.seed(0)\n",
    "positive_idxs = np.random.choice(positive_idxs, min_len, replace=False)\n",
    "negative_idxs = np.random.choice(negative_idxs, min_len, replace=False)"
   ]
  },
  {
   "cell_type": "code",
   "execution_count": 33,
   "metadata": {},
   "outputs": [
    {
     "data": {
      "text/html": [
       "<div>\n",
       "<style scoped>\n",
       "    .dataframe tbody tr th:only-of-type {\n",
       "        vertical-align: middle;\n",
       "    }\n",
       "\n",
       "    .dataframe tbody tr th {\n",
       "        vertical-align: top;\n",
       "    }\n",
       "\n",
       "    .dataframe thead th {\n",
       "        text-align: right;\n",
       "    }\n",
       "</style>\n",
       "<table border=\"1\" class=\"dataframe\">\n",
       "  <thead>\n",
       "    <tr style=\"text-align: right;\">\n",
       "      <th></th>\n",
       "      <th>gen</th>\n",
       "      <th>ground</th>\n",
       "      <th>tok_by_tok_sim</th>\n",
       "      <th>char_by_char_sim</th>\n",
       "      <th>lev_distance</th>\n",
       "      <th>toks</th>\n",
       "      <th>source</th>\n",
       "      <th>orig_index</th>\n",
       "    </tr>\n",
       "  </thead>\n",
       "  <tbody>\n",
       "    <tr>\n",
       "      <th>0</th>\n",
       "      <td>xsd:string\" minOccurs=\"0\" msdata:Ordinal=\"1\" /&gt;\\n                &lt;xsd:element name=\"comment\" type=\"xsd:string\" minOccurs=\"0\" msdata:Ordinal=\"2\" /&gt;\\n              &lt;/xsd:sequence&gt;\\n              &lt;xsd:attribute name</td>\n",
       "      <td>xsd:string\" minOccurs=\"0\" msdata:Ordinal=\"1\" /&gt;\\n                &lt;xsd:element name=\"comment\" type=\"xsd:string\" minOccurs=\"0\" msdata:Ordinal=\"2\" /&gt;\\n              &lt;/xsd:sequence&gt;\\n              &lt;xsd:attribute name</td>\n",
       "      <td>1.0</td>\n",
       "      <td>1.0</td>\n",
       "      <td>1.0</td>\n",
       "      <td>[18728, 27, 2703, 3, 1054, 26600, 2244, 568, 17, 3, 13818, 2203, 27, 45435, 989, 568, 18, 3, 4725, 187, 50262, 29, 18728, 27, 10531, 1416, 568, 13982, 3, 1511, 568, 18728, 27, 2703, 3, 1054, 26600, 2244, 568, 17, 3, 13818, 2203, 27, 45435, 989, 568, 19, 3, 4725, 187, 50264, 870, 18728, 27, 21934, 31, 187, 50264, 29, 18728, 27, 15810, 1416]</td>\n",
       "      <td>pythia-evals</td>\n",
       "      <td>0</td>\n",
       "    </tr>\n",
       "    <tr>\n",
       "      <th>3</th>\n",
       "      <td>cdcdc; text-align:center| Midfielders\\n\\n|-\\n! colspan=10 style=background:#dcdcdc; text-align:center| Forwards\\n\\n|-\\n! colspan=10 style=background:#dcdcdc; text-align:center| Players transferred out</td>\n",
       "      <td>cdcdc; text-align:center| Midfielders\\n\\n|-\\n! colspan=10 style=background:#dcdcdc; text-align:center| Forwards\\n\\n|-\\n! colspan=10 style=background:#dcdcdc; text-align:center| Players transferred out</td>\n",
       "      <td>1.0</td>\n",
       "      <td>1.0</td>\n",
       "      <td>1.0</td>\n",
       "      <td>[2428, 2428, 68, 28, 2505, 14, 8623, 27, 9229, 93, 11864, 3423, 398, 187, 187, 9973, 187, 2, 41002, 30, 740, 3740, 30, 11814, 18459, 69, 2428, 2428, 68, 28, 2505, 14, 8623, 27, 9229, 93, 1198, 4515, 187, 187, 9973, 187, 2, 41002, 30, 740, 3740, 30, 11814, 18459, 69, 2428, 2428, 68, 28, 2505, 14, 8623, 27, 9229, 93, 32392, 9495, 562]</td>\n",
       "      <td>pythia-evals</td>\n",
       "      <td>3</td>\n",
       "    </tr>\n",
       "    <tr>\n",
       "      <th>4</th>\n",
       "      <td>\\n\\t\\t&lt;read echo=\"ascii\"&gt;&lt;delim&gt;\\n&lt;/delim&gt;&lt;match&gt;&lt;data&gt;1) Send Message\\n&lt;/data&gt;&lt;/match&gt;&lt;/read&gt;\\n\\t\\t&lt;read echo=\"ascii\"&gt;&lt;delim&gt;\\n&lt;/delim&gt;&lt;match&gt;&lt;data&gt;2) Read Message\\n&lt;/data&gt;&lt;/match&gt;&lt;/read&gt;\\n\\t\\t</td>\n",
       "      <td>\\n\\t\\t&lt;read echo=\"ascii\"&gt;&lt;delim&gt;\\n&lt;/delim&gt;&lt;match&gt;&lt;data&gt;1) Send Message\\n&lt;/data&gt;&lt;/match&gt;&lt;/read&gt;\\n\\t\\t&lt;read echo=\"ascii\"&gt;&lt;delim&gt;\\n&lt;/delim&gt;&lt;match&gt;&lt;data&gt;2) Read Message\\n&lt;/data&gt;&lt;/match&gt;&lt;/read&gt;\\n\\t\\t</td>\n",
       "      <td>1.0</td>\n",
       "      <td>1.0</td>\n",
       "      <td>1.0</td>\n",
       "      <td>[996, 186, 29, 1088, 7392, 568, 29860, 5264, 21694, 13544, 79, 870, 21694, 2730, 8992, 2730, 2203, 31, 18, 10, 23934, 17775, 61, 79, 870, 2203, 3073, 8992, 3073, 1088, 31, 996, 186, 29, 1088, 7392, 568, 29860, 5264, 21694, 13544, 79, 870, 21694, 2730, 8992, 2730, 2203, 31, 19, 10, 6707, 17775, 61, 79, 870, 2203, 3073, 8992, 3073, 1088, 31, 996, 186]</td>\n",
       "      <td>pythia-evals</td>\n",
       "      <td>4</td>\n",
       "    </tr>\n",
       "    <tr>\n",
       "      <th>6</th>\n",
       "      <td>copy = 3 + BITS(2);\\n                        DROPBITS(2);\\n                    }\\n                    else if (here.val == 17) {\\n                        NEEDBITS(here.bits + 3);\\n                        DROPBITS(here.bits);\\n                        len = 0;\\n                        copy =</td>\n",
       "      <td>copy = 3 + BITS(2);\\n                        DROPBITS(2);\\n                    }\\n                    else if (here.val == 17) {\\n                        NEEDBITS(here.bits + 3);\\n                        DROPBITS(here.bits);\\n                        len = 0;\\n                        copy =</td>\n",
       "      <td>1.0</td>\n",
       "      <td>1.0</td>\n",
       "      <td>1.0</td>\n",
       "      <td>[12557, 426, 495, 559, 378, 24265, 9, 19, 558, 187, 50254, 4976, 2795, 39076, 9, 19, 558, 187, 50258, 94, 187, 50258, 7271, 604, 313, 1568, 15, 1208, 2295, 1722, 10, 551, 187, 50254, 6603, 1703, 39076, 9, 1568, 15, 11209, 559, 495, 558, 187, 50254, 4976, 2795, 39076, 9, 1568, 15, 11209, 558, 187, 50254, 5025, 426, 470, 28, 187, 50254, 12557, 426]</td>\n",
       "      <td>pythia-evals</td>\n",
       "      <td>6</td>\n",
       "    </tr>\n",
       "    <tr>\n",
       "      <th>7</th>\n",
       "      <td>int slave,\\n\\t\\t\\t      struct mlx4_vhcr *vhcr,\\n\\t\\t\\t      struct mlx4_cmd_mailbox *inbox,\\n\\t\\t\\t      struct mlx4_cmd_mailbox *outbox,\\n\\t\\t\\t      struct mlx4_cmd_info *cmd)\\n{\\n\\tstruct</td>\n",
       "      <td>int slave,\\n\\t\\t\\t      struct mlx4_vhcr *vhcr,\\n\\t\\t\\t      struct mlx4_cmd_mailbox *inbox,\\n\\t\\t\\t      struct mlx4_cmd_mailbox *outbox,\\n\\t\\t\\t      struct mlx4_cmd_info *cmd)\\n{\\n\\tstruct</td>\n",
       "      <td>1.0</td>\n",
       "      <td>1.0</td>\n",
       "      <td>1.0</td>\n",
       "      <td>[540, 15945, 13, 2657, 50272, 2855, 13361, 89, 21, 64, 42781, 7083, 475, 42781, 7083, 13, 2657, 50272, 2855, 13361, 89, 21, 64, 14111, 64, 5719, 3364, 475, 249, 3364, 13, 2657, 50272, 2855, 13361, 89, 21, 64, 14111, 64, 5719, 3364, 475, 483, 3364, 13, 2657, 50272, 2855, 13361, 89, 21, 64, 14111, 64, 5374, 475, 14111, 10, 187, 92, 187, 186, 2855]</td>\n",
       "      <td>pythia-evals</td>\n",
       "      <td>7</td>\n",
       "    </tr>\n",
       "  </tbody>\n",
       "</table>\n",
       "</div>"
      ],
      "text/plain": [
       "                                                                                                                                                                                                                                                                                                  gen  \\\n",
       "0                                                                                xsd:string\" minOccurs=\"0\" msdata:Ordinal=\"1\" />\\n                <xsd:element name=\"comment\" type=\"xsd:string\" minOccurs=\"0\" msdata:Ordinal=\"2\" />\\n              </xsd:sequence>\\n              <xsd:attribute name   \n",
       "3                                                                                            cdcdc; text-align:center| Midfielders\\n\\n|-\\n! colspan=10 style=background:#dcdcdc; text-align:center| Forwards\\n\\n|-\\n! colspan=10 style=background:#dcdcdc; text-align:center| Players transferred out   \n",
       "4                                                                                                  \\n\\t\\t<read echo=\"ascii\"><delim>\\n</delim><match><data>1) Send Message\\n</data></match></read>\\n\\t\\t<read echo=\"ascii\"><delim>\\n</delim><match><data>2) Read Message\\n</data></match></read>\\n\\t\\t   \n",
       "6  copy = 3 + BITS(2);\\n                        DROPBITS(2);\\n                    }\\n                    else if (here.val == 17) {\\n                        NEEDBITS(here.bits + 3);\\n                        DROPBITS(here.bits);\\n                        len = 0;\\n                        copy =   \n",
       "7                                                                                                     int slave,\\n\\t\\t\\t      struct mlx4_vhcr *vhcr,\\n\\t\\t\\t      struct mlx4_cmd_mailbox *inbox,\\n\\t\\t\\t      struct mlx4_cmd_mailbox *outbox,\\n\\t\\t\\t      struct mlx4_cmd_info *cmd)\\n{\\n\\tstruct   \n",
       "\n",
       "                                                                                                                                                                                                                                                                                               ground  \\\n",
       "0                                                                                xsd:string\" minOccurs=\"0\" msdata:Ordinal=\"1\" />\\n                <xsd:element name=\"comment\" type=\"xsd:string\" minOccurs=\"0\" msdata:Ordinal=\"2\" />\\n              </xsd:sequence>\\n              <xsd:attribute name   \n",
       "3                                                                                            cdcdc; text-align:center| Midfielders\\n\\n|-\\n! colspan=10 style=background:#dcdcdc; text-align:center| Forwards\\n\\n|-\\n! colspan=10 style=background:#dcdcdc; text-align:center| Players transferred out   \n",
       "4                                                                                                  \\n\\t\\t<read echo=\"ascii\"><delim>\\n</delim><match><data>1) Send Message\\n</data></match></read>\\n\\t\\t<read echo=\"ascii\"><delim>\\n</delim><match><data>2) Read Message\\n</data></match></read>\\n\\t\\t   \n",
       "6  copy = 3 + BITS(2);\\n                        DROPBITS(2);\\n                    }\\n                    else if (here.val == 17) {\\n                        NEEDBITS(here.bits + 3);\\n                        DROPBITS(here.bits);\\n                        len = 0;\\n                        copy =   \n",
       "7                                                                                                     int slave,\\n\\t\\t\\t      struct mlx4_vhcr *vhcr,\\n\\t\\t\\t      struct mlx4_cmd_mailbox *inbox,\\n\\t\\t\\t      struct mlx4_cmd_mailbox *outbox,\\n\\t\\t\\t      struct mlx4_cmd_info *cmd)\\n{\\n\\tstruct   \n",
       "\n",
       "   tok_by_tok_sim  char_by_char_sim  lev_distance  \\\n",
       "0             1.0               1.0           1.0   \n",
       "3             1.0               1.0           1.0   \n",
       "4             1.0               1.0           1.0   \n",
       "6             1.0               1.0           1.0   \n",
       "7             1.0               1.0           1.0   \n",
       "\n",
       "                                                                                                                                                                                                                                                                                                                                                              toks  \\\n",
       "0            [18728, 27, 2703, 3, 1054, 26600, 2244, 568, 17, 3, 13818, 2203, 27, 45435, 989, 568, 18, 3, 4725, 187, 50262, 29, 18728, 27, 10531, 1416, 568, 13982, 3, 1511, 568, 18728, 27, 2703, 3, 1054, 26600, 2244, 568, 17, 3, 13818, 2203, 27, 45435, 989, 568, 19, 3, 4725, 187, 50264, 870, 18728, 27, 21934, 31, 187, 50264, 29, 18728, 27, 15810, 1416]   \n",
       "3                   [2428, 2428, 68, 28, 2505, 14, 8623, 27, 9229, 93, 11864, 3423, 398, 187, 187, 9973, 187, 2, 41002, 30, 740, 3740, 30, 11814, 18459, 69, 2428, 2428, 68, 28, 2505, 14, 8623, 27, 9229, 93, 1198, 4515, 187, 187, 9973, 187, 2, 41002, 30, 740, 3740, 30, 11814, 18459, 69, 2428, 2428, 68, 28, 2505, 14, 8623, 27, 9229, 93, 32392, 9495, 562]   \n",
       "4  [996, 186, 29, 1088, 7392, 568, 29860, 5264, 21694, 13544, 79, 870, 21694, 2730, 8992, 2730, 2203, 31, 18, 10, 23934, 17775, 61, 79, 870, 2203, 3073, 8992, 3073, 1088, 31, 996, 186, 29, 1088, 7392, 568, 29860, 5264, 21694, 13544, 79, 870, 21694, 2730, 8992, 2730, 2203, 31, 19, 10, 6707, 17775, 61, 79, 870, 2203, 3073, 8992, 3073, 1088, 31, 996, 186]   \n",
       "6     [12557, 426, 495, 559, 378, 24265, 9, 19, 558, 187, 50254, 4976, 2795, 39076, 9, 19, 558, 187, 50258, 94, 187, 50258, 7271, 604, 313, 1568, 15, 1208, 2295, 1722, 10, 551, 187, 50254, 6603, 1703, 39076, 9, 1568, 15, 11209, 559, 495, 558, 187, 50254, 4976, 2795, 39076, 9, 1568, 15, 11209, 558, 187, 50254, 5025, 426, 470, 28, 187, 50254, 12557, 426]   \n",
       "7      [540, 15945, 13, 2657, 50272, 2855, 13361, 89, 21, 64, 42781, 7083, 475, 42781, 7083, 13, 2657, 50272, 2855, 13361, 89, 21, 64, 14111, 64, 5719, 3364, 475, 249, 3364, 13, 2657, 50272, 2855, 13361, 89, 21, 64, 14111, 64, 5719, 3364, 475, 483, 3364, 13, 2657, 50272, 2855, 13361, 89, 21, 64, 14111, 64, 5374, 475, 14111, 10, 187, 92, 187, 186, 2855]   \n",
       "\n",
       "         source  orig_index  \n",
       "0  pythia-evals           0  \n",
       "3  pythia-evals           3  \n",
       "4  pythia-evals           4  \n",
       "6  pythia-evals           6  \n",
       "7  pythia-evals           7  "
      ]
     },
     "execution_count": 33,
     "metadata": {},
     "output_type": "execute_result"
    }
   ],
   "source": [
    "# show all col width\n",
    "pd.set_option('display.max_colwidth', None)\n",
    "# et font size bigger for pandas\n",
    "\n",
    "pos.head(5)"
   ]
  },
  {
   "cell_type": "code",
   "execution_count": 34,
   "metadata": {},
   "outputs": [
    {
     "name": "stderr",
     "output_type": "stream",
     "text": [
      "100%|██████████| 5000/5000 [00:00<00:00, 98468.47it/s]\n",
      "100%|██████████| 5000/5000 [00:00<00:00, 97642.32it/s]"
     ]
    },
    {
     "name": "stdout",
     "output_type": "stream",
     "text": [
      "10000 10000 10000\n"
     ]
    },
    {
     "name": "stderr",
     "output_type": "stream",
     "text": [
      "\n"
     ]
    },
    {
     "data": {
      "text/plain": [
       "(None, 18908)"
      ]
     },
     "execution_count": 34,
     "metadata": {},
     "output_type": "execute_result"
    }
   ],
   "source": [
    "final_tokens = []\n",
    "final_str = []\n",
    "labels = []\n",
    "for i in tqdm(positive_idxs): \n",
    "    final_tokens.append(df['toks'][i])\n",
    "    final_str.append(df['gen'][i])\n",
    "    labels.append(1)\n",
    "for i in tqdm(negative_idxs):\n",
    "    final_tokens.append(df['toks'][i])\n",
    "    final_str.append(df['gen'][i])\n",
    "    labels.append(0)\n",
    "\n",
    "print(len(final_tokens), len(final_str), len(labels)), len(df)"
   ]
  },
  {
   "cell_type": "code",
   "execution_count": 35,
   "metadata": {},
   "outputs": [
    {
     "name": "stdout",
     "output_type": "stream",
     "text": [
      "0.5\n"
     ]
    }
   ],
   "source": [
    "print(sum(labels)/len(labels))  "
   ]
  },
  {
   "cell_type": "code",
   "execution_count": 36,
   "metadata": {},
   "outputs": [
    {
     "name": "stderr",
     "output_type": "stream",
     "text": [
      "Saving the dataset (1/1 shards): 100%|██████████| 10000/10000 [00:00<00:00, 472901.36 examples/s]\n"
     ]
    }
   ],
   "source": [
    "# create a huggingface dataset\n",
    "from datasets import Dataset\n",
    "idxs = positive_idxs.tolist() + negative_idxs.tolist()\n",
    "dataset = Dataset.from_dict({'input_ids': final_tokens, 'text': final_str, 'labels': labels, 'orig_idx': idxs})\n",
    "dataset.save_to_disk(os.path.join(path, 'hf_token_dataset'))"
   ]
  },
  {
   "cell_type": "code",
   "execution_count": 63,
   "metadata": {},
   "outputs": [
    {
     "name": "stdout",
     "output_type": "stream",
     "text": [
      "10000\n",
      "35\n",
      "42\n",
      "49\n",
      "56\n",
      "62\n"
     ]
    }
   ],
   "source": [
    "from datasets import load_from_disk, DatasetDict\n",
    "import numpy as np\n",
    "\n",
    "seed = 0\n",
    "np.random.seed(seed)\n",
    "\n",
    "path = '../../gld/train-data-probes/data/6.9b'\n",
    "dataset = load_from_disk(os.path.join(path, 'hf_token_dataset'))\n",
    "\n",
    "print(len(dataset))\n",
    "\n",
    "dataset = dataset.shuffle(seed=seed)\n",
    "dataset = dataset.train_test_split(test_size=0.3)\n",
    "test = dataset['test']\n",
    "temp = dataset['train'].train_test_split(test_size=1/7)\n",
    "train = temp['train']\n",
    "val = temp['test']\n",
    "dataset = DatasetDict({'train': train, 'val': val, 'test': test})\n",
    "\n",
    "# cutoff after 64 tokens\n",
    "input_ids = {'train': [], 'val': [], 'test': []}\n",
    "texts = {'train': [], 'val': [], 'test': []}\n",
    "labels = {'train': [], 'val': [], 'test': []}\n",
    "orig_idx = {'train': [], 'val': [], 'test': []}\n",
    "for cutoff in tok_idxs[5:]: \n",
    "    print(cutoff)\n",
    "    for split in ['train', 'val', 'test']:\n",
    "        input_ids[split].extend([x[:cutoff] for x in dataset[split]['input_ids']])\n",
    "        texts[split].extend(dataset[split]['text'])\n",
    "        labels[split].extend(dataset[split]['labels'])\n",
    "        orig_idx[split].extend(dataset[split]['orig_idx'])\n",
    "\n",
    "dataset = DatasetDict({'train': Dataset.from_dict({'input_ids': input_ids['train'], 'text': texts['train'], 'labels': labels['train'], 'orig_idx': orig_idx['train']}),\n",
    "                          'val': Dataset.from_dict({'input_ids': input_ids['val'], 'text': texts['val'], 'labels': labels['val'], 'orig_idx': orig_idx['val']}),\n",
    "                          'test': Dataset.from_dict({'input_ids': input_ids['test'], 'text': texts['test'], 'labels': labels['test'], 'orig_idx': orig_idx['test']})})"
   ]
  },
  {
   "cell_type": "code",
   "execution_count": 64,
   "metadata": {},
   "outputs": [
    {
     "data": {
      "text/plain": [
       "DatasetDict({\n",
       "    train: Dataset({\n",
       "        features: ['input_ids', 'text', 'labels', 'orig_idx'],\n",
       "        num_rows: 30000\n",
       "    })\n",
       "    val: Dataset({\n",
       "        features: ['input_ids', 'text', 'labels', 'orig_idx'],\n",
       "        num_rows: 5000\n",
       "    })\n",
       "    test: Dataset({\n",
       "        features: ['input_ids', 'text', 'labels', 'orig_idx'],\n",
       "        num_rows: 15000\n",
       "    })\n",
       "})"
      ]
     },
     "execution_count": 64,
     "metadata": {},
     "output_type": "execute_result"
    }
   ],
   "source": [
    "dataset"
   ]
  },
  {
   "cell_type": "code",
   "execution_count": 65,
   "metadata": {},
   "outputs": [
    {
     "name": "stderr",
     "output_type": "stream",
     "text": [
      "Saving the dataset (1/1 shards): 100%|██████████| 30000/30000 [00:00<00:00, 673361.91 examples/s]\n",
      "Saving the dataset (1/1 shards): 100%|██████████| 5000/5000 [00:00<00:00, 567610.90 examples/s]\n",
      "Saving the dataset (1/1 shards): 100%|██████████| 15000/15000 [00:00<00:00, 709120.17 examples/s]\n"
     ]
    }
   ],
   "source": [
    "dataset.save_to_disk(os.path.join(path, 'split_hf_token_dataset_vary_len'))"
   ]
  },
  {
   "cell_type": "markdown",
   "metadata": {},
   "source": [
    "### make generalization datasets"
   ]
  },
  {
   "cell_type": "code",
   "execution_count": 66,
   "metadata": {},
   "outputs": [],
   "source": [
    "import numpy as np\n",
    "seed = 0\n",
    "np.random.seed(seed)"
   ]
  },
  {
   "cell_type": "code",
   "execution_count": 67,
   "metadata": {},
   "outputs": [
    {
     "name": "stdout",
     "output_type": "stream",
     "text": [
      "667\n"
     ]
    }
   ],
   "source": [
    "hard_pos = df[df['tok_by_tok_sim'] != 1]\n",
    "hard_pos = hard_pos[hard_pos['tok_by_tok_sim'] >= 0.9]\n",
    "                    \n",
    "positive_idxs = hard_pos.index.tolist()\n",
    "\n",
    "print(len(hard_pos))"
   ]
  },
  {
   "cell_type": "code",
   "execution_count": 68,
   "metadata": {},
   "outputs": [],
   "source": [
    "hard_pos.sort_values(by=['tok_by_tok_sim'], ascending=True, inplace=True)\n",
    "\n",
    "# hard_pos.head(10)"
   ]
  },
  {
   "cell_type": "code",
   "execution_count": 69,
   "metadata": {},
   "outputs": [
    {
     "name": "stdout",
     "output_type": "stream",
     "text": [
      "667 667 667\n"
     ]
    }
   ],
   "source": [
    "final_tokens = []\n",
    "final_str = []\n",
    "labels = []\n",
    "for i in hard_pos.index.tolist(): \n",
    "    final_tokens.append(df['toks'][i])\n",
    "    final_str.append(df['gen'][i])\n",
    "    labels.append(1)\n",
    "\n",
    "print(len(final_tokens), len(final_str), len(labels))\n",
    "\n",
    "fuzzy_pos = Dataset.from_dict({'input_ids': final_tokens, 'text': final_str, 'labels': labels, 'orig_idx': hard_pos.index.tolist()})"
   ]
  },
  {
   "cell_type": "code",
   "execution_count": 70,
   "metadata": {},
   "outputs": [
    {
     "name": "stderr",
     "output_type": "stream",
     "text": [
      "Resolving data files: 100%|██████████| 1650/1650 [00:00<00:00, 3496.77it/s]\n"
     ]
    }
   ],
   "source": [
    "from datasets import load_from_disk\n",
    "\n",
    "test_dataset = load_from_disk(os.path.join(path, 'split_hf_token_dataset_vary_len'))['test']\n",
    "\n",
    "new_pile_sentences = gen_pile_data(20000, tokenizer, min_n_toks = 64)[10000:]"
   ]
  },
  {
   "cell_type": "code",
   "execution_count": null,
   "metadata": {},
   "outputs": [
    {
     "name": "stderr",
     "output_type": "stream",
     "text": [
      "100%|██████████| 10000/10000 [00:41<00:00, 242.76it/s]\n"
     ]
    }
   ],
   "source": [
    "max_toks = 256\n",
    "prefix_lens = [8,16,32,64,128,256]\n",
    "\n",
    "new_pile_toks = []\n",
    "for i in tqdm(range(len(new_pile_sentences))): \n",
    "    prompt = new_pile_sentences[i]\n",
    "    toks = tokenizer(prompt)['input_ids']\n",
    "    if len(toks) > max_toks:\n",
    "        prefix_len = np.random.choice(prefix_lens)\n",
    "        start_idx = np.random.choice(range(len(toks) - prefix_len))\n",
    "        end_idx = start_idx + prefix_len\n",
    "        toks = toks[start_idx:end_idx]\n",
    "    new_pile_toks.append(toks)"
   ]
  },
  {
   "cell_type": "code",
   "execution_count": null,
   "metadata": {},
   "outputs": [
    {
     "data": {
      "text/plain": [
       "(10000, 128)"
      ]
     },
     "execution_count": 54,
     "metadata": {},
     "output_type": "execute_result"
    }
   ],
   "source": [
    "len(new_pile_toks), len(new_pile_toks[1024])"
   ]
  },
  {
   "cell_type": "code",
   "execution_count": null,
   "metadata": {},
   "outputs": [
    {
     "name": "stderr",
     "output_type": "stream",
     "text": [
      "100%|██████████| 15000/15000 [00:08<00:00, 1815.88it/s]\n"
     ]
    }
   ],
   "source": [
    "new_line_tok = tokenizer('\\n\\n').input_ids\n",
    "\n",
    "test_input_ids = test_dataset['input_ids']\n",
    "\n",
    "for i in tqdm(range(len(test_input_ids))):\n",
    "    prefix_idx = np.random.choice(range(len(new_pile_toks)))\n",
    "    prefix = new_pile_toks[prefix_idx]\n",
    "    test_input_ids[i] = prefix + new_line_tok + test_input_ids[i]"
   ]
  },
  {
   "cell_type": "code",
   "execution_count": 56,
   "metadata": {},
   "outputs": [],
   "source": [
    "prefix_dataset = Dataset.from_dict({'input_ids': test_input_ids, 'text': test_dataset['text'], 'labels': test_dataset['labels'], 'orig_idx': test_dataset['orig_idx']})\n",
    "\n",
    "# prefix_dataset.save_to_disk(os.path.join(path, 'prefix_dataset_v0'))"
   ]
  },
  {
   "cell_type": "code",
   "execution_count": 60,
   "metadata": {},
   "outputs": [
    {
     "name": "stderr",
     "output_type": "stream",
     "text": [
      "Saving the dataset (1/1 shards): 100%|██████████| 667/667 [00:00<00:00, 183160.98 examples/s]\n",
      "Saving the dataset (1/1 shards): 100%|██████████| 15000/15000 [00:00<00:00, 520807.27 examples/s]\n"
     ]
    }
   ],
   "source": [
    "from datasets import DatasetDict\n",
    "\n",
    "generalization_datasets = DatasetDict({'fuzzy_pos': fuzzy_pos, 'prefix': prefix_dataset})\n",
    "generalization_datasets.save_to_disk(os.path.join(path, 'generalization_datasets'))"
   ]
  },
  {
   "cell_type": "code",
   "execution_count": 62,
   "metadata": {},
   "outputs": [
    {
     "data": {
      "text/plain": [
       "DatasetDict({\n",
       "    fuzzy_pos: Dataset({\n",
       "        features: ['input_ids', 'text', 'labels', 'orig_idx'],\n",
       "        num_rows: 667\n",
       "    })\n",
       "    prefix: Dataset({\n",
       "        features: ['input_ids', 'labels', 'orig_idx'],\n",
       "        num_rows: 15000\n",
       "    })\n",
       "})"
      ]
     },
     "execution_count": 62,
     "metadata": {},
     "output_type": "execute_result"
    }
   ],
   "source": [
    "from datasets import load_from_disk\n",
    "\n",
    "generalization_datasets = load_from_disk(os.path.join(path, 'generalization_datasets'))\n",
    "generalization_datasets"
   ]
  },
  {
   "cell_type": "markdown",
   "metadata": {},
   "source": [
    "## finetuning"
   ]
  },
  {
   "cell_type": "code",
   "execution_count": 4,
   "metadata": {},
   "outputs": [
    {
     "name": "stderr",
     "output_type": "stream",
     "text": [
      "Special tokens have been added in the vocabulary, make sure the associated word embeddings are fine-tuned or trained.\n",
      "Some weights of GPTNeoXForSequenceClassification were not initialized from the model checkpoint at EleutherAI/pythia-70m and are newly initialized: ['score.weight']\n",
      "You should probably TRAIN this model on a down-stream task to be able to use it for predictions and inference.\n"
     ]
    }
   ],
   "source": [
    "# finetuning! \n",
    "\n",
    "from transformers import AutoTokenizer, AutoModelForSequenceClassification, Trainer, TrainingArguments, set_seed\n",
    "import evaluate\n",
    "import torch\n",
    "import os\n",
    "import numpy as np\n",
    "from datasets import load_from_disk, DatasetDict\n",
    "from sklearn.metrics import accuracy_score, precision_recall_fscore_support, roc_auc_score\n",
    "\n",
    "seed = 0\n",
    "np.random.seed(seed)\n",
    "torch.manual_seed(seed)\n",
    "set_seed(seed)\n",
    "\n",
    "os.environ[\"CUDA_VISIBLE_DEVICES\"]=\"0\"\n",
    "\n",
    "model_name = 'EleutherAI/pythia-70m'\n",
    "tokenizer = AutoTokenizer.from_pretrained(model_name)\n",
    "tokenizer.pad_token = tokenizer.eos_token\n",
    "\n",
    "id2label = {0: 'neg', 1: 'pos'} \n",
    "label2id = {'neg': 0, 'pos': 1}\n",
    "model = AutoModelForSequenceClassification.from_pretrained(model_name, num_labels=2, id2label=id2label, label2id=label2id)\n",
    "model.to('cuda')\n",
    "model.config.pad_token_id = model.config.eos_token_id\n"
   ]
  },
  {
   "cell_type": "code",
   "execution_count": 5,
   "metadata": {},
   "outputs": [
    {
     "data": {
      "text/plain": [
       "DatasetDict({\n",
       "    train: Dataset({\n",
       "        features: ['input_ids', 'labels'],\n",
       "        num_rows: 4047\n",
       "    })\n",
       "    val: Dataset({\n",
       "        features: ['input_ids', 'labels'],\n",
       "        num_rows: 675\n",
       "    })\n",
       "    test: Dataset({\n",
       "        features: ['input_ids', 'labels'],\n",
       "        num_rows: 2024\n",
       "    })\n",
       "})"
      ]
     },
     "execution_count": 5,
     "metadata": {},
     "output_type": "execute_result"
    }
   ],
   "source": [
    "path = '../../gld/train-data-probes/data/12b'\n",
    "dataset = load_from_disk(os.path.join(path, 'split_hf_token_dataset_v1'))\n",
    "\n",
    "# dataset = dataset.shuffle(seed=seed)\n",
    "# dataset = dataset.train_test_split(test_size=0.3)\n",
    "# test = dataset['test']\n",
    "# temp = dataset['train'].train_test_split(test_size=1/7)\n",
    "# train = temp['train']\n",
    "# val = temp['test']\n",
    "# dataset = DatasetDict({'train': train, 'val': val, 'test': test})\n",
    "\n",
    "# train_input_ids = dataset['train']['input_ids']\n",
    "# val_input_ids = dataset['val']['input_ids']\n",
    "# test_input_ids = dataset['test']['input_ids']\n",
    "\n",
    "# # cutoff after 64 tokens\n",
    "# train_input_ids = [tok[:64] for tok in train_input_ids]\n",
    "# val_input_ids = [tok[:64] for tok in val_input_ids]\n",
    "# test_input_ids = [tok[:64] for tok in test_input_ids]\n",
    "\n",
    "# train_dataset = Dataset.from_dict({'input_ids': train_input_ids, 'labels': dataset['train']['labels']})\n",
    "# val_dataset = Dataset.from_dict({'input_ids': val_input_ids, 'labels': dataset['val']['labels']})\n",
    "# test_dataset = Dataset.from_dict({'input_ids': test_input_ids, 'labels': dataset['test']['labels']})\n",
    "\n",
    "# dataset = DatasetDict({'train': train_dataset, 'val': val_dataset, 'test': test_dataset})\n",
    "\n",
    "# dataset.save_to_disk(os.path.join(path, 'split_hf_token_dataset_v1'))\n",
    "\n",
    "dataset"
   ]
  },
  {
   "cell_type": "code",
   "execution_count": 6,
   "metadata": {},
   "outputs": [],
   "source": [
    "def tpr_at_fpr(probs, labels, target_fpr, left=0.5, right=1.0, max_steps=1000, thresh_tol=1e-5): \n",
    "    \"\"\"\n",
    "    Calculates the true positive rate at a given false positive rate. \n",
    "    Does up to max_steps steps of binary search, returns the best guess \n",
    "    that yields a false positive rate less than target_fpr\n",
    "    \n",
    "    probs: (n_examples, ) just prob on positive class\n",
    "    labels: (n_examples, ) 0 or 1\n",
    "    \"\"\"\n",
    "    assert len(probs) == len(labels)\n",
    "    assert probs.shape == labels.shape\n",
    "    assert probs.shape[0] > 0\n",
    "\n",
    "    for _ in range(max_steps):\n",
    "        mid = (left + right) / 2\n",
    "        \n",
    "        # calc fpr \n",
    "        preds = (probs > mid).astype(int)\n",
    "        fp = np.logical_and(preds == 1, labels == 0).sum()\n",
    "        tn = (labels == 0).sum()\n",
    "        fpr = fp / tn if tn > 0 else 0\n",
    "\n",
    "        if abs(fpr - target_fpr) < thresh_tol: \n",
    "            right = mid\n",
    "            break\n",
    "        elif fpr > target_fpr:\n",
    "            left = mid\n",
    "        else:\n",
    "            right = mid\n",
    "    \n",
    "    # use right as threshold to ensure fpr <= target_fpr\n",
    "    preds = (probs > right).astype(int)\n",
    "    tp = np.logical_and(preds == 1, labels == 1).sum()\n",
    "    fn = (labels == 1).sum()\n",
    "    return tp / fn if fn > 0 else 0\n",
    "    "
   ]
  },
  {
   "cell_type": "code",
   "execution_count": 7,
   "metadata": {},
   "outputs": [],
   "source": [
    "targs = TrainingArguments(\n",
    "    output_dir = os.path.join(path, 'finetuning/'),\n",
    "    evaluation_strategy = \"epoch\", \n",
    "    logging_strategy = \"epoch\",    \n",
    "    learning_rate=1e-5,\n",
    "    per_device_train_batch_size=128,\n",
    "    per_device_eval_batch_size=128,\n",
    "    num_train_epochs=10,\n",
    "    weight_decay=0.01,\n",
    "    report_to='none',\n",
    ")\n",
    "\n",
    "def compute_metrics(eval_pred):\n",
    "    logits, labels = eval_pred\n",
    "    logits = np.array(logits[0]) # (n_examples, n_classes)\n",
    "    labels = np.array(labels) # (n_examples)\n",
    "\n",
    "    preds = np.argmax(logits, axis=1)\n",
    "    normalized_prob = np.exp(logits) / np.exp(logits).sum(axis=1, keepdims=True)\n",
    "    positive_prob = normalized_prob[:, 1]\n",
    "    acc = accuracy_score(labels, preds)\n",
    "    precision, recall, f1, _ = precision_recall_fscore_support(labels, preds, average='binary')\n",
    "    auc = roc_auc_score(labels, positive_prob)\n",
    "\n",
    "    tpr_01 = tpr_at_fpr(positive_prob, labels, 0.01)\n",
    "    tpr_001 = tpr_at_fpr(positive_prob, labels, 0.001)\n",
    "    tpr_0001 = tpr_at_fpr(positive_prob, labels, 0.0001)\n",
    "\n",
    "    # print(f'accuracy: {acc}, precision: {precision}, recall: {recall}, f1: {f1}, AUC: {auc}')\n",
    "    return {'accuracy': acc, 'precision': precision, 'recall': recall, 'f1': f1, 'AUC': auc, 'tpr_01': tpr_01, 'tpr_001': tpr_001, 'tpr_0001': tpr_0001}\n",
    "\n",
    "trainer = Trainer(\n",
    "    model=model,\n",
    "    args=targs,\n",
    "    train_dataset=dataset['train'],\n",
    "    eval_dataset=dataset['val'], \n",
    "    compute_metrics=compute_metrics,\n",
    ")"
   ]
  },
  {
   "cell_type": "code",
   "execution_count": 8,
   "metadata": {},
   "outputs": [
    {
     "name": "stderr",
     "output_type": "stream",
     "text": [
      "/home/ubuntu/anaconda3/envs/myenv/lib/python3.10/site-packages/torch/nn/parallel/_functions.py:68: UserWarning: Was asked to gather along dimension 0, but all input tensors were scalars; will instead unsqueeze and return a vector.\n",
      "  warnings.warn('Was asked to gather along dimension 0, but all '\n"
     ]
    },
    {
     "data": {
      "text/html": [
       "\n",
       "    <div>\n",
       "      \n",
       "      <progress value='28' max='80' style='width:300px; height:20px; vertical-align: middle;'></progress>\n",
       "      [28/80 00:15 < 00:31, 1.66 it/s, Epoch 3.38/10]\n",
       "    </div>\n",
       "    <table border=\"1\" class=\"dataframe\">\n",
       "  <thead>\n",
       " <tr style=\"text-align: left;\">\n",
       "      <th>Epoch</th>\n",
       "      <th>Training Loss</th>\n",
       "      <th>Validation Loss</th>\n",
       "      <th>Accuracy</th>\n",
       "      <th>Precision</th>\n",
       "      <th>Recall</th>\n",
       "      <th>F1</th>\n",
       "      <th>Auc</th>\n",
       "      <th>Tpr 01</th>\n",
       "      <th>Tpr 001</th>\n",
       "      <th>Tpr 0001</th>\n",
       "    </tr>\n",
       "  </thead>\n",
       "  <tbody>\n",
       "    <tr>\n",
       "      <td>1</td>\n",
       "      <td>1.029200</td>\n",
       "      <td>0.624987</td>\n",
       "      <td>0.779259</td>\n",
       "      <td>0.835714</td>\n",
       "      <td>0.694362</td>\n",
       "      <td>0.758509</td>\n",
       "      <td>0.810502</td>\n",
       "      <td>0.127596</td>\n",
       "      <td>0.023739</td>\n",
       "      <td>0.023739</td>\n",
       "    </tr>\n",
       "    <tr>\n",
       "      <td>2</td>\n",
       "      <td>0.508300</td>\n",
       "      <td>0.529149</td>\n",
       "      <td>0.798519</td>\n",
       "      <td>0.801802</td>\n",
       "      <td>0.792285</td>\n",
       "      <td>0.797015</td>\n",
       "      <td>0.842783</td>\n",
       "      <td>0.192878</td>\n",
       "      <td>0.103858</td>\n",
       "      <td>0.103858</td>\n",
       "    </tr>\n",
       "    <tr>\n",
       "      <td>3</td>\n",
       "      <td>0.371400</td>\n",
       "      <td>0.512797</td>\n",
       "      <td>0.788148</td>\n",
       "      <td>0.841549</td>\n",
       "      <td>0.709199</td>\n",
       "      <td>0.769726</td>\n",
       "      <td>0.846988</td>\n",
       "      <td>0.225519</td>\n",
       "      <td>0.091988</td>\n",
       "      <td>0.091988</td>\n",
       "    </tr>\n",
       "  </tbody>\n",
       "</table><p>"
      ],
      "text/plain": [
       "<IPython.core.display.HTML object>"
      ]
     },
     "metadata": {},
     "output_type": "display_data"
    },
    {
     "name": "stderr",
     "output_type": "stream",
     "text": [
      "We strongly recommend passing in an `attention_mask` since your input_ids may be padded. See https://huggingface.co/docs/transformers/troubleshooting#incorrect-output-when-padding-tokens-arent-masked.\n",
      "You may ignore this warning if your `pad_token_id` (0) is identical to the `bos_token_id` (0), `eos_token_id` (0), or the `sep_token_id` (None), and your input is not padded.\n",
      "/home/ubuntu/anaconda3/envs/myenv/lib/python3.10/site-packages/torch/nn/parallel/_functions.py:68: UserWarning: Was asked to gather along dimension 0, but all input tensors were scalars; will instead unsqueeze and return a vector.\n",
      "  warnings.warn('Was asked to gather along dimension 0, but all '\n",
      "/home/ubuntu/anaconda3/envs/myenv/lib/python3.10/site-packages/torch/nn/parallel/_functions.py:68: UserWarning: Was asked to gather along dimension 0, but all input tensors were scalars; will instead unsqueeze and return a vector.\n",
      "  warnings.warn('Was asked to gather along dimension 0, but all '\n",
      "/home/ubuntu/anaconda3/envs/myenv/lib/python3.10/site-packages/torch/nn/parallel/_functions.py:68: UserWarning: Was asked to gather along dimension 0, but all input tensors were scalars; will instead unsqueeze and return a vector.\n",
      "  warnings.warn('Was asked to gather along dimension 0, but all '\n"
     ]
    }
   ],
   "source": [
    "trainer.train()"
   ]
  },
  {
   "cell_type": "code",
   "execution_count": 19,
   "metadata": {},
   "outputs": [
    {
     "data": {
      "image/png": "[encoded data removed]",
      "text/plain": [
       "<Figure size 500x500 with 1 Axes>"
      ]
     },
     "metadata": {},
     "output_type": "display_data"
    }
   ],
   "source": [
    "# plot\n",
    "sns.set()\n",
    "plt.figure(figsize=(5,5))\n",
    "plt.plot(fpr, tpr, color='darkorange', lw=2, label=f'ROC curve (area = {roc_auc:0.2f})')\n",
    "plt.xlabel('False Positive Rate')\n",
    "plt.ylabel('True Positive Rate')\n",
    "plt.title('ROC curve')\n",
    "plt.legend(loc='lower right')\n",
    "plt.show()\n"
   ]
  },
  {
   "cell_type": "code",
   "execution_count": 24,
   "metadata": {},
   "outputs": [
    {
     "data": {
      "text/plain": [
       "array([0.        , 0.        , 0.        , 0.00100806, 0.00100806,\n",
       "       0.00201613, 0.00201613, 0.00302419, 0.00302419, 0.00403226,\n",
       "       0.00403226, 0.00504032, 0.00504032, 0.00604839, 0.00604839,\n",
       "       0.00604839, 0.00604839, 0.00705645, 0.00705645, 0.00705645,\n",
       "       0.00705645, 0.00806452, 0.00806452, 0.01008065, 0.01008065,\n",
       "       0.01108871, 0.01108871, 0.01108871, 0.01108871, 0.01209677,\n",
       "       0.01209677, 0.01310484, 0.01310484, 0.0141129 , 0.0141129 ,\n",
       "       0.01612903, 0.01612903, 0.0171371 , 0.0171371 , 0.01814516,\n",
       "       0.01814516, 0.01915323, 0.01915323, 0.02016129, 0.02016129,\n",
       "       0.02116935, 0.02116935, 0.02217742, 0.02217742, 0.02318548,\n",
       "       0.02318548, 0.02419355, 0.02419355, 0.02620968, 0.02620968,\n",
       "       0.02721774, 0.02721774, 0.02822581, 0.02822581, 0.02923387,\n",
       "       0.02923387, 0.03024194, 0.03024194, 0.03125   , 0.03125   ,\n",
       "       0.03225806, 0.03225806, 0.03326613, 0.03326613, 0.03427419,\n",
       "       0.03427419, 0.03528226, 0.03528226, 0.03629032, 0.03629032,\n",
       "       0.03729839, 0.03729839, 0.03830645, 0.03830645, 0.03931452,\n",
       "       0.03931452, 0.04032258, 0.04032258, 0.04334677, 0.04334677,\n",
       "       0.0453629 , 0.0453629 , 0.04637097, 0.04637097, 0.04737903,\n",
       "       0.04737903, 0.0483871 , 0.0483871 , 0.04939516, 0.04939516,\n",
       "       0.05040323, 0.05040323, 0.05141129, 0.05141129, 0.05241935,\n",
       "       0.05241935, 0.05342742, 0.05342742, 0.05443548, 0.05443548,\n",
       "       0.05544355, 0.05544355, 0.05645161, 0.05645161, 0.05645161,\n",
       "       0.05645161, 0.05745968, 0.05745968, 0.05846774, 0.05846774,\n",
       "       0.06048387, 0.06048387, 0.06149194, 0.06149194, 0.06451613,\n",
       "       0.06451613, 0.06653226, 0.06653226, 0.06754032, 0.06754032,\n",
       "       0.06854839, 0.06854839, 0.06955645, 0.06955645, 0.07056452,\n",
       "       0.07056452, 0.07157258, 0.07157258, 0.07258065, 0.07258065,\n",
       "       0.07459677, 0.07459677, 0.07762097, 0.07762097, 0.0796371 ,\n",
       "       0.0796371 , 0.08064516, 0.08064516, 0.08165323, 0.08165323,\n",
       "       0.08366935, 0.08366935, 0.08467742, 0.08467742, 0.08770161,\n",
       "       0.08770161, 0.08870968, 0.08870968, 0.08971774, 0.08971774,\n",
       "       0.09072581, 0.09072581, 0.09274194, 0.09274194, 0.09274194,\n",
       "       0.09375   , 0.09375   , 0.09475806, 0.09475806, 0.09576613,\n",
       "       0.09576613, 0.09778226, 0.09778226, 0.09879032, 0.09879032,\n",
       "       0.09979839, 0.09979839, 0.10080645, 0.10080645, 0.10181452,\n",
       "       0.10181452, 0.10282258, 0.10282258, 0.10383065, 0.10383065,\n",
       "       0.10483871, 0.10483871, 0.10685484, 0.10685484, 0.1078629 ,\n",
       "       0.1078629 , 0.1108871 , 0.1108871 , 0.11189516, 0.11189516,\n",
       "       0.11290323, 0.11290323, 0.11391129, 0.11391129, 0.11491935,\n",
       "       0.11491935, 0.11693548, 0.11693548, 0.11895161, 0.11895161,\n",
       "       0.12298387, 0.12298387, 0.125     , 0.125     , 0.12701613,\n",
       "       0.12701613, 0.12802419, 0.12802419, 0.13004032, 0.13004032,\n",
       "       0.13205645, 0.13205645, 0.13508065, 0.13508065, 0.13709677,\n",
       "       0.13709677, 0.13810484, 0.13810484, 0.14112903, 0.14112903,\n",
       "       0.14314516, 0.14314516, 0.14415323, 0.14415323, 0.14717742,\n",
       "       0.14717742, 0.14818548, 0.14818548, 0.15020161, 0.15020161,\n",
       "       0.15120968, 0.15120968, 0.15322581, 0.15322581, 0.15423387,\n",
       "       0.15423387, 0.15524194, 0.15524194, 0.16028226, 0.16028226,\n",
       "       0.16229839, 0.16229839, 0.16330645, 0.16330645, 0.16532258,\n",
       "       0.16532258, 0.16733871, 0.16733871, 0.1703629 , 0.1703629 ,\n",
       "       0.17741935, 0.17741935, 0.17943548, 0.17943548, 0.18346774,\n",
       "       0.18346774, 0.18548387, 0.18548387, 0.1875    , 0.1875    ,\n",
       "       0.18951613, 0.18951613, 0.19052419, 0.19052419, 0.19153226,\n",
       "       0.19153226, 0.19254032, 0.19254032, 0.2016129 , 0.2016129 ,\n",
       "       0.20564516, 0.20564516, 0.21270161, 0.21270161, 0.21673387,\n",
       "       0.21673387, 0.22076613, 0.22076613, 0.22278226, 0.22278226,\n",
       "       0.22479839, 0.22479839, 0.22681452, 0.22681452, 0.22883065,\n",
       "       0.22883065, 0.23084677, 0.23084677, 0.23185484, 0.23185484,\n",
       "       0.2358871 , 0.2358871 , 0.23790323, 0.23790323, 0.23991935,\n",
       "       0.23991935, 0.24495968, 0.24495968, 0.24596774, 0.24596774,\n",
       "       0.25504032, 0.25504032, 0.25806452, 0.25806452, 0.2671371 ,\n",
       "       0.2671371 , 0.26814516, 0.26814516, 0.27923387, 0.27923387,\n",
       "       0.28729839, 0.28729839, 0.29032258, 0.29032258, 0.29435484,\n",
       "       0.29435484, 0.2983871 , 0.2983871 , 0.30241935, 0.30241935,\n",
       "       0.30342742, 0.30342742, 0.31653226, 0.31653226, 0.32056452,\n",
       "       0.32056452, 0.32358871, 0.32358871, 0.32560484, 0.32560484,\n",
       "       0.33165323, 0.33165323, 0.34375   , 0.34375   , 0.35282258,\n",
       "       0.35282258, 0.35987903, 0.35987903, 0.37399194, 0.37399194,\n",
       "       0.38608871, 0.38608871, 0.38709677, 0.38709677, 0.39616935,\n",
       "       0.39616935, 0.40020161, 0.40020161, 0.40725806, 0.40725806,\n",
       "       0.41330645, 0.41330645, 0.41633065, 0.41633065, 0.42237903,\n",
       "       0.42237903, 0.4233871 , 0.4233871 , 0.42641129, 0.42641129,\n",
       "       0.42943548, 0.42943548, 0.43951613, 0.43951613, 0.44052419,\n",
       "       0.44052419, 0.44455645, 0.44455645, 0.44556452, 0.44556452,\n",
       "       0.45262097, 0.45262097, 0.45362903, 0.45362903, 0.45665323,\n",
       "       0.45665323, 0.46068548, 0.46068548, 0.46572581, 0.46572581,\n",
       "       0.47580645, 0.47580645, 0.48689516, 0.48689516, 0.49092742,\n",
       "       0.49092742, 0.49193548, 0.49193548, 0.49899194, 0.49899194,\n",
       "       0.51108871, 0.51108871, 0.52923387, 0.52923387, 0.53125   ,\n",
       "       0.53125   , 0.54637097, 0.54637097, 0.54737903, 0.54737903,\n",
       "       0.57862903, 0.57862903, 0.58165323, 0.58165323, 0.59879032,\n",
       "       0.59879032, 0.61290323, 0.61290323, 0.61895161, 0.61895161,\n",
       "       0.61995968, 0.61995968, 0.62096774, 0.62096774, 0.64516129,\n",
       "       0.64516129, 0.64616935, 0.64616935, 0.65322581, 0.65322581,\n",
       "       0.65524194, 0.65524194, 0.65625   , 0.65625   , 0.67237903,\n",
       "       0.67237903, 0.67439516, 0.67439516, 0.67540323, 0.67540323,\n",
       "       0.67641129, 0.67641129, 0.70665323, 0.70665323, 0.72379032,\n",
       "       0.72379032, 0.77318548, 0.77318548, 0.79133065, 0.79133065,\n",
       "       0.80141129, 0.80141129, 0.80645161, 0.80645161, 0.8266129 ,\n",
       "       0.8266129 , 0.83467742, 0.83467742, 0.83870968, 0.83870968,\n",
       "       0.83971774, 0.83971774, 0.84576613, 0.84576613, 0.8891129 ,\n",
       "       0.8891129 , 0.89516129, 0.89516129, 0.90725806, 0.90725806,\n",
       "       0.92237903, 0.92237903, 0.92641129, 0.92641129, 0.93850806,\n",
       "       0.93850806, 0.94455645, 0.94455645, 0.94657258, 0.94657258,\n",
       "       0.95967742, 0.95967742, 0.98689516, 0.98689516, 0.99798387,\n",
       "       0.99798387, 0.99899194, 0.99899194, 1.        ])"
      ]
     },
     "execution_count": 24,
     "metadata": {},
     "output_type": "execute_result"
    }
   ],
   "source": [
    "fpr"
   ]
  },
  {
   "cell_type": "code",
   "execution_count": null,
   "metadata": {},
   "outputs": [],
   "source": []
  }
 ],
 "metadata": {
  "kernelspec": {
   "display_name": "base",
   "language": "python",
   "name": "python3"
  },
  "language_info": {
   "codemirror_mode": {
    "name": "ipython",
    "version": 3
   },
   "file_extension": ".py",
   "mimetype": "text/x-python",
   "name": "python",
   "nbconvert_exporter": "python",
   "pygments_lexer": "ipython3",
   "version": "3.10.13"
  }
 },
 "nbformat": 4,
 "nbformat_minor": 2
}
