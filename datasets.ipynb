{
 "cells": [
  {
   "cell_type": "code",
   "execution_count": 1,
   "metadata": {},
   "outputs": [
    {
     "name": "stderr",
     "output_type": "stream",
     "text": [
      "/home/ubuntu/anaconda3/envs/myenv/lib/python3.10/site-packages/tqdm/auto.py:21: TqdmWarning: IProgress not found. Please update jupyter and ipywidgets. See https://ipywidgets.readthedocs.io/en/stable/user_install.html\n",
      "  from .autonotebook import tqdm as notebook_tqdm\n"
     ]
    }
   ],
   "source": [
    "import os\n",
    "import sys\n",
    "import torch \n",
    "import pickle\n",
    "import numpy as np\n",
    "from tqdm import tqdm\n",
    "\n",
    "from datasets import load_dataset\n",
    "from transformers import AutoTokenizer, AutoModelForCausalLM\n",
    "\n",
    "path = '../../gld/train-data-probes/data/12b'"
   ]
  },
  {
   "cell_type": "code",
   "execution_count": 2,
   "metadata": {},
   "outputs": [
    {
     "name": "stdout",
     "output_type": "stream",
     "text": [
      "4988 4967\n"
     ]
    },
    {
     "data": {
      "text/plain": [
       "(0.9366886778267843, 0.5713647573988323)"
      ]
     },
     "execution_count": 2,
     "metadata": {},
     "output_type": "execute_result"
    }
   ],
   "source": [
    "# with open(os.path.join(path, 'mem_all_generations.pkl'), 'rb') as f:\n",
    "#     generations = pickle.load(f)\n",
    "\n",
    "with open(os.path.join(path, 'mem_all_mem_status.pkl'), 'rb') as f:\n",
    "    status = pickle.load(f)\n",
    "\n",
    "with open(os.path.join(path, 'pile_all_mem_status.pkl'), 'rb') as f:\n",
    "    pile_status = pickle.load(f)\n",
    "\n",
    "print(len(status), len(pile_status))\n",
    "sum(status)/len(status), sum(pile_status)/len(pile_status)"
   ]
  },
  {
   "cell_type": "code",
   "execution_count": 3,
   "metadata": {},
   "outputs": [
    {
     "name": "stderr",
     "output_type": "stream",
     "text": [
      "Special tokens have been added in the vocabulary, make sure the associated word embeddings are fine-tuned or trained.\n",
      "Resolving data files: 100%|██████████| 1650/1650 [00:01<00:00, 848.33it/s]\n"
     ]
    },
    {
     "name": "stdout",
     "output_type": "stream",
     "text": [
      "5000\n",
      "5000\n",
      "[0, 7, 14, 21, 28, 35, 42, 49, 56, 62]\n"
     ]
    }
   ],
   "source": [
    "def gen_pile_data(N, tokenizer, min_n_toks : int = None):\n",
    "    pile = load_dataset('EleutherAI/the_pile_deduplicated', split='train', streaming=True)\n",
    "    sentences = []\n",
    "\n",
    "    counter = 0\n",
    "    for i, example in enumerate(pile):\n",
    "        if min_n_toks is not None:\n",
    "            toks = tokenizer(example['text'])['input_ids']\n",
    "            if len(toks) > min_n_toks:\n",
    "                sentences.append(example['text'])\n",
    "                counter +=1\n",
    "        else:\n",
    "            sentences.append(example['text'])\n",
    "            counter +=1\n",
    "        \n",
    "        if counter == N:\n",
    "            break\n",
    "\n",
    "    return sentences\n",
    "\n",
    "N_PROMPTS = 5000\n",
    "model_name = \"EleutherAI/pythia-12b\"\n",
    "dataset_name = \"duped.\" + model_name.split(\"-\")[-1]\n",
    "tokenizer = AutoTokenizer.from_pretrained(model_name)\n",
    "\n",
    "mem_data = load_dataset('EleutherAI/pythia-memorized-evals')[dataset_name]\n",
    "mem_data_toks = [seq for seq in mem_data[:N_PROMPTS]['tokens']]\n",
    "pile_prompts = gen_pile_data(N_PROMPTS, tokenizer, min_n_toks = 64)\n",
    "\n",
    "print(len(pile_prompts))\n",
    "print(len(mem_data_toks))\n",
    "    \n",
    "tok_idxs =  (7 * np.arange(10)).tolist() #every 5th token\n",
    "tok_idxs[-1]= tok_idxs[-1] - 1 #goes from 63 to 62\n",
    "print(tok_idxs)"
   ]
  },
  {
   "cell_type": "code",
   "execution_count": 4,
   "metadata": {},
   "outputs": [],
   "source": [
    "import pandas as pd\n",
    "\n",
    "# load from csv\n",
    "df = pd.read_csv(os.path.join(path, 'mem_evals_gen_data.csv'))\n",
    "mem_df = df[:len(status)]\n",
    "pile_df = df[len(status):]\n",
    "\n",
    "# sort mem df by mem_status col\n",
    "mem_df = mem_df.sort_values(by=['char_by_char_similarity'], ascending=True)\n",
    "pd.set_option('display.max_colwidth', None)\n",
    "# mem_df.head(105)\n"
   ]
  },
  {
   "cell_type": "code",
   "execution_count": 5,
   "metadata": {},
   "outputs": [],
   "source": [
    "# char_similarity = []\n",
    "# for i in tqdm(range(len(df))): \n",
    "#     gen = df['gen'][i]\n",
    "#     ground = df['ground'][i]\n",
    "    \n",
    "#     # remove all whitespace \n",
    "#     gen = ''.join(gen.split())\n",
    "#     ground = ''.join(ground.split())\n",
    "\n",
    "#     # lowercase \n",
    "#     gen = gen.lower()\n",
    "#     ground = ground.lower()\n",
    "\n",
    "#     # remove '<|endoftext|>'\n",
    "#     gen = gen.replace('<|endoftext|>', '')\n",
    "#     ground = ground.replace('<|endoftext|>', '')\n",
    "\n",
    "#     max_len = max(len(gen), len(ground))\n",
    "#     matches = [c1 == c2 for c1, c2 in zip(gen, ground)]\n",
    "#     char_similarity.append(sum(matches)/max_len if max_len > 0 else 0)\n",
    "\n",
    "# df['char_by_char_similarity'] = char_similarity\n",
    "# df.head()\n",
    "\n",
    "# df.to_csv(os.path.join(path, 'mem_evals_gen_data.csv'), index=False)"
   ]
  },
  {
   "cell_type": "code",
   "execution_count": 6,
   "metadata": {},
   "outputs": [
    {
     "name": "stderr",
     "output_type": "stream",
     "text": [
      "/tmp/ipykernel_13243/1807540886.py:1: SettingWithCopyWarning: \n",
      "A value is trying to be set on a copy of a slice from a DataFrame\n",
      "\n",
      "See the caveats in the documentation: https://pandas.pydata.org/pandas-docs/stable/user_guide/indexing.html#returning-a-view-versus-a-copy\n",
      "  pile_df.sort_values(by=['char_by_char_similarity'], ascending=False, inplace=True)\n"
     ]
    }
   ],
   "source": [
    "pile_df.sort_values(by=['char_by_char_similarity'], ascending=False, inplace=True)\n",
    "\n",
    "# # remove mem_status=1.0\n",
    "# pile_df = pile_df[pile_df['mem_status'] != 1.0]\n",
    "# pile_df.head(2000)"
   ]
  },
  {
   "cell_type": "code",
   "execution_count": 7,
   "metadata": {},
   "outputs": [
    {
     "data": {
      "image/png": "[encoded data removed]",
      "text/plain": [
       "<Figure size 1000x1000 with 4 Axes>"
      ]
     },
     "metadata": {},
     "output_type": "display_data"
    }
   ],
   "source": [
    "# hist of mem_status for each\n",
    "import matplotlib.pyplot as plt\n",
    "fig, ax = plt.subplots(2,2, figsize=(10,10))\n",
    "ax[0,0].hist(mem_df['char_by_char_similarity'])\n",
    "ax[0,1].hist(pile_df['char_by_char_similarity'])\n",
    "ax[1,0].hist(mem_df['mem_status'])\n",
    "ax[1,1].hist(pile_df['mem_status'])\n",
    "ax[0,0].set_title('mem char by char similarity')\n",
    "ax[0,1].set_title('pile char by char similarity')\n",
    "ax[1,0].set_title('mem mem_status')\n",
    "ax[1,1].set_title('pile mem_status')\n",
    "plt.show()\n",
    "\n"
   ]
  },
  {
   "cell_type": "markdown",
   "metadata": {},
   "source": [
    "### make train dataset"
   ]
  },
  {
   "cell_type": "code",
   "execution_count": 8,
   "metadata": {},
   "outputs": [
    {
     "name": "stdout",
     "output_type": "stream",
     "text": [
      "3373 4306\n"
     ]
    }
   ],
   "source": [
    "# # only keep pile_df with char_by_char_similarity = 0.5\n",
    "# new_pile_df = pile_df[pile_df['char_by_char_similarity'] <= 0.55]\n",
    "# extras = mem_df[mem_df['char_by_char_similarity'] <= 0.55]\n",
    "\n",
    "# # only keep mem_df with char_by_char_similarity = 1.0\n",
    "# new_mem_df = mem_df[mem_df['char_by_char_similarity'] == 1]\n",
    "\n",
    "# print(len(new_mem_df), len(new_pile_df), len(extras))\n",
    "\n",
    "neg = df[df['char_by_char_similarity'] <= 0.55]\n",
    "pos = df[df['char_by_char_similarity'] == 1]\n",
    "\n",
    "print(len(neg), len(pos))\n",
    "\n",
    "min_len = min(len(neg), len(pos))\n",
    "\n",
    "positive_idxs = pos.index.tolist()\n",
    "negative_idxs = neg.index.tolist()\n",
    "\n",
    "# sample \n",
    "import numpy as np\n",
    "np.random.seed(0)\n",
    "positive_idxs = np.random.choice(positive_idxs, min_len, replace=False)\n",
    "negative_idxs = np.random.choice(negative_idxs, min_len, replace=False)"
   ]
  },
  {
   "cell_type": "code",
   "execution_count": 9,
   "metadata": {},
   "outputs": [
    {
     "name": "stderr",
     "output_type": "stream",
     "text": [
      "100%|██████████| 5000/5000 [00:23<00:00, 212.99it/s]\n"
     ]
    }
   ],
   "source": [
    "pile_tokens = []\n",
    "for i in tqdm(range(len(pile_prompts))): \n",
    "    prompt = pile_prompts[i]\n",
    "    toks = tokenizer(prompt)['input_ids']\n",
    "    pile_tokens.append(toks)"
   ]
  },
  {
   "cell_type": "code",
   "execution_count": 10,
   "metadata": {},
   "outputs": [
    {
     "name": "stderr",
     "output_type": "stream",
     "text": [
      "100%|██████████| 3373/3373 [00:00<00:00, 1821239.37it/s]\n",
      "100%|██████████| 3373/3373 [00:00<00:00, 1834226.29it/s]"
     ]
    },
    {
     "name": "stdout",
     "output_type": "stream",
     "text": [
      "6746 6746 3373 3373\n"
     ]
    },
    {
     "name": "stderr",
     "output_type": "stream",
     "text": [
      "\n"
     ]
    }
   ],
   "source": [
    "tokens = mem_data_toks + pile_tokens\n",
    "final_tokens = []\n",
    "labels = []\n",
    "for i in tqdm(positive_idxs): \n",
    "    final_tokens.append(tokens[i])\n",
    "    labels.append(1)\n",
    "for i in tqdm(negative_idxs):\n",
    "    final_tokens.append(tokens[i])\n",
    "    labels.append(0)\n",
    "\n",
    "print(len(final_tokens), len(labels), len(positive_idxs), len(negative_idxs))"
   ]
  },
  {
   "cell_type": "code",
   "execution_count": 11,
   "metadata": {},
   "outputs": [
    {
     "name": "stdout",
     "output_type": "stream",
     "text": [
      "0.5\n"
     ]
    }
   ],
   "source": [
    "print(sum(labels)/len(labels))  "
   ]
  },
  {
   "cell_type": "code",
   "execution_count": 12,
   "metadata": {},
   "outputs": [
    {
     "name": "stderr",
     "output_type": "stream",
     "text": [
      "Saving the dataset (1/1 shards): 100%|██████████| 6746/6746 [00:00<00:00, 118689.62 examples/s]\n"
     ]
    }
   ],
   "source": [
    "# create a huggingface dataset\n",
    "from datasets import Dataset\n",
    "idxs = positive_idxs.tolist() + negative_idxs.tolist()\n",
    "dataset = Dataset.from_dict({'input_ids': final_tokens, 'labels': labels, 'df_ref_idx': idxs})\n",
    "dataset.save_to_disk(os.path.join(path, 'hf_token_dataset_v2'))"
   ]
  },
  {
   "cell_type": "code",
   "execution_count": 13,
   "metadata": {},
   "outputs": [
    {
     "name": "stdout",
     "output_type": "stream",
     "text": [
      "35\n",
      "42\n",
      "49\n",
      "56\n",
      "62\n"
     ]
    }
   ],
   "source": [
    "from datasets import load_from_disk, DatasetDict\n",
    "import numpy as np\n",
    "\n",
    "seed = 0\n",
    "np.random.seed(seed)\n",
    "\n",
    "path = '../../gld/train-data-probes/data/12b'\n",
    "dataset = load_from_disk(os.path.join(path, 'hf_token_dataset_v2'))\n",
    "\n",
    "dataset = dataset.shuffle(seed=seed)\n",
    "dataset = dataset.train_test_split(test_size=0.3)\n",
    "test = dataset['test']\n",
    "temp = dataset['train'].train_test_split(test_size=1/7)\n",
    "train = temp['train']\n",
    "val = temp['test']\n",
    "dataset = DatasetDict({'train': train, 'val': val, 'test': test})\n",
    "\n",
    "# cutoff after 64 tokens\n",
    "input_ids = {'train': [], 'val': [], 'test': []}\n",
    "labels = {'train': [], 'val': [], 'test': []}\n",
    "df_ref_idx = {'train': [], 'val': [], 'test': []}\n",
    "for cutoff in tok_idxs[5:]: \n",
    "    print(cutoff)\n",
    "    for split in ['train', 'val', 'test']:\n",
    "        input_ids[split].extend([x[:cutoff] for x in dataset[split]['input_ids']])\n",
    "        labels[split].extend(dataset[split]['labels'])\n",
    "        df_ref_idx[split].extend(dataset[split]['df_ref_idx'])\n",
    "\n",
    "dataset = DatasetDict({'train': Dataset.from_dict({'input_ids': input_ids['train'], 'labels': labels['train'], 'df_ref_idx': df_ref_idx['train']}), \n",
    "                          'val': Dataset.from_dict({'input_ids': input_ids['val'], 'labels': labels['val'], 'df_ref_idx': df_ref_idx['val']}), \n",
    "                          'test': Dataset.from_dict({'input_ids': input_ids['test'], 'labels': labels['test'], 'df_ref_idx': df_ref_idx['test']})})"
   ]
  },
  {
   "cell_type": "code",
   "execution_count": 16,
   "metadata": {},
   "outputs": [
    {
     "data": {
      "text/plain": [
       "DatasetDict({\n",
       "    train: Dataset({\n",
       "        features: ['input_ids', 'labels', 'df_ref_idx'],\n",
       "        num_rows: 20235\n",
       "    })\n",
       "    val: Dataset({\n",
       "        features: ['input_ids', 'labels', 'df_ref_idx'],\n",
       "        num_rows: 3375\n",
       "    })\n",
       "    test: Dataset({\n",
       "        features: ['input_ids', 'labels', 'df_ref_idx'],\n",
       "        num_rows: 10120\n",
       "    })\n",
       "})"
      ]
     },
     "execution_count": 16,
     "metadata": {},
     "output_type": "execute_result"
    }
   ],
   "source": [
    "dataset"
   ]
  },
  {
   "cell_type": "code",
   "execution_count": 17,
   "metadata": {},
   "outputs": [
    {
     "name": "stderr",
     "output_type": "stream",
     "text": [
      "Saving the dataset (1/1 shards): 100%|██████████| 20235/20235 [00:00<00:00, 1650366.38 examples/s]\n",
      "Saving the dataset (1/1 shards): 100%|██████████| 3375/3375 [00:00<00:00, 815753.82 examples/s]\n",
      "Saving the dataset (1/1 shards): 100%|██████████| 10120/10120 [00:00<00:00, 1411913.53 examples/s]\n"
     ]
    }
   ],
   "source": [
    "dataset.save_to_disk(os.path.join(path, 'split_hf_token_dataset_vary_len_v2'))"
   ]
  },
  {
   "cell_type": "markdown",
   "metadata": {},
   "source": [
    "### make generalization datasets"
   ]
  },
  {
   "cell_type": "code",
   "execution_count": 18,
   "metadata": {},
   "outputs": [],
   "source": [
    "import numpy as np\n",
    "seed = 0\n",
    "np.random.seed(seed)"
   ]
  },
  {
   "cell_type": "code",
   "execution_count": 19,
   "metadata": {},
   "outputs": [
    {
     "name": "stdout",
     "output_type": "stream",
     "text": [
      "502\n"
     ]
    }
   ],
   "source": [
    "hard_pos = df[df['char_by_char_similarity'] != 1]\n",
    "hard_pos = hard_pos[hard_pos['char_by_char_similarity'] >= 0.8]\n",
    "                    \n",
    "positive_idxs = hard_pos.index.tolist()\n",
    "\n",
    "print(len(hard_pos))"
   ]
  },
  {
   "cell_type": "code",
   "execution_count": 20,
   "metadata": {},
   "outputs": [
    {
     "data": {
      "text/html": [
       "<div>\n",
       "<style scoped>\n",
       "    .dataframe tbody tr th:only-of-type {\n",
       "        vertical-align: middle;\n",
       "    }\n",
       "\n",
       "    .dataframe tbody tr th {\n",
       "        vertical-align: top;\n",
       "    }\n",
       "\n",
       "    .dataframe thead th {\n",
       "        text-align: right;\n",
       "    }\n",
       "</style>\n",
       "<table border=\"1\" class=\"dataframe\">\n",
       "  <thead>\n",
       "    <tr style=\"text-align: right;\">\n",
       "      <th></th>\n",
       "      <th>gen</th>\n",
       "      <th>ground</th>\n",
       "      <th>mem_status</th>\n",
       "      <th>source</th>\n",
       "      <th>idx_in_ground</th>\n",
       "      <th>idx_in_hidden_states</th>\n",
       "      <th>char_by_char_similarity</th>\n",
       "    </tr>\n",
       "  </thead>\n",
       "  <tbody>\n",
       "    <tr>\n",
       "      <th>3045</th>\n",
       "      <td>6015(f):\\n\\n          (a) Marital status. The requesting spouse is\\n     separated (whether legally separated or living apart)\\n     or divorced from the nonrequesting spouse.\\n\\n          (b) Economic hardship. The requesting spouse\\n     demonstrates that the separation (whether legal or\\n</td>\n",
       "      <td>6015(f):\\n\\n          (a) Marital status. The requesting spouse is\\n     separated (whether legally separated or living apart)\\n     or divorced from the nonrequesting spouse.\\n\\n          (b) Economic hardship. The requesting spouse\\n     would suffer economic hardship (within the meaning of\\n</td>\n",
       "      <td>0.859375</td>\n",
       "      <td>pythia-evals</td>\n",
       "      <td>3050</td>\n",
       "      <td>3045</td>\n",
       "      <td>0.800000</td>\n",
       "    </tr>\n",
       "    <tr>\n",
       "      <th>3059</th>\n",
       "      <td>xc0206911\\n\\tSIOCGIFGENERIC                 = 0xc020693a\\n\\tSIOCGIFGMEMB                   = 0xc024698a\\n\\tSIOCGIFGROUP                   = 0xc0246988\\n\\tSIOCGIFHARDMTU                 = 0xc02069a5\\n</td>\n",
       "      <td>xc0206911\\n\\tSIOCGIFGENERIC                 = 0xc020693a\\n\\tSIOCGIFGMEMB                   = 0xc024698a\\n\\tSIOCGIFGROUP                   = 0xc0246988\\n\\tSIOCGIFINDEX                   = 0xc0206920\\n\\tSIOCGIF</td>\n",
       "      <td>0.796875</td>\n",
       "      <td>pythia-evals</td>\n",
       "      <td>3064</td>\n",
       "      <td>3059</td>\n",
       "      <td>0.800000</td>\n",
       "    </tr>\n",
       "    <tr>\n",
       "      <th>101</th>\n",
       "      <td>�': '9',\\n        '०': '0'\\n    };\\n\\n    var ne = moment.defineLocale('ne', {\\n        months : 'जनवरी_फ़रवरी_मार्च_अप्रै</td>\n",
       "      <td>�': '9',\\n        '०': '0'\\n    };\\n\\n    var ne = moment.defineLocale('ne', {\\n        months : 'जनवरी_फेब्रुवरी_मार्च_अप</td>\n",
       "      <td>0.718750</td>\n",
       "      <td>pythia-evals</td>\n",
       "      <td>101</td>\n",
       "      <td>101</td>\n",
       "      <td>0.800000</td>\n",
       "    </tr>\n",
       "    <tr>\n",
       "      <th>973</th>\n",
       "      <td>&lt;/string&gt;\\n    &lt;key&gt;NSExtension&lt;/key&gt;\\n    &lt;dict&gt;\\n        &lt;key&gt;NSExtensionAttributes&lt;/key&gt;\\n        &lt;dict&gt;\\n            &lt;key&gt;NSExtensionActivationRule&lt;/key&gt;\\n            &lt;string&gt;NSExtensionActivation</td>\n",
       "      <td>&lt;/string&gt;\\n    &lt;key&gt;NSExtension&lt;/key&gt;\\n    &lt;dict&gt;\\n        &lt;key&gt;NSExtensionAttributes&lt;/key&gt;\\n        &lt;dict&gt;\\n            &lt;key&gt;NSExtensionActivationRule&lt;/key&gt;\\n            &lt;dict&gt;\\n                &lt;key&gt;N</td>\n",
       "      <td>0.890625</td>\n",
       "      <td>pythia-evals</td>\n",
       "      <td>974</td>\n",
       "      <td>973</td>\n",
       "      <td>0.800000</td>\n",
       "    </tr>\n",
       "    <tr>\n",
       "      <th>4222</th>\n",
       "      <td>=\"Skip navigation links\"&gt;Skip navigation links&lt;/a&gt;&lt;/div&gt;\\n&lt;a name=\"navbar.top.firstrow\"&gt;\\n&lt;!--   --&gt;\\n&lt;/a&gt;\\n&lt;ul class=\"navList\" title=\"Navigation\"&gt;\\n&lt;li&gt;&lt;a href=\"../../../../../../../overview-summary.html\"&gt;Overview&lt;/a&gt;&lt;/li</td>\n",
       "      <td>=\"Skip navigation links\"&gt;Skip navigation links&lt;/a&gt;&lt;/div&gt;\\n&lt;a name=\"navbar.top.firstrow\"&gt;\\n&lt;!--   --&gt;\\n&lt;/a&gt;\\n&lt;ul class=\"navList\" title=\"Navigation\"&gt;\\n&lt;li&gt;&lt;a href=\"../../../../../../overview-summary.html\"&gt;Overview&lt;/a&gt;&lt;/li&gt;</td>\n",
       "      <td>0.812500</td>\n",
       "      <td>pythia-evals</td>\n",
       "      <td>4232</td>\n",
       "      <td>4222</td>\n",
       "      <td>0.800995</td>\n",
       "    </tr>\n",
       "    <tr>\n",
       "      <th>7163</th>\n",
       "      <td>\\nTEXAS COURT OF APPEALS, THIRD DISTRICT, AT AUSTIN\\n\\n\\n\\n\\n\\nNO. 03-00-00243-CR\\n\\n\\n\\n\\n\\nEdward Bell, Appellant\\n\\n\\nv.\\n\\n\\nThe State of Texas, Appellee\\n\\n\\n\\n\\n\\nFROM THE DISTRICT COURT OF TRAVIS COUNTY, 147TH JUDICIAL DISTRICT\\n</td>\n",
       "      <td>\\nTEXAS COURT OF APPEALS, THIRD DISTRICT, AT AUSTIN\\n\\n\\n\\n\\n\\nNO. 03-00-00243-CR\\n\\n\\n\\n\\n\\nEdward Bell, Appellant\\n\\n\\n\\nv.\\n\\n\\n\\nThe State of Texas, Appellee\\n\\n\\n\\n\\n\\n\\nFROM THE DISTRICT COURT OF TOM GREEN COUNTY, 119TH JUDIC</td>\n",
       "      <td>0.687500</td>\n",
       "      <td>pile</td>\n",
       "      <td>2188</td>\n",
       "      <td>2175</td>\n",
       "      <td>0.801242</td>\n",
       "    </tr>\n",
       "    <tr>\n",
       "      <th>6314</th>\n",
       "      <td>In English-----------Hail holy queen, mother of mercy,Hail our life, our sweetness and our hope.To you do we cry poor banished children of Eve,To you do we send up our sighs, mourning and weepingIn this valley of tears, where you have laid us downIn the midst of</td>\n",
       "      <td>In English-----------Hail holy queen, mother of mercy,Hail our life, our sweetness and our hope.To you do we cry poor banished children of Eve,To you do we send up our sighs, mourning and weeping in this valley of tears.Turn then, most gracious advocateyour eyes of mercy</td>\n",
       "      <td>0.812500</td>\n",
       "      <td>pile</td>\n",
       "      <td>1331</td>\n",
       "      <td>1326</td>\n",
       "      <td>0.801762</td>\n",
       "    </tr>\n",
       "    <tr>\n",
       "      <th>5645</th>\n",
       "      <td>// Copyright 2014 The Chromium Authors. All rights reserved.\\n// Use of this source code is governed by a BSD-style license that can be\\n// found in the LICENSE file.\\n\\n#ifndef COMPONENTS_SIGNIN_CORE_BROWSER_SIGNIN_USER_MANA</td>\n",
       "      <td>// Copyright 2014 The Chromium Authors. All rights reserved.\\n// Use of this source code is governed by a BSD-style license that can be\\n// found in the LICENSE file.\\n\\n#ifndef COMPONENTS_DATA_REDUCTION_PROXY_CORE_BROWSER_DATA_</td>\n",
       "      <td>0.765625</td>\n",
       "      <td>pile</td>\n",
       "      <td>658</td>\n",
       "      <td>657</td>\n",
       "      <td>0.802083</td>\n",
       "    </tr>\n",
       "    <tr>\n",
       "      <th>2711</th>\n",
       "      <td>\\n\\nStatus:\\n\\nThis version of this schedule contains provisions that are prospective.\\n\\nStatus\\n\\nThe term provision is used to describe a definable element in a piece of legislation that has legislative effect – such as a Part, Chapter or section. The term is used when describing the legal content of a piece</td>\n",
       "      <td>\\n\\nStatus:\\n\\nThis version of this schedule contains provisions that are prospective.\\n\\nStatus\\n\\nThe term provision is used to describe a definable element in a piece of legislation that has legislative effect – such as a Part, Chapter or section. A version of a provision is prospective either:\\n\\nwhere</td>\n",
       "      <td>0.812500</td>\n",
       "      <td>pythia-evals</td>\n",
       "      <td>2715</td>\n",
       "      <td>2711</td>\n",
       "      <td>0.803213</td>\n",
       "    </tr>\n",
       "    <tr>\n",
       "      <th>7265</th>\n",
       "      <td>// Copyright (c) 2009-2019 The Regents of the University of Michigan\\n// This file is part of the HOOMD-blue project, released under the BSD 3-Clause License.\\n\\n// Maintainer: joaander\\n\\n#include \"hoomd/HOOMDMath</td>\n",
       "      <td>// Copyright (c) 2009-2019 The Regents of the University of Michigan\\n// This file is part of the HOOMD-blue project, released under the BSD 3-Clause License.\\n\\n\\n// Maintainers: jglaser, pschwende\\n\\n/*! \\file GlobalArray.</td>\n",
       "      <td>0.718750</td>\n",
       "      <td>pile</td>\n",
       "      <td>2290</td>\n",
       "      <td>2277</td>\n",
       "      <td>0.803279</td>\n",
       "    </tr>\n",
       "  </tbody>\n",
       "</table>\n",
       "</div>"
      ],
      "text/plain": [
       "                                                                                                                                                                                                                                                                                                                           gen  \\\n",
       "3045                 6015(f):\\n\\n          (a) Marital status. The requesting spouse is\\n     separated (whether legally separated or living apart)\\n     or divorced from the nonrequesting spouse.\\n\\n          (b) Economic hardship. The requesting spouse\\n     demonstrates that the separation (whether legal or\\n        \n",
       "3059                                                                                                                   xc0206911\\n\\tSIOCGIFGENERIC                 = 0xc020693a\\n\\tSIOCGIFGMEMB                   = 0xc024698a\\n\\tSIOCGIFGROUP                   = 0xc0246988\\n\\tSIOCGIFHARDMTU                 = 0xc02069a5\\n   \n",
       "101                                                                                                                                                                                                 �': '9',\\n        '०': '0'\\n    };\\n\\n    var ne = moment.defineLocale('ne', {\\n        months : 'जनवरी_फ़रवरी_मार्च_अप्रै   \n",
       "973                                                                                                                   </string>\\n    <key>NSExtension</key>\\n    <dict>\\n        <key>NSExtensionAttributes</key>\\n        <dict>\\n            <key>NSExtensionActivationRule</key>\\n            <string>NSExtensionActivation   \n",
       "4222                                                                                            =\"Skip navigation links\">Skip navigation links</a></div>\\n<a name=\"navbar.top.firstrow\">\\n<!--   -->\\n</a>\\n<ul class=\"navList\" title=\"Navigation\">\\n<li><a href=\"../../../../../../../overview-summary.html\">Overview</a></li   \n",
       "7163                                                                              \\nTEXAS COURT OF APPEALS, THIRD DISTRICT, AT AUSTIN\\n\\n\\n\\n\\n\\nNO. 03-00-00243-CR\\n\\n\\n\\n\\n\\nEdward Bell, Appellant\\n\\n\\nv.\\n\\n\\nThe State of Texas, Appellee\\n\\n\\n\\n\\n\\nFROM THE DISTRICT COURT OF TRAVIS COUNTY, 147TH JUDICIAL DISTRICT\\n   \n",
       "6314                                                    In English-----------Hail holy queen, mother of mercy,Hail our life, our sweetness and our hope.To you do we cry poor banished children of Eve,To you do we send up our sighs, mourning and weepingIn this valley of tears, where you have laid us downIn the midst of   \n",
       "5645                                                                                         // Copyright 2014 The Chromium Authors. All rights reserved.\\n// Use of this source code is governed by a BSD-style license that can be\\n// found in the LICENSE file.\\n\\n#ifndef COMPONENTS_SIGNIN_CORE_BROWSER_SIGNIN_USER_MANA   \n",
       "2711  \\n\\nStatus:\\n\\nThis version of this schedule contains provisions that are prospective.\\n\\nStatus\\n\\nThe term provision is used to describe a definable element in a piece of legislation that has legislative effect – such as a Part, Chapter or section. The term is used when describing the legal content of a piece   \n",
       "7265                                                                                                    // Copyright (c) 2009-2019 The Regents of the University of Michigan\\n// This file is part of the HOOMD-blue project, released under the BSD 3-Clause License.\\n\\n// Maintainer: joaander\\n\\n#include \"hoomd/HOOMDMath   \n",
       "\n",
       "                                                                                                                                                                                                                                                                                                                   ground  \\\n",
       "3045         6015(f):\\n\\n          (a) Marital status. The requesting spouse is\\n     separated (whether legally separated or living apart)\\n     or divorced from the nonrequesting spouse.\\n\\n          (b) Economic hardship. The requesting spouse\\n     would suffer economic hardship (within the meaning of\\n        \n",
       "3059                                                                                                     xc0206911\\n\\tSIOCGIFGENERIC                 = 0xc020693a\\n\\tSIOCGIFGMEMB                   = 0xc024698a\\n\\tSIOCGIFGROUP                   = 0xc0246988\\n\\tSIOCGIFINDEX                   = 0xc0206920\\n\\tSIOCGIF   \n",
       "101                                                                                                                                                                                            �': '9',\\n        '०': '0'\\n    };\\n\\n    var ne = moment.defineLocale('ne', {\\n        months : 'जनवरी_फेब्रुवरी_मार्च_अप   \n",
       "973                                                                                                             </string>\\n    <key>NSExtension</key>\\n    <dict>\\n        <key>NSExtensionAttributes</key>\\n        <dict>\\n            <key>NSExtensionActivationRule</key>\\n            <dict>\\n                <key>N   \n",
       "4222                                                                                         =\"Skip navigation links\">Skip navigation links</a></div>\\n<a name=\"navbar.top.firstrow\">\\n<!--   -->\\n</a>\\n<ul class=\"navList\" title=\"Navigation\">\\n<li><a href=\"../../../../../../overview-summary.html\">Overview</a></li>   \n",
       "7163                                                                              \\nTEXAS COURT OF APPEALS, THIRD DISTRICT, AT AUSTIN\\n\\n\\n\\n\\n\\nNO. 03-00-00243-CR\\n\\n\\n\\n\\n\\nEdward Bell, Appellant\\n\\n\\n\\nv.\\n\\n\\n\\nThe State of Texas, Appellee\\n\\n\\n\\n\\n\\n\\nFROM THE DISTRICT COURT OF TOM GREEN COUNTY, 119TH JUDIC   \n",
       "6314                                      In English-----------Hail holy queen, mother of mercy,Hail our life, our sweetness and our hope.To you do we cry poor banished children of Eve,To you do we send up our sighs, mourning and weeping in this valley of tears.Turn then, most gracious advocateyour eyes of mercy   \n",
       "5645                                                                                 // Copyright 2014 The Chromium Authors. All rights reserved.\\n// Use of this source code is governed by a BSD-style license that can be\\n// found in the LICENSE file.\\n\\n#ifndef COMPONENTS_DATA_REDUCTION_PROXY_CORE_BROWSER_DATA_   \n",
       "2711  \\n\\nStatus:\\n\\nThis version of this schedule contains provisions that are prospective.\\n\\nStatus\\n\\nThe term provision is used to describe a definable element in a piece of legislation that has legislative effect – such as a Part, Chapter or section. A version of a provision is prospective either:\\n\\nwhere   \n",
       "7265                                                                                     // Copyright (c) 2009-2019 The Regents of the University of Michigan\\n// This file is part of the HOOMD-blue project, released under the BSD 3-Clause License.\\n\\n\\n// Maintainers: jglaser, pschwende\\n\\n/*! \\file GlobalArray.   \n",
       "\n",
       "      mem_status        source  idx_in_ground  idx_in_hidden_states  \\\n",
       "3045    0.859375  pythia-evals           3050                  3045   \n",
       "3059    0.796875  pythia-evals           3064                  3059   \n",
       "101     0.718750  pythia-evals            101                   101   \n",
       "973     0.890625  pythia-evals            974                   973   \n",
       "4222    0.812500  pythia-evals           4232                  4222   \n",
       "7163    0.687500          pile           2188                  2175   \n",
       "6314    0.812500          pile           1331                  1326   \n",
       "5645    0.765625          pile            658                   657   \n",
       "2711    0.812500  pythia-evals           2715                  2711   \n",
       "7265    0.718750          pile           2290                  2277   \n",
       "\n",
       "      char_by_char_similarity  \n",
       "3045                 0.800000  \n",
       "3059                 0.800000  \n",
       "101                  0.800000  \n",
       "973                  0.800000  \n",
       "4222                 0.800995  \n",
       "7163                 0.801242  \n",
       "6314                 0.801762  \n",
       "5645                 0.802083  \n",
       "2711                 0.803213  \n",
       "7265                 0.803279  "
      ]
     },
     "execution_count": 20,
     "metadata": {},
     "output_type": "execute_result"
    }
   ],
   "source": [
    "hard_pos.sort_values(by=['char_by_char_similarity'], ascending=True, inplace=True)\n",
    "\n",
    "hard_pos.head(10)"
   ]
  },
  {
   "cell_type": "code",
   "execution_count": 21,
   "metadata": {},
   "outputs": [
    {
     "name": "stderr",
     "output_type": "stream",
     "text": [
      "100%|██████████| 5000/5000 [00:23<00:00, 213.29it/s]\n"
     ]
    }
   ],
   "source": [
    "pile_tokens = []\n",
    "for i in tqdm(range(len(pile_prompts))): \n",
    "    prompt = pile_prompts[i]\n",
    "    toks = tokenizer(prompt)['input_ids']\n",
    "    pile_tokens.append(toks)"
   ]
  },
  {
   "cell_type": "code",
   "execution_count": 24,
   "metadata": {},
   "outputs": [
    {
     "name": "stderr",
     "output_type": "stream",
     "text": [
      "100%|██████████| 10000/10000 [00:00<00:00, 245995.91it/s]"
     ]
    },
    {
     "name": "stdout",
     "output_type": "stream",
     "text": [
      "502 502 502\n"
     ]
    },
    {
     "name": "stderr",
     "output_type": "stream",
     "text": [
      "\n"
     ]
    }
   ],
   "source": [
    "tokens = mem_data_toks + pile_tokens\n",
    "labels = []\n",
    "for i in tqdm(range(len(tokens))):\n",
    "    if i in positive_idxs:\n",
    "        labels.append(1)\n",
    "    else: \n",
    "        labels.append(-1)\n",
    "\n",
    "# remove -1 labels\n",
    "tokens = [tok for i, tok in enumerate(tokens) if labels[i] != -1]\n",
    "labels = [label for label in labels if label != -1]\n",
    "\n",
    "print(len(tokens), len(labels), len(positive_idxs))"
   ]
  },
  {
   "cell_type": "code",
   "execution_count": 25,
   "metadata": {},
   "outputs": [
    {
     "name": "stderr",
     "output_type": "stream",
     "text": [
      "Saving the dataset (1/1 shards): 100%|██████████| 2510/2510 [00:00<00:00, 634122.58 examples/s]\n"
     ]
    }
   ],
   "source": [
    "from datasets import Dataset\n",
    "\n",
    "input_ids = []\n",
    "final_labels = []\n",
    "df_ref_idxs = []\n",
    "for cutoff in tok_idxs[5:]: \n",
    "    input_ids.extend([x[:cutoff] for x in tokens])\n",
    "    final_labels.extend(labels)\n",
    "    df_ref_idxs.extend(positive_idxs)\n",
    "\n",
    "dataset = Dataset.from_dict({'input_ids': input_ids, 'labels': final_labels, 'df_ref_idx': df_ref_idxs})\n",
    "dataset.save_to_disk(os.path.join(path, 'generalization/fuzzy_positive_v1'))"
   ]
  },
  {
   "cell_type": "code",
   "execution_count": 27,
   "metadata": {},
   "outputs": [
    {
     "name": "stderr",
     "output_type": "stream",
     "text": [
      "Resolving data files: 100%|██████████| 1650/1650 [00:02<00:00, 781.24it/s]\n"
     ]
    }
   ],
   "source": [
    "from datasets import load_from_disk\n",
    "\n",
    "test_dataset = load_from_disk(os.path.join(path, 'split_hf_token_dataset_vary_len_v2'))['test']\n",
    "\n",
    "new_pile_sentences = gen_pile_data(10000, tokenizer, min_n_toks = 64)[5000:]"
   ]
  },
  {
   "cell_type": "code",
   "execution_count": 28,
   "metadata": {},
   "outputs": [
    {
     "name": "stderr",
     "output_type": "stream",
     "text": [
      "100%|██████████| 5000/5000 [00:17<00:00, 286.23it/s]\n"
     ]
    }
   ],
   "source": [
    "max_toks = 256\n",
    "prefix_lens = [8,16,32,64,128,256]\n",
    "\n",
    "new_pile_toks = []\n",
    "for i in tqdm(range(len(new_pile_sentences))): \n",
    "    prompt = new_pile_sentences[i]\n",
    "    toks = tokenizer(prompt)['input_ids']\n",
    "    if len(toks) > max_toks:\n",
    "        prefix_len = np.random.choice(prefix_lens)\n",
    "        start_idx = np.random.choice(range(len(toks) - prefix_len))\n",
    "        end_idx = start_idx + prefix_len\n",
    "        toks = toks[start_idx:end_idx]\n",
    "    new_pile_toks.append(toks)"
   ]
  },
  {
   "cell_type": "code",
   "execution_count": 29,
   "metadata": {},
   "outputs": [
    {
     "data": {
      "text/plain": [
       "(5000, 64)"
      ]
     },
     "execution_count": 29,
     "metadata": {},
     "output_type": "execute_result"
    }
   ],
   "source": [
    "len(new_pile_toks), len(new_pile_toks[1024])"
   ]
  },
  {
   "cell_type": "code",
   "execution_count": 30,
   "metadata": {},
   "outputs": [
    {
     "name": "stderr",
     "output_type": "stream",
     "text": [
      "100%|██████████| 10120/10120 [00:02<00:00, 3447.93it/s]\n"
     ]
    }
   ],
   "source": [
    "new_line_tok = tokenizer('\\n\\n').input_ids\n",
    "\n",
    "test_input_ids = test_dataset['input_ids']\n",
    "\n",
    "for i in tqdm(range(len(test_input_ids))):\n",
    "    prefix_idx = np.random.choice(range(len(new_pile_toks)))\n",
    "    prefix = new_pile_toks[prefix_idx]\n",
    "    test_input_ids[i] = prefix + new_line_tok + test_input_ids[i]"
   ]
  },
  {
   "cell_type": "code",
   "execution_count": 31,
   "metadata": {},
   "outputs": [
    {
     "name": "stderr",
     "output_type": "stream",
     "text": [
      "Saving the dataset (1/1 shards): 100%|██████████| 10120/10120 [00:00<00:00, 952737.40 examples/s] \n"
     ]
    }
   ],
   "source": [
    "prefix_dataset = Dataset.from_dict({'input_ids': test_input_ids, 'labels': test_dataset['labels'], 'df_ref_idx': test_dataset['df_ref_idx']})\n",
    "\n",
    "prefix_dataset.save_to_disk(os.path.join(path, 'prefix_dataset_v0'))"
   ]
  },
  {
   "cell_type": "code",
   "execution_count": 32,
   "metadata": {},
   "outputs": [
    {
     "name": "stderr",
     "output_type": "stream",
     "text": [
      "Saving the dataset (1/1 shards): 100%|██████████| 2510/2510 [00:00<00:00, 596436.63 examples/s]\n",
      "Saving the dataset (1/1 shards): 100%|██████████| 10120/10120 [00:00<00:00, 960585.60 examples/s] \n"
     ]
    }
   ],
   "source": [
    "from datasets import DatasetDict\n",
    "\n",
    "generalization_datasets = DatasetDict({'fuzzy_pos': dataset, 'prefix': prefix_dataset})\n",
    "generalization_datasets.save_to_disk(os.path.join(path, 'generalization_datasets_v2'))"
   ]
  },
  {
   "cell_type": "code",
   "execution_count": 33,
   "metadata": {},
   "outputs": [
    {
     "data": {
      "text/plain": [
       "DatasetDict({\n",
       "    fuzzy_pos: Dataset({\n",
       "        features: ['input_ids', 'labels', 'df_ref_idx'],\n",
       "        num_rows: 2510\n",
       "    })\n",
       "    prefix: Dataset({\n",
       "        features: ['input_ids', 'labels', 'df_ref_idx'],\n",
       "        num_rows: 10120\n",
       "    })\n",
       "})"
      ]
     },
     "execution_count": 33,
     "metadata": {},
     "output_type": "execute_result"
    }
   ],
   "source": [
    "from datasets import load_from_disk\n",
    "\n",
    "generalization_datasets = load_from_disk(os.path.join(path, 'generalization_datasets_v2'))\n",
    "generalization_datasets"
   ]
  },
  {
   "cell_type": "markdown",
   "metadata": {},
   "source": [
    "## finetuning"
   ]
  },
  {
   "cell_type": "code",
   "execution_count": 4,
   "metadata": {},
   "outputs": [
    {
     "name": "stderr",
     "output_type": "stream",
     "text": [
      "Special tokens have been added in the vocabulary, make sure the associated word embeddings are fine-tuned or trained.\n",
      "Some weights of GPTNeoXForSequenceClassification were not initialized from the model checkpoint at EleutherAI/pythia-70m and are newly initialized: ['score.weight']\n",
      "You should probably TRAIN this model on a down-stream task to be able to use it for predictions and inference.\n"
     ]
    }
   ],
   "source": [
    "# finetuning! \n",
    "\n",
    "from transformers import AutoTokenizer, AutoModelForSequenceClassification, Trainer, TrainingArguments, set_seed\n",
    "import evaluate\n",
    "import torch\n",
    "import os\n",
    "import numpy as np\n",
    "from datasets import load_from_disk, DatasetDict\n",
    "from sklearn.metrics import accuracy_score, precision_recall_fscore_support, roc_auc_score\n",
    "\n",
    "seed = 0\n",
    "np.random.seed(seed)\n",
    "torch.manual_seed(seed)\n",
    "set_seed(seed)\n",
    "\n",
    "os.environ[\"CUDA_VISIBLE_DEVICES\"]=\"0\"\n",
    "\n",
    "model_name = 'EleutherAI/pythia-70m'\n",
    "tokenizer = AutoTokenizer.from_pretrained(model_name)\n",
    "tokenizer.pad_token = tokenizer.eos_token\n",
    "\n",
    "id2label = {0: 'neg', 1: 'pos'} \n",
    "label2id = {'neg': 0, 'pos': 1}\n",
    "model = AutoModelForSequenceClassification.from_pretrained(model_name, num_labels=2, id2label=id2label, label2id=label2id)\n",
    "model.to('cuda')\n",
    "model.config.pad_token_id = model.config.eos_token_id\n"
   ]
  },
  {
   "cell_type": "code",
   "execution_count": 5,
   "metadata": {},
   "outputs": [
    {
     "data": {
      "text/plain": [
       "DatasetDict({\n",
       "    train: Dataset({\n",
       "        features: ['input_ids', 'labels'],\n",
       "        num_rows: 4047\n",
       "    })\n",
       "    val: Dataset({\n",
       "        features: ['input_ids', 'labels'],\n",
       "        num_rows: 675\n",
       "    })\n",
       "    test: Dataset({\n",
       "        features: ['input_ids', 'labels'],\n",
       "        num_rows: 2024\n",
       "    })\n",
       "})"
      ]
     },
     "execution_count": 5,
     "metadata": {},
     "output_type": "execute_result"
    }
   ],
   "source": [
    "path = '../../gld/train-data-probes/data/12b'\n",
    "dataset = load_from_disk(os.path.join(path, 'split_hf_token_dataset_v1'))\n",
    "\n",
    "# dataset = dataset.shuffle(seed=seed)\n",
    "# dataset = dataset.train_test_split(test_size=0.3)\n",
    "# test = dataset['test']\n",
    "# temp = dataset['train'].train_test_split(test_size=1/7)\n",
    "# train = temp['train']\n",
    "# val = temp['test']\n",
    "# dataset = DatasetDict({'train': train, 'val': val, 'test': test})\n",
    "\n",
    "# train_input_ids = dataset['train']['input_ids']\n",
    "# val_input_ids = dataset['val']['input_ids']\n",
    "# test_input_ids = dataset['test']['input_ids']\n",
    "\n",
    "# # cutoff after 64 tokens\n",
    "# train_input_ids = [tok[:64] for tok in train_input_ids]\n",
    "# val_input_ids = [tok[:64] for tok in val_input_ids]\n",
    "# test_input_ids = [tok[:64] for tok in test_input_ids]\n",
    "\n",
    "# train_dataset = Dataset.from_dict({'input_ids': train_input_ids, 'labels': dataset['train']['labels']})\n",
    "# val_dataset = Dataset.from_dict({'input_ids': val_input_ids, 'labels': dataset['val']['labels']})\n",
    "# test_dataset = Dataset.from_dict({'input_ids': test_input_ids, 'labels': dataset['test']['labels']})\n",
    "\n",
    "# dataset = DatasetDict({'train': train_dataset, 'val': val_dataset, 'test': test_dataset})\n",
    "\n",
    "# dataset.save_to_disk(os.path.join(path, 'split_hf_token_dataset_v1'))\n",
    "\n",
    "dataset"
   ]
  },
  {
   "cell_type": "code",
   "execution_count": 6,
   "metadata": {},
   "outputs": [],
   "source": [
    "def tpr_at_fpr(probs, labels, target_fpr, left=0.5, right=1.0, max_steps=1000, thresh_tol=1e-5): \n",
    "    \"\"\"\n",
    "    Calculates the true positive rate at a given false positive rate. \n",
    "    Does up to max_steps steps of binary search, returns the best guess \n",
    "    that yields a false positive rate less than target_fpr\n",
    "    \n",
    "    probs: (n_examples, ) just prob on positive class\n",
    "    labels: (n_examples, ) 0 or 1\n",
    "    \"\"\"\n",
    "    assert len(probs) == len(labels)\n",
    "    assert probs.shape == labels.shape\n",
    "    assert probs.shape[0] > 0\n",
    "\n",
    "    for _ in range(max_steps):\n",
    "        mid = (left + right) / 2\n",
    "        \n",
    "        # calc fpr \n",
    "        preds = (probs > mid).astype(int)\n",
    "        fp = np.logical_and(preds == 1, labels == 0).sum()\n",
    "        tn = (labels == 0).sum()\n",
    "        fpr = fp / tn if tn > 0 else 0\n",
    "\n",
    "        if abs(fpr - target_fpr) < thresh_tol: \n",
    "            right = mid\n",
    "            break\n",
    "        elif fpr > target_fpr:\n",
    "            left = mid\n",
    "        else:\n",
    "            right = mid\n",
    "    \n",
    "    # use right as threshold to ensure fpr <= target_fpr\n",
    "    preds = (probs > right).astype(int)\n",
    "    tp = np.logical_and(preds == 1, labels == 1).sum()\n",
    "    fn = (labels == 1).sum()\n",
    "    return tp / fn if fn > 0 else 0\n",
    "    "
   ]
  },
  {
   "cell_type": "code",
   "execution_count": 7,
   "metadata": {},
   "outputs": [],
   "source": [
    "targs = TrainingArguments(\n",
    "    output_dir = os.path.join(path, 'finetuning/'),\n",
    "    evaluation_strategy = \"epoch\", \n",
    "    logging_strategy = \"epoch\",    \n",
    "    learning_rate=1e-5,\n",
    "    per_device_train_batch_size=128,\n",
    "    per_device_eval_batch_size=128,\n",
    "    num_train_epochs=10,\n",
    "    weight_decay=0.01,\n",
    "    report_to='none',\n",
    ")\n",
    "\n",
    "def compute_metrics(eval_pred):\n",
    "    logits, labels = eval_pred\n",
    "    logits = np.array(logits[0]) # (n_examples, n_classes)\n",
    "    labels = np.array(labels) # (n_examples)\n",
    "\n",
    "    preds = np.argmax(logits, axis=1)\n",
    "    normalized_prob = np.exp(logits) / np.exp(logits).sum(axis=1, keepdims=True)\n",
    "    positive_prob = normalized_prob[:, 1]\n",
    "    acc = accuracy_score(labels, preds)\n",
    "    precision, recall, f1, _ = precision_recall_fscore_support(labels, preds, average='binary')\n",
    "    auc = roc_auc_score(labels, positive_prob)\n",
    "\n",
    "    tpr_01 = tpr_at_fpr(positive_prob, labels, 0.01)\n",
    "    tpr_001 = tpr_at_fpr(positive_prob, labels, 0.001)\n",
    "    tpr_0001 = tpr_at_fpr(positive_prob, labels, 0.0001)\n",
    "\n",
    "    # print(f'accuracy: {acc}, precision: {precision}, recall: {recall}, f1: {f1}, AUC: {auc}')\n",
    "    return {'accuracy': acc, 'precision': precision, 'recall': recall, 'f1': f1, 'AUC': auc, 'tpr_01': tpr_01, 'tpr_001': tpr_001, 'tpr_0001': tpr_0001}\n",
    "\n",
    "trainer = Trainer(\n",
    "    model=model,\n",
    "    args=targs,\n",
    "    train_dataset=dataset['train'],\n",
    "    eval_dataset=dataset['val'], \n",
    "    compute_metrics=compute_metrics,\n",
    ")"
   ]
  },
  {
   "cell_type": "code",
   "execution_count": 8,
   "metadata": {},
   "outputs": [
    {
     "name": "stderr",
     "output_type": "stream",
     "text": [
      "/home/ubuntu/anaconda3/envs/myenv/lib/python3.10/site-packages/torch/nn/parallel/_functions.py:68: UserWarning: Was asked to gather along dimension 0, but all input tensors were scalars; will instead unsqueeze and return a vector.\n",
      "  warnings.warn('Was asked to gather along dimension 0, but all '\n"
     ]
    },
    {
     "data": {
      "text/html": [
       "\n",
       "    <div>\n",
       "      \n",
       "      <progress value='28' max='80' style='width:300px; height:20px; vertical-align: middle;'></progress>\n",
       "      [28/80 00:15 < 00:31, 1.66 it/s, Epoch 3.38/10]\n",
       "    </div>\n",
       "    <table border=\"1\" class=\"dataframe\">\n",
       "  <thead>\n",
       " <tr style=\"text-align: left;\">\n",
       "      <th>Epoch</th>\n",
       "      <th>Training Loss</th>\n",
       "      <th>Validation Loss</th>\n",
       "      <th>Accuracy</th>\n",
       "      <th>Precision</th>\n",
       "      <th>Recall</th>\n",
       "      <th>F1</th>\n",
       "      <th>Auc</th>\n",
       "      <th>Tpr 01</th>\n",
       "      <th>Tpr 001</th>\n",
       "      <th>Tpr 0001</th>\n",
       "    </tr>\n",
       "  </thead>\n",
       "  <tbody>\n",
       "    <tr>\n",
       "      <td>1</td>\n",
       "      <td>1.029200</td>\n",
       "      <td>0.624987</td>\n",
       "      <td>0.779259</td>\n",
       "      <td>0.835714</td>\n",
       "      <td>0.694362</td>\n",
       "      <td>0.758509</td>\n",
       "      <td>0.810502</td>\n",
       "      <td>0.127596</td>\n",
       "      <td>0.023739</td>\n",
       "      <td>0.023739</td>\n",
       "    </tr>\n",
       "    <tr>\n",
       "      <td>2</td>\n",
       "      <td>0.508300</td>\n",
       "      <td>0.529149</td>\n",
       "      <td>0.798519</td>\n",
       "      <td>0.801802</td>\n",
       "      <td>0.792285</td>\n",
       "      <td>0.797015</td>\n",
       "      <td>0.842783</td>\n",
       "      <td>0.192878</td>\n",
       "      <td>0.103858</td>\n",
       "      <td>0.103858</td>\n",
       "    </tr>\n",
       "    <tr>\n",
       "      <td>3</td>\n",
       "      <td>0.371400</td>\n",
       "      <td>0.512797</td>\n",
       "      <td>0.788148</td>\n",
       "      <td>0.841549</td>\n",
       "      <td>0.709199</td>\n",
       "      <td>0.769726</td>\n",
       "      <td>0.846988</td>\n",
       "      <td>0.225519</td>\n",
       "      <td>0.091988</td>\n",
       "      <td>0.091988</td>\n",
       "    </tr>\n",
       "  </tbody>\n",
       "</table><p>"
      ],
      "text/plain": [
       "<IPython.core.display.HTML object>"
      ]
     },
     "metadata": {},
     "output_type": "display_data"
    },
    {
     "name": "stderr",
     "output_type": "stream",
     "text": [
      "We strongly recommend passing in an `attention_mask` since your input_ids may be padded. See https://huggingface.co/docs/transformers/troubleshooting#incorrect-output-when-padding-tokens-arent-masked.\n",
      "You may ignore this warning if your `pad_token_id` (0) is identical to the `bos_token_id` (0), `eos_token_id` (0), or the `sep_token_id` (None), and your input is not padded.\n",
      "/home/ubuntu/anaconda3/envs/myenv/lib/python3.10/site-packages/torch/nn/parallel/_functions.py:68: UserWarning: Was asked to gather along dimension 0, but all input tensors were scalars; will instead unsqueeze and return a vector.\n",
      "  warnings.warn('Was asked to gather along dimension 0, but all '\n",
      "/home/ubuntu/anaconda3/envs/myenv/lib/python3.10/site-packages/torch/nn/parallel/_functions.py:68: UserWarning: Was asked to gather along dimension 0, but all input tensors were scalars; will instead unsqueeze and return a vector.\n",
      "  warnings.warn('Was asked to gather along dimension 0, but all '\n",
      "/home/ubuntu/anaconda3/envs/myenv/lib/python3.10/site-packages/torch/nn/parallel/_functions.py:68: UserWarning: Was asked to gather along dimension 0, but all input tensors were scalars; will instead unsqueeze and return a vector.\n",
      "  warnings.warn('Was asked to gather along dimension 0, but all '\n"
     ]
    }
   ],
   "source": [
    "trainer.train()"
   ]
  },
  {
   "cell_type": "code",
   "execution_count": 19,
   "metadata": {},
   "outputs": [
    {
     "data": {
      "image/png": "[encoded data removed]",
      "text/plain": [
       "<Figure size 500x500 with 1 Axes>"
      ]
     },
     "metadata": {},
     "output_type": "display_data"
    }
   ],
   "source": [
    "# plot\n",
    "sns.set()\n",
    "plt.figure(figsize=(5,5))\n",
    "plt.plot(fpr, tpr, color='darkorange', lw=2, label=f'ROC curve (area = {roc_auc:0.2f})')\n",
    "plt.xlabel('False Positive Rate')\n",
    "plt.ylabel('True Positive Rate')\n",
    "plt.title('ROC curve')\n",
    "plt.legend(loc='lower right')\n",
    "plt.show()\n"
   ]
  },
  {
   "cell_type": "code",
   "execution_count": 24,
   "metadata": {},
   "outputs": [
    {
     "data": {
      "text/plain": [
       "array([0.        , 0.        , 0.        , 0.00100806, 0.00100806,\n",
       "       0.00201613, 0.00201613, 0.00302419, 0.00302419, 0.00403226,\n",
       "       0.00403226, 0.00504032, 0.00504032, 0.00604839, 0.00604839,\n",
       "       0.00604839, 0.00604839, 0.00705645, 0.00705645, 0.00705645,\n",
       "       0.00705645, 0.00806452, 0.00806452, 0.01008065, 0.01008065,\n",
       "       0.01108871, 0.01108871, 0.01108871, 0.01108871, 0.01209677,\n",
       "       0.01209677, 0.01310484, 0.01310484, 0.0141129 , 0.0141129 ,\n",
       "       0.01612903, 0.01612903, 0.0171371 , 0.0171371 , 0.01814516,\n",
       "       0.01814516, 0.01915323, 0.01915323, 0.02016129, 0.02016129,\n",
       "       0.02116935, 0.02116935, 0.02217742, 0.02217742, 0.02318548,\n",
       "       0.02318548, 0.02419355, 0.02419355, 0.02620968, 0.02620968,\n",
       "       0.02721774, 0.02721774, 0.02822581, 0.02822581, 0.02923387,\n",
       "       0.02923387, 0.03024194, 0.03024194, 0.03125   , 0.03125   ,\n",
       "       0.03225806, 0.03225806, 0.03326613, 0.03326613, 0.03427419,\n",
       "       0.03427419, 0.03528226, 0.03528226, 0.03629032, 0.03629032,\n",
       "       0.03729839, 0.03729839, 0.03830645, 0.03830645, 0.03931452,\n",
       "       0.03931452, 0.04032258, 0.04032258, 0.04334677, 0.04334677,\n",
       "       0.0453629 , 0.0453629 , 0.04637097, 0.04637097, 0.04737903,\n",
       "       0.04737903, 0.0483871 , 0.0483871 , 0.04939516, 0.04939516,\n",
       "       0.05040323, 0.05040323, 0.05141129, 0.05141129, 0.05241935,\n",
       "       0.05241935, 0.05342742, 0.05342742, 0.05443548, 0.05443548,\n",
       "       0.05544355, 0.05544355, 0.05645161, 0.05645161, 0.05645161,\n",
       "       0.05645161, 0.05745968, 0.05745968, 0.05846774, 0.05846774,\n",
       "       0.06048387, 0.06048387, 0.06149194, 0.06149194, 0.06451613,\n",
       "       0.06451613, 0.06653226, 0.06653226, 0.06754032, 0.06754032,\n",
       "       0.06854839, 0.06854839, 0.06955645, 0.06955645, 0.07056452,\n",
       "       0.07056452, 0.07157258, 0.07157258, 0.07258065, 0.07258065,\n",
       "       0.07459677, 0.07459677, 0.07762097, 0.07762097, 0.0796371 ,\n",
       "       0.0796371 , 0.08064516, 0.08064516, 0.08165323, 0.08165323,\n",
       "       0.08366935, 0.08366935, 0.08467742, 0.08467742, 0.08770161,\n",
       "       0.08770161, 0.08870968, 0.08870968, 0.08971774, 0.08971774,\n",
       "       0.09072581, 0.09072581, 0.09274194, 0.09274194, 0.09274194,\n",
       "       0.09375   , 0.09375   , 0.09475806, 0.09475806, 0.09576613,\n",
       "       0.09576613, 0.09778226, 0.09778226, 0.09879032, 0.09879032,\n",
       "       0.09979839, 0.09979839, 0.10080645, 0.10080645, 0.10181452,\n",
       "       0.10181452, 0.10282258, 0.10282258, 0.10383065, 0.10383065,\n",
       "       0.10483871, 0.10483871, 0.10685484, 0.10685484, 0.1078629 ,\n",
       "       0.1078629 , 0.1108871 , 0.1108871 , 0.11189516, 0.11189516,\n",
       "       0.11290323, 0.11290323, 0.11391129, 0.11391129, 0.11491935,\n",
       "       0.11491935, 0.11693548, 0.11693548, 0.11895161, 0.11895161,\n",
       "       0.12298387, 0.12298387, 0.125     , 0.125     , 0.12701613,\n",
       "       0.12701613, 0.12802419, 0.12802419, 0.13004032, 0.13004032,\n",
       "       0.13205645, 0.13205645, 0.13508065, 0.13508065, 0.13709677,\n",
       "       0.13709677, 0.13810484, 0.13810484, 0.14112903, 0.14112903,\n",
       "       0.14314516, 0.14314516, 0.14415323, 0.14415323, 0.14717742,\n",
       "       0.14717742, 0.14818548, 0.14818548, 0.15020161, 0.15020161,\n",
       "       0.15120968, 0.15120968, 0.15322581, 0.15322581, 0.15423387,\n",
       "       0.15423387, 0.15524194, 0.15524194, 0.16028226, 0.16028226,\n",
       "       0.16229839, 0.16229839, 0.16330645, 0.16330645, 0.16532258,\n",
       "       0.16532258, 0.16733871, 0.16733871, 0.1703629 , 0.1703629 ,\n",
       "       0.17741935, 0.17741935, 0.17943548, 0.17943548, 0.18346774,\n",
       "       0.18346774, 0.18548387, 0.18548387, 0.1875    , 0.1875    ,\n",
       "       0.18951613, 0.18951613, 0.19052419, 0.19052419, 0.19153226,\n",
       "       0.19153226, 0.19254032, 0.19254032, 0.2016129 , 0.2016129 ,\n",
       "       0.20564516, 0.20564516, 0.21270161, 0.21270161, 0.21673387,\n",
       "       0.21673387, 0.22076613, 0.22076613, 0.22278226, 0.22278226,\n",
       "       0.22479839, 0.22479839, 0.22681452, 0.22681452, 0.22883065,\n",
       "       0.22883065, 0.23084677, 0.23084677, 0.23185484, 0.23185484,\n",
       "       0.2358871 , 0.2358871 , 0.23790323, 0.23790323, 0.23991935,\n",
       "       0.23991935, 0.24495968, 0.24495968, 0.24596774, 0.24596774,\n",
       "       0.25504032, 0.25504032, 0.25806452, 0.25806452, 0.2671371 ,\n",
       "       0.2671371 , 0.26814516, 0.26814516, 0.27923387, 0.27923387,\n",
       "       0.28729839, 0.28729839, 0.29032258, 0.29032258, 0.29435484,\n",
       "       0.29435484, 0.2983871 , 0.2983871 , 0.30241935, 0.30241935,\n",
       "       0.30342742, 0.30342742, 0.31653226, 0.31653226, 0.32056452,\n",
       "       0.32056452, 0.32358871, 0.32358871, 0.32560484, 0.32560484,\n",
       "       0.33165323, 0.33165323, 0.34375   , 0.34375   , 0.35282258,\n",
       "       0.35282258, 0.35987903, 0.35987903, 0.37399194, 0.37399194,\n",
       "       0.38608871, 0.38608871, 0.38709677, 0.38709677, 0.39616935,\n",
       "       0.39616935, 0.40020161, 0.40020161, 0.40725806, 0.40725806,\n",
       "       0.41330645, 0.41330645, 0.41633065, 0.41633065, 0.42237903,\n",
       "       0.42237903, 0.4233871 , 0.4233871 , 0.42641129, 0.42641129,\n",
       "       0.42943548, 0.42943548, 0.43951613, 0.43951613, 0.44052419,\n",
       "       0.44052419, 0.44455645, 0.44455645, 0.44556452, 0.44556452,\n",
       "       0.45262097, 0.45262097, 0.45362903, 0.45362903, 0.45665323,\n",
       "       0.45665323, 0.46068548, 0.46068548, 0.46572581, 0.46572581,\n",
       "       0.47580645, 0.47580645, 0.48689516, 0.48689516, 0.49092742,\n",
       "       0.49092742, 0.49193548, 0.49193548, 0.49899194, 0.49899194,\n",
       "       0.51108871, 0.51108871, 0.52923387, 0.52923387, 0.53125   ,\n",
       "       0.53125   , 0.54637097, 0.54637097, 0.54737903, 0.54737903,\n",
       "       0.57862903, 0.57862903, 0.58165323, 0.58165323, 0.59879032,\n",
       "       0.59879032, 0.61290323, 0.61290323, 0.61895161, 0.61895161,\n",
       "       0.61995968, 0.61995968, 0.62096774, 0.62096774, 0.64516129,\n",
       "       0.64516129, 0.64616935, 0.64616935, 0.65322581, 0.65322581,\n",
       "       0.65524194, 0.65524194, 0.65625   , 0.65625   , 0.67237903,\n",
       "       0.67237903, 0.67439516, 0.67439516, 0.67540323, 0.67540323,\n",
       "       0.67641129, 0.67641129, 0.70665323, 0.70665323, 0.72379032,\n",
       "       0.72379032, 0.77318548, 0.77318548, 0.79133065, 0.79133065,\n",
       "       0.80141129, 0.80141129, 0.80645161, 0.80645161, 0.8266129 ,\n",
       "       0.8266129 , 0.83467742, 0.83467742, 0.83870968, 0.83870968,\n",
       "       0.83971774, 0.83971774, 0.84576613, 0.84576613, 0.8891129 ,\n",
       "       0.8891129 , 0.89516129, 0.89516129, 0.90725806, 0.90725806,\n",
       "       0.92237903, 0.92237903, 0.92641129, 0.92641129, 0.93850806,\n",
       "       0.93850806, 0.94455645, 0.94455645, 0.94657258, 0.94657258,\n",
       "       0.95967742, 0.95967742, 0.98689516, 0.98689516, 0.99798387,\n",
       "       0.99798387, 0.99899194, 0.99899194, 1.        ])"
      ]
     },
     "execution_count": 24,
     "metadata": {},
     "output_type": "execute_result"
    }
   ],
   "source": [
    "fpr"
   ]
  },
  {
   "cell_type": "code",
   "execution_count": null,
   "metadata": {},
   "outputs": [],
   "source": []
  }
 ],
 "metadata": {
  "kernelspec": {
   "display_name": "base",
   "language": "python",
   "name": "python3"
  },
  "language_info": {
   "codemirror_mode": {
    "name": "ipython",
    "version": 3
   },
   "file_extension": ".py",
   "mimetype": "text/x-python",
   "name": "python",
   "nbconvert_exporter": "python",
   "pygments_lexer": "ipython3",
   "version": "3.10.13"
  }
 },
 "nbformat": 4,
 "nbformat_minor": 2
}
