{
 "cells": [
  {
   "cell_type": "code",
   "execution_count": 1,
   "metadata": {},
   "outputs": [
    {
     "name": "stderr",
     "output_type": "stream",
     "text": [
      "/home/ubuntu/anaconda3/envs/myenv/lib/python3.10/site-packages/tqdm/auto.py:21: TqdmWarning: IProgress not found. Please update jupyter and ipywidgets. See https://ipywidgets.readthedocs.io/en/stable/user_install.html\n",
      "  from .autonotebook import tqdm as notebook_tqdm\n",
      "/home/ubuntu/anaconda3/envs/myenv/lib/python3.10/site-packages/torch/cuda/__init__.py:611: UserWarning: Can't initialize NVML\n",
      "  warnings.warn(\"Can't initialize NVML\")\n"
     ]
    }
   ],
   "source": [
    "import transformers\n",
    "import torch\n",
    "import torch.nn.functional as F\n",
    "import pandas as pd\n",
    "import numpy as np\n",
    "import os\n",
    "import re\n",
    "import random\n",
    "import datasets\n",
    "from datasets import load_dataset\n",
    "from abc import ABC, abstractmethod\n",
    "from typing import List, Optional, Tuple, Dict\n",
    "from tqdm import tqdm\n",
    "import pickle\n",
    "from dotenv import load_dotenv\n",
    "import openai\n",
    "\n",
    "from typing import List, Optional, Tuple, Dict\n",
    "from transformers import AutoModelForCausalLM, AutoTokenizer\n",
    "from datasets import Dataset, load_from_disk\n",
    "\n",
    "import plotly.graph_objects as go\n",
    "import plotly.express as px\n",
    "\n",
    "from utils import untuple\n",
    "from scripts.get_activations import gen_pile_data, compare_token_lists, slice_acts"
   ]
  },
  {
   "cell_type": "code",
   "execution_count": 2,
   "metadata": {},
   "outputs": [],
   "source": [
    "file_path = '../../gld/train-data-probes/data/6.9b'\n",
    "dataset = load_from_disk(os.path.join(file_path, 'split_hf_token_dataset_vary_len'))"
   ]
  },
  {
   "cell_type": "code",
   "execution_count": 3,
   "metadata": {},
   "outputs": [],
   "source": [
    "file_path = '../../gld/train-data-probes/data/6.9b'\n",
    "# mem_generations = pickle.load(open(f'{file_path}/mem_all_generations.pkl', 'rb'))\n",
    "# mem_status = pickle.load(open(f'{file_path}/mem_all_mem_status.pkl', 'rb'))\n",
    "mem_hiddens = torch.load(f'{file_path}/mem_all_hidden_states.pt')\n",
    "\n",
    "# pile_generations = pickle.load(open(f'{file_path}/pile_all_generations.pkl', 'rb'))\n",
    "# pile_status = pickle.load(open(f'{file_path}/pile_all_mem_status.pkl', 'rb'))\n",
    "pile_hiddens = torch.load(f'{file_path}/pile_all_hidden_states.pt')"
   ]
  },
  {
   "cell_type": "code",
   "execution_count": 5,
   "metadata": {},
   "outputs": [
    {
     "data": {
      "text/plain": [
       "torch.Size([20000, 32, 10, 4096])"
      ]
     },
     "execution_count": 5,
     "metadata": {},
     "output_type": "execute_result"
    }
   ],
   "source": [
    "hiddens = torch.cat([mem_hiddens, pile_hiddens], dim=0)\n",
    "hiddens.shape"
   ]
  },
  {
   "cell_type": "code",
   "execution_count": null,
   "metadata": {},
   "outputs": [],
   "source": []
  }
 ],
 "metadata": {
  "kernelspec": {
   "display_name": "myenv",
   "language": "python",
   "name": "python3"
  },
  "language_info": {
   "codemirror_mode": {
    "name": "ipython",
    "version": 3
   },
   "file_extension": ".py",
   "mimetype": "text/x-python",
   "name": "python",
   "nbconvert_exporter": "python",
   "pygments_lexer": "ipython3",
   "version": "3.10.13"
  }
 },
 "nbformat": 4,
 "nbformat_minor": 2
}
