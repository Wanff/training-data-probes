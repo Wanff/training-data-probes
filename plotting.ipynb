{
 "cells": [
  {
   "cell_type": "markdown",
   "metadata": {},
   "source": [
    "## generalization"
   ]
  },
  {
   "cell_type": "code",
   "execution_count": null,
   "metadata": {},
   "outputs": [],
   "source": [
    "probe_results = {\n",
    "    'prefix': [77.10, , , , 86.92], \n",
    "    'fuzzy_pos': [73.70, , , , ], \n",
    "    'quotes': [73.53, , , , 79.76], \n",
    "}\n",
    "\n",
    "pythia_70_results = {\n",
    "    'prefix': [78.07, 86.08, 68.83, 76.50, 86.61], \n",
    "    'fuzzy_pos': [65.70, 1.0, 65.70, 79.30, ]\n",
    "}\n",
    "\n",
    "llama_2_7_results = {\n",
    "\n",
    "}\n",
    "\n"
   ]
  }
 ],
 "metadata": {
  "language_info": {
   "name": "python"
  }
 },
 "nbformat": 4,
 "nbformat_minor": 2
}
