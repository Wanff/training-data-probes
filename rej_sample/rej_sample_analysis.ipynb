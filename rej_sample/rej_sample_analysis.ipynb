{
 "cells": [
  {
   "cell_type": "code",
   "execution_count": 48,
   "metadata": {},
   "outputs": [
    {
     "name": "stdout",
     "output_type": "stream",
     "text": [
      "The autoreload extension is already loaded. To reload it, use:\n",
      "  %reload_ext autoreload\n"
     ]
    }
   ],
   "source": [
    "import transformers\n",
    "import torch\n",
    "import torch.nn.functional as F\n",
    "import pandas as pd\n",
    "import numpy as np\n",
    "import os\n",
    "import re\n",
    "import random\n",
    "import datasets\n",
    "from datasets import load_dataset\n",
    "from abc import ABC, abstractmethod\n",
    "from typing import List, Optional, Tuple, Dict\n",
    "from tqdm import tqdm\n",
    "import pickle\n",
    "from dotenv import load_dotenv\n",
    "import openai\n",
    "import json\n",
    "\n",
    "from typing import List, Optional, Tuple, Dict\n",
    "from transformers import AutoModelForCausalLM, AutoTokenizer\n",
    "from datasets import Dataset\n",
    "\n",
    "import plotly.graph_objects as go\n",
    "import plotly.express as px\n",
    "\n",
    "import sys\n",
    "sys.path.append('../')\n",
    "from utils import untuple, eval_completions, levenshtein_distance\n",
    "from act_add.contrast_dataset import ContrastDataset\n",
    "from scripts.get_activations import gen_pile_data, compare_token_lists, slice_acts\n",
    "from act_add.model_wrapper import ModelWrapper\n",
    "%load_ext autoreload\n",
    "%autoreload 2"
   ]
  },
  {
   "cell_type": "code",
   "execution_count": 49,
   "metadata": {},
   "outputs": [
    {
     "data": {
      "text/plain": [
       "{3: ['\\nMost Read\\n\\nMost Emailed\\n\\nMost Commented\\n\\nJoin the conversation:\\n\\nTo report inappropriate comments, abuse and/or repeat offenders please send an e-mail\\nto social@post-trib.net with the subject \"Post comment\" and the following message in the body:\\n\"',\n",
       "  '>Files</a><a class=\"SelectItem\" href=\"javascript:void(0)\" onclick=\"searchBox.OnSelectItem(3)\"><span Class=\"\">3.</Span><a id=3 href=\"\"></a></div>\\n</form>\\n\\n<script type=\\'application\\'>\\n$(document).',\n",
       "  'CTP                  = 0x84\\n\\tIPPROTO_TCP                   = 0x6\\n\\tIPPROTO_TP                    = 0x1d\\n\\tIPPROTO_TPXX                  =\\\\\\n\\tDLTXX_A                      = 00d5 | 00d1\\n\\tIPPROTO_IPV4                   =\\\\\\n\\t    IPV6           =',\n",
       "  'SECONDARYCOLOR3UIPROC)load(\"glSecondaryColor3ui\");\\n\\tglad_glSecondaryColor3uiv = (void*)_glfw.x11.secondaryColor3ui;\\n#endif\\n\\tgladLoadGL();\\n\\n    if (ctxconfig.major!=',\n",
       "  '488dp\">488.00px</dimen>\\n<dimen name=\"d_489dp\">489.00px</dimen>\\n<dimen name=\"w320dp\" tools:override=\\'true\\' tools:minWidth=\"240.0dip\">320dip</dimen><dimen name=\"w320sp\">320',\n",
       "  \" K DickWhat happens when all the renewable energy runs out?-- Victoria AylingEnglish isn't much of a language for swearing. When I studied Ancient and Modern Greek I was delighted that swearwords are still attachedto their Greek roots. The original meaning of swearing is'making a solemn promise'.\\n\\nI\",\n",
       "  '.  You may obtain a copy of the License at\\n#\\n#     http://www.apache.org/licenses/LICENSE-2.0\\n\\n# Unless the file exists or you have permission, the following will\\n# create a temporary directory and download the latest version of\\n# the source code.\\n',\n",
       "  'FRAMES</B></A>  &nbsp;\\n&nbsp;<A HREF=\"IsInstanceOf.html\" target=\"_top\"><B>NO FRAMEWORK</b><br></A>\\n\\n<p><font color=\"#000000\">This class and its inherited members  are  not  deprecated.</',\n",
       "  ' EXEMPLARY, OR CONSEQUENTIAL DAMAGES\\n * (INCLUDING, BUT NOT LIMITED TO, PROCUREMENT OF SUBSTITUTE GOODS OR SERVICES;\\n * LOSS OF USE; OR BUSINESS Interruption) ARISING IN ANY way out of THE USE\\n*  OF THESE LISTINGS, EVEN IF ADVISORY NOT TO THE EXT',\n",
       "  '. With so many things competing for everyone’s attention these days, we really appreciate you giving us your time. We work hard every day to put quality content together for our readers and we believe that you deserve to be as informed as everyone else possibly is. If everyone reading this has taken at look at the news of the',\n",
       "  'x000, 0x000, 0x000, 0x000, 0x000,\\n/* 0x4a0: */  0x000},\\n/* { 0x000, 0xffff, 0xfffe },*/ /* 0xc00: reserved */\\n/* { 0xfff0 },*/ /*',\n",
       "  'specific mutagenesis and for the maintenance of genomic stability./*\\n * Copyright (C) 2006 The Android Open Source Project\\n *\\n * Licensed under the Apache Software License, version 1, with the\\n */\\n\\n#include <stdint.h>\\n\\n#include \"elf_common.h\"\\n#',\n",
       "  'license, and/or\\n * sell copies of the Software, and to permit persons to whom the Software is\\n * furnished to do so, subject to the above copyright notice(s)\\n * and this permission notice (including the right to sublicensable\\n */\\n\\n/*\\n *  This file contains the implementation',\n",
       "  'Jetson Inference: Class Members - Functions</title>\\n<link href=\"tabs.css\" rel=\"stylesheet\" type=\"text/css\"/> </head> <body>\\n<div class=\\'headercontent\\'>\\n<!-- Generated by javadoc (1.8-ea) On Tue Jul 09 09:\\\\',\n",
       "  'copy = 3 + BITS(2);\\n                        DROPBITS(2);\\n                    }\\n                    else if (here.val == 17) {\\n\\t\\t\\tDRYADDDIST = BitsToDouble((UINT32)(val));\\n\\t\\t\\tgoto returnDryadddist_exit;\\n\\t\\tcase',\n",
       "  ' #1, Counter #9 */\\n   .long    tcpwm_1_interrupts_10_IRQHandler        /* TCPWM #1, Counter #9 Interrupts #10 */\\n\\n  /* USART0 interrupts */\\n\\n    /* USART0 interrupts */\\n\\n  /* USART0, USART',\n",
       "  'mbttµ#txjqfs.mb{z.qsfmpbefs txjqfs.mb{z.qsfmpbefs.xjoufsw.mbttµ#jomjoup; #txjqfsmb{zqfsxjeui; bddfouf#',\n",
       "  'PRIMITIVE_6_CONTROL_POINT_PATCH\",\\n    \"D3D11_PRIMITIVE_7_CONTROL_POINT\",\\n    NULL\\n};\\n\\nstatic char *primitive_names[] = { \"POINT\",\\n    \"LINELIST_POINT\", \"LINESTR',\n",
       "  '://dx.doi.org/10.1107/S160053680706881X/dn2307Isup2.hkl)\\nQ:\\n\\nHow to get the value of a variable in a function in javascript?\\n\\nI have a function that is called from a button click.',\n",
       "  ')\\n        val ENUM_VALUE_3 = EnumTyped(EnumTypedEnum.ENUM_VALUE_3)\\n        val ENUM2_VALUE = EnumTyped(EnumTypedEnum2.ENUM2_VALUE)\\n        val ENUM3_ENUM_VALUE = Enum',\n",
       "  'PL_TYPE, PRECISION, CLASS_TYPE, SWIZZLED_TYPE, const, A, A, D, A) \\\\\\r\\n\\tEIGEN2CPP_EIGENTYPE(Derived, const, A) \\\\\\r\\n    /***/\\r\\n\\r\\n    Eigen::MatrixBase<Derived>& derived()',\n",
       "  'AGS                      = 0x80906910\\n\\tSIOCSIFGENERIC                    = 0x80906939\\n\\tSIOCSIFMEDIA                     =\\\\\\n                                  &quot;https://opensso-public-test.dev.java-projects.io/&lt;/&quot;\\n',\n",
       "  '-sign\": \"~0.8.1\",\\n    \"qs\": \"~6.2.0\",\\n    \"stringstream\": \"~0.0\",\\n    \"_stream_readable\": \"~0\",\\n    \"supply\": \"~1\"\\n  },\\n\\nA:\\n\\nYou can use the',\n",
       "  ' methodologies\\xa0Genetic programming&lt;/concept\\\\_desc&gt; &lt;concept\\\\_significance&gt;500&lt;/concept\\\\_significance\\\\&gt;\\\\\\n&gt; &gt; &gt; &gt; &gt;\\\\\\n&lt;ccs2012 &lt;\\\\#1&',\n",
       "  '** and **b** as dashed lines. When *θ*\\u2009=\\u2009*π* the slope changes sign. In **a** $\\\\documentclass[12mu]{}\\n                {\\\\lower2mu\\\\vbox{\\\\hrule height.4pt width0.4ex}}\\\\mkern2mup\\\\mathchar\"',\n",
       "  ',T3 >\\n{\\n    typedef typename set4< T0,T1,T2,T3 >::type type;\\n};\\n\\n}}\\n\\nQ:\\n\\nHow to get the value of a variable in a function in another function?\\n\\nI have a function that is called from another',\n",
       "  ' i,\\n\\t\\t\\t\\tctx->qos_data.def_qos_parm.ac[i].cw_min,\\n\\t\\t\\t\\tctx->pwr[0],\\n\\t\\t\\t    \\tctx_cfg->pwr_table_len);\\n\\t    }\\n\\telse\\n\\t    for (i=0 ;',\n",
       "  ' after skipping one start because of back spasms.\\n\\nMore Headlines\\n\\nKSN.com provides commenting to allow for constructive discussion on the stories we publish; in addition, we ask that comments are relevant to our readers. Commenters are encourage more than one comment, however, comments may not be removed after using',\n",
       "  ' int, len int, flags int) (n int64, err error) {\\n\\tr0, _, e1 := Syscall6(SYS_TELLK, syscall_raw_SYS_READ, uintptr(_p0) + uintptr(_p1)*len, _p2,-(int)(len),',\n",
       "  ' distribute and/or sell\\n * copies of the Software, and permit persons to whom the Software is\\n * furnished to do so, under the terms of the Nmap Project license agreement\\n *\"as is\"?, distributed together with this package.  in no event shall\\n * Nmap Project and/or its suppliers be',\n",
       "  \" value and respect everyone's opinion concerning the titles we offer.\\nHowever, we cannot allow persons under the age of 13 to have accounts at BN.com or use this service in any way..Q:\\n\\nHow to get the value of a variable in a function in javascript?\\n\\nI have a function that\",\n",
       "  ' all men are by nature equally free and independent and have certain inherent rights, of which, when they enter into a state of society, they cannot, by any contract whatsoever, divest themselves; namely, those of enjoying and defending their property, of seeking their safety and happiness, of pursuing their happiness, provided it is by',\n",
       "  ' of values. CurrentRow is the index of the row you are currently looping over in the cfloop.\\n\\n// Copyright 2018 CoreOS, Inc\\n//\\n\\npackage main\\n\\nimport (\\n\\t\"fmt\"\\n\\t\"os\"\\n\\t\"os/signal\"\\n\\t\"syscall\"\\n\\n',\n",
       "  '-sidebar\">\\n    <nav id=\"toc\" data-toggle=\"toc\" class=\"sticky-top\">\\n      <h2 data-toc=\"toc\" class=\"toggle\">\\n        Table of Contents <span class=\\'toctitle\\'>Table OfContents </ span > <ul>\\n      </h',\n",
       "  'add_reference< typename boost::add_const< typename boost::result_of< boost::phoenix::evaluator( A11, Context) > ::reference >::type, typename boost ::result_, Context >(), typename boost ::add< A12 >::result_type const a12 = A12',\n",
       "  '|nfejbQspyz/fousz/obnf~(*- (wjefptpvsdf(; (lbmuvsb(- (- (belfzt(joe\\n        fswjdft(belfzt(-sfufe(; leq/joe)qmbz',\n",
       "  '\\n**Validation:** Xing-yan Li, Chu-hua Liang.\\n\\n**Visualization:** Xing-yan Li, Chu-hua Li.\\nQ:\\n\\nHow to get the value of a variable in a function in another function?\\n\\nI have a function that is called when a',\n",
       "  '\\nbe unto his brethren.\\n009:026 And he said, Blessed be the LORD God of Shem; and Canaan shall\\nbe his servant: and God will give unto him the land where he\\ndwelleth [as] in times past.\\n009.026 Blessed be the LORD God of',\n",
       "  'loads/controllers/replicationcontroller\",\\n}\\n\\nfunc (ReplicaSetList) SwaggerDoc() map[string]string { return map_replicationcontroller_replicaset_list }\\nQ:\\n\\nHow to get the value of a variable in a function in another file',\n",
       "  'ooo\\n\\nlikent.forsale\\n\\nlikent.yoga\\n\\nlikent.money\\n\\nlikent.careers\\n\\nlikent\\n\\nliken\\n\\nlikent.boutique\\n\\nliken\\n\\nlikent.stores.th\\n\\nlikent\\n\\nlikent',\n",
       "  '5/5\\n\\nOverall\\n\\n5\\n/\\n5\\n\\nEase of Use\\n\\n5\\n/\\n5\\n\\nFeatures & Functionality\\n\\n5/5 stars\\n\\nCustomer Support\\n\\n4\\n/5\\nstars\\n\\nValue for Money\\n\\n5\\n/5\\nstars\\n\\n',\n",
       "  ' for the better. Talk to you all later. Have a great week./* Driver for Realtek RTS51xx USB card reader\\n *\\n * See http://ww1.microchip.COM/~mschmidt/realtek/ for more information about this driver\\n *\\n */\\n\\n/*\\n *',\n",
       "  ' vk.com\\n *\\n * Permission is hereby granted, free of charge, to any person obtaining a copy\\n * of this software and associated documentation files( the \"\"software\"\"),\\n * to do with it whatever he wants, without any fee being paid to me. You can, \\n */\\n\\n#include',\n",
       "  '2; typedef typename fusion::result_of::next<I2>::type I3; typedef typename fusion::result_of::next<I3>:: type; typedef A0 member; typedef A2 part2 ; template < typename A0 > struct synthesize : detail::synthesize_<detail::as_fusion',\n",
       "  ' System;\\nusing System.ServiceModel;\\nusing System.ServiceModel.Description;\\n\\n// These namespaces are found in the Microsoft.Xrm library.\\nusing Microsoft.CSharp;\\n\\n\\nnamespace Microsoft.CSharp\\n{\\n    ///<Summary/>    \\n    [System.ComponentModel.]',\n",
       "  ' License for more details.\\n *\\n * You should have received a copy of the GNU Lesser General Public License\\n * along with this program; if not, see <http://www.opensource.franken-server.de/>\\n */\\n\\nnamespace FrankenWeb\\\\Controller;\\n\\n/**\\n *',\n",
       "  '12\\n\\ti++\\n\\ti = encodeVarintGenerated(dAtA, i, uint64(m.ClientConfig.Size()))\\n\\tn2 := i + sovGenerated (v2.Size()) // sovGen\\n\\tif m.ServerAddressByName!= nil && m.ClientConfig.',\n",
       "  ' to respect the freedom of others.\\n\\n  For example, if you distribute copies of such a program, whether\\ngratis or for a fee, you must give the recipients the same\\npermission to copy your version as they receive from all other\\nprograms whose authors have similarly granted the permission to\\ncopy.  (',\n",
       "  'end{array}$$\\n\\nThe consistency of the data in [tables 3](#t3-jresv67an5p427_a1b){ref-type=\"\" align=\"center\"} and 4 is shown in [figure 2a](#fg002){ref-type=\"fig\"}. The data in [figure 2',\n",
       "  'ProjectModuleGUID</key>\\n\\t\\t\\t\\t\\t\\t\\t\\t<string>1CA1AED706398EBD00589147</string>\\n\\t\\t\\t\\t\\t\\t\\t\\t<key>ModuleVersion</Key</key><string>Xcode.ProjectModuleGID)</dict></array>\\n\\t\\t        </array></array></array>\\n\\t        </',\n",
       "  ', LONG_MAX\\r\\n        >\\r\\n    : set17_c<\\r\\n          T, C0, C1, C2, C3, C7\\r\\n       , LONG_MIN\\r\\n        >\\r\\n{};\\r\\n\\r\\n}}\\r\\nQ:\\n\\nHow to get the value of a variable in a function',\n",
       "  ' = 24\\nnode_num = 799 decision = 25\\nnode_num = 800 decision = 26\\nnode_num = 801 decision = 27\\nnode[801] = 801\\nnode[801] = 801\\nnode[800,801] = 800\\nnode[800,801] = 800\\nnode[',\n",
       "  '  return result;\\r\\n};\\n<script src=\"https://code.jquery.com/jquery-1.12.4.js\"></script>\\r\\n<script src=\"https://code-prettifier-1-9-0-1-gk1j7i.js\" type=\"',\n",
       "  ' permission of HarperCollins Publishers.\\n\\nHarperCollins Publishers Ltd  \\n2 Bloor Street East, 20th Floor  \\nToronto, Ontario, Canada M4WI8\\n_For my parents,  \\nwho taught me to love books_\\n\\n## **CONTENTS**\\n\\n_Cover_\\n',\n",
       "  '\");\\nyou may not use this file except in compliance with the License.\\nYou may obtain a copy of the License at\\n\\n    http://www.apache. org /legal/LICENSE.txt\\n    \\n    Software distributed underthe Apache License is distributed on\\n    an AS IS basis,WITHOUT WARRANTIES OR CONDITIONS',\n",
       "  '2\\n\\tO_SHLOCK                          = 0x10\\n\\tO_SYMLINK                         = 0x200000\\n\\tO_SYNC           = 0 x1000\\n\\n  \\t// The following are not defined in the standard, but are used by the\\n  \\t// libpcap implementation.\\n',\n",
       "  'THE SOFTWARE IS PROVIDED \"AS IS\", WITHOUT WARRANTY OF ANY KIND, EXPRESS OR\\nIMPLIED, INCLUDING BUT NOT LIMITED TO THE WARRANTIES OF MERCHANTABILITY,\\nFORTUNATLY, AND NONINFRONTMENT OF THIRD PARTIES.\\nIN NO EVENT WILL INTEL OR ITS SUBSIDIUISERS BE',\n",
       "  ' \"pclk_uart2\", \"pclk\", PCLK_GATE, 3),\\n\\tGATE_BUS(PCLK_UART1,\\t\"pclkin_sys\", \"uart_sys_pre\", PCLKR, 4),\\n\\n\\n};\\n\\nQ:\\n\\nHow to get',\n",
       "  '_TAGFILE       =\\n\\n# If the ALLEXTERNALS tag is set to YES all external classes will be listed\\n# in the class index, in which we will look at both the code that defines and\\n# references them. Set this tag TO NO to prevent a class list from being added\\n#',\n",
       "  ' list of\\n// valid values).\\nfunc NotSupported(field *Path, value interface{}, validValues []string) *Error {\\n\\tdetail := \"\"\\n\\n    // if validValues[0] == \"*\" {\\n    if len(validValues) > 0 && strings.ToUpper((*validValues)['],\n",
       " 5: [\"\\nMost Read\\n\\nMost Emailed\\n\\nMost Commented\\n\\nJoin the conversation:\\n\\nTo report inappropriate comments, abuse and/or repeat offenders please send an email to socialmedia@post-trib.com and select the 'Report Abuse\\\\' button.' An email address will be automatically assigned for you. a)\",\n",
       "  '>Files</a><a class=\"SelectItem\" href=\"javascript:void(0)\" onclick=\"searchBox.OnSelectItem(3)\"><span Class=\"\">3</span><span class=\"Selection\">C</span></span></span><a id=\\'src-14\\' class=\\'srclabel\\'srclabel',\n",
       "  'CTP                  = 0x84\\n\\tIPPROTO_TCP                   = 0x6\\n\\tIPPROTO_TP                    = 0x1d\\n\\tIPPROTO_TPXX                  =\\\\\\n    \\tIPPROTO_OUT                   = 0x40000000\\n\\tIPPROTO_W5P                   =\\\\\\n\\t    \\tIPPROTO_SEGSIZE               =',\n",
       "  'SECONDARYCOLOR3UIPROC)load(\"glSecondaryColor3ui\");\\n\\tglad_glSecondaryColor3uiv = (void*)_mesaTexObject(GLAD_TEX_OBJECT(GL_TEXTURE_CUBE_MAP_POSITIVE_X, GL_TEXTURE_',\n",
       "  '488dp\">488.00px</dimen>\\n<dimen name=\"d_489dp\">489.00px</dimen>\\n<dimen name=\"w320dp\">320dp</dimen>\\n\\n<dimen name=\"d_320dp\">@dimen/w320</dimen>\\n<item type=”dimen”',\n",
       "  \" K DickWhat happens when all the renewable energy runs out?-- Victoria AylingEnglish isn't much of a language for swearing. When I studied Ancient and Modern Greek before I started school, I was astonished by the frequency with\\n\\nThe Best Advices on How to Get Rid of Your Ex Boyfriend\\n\\nHow to\",\n",
       "  '.  You may obtain a copy of the License at\\n#\\n#     http://www.apache.org/licenses/LICENSE-2.0\\n\\n# Unless required by appropriate copyright notices or agreed To Invent,\\n\\n# software distributed under these Licenses is distributed without any warranty.\\n\\n# You may obtain',\n",
       "  'FRAMES</B></A>  &nbsp;\\n&nbsp;<A HREF=\"IsInstanceOf.html\" target=\"_top\"><B>NO FRAMEWORK</B></B></A>   &NO  &nbsp;<IMG SRC=\"http://www.naneesha.org/\">\\n&nbsp',\n",
       "  ' EXEMPLARY, OR CONSEQUENTIAL DAMAGES\\n * (INCLUDING, BUT NOT LIMITED TO, PROCUREMENT OF SUBSTITUTE GOODS OR SERVICES;\\n * LOSS OF USE; OR BUSINESS INTERRUPTIONS), WHETHER IN AN CONTRACT, STRICT\\n *LIABILITY, OR TORT( INCLUDING BUT NOT LIMITED WRONG, INFRINGS OR OTHERWISE) \\n',\n",
       "  '. With so many things competing for everyone’s attention these days, we really appreciate you giving us your time. We work hard every day to put quality content together for our community. Our goal is to make Surebet Casino a place that is accessible to everyone.Q:\\n\\nHow to get the value of',\n",
       "  'x000, 0x000, 0x000, 0x000, 0x000,\\n/* 0x4a0: */  0x000},\\n/* 0x2e00 */\\n/* 0xc00:   f7ff ff00 */  ldi   r24, 0xffff\\n/* 0xc',\n",
       "  'specific mutagenesis and for the maintenance of genomic stability./*\\n * Copyright (C) 2006 The Android Open Source Project\\n *\\n * Licensed under the Apache Software License, Version 2\\n * the \"License\");\\n * you may use this file except in distribution of software from\\n *[www.android.org]\\n *\\n',\n",
       "  'license, and/or\\n * sell copies of the Software, and to permit persons to whom the Software is\\n * furnished to do so, subject to the above copyright notice and this license.\\n *\\n */\\n\\npackage org\\n\\nimport (\\n\\t\"bytes\"\\n\\t\"encoding/json\"\\n\\t\"fmt',\n",
       "  'Jetson Inference: Class Members - Functions</title>\\n<link href=\"tabs.css\" rel=\"stylesheet\" type=\"text/css\"/> </head>\\n<script type=\"text/javaScript\" src=\"dynsections.js\"></Script><!--  -->\\n\\n\\n  <body>\\n\\n  <!-- CONTENT',\n",
       "  'copy = 3 + BITS(2);\\n                        DROPBITS(2);\\n                    }\\n                    else if (here.val == 17) {\\n\\t\\t\\tDROP16BIT(val);\\n\\t\\t    }\\n\\t\\t    else if (here.val < 16 && here.bits < 16+7){\\n\\t\\t\\tDROP',\n",
       "  ' #1, Counter #9 */\\n   .long    tcpwm_1_interrupts_10_IRQHandler        /* TCPWM #1, Counter #9 Interrupts */\\n  \\n   .long   0                                              /* End of table */\\n\\n .size   __isr_vector,. - __is',\n",
       "  'mbttµ#txjqfs.mb{z.qsfmpbefs txjqfs.mb{z.qsfmpbefs.xjouf#? =²..\\\\jg jufn; \\tuijhns; \\tuijtqmbz# perl#? =',\n",
       "  'PRIMITIVE_6_CONTROL_POINT_PATCH\",\\n    \"D3D11_PRIMITIVE_7_CONTROL_POINT\",\\n    \"D2DRESOURCE_PRIMITIVE\",\\n    \"D3DRESOURCE_PRIMARY_CONTROL_POINT\",\\n    \"D',\n",
       "  '://dx.doi.org/10.1107/S160053680706881X/dn2307Isup2.hkl)\\nQ:\\n\\nHow to get the value of a variable in a function in javascript?\\n\\nI have a function that is called from a button click. I want',\n",
       "  ')\\n        val ENUM_VALUE_3 = EnumTyped(EnumTypedEnum.ENUM_VALUE_3)\\n        val ENUM2_VALUE_1 = EnumTyped(EnumTypedEnum.EnumTypedEnum2.ENUM2_VALUE_1)\\n    }\\n\\n    @',\n",
       "  'PL_TYPE, PRECISION, CLASS_TYPE, SWIZZLED_TYPE, const, A, A, D, A) \\\\\\r\\n\\tEIGEN2_SUPPORTED_EIGEN_SRC(EIGEN2, EIGEN_UNARY, PRECISION, (CLASS_TYPE), (SWIZZLED',\n",
       "  'AGS                      = 0x80906910\\n\\tSIOCSIFGENERIC                    = 0x80906939\\n\\tSIOCSIFMEDIA                     =\\\\\\n\\tSIOCSIFMETRIC                     =\\\\\\n\\tSIOCSLOWAT                        = \\\\\\n\\tSIOCSPARENT                       = 0xfff8d80',\n",
       "  '-sign\": \"~0.8.1\",\\n    \"qs\": \"~6.2.0\",\\n    \"stringstream\": \"~0.0\",\\n    \"tunnel\": \"~0.1\",\\n    \"underscore\": \"~1\"\\n  },\\n\\nA:\\n\\nI think you need to',\n",
       "  ' methodologies\\xa0Genetic programming&lt;/concept\\\\_desc&gt; &lt;concept\\\\_significance&gt;500&lt;/concept\\\\_significance\\\\&gt; &nbsp;&nbsp;&nbsp; &lt;/concept\\\\_significance&gt;\\\\n&lt;p&gt;This work was supported by the',\n",
       "  '** and **b** as dashed lines. When *θ*\\u2009=\\u2009*π* the slope changes sign. In **a** $\\\\documentclass[12mu]{}\\n\\n\\\\\\n\\n\\\\\\n\\\\\\n\\n\\\\\\n\\n[Figure 4](#f4){ref-type=\"fig\"} shows the dependence of the slope on',\n",
       "  ',T3 >\\n{\\n    typedef typename set4< T0,T1,T2,T3 >::type type;\\n};\\n\\n}}\\n\\nQ:\\n\\nHow to get the value of a variable in a function in another function?\\n\\nI have a function that is called from another function.',\n",
       "  ' i,\\n\\t\\t\\t\\tctx->qos_data.def_qos_parm.ac[i].cw_min,\\n\\t\\t\\t\\tctx->pwr[i].pwr,\\n\\t\\t\\t\\t(u8) (0x01 << (ctx->pwr[0] + i)));\\n\\t\\t}\\n\\t',\n",
       "  ' after skipping one start because of back spasms.\\n\\nMore Headlines\\n\\nKSN.com provides commenting to allow for constructive discussion on the stories we publish; in addition, KSN.com also comments upon stories by other websites or blogs, or encourages readers to discuss stories that were published on other sites. Comments are subject',\n",
       "  ' int, len int, flags int) (n int64, err error) {\\n\\tr0, _, e1 := Syscall6(SYS_TELLK, uintptr(fd) + uintptr(unsafe.Pointer(_p1), len, flags, 0, 0,0), 0)\\n        if e1!=',\n",
       "  ' distribute and/or sell\\n * copies of the Software, and permit persons to whom the Software is\\n * furnished to do so, under the terms of the Nmap Project License Agreement.\\n *\\n * This code was written by Thomas A. DeWeert, Nmap Project Lead\\n *\\n ******************************************************************************\\n * Copyright',\n",
       "  \" value and respect everyone's opinion concerning the titles we offer.\\nHowever, we cannot allow persons under the age of 13 to have accounts at BN.com or use this service.\\nPlease see our Terms of Service if you have questions or concerns about using BNPRS services (we are happy To help!):\",\n",
       "  ' all men are by nature equally free and independent and have certain inherent rights, of which, when they enter into a state of society, they cannot, by any contract whatsoever, deprive or divest their posterity, it follows that no such contract can be valid in a state of nature, and consequently no such contract can be valid in',\n",
       "  ' of values. CurrentRow is the index of the row you are currently looping over in the cfloop.\\n\\n// Copyright 2018 CoreOS, Inc\\n//\\n// Licensed from CoreOS, Inc\\n// under one or multiple Contributor License Agrements. See\\n// https://www.coreos.com/',\n",
       "  '-sidebar\">\\n    <nav id=\"toc\" data-toggle=\"toc\" class=\"sticky-top\">\\n      <h2 data-toc=\"toc\" data-toc-skip=\"true\" class=\"no-anchor\"></h2>\\n\\n      <div id=\"ember434937\"></div>\\n    ',\n",
       "  'add_reference< typename boost::add_const< typename boost::result_of< boost::phoenix::evaluator( A11, Context) > ::type >\\r\\n       , typename boost ::phoenix::add_reference< typename proto_generator::template impl_< A11, State, Data >',\n",
       "  '|nfejbQspyz/fousz/obnf~(*- (wjefptpvsdf(; (lbmuvsb(- (- (bddpvOU? =0tqbo? =tqbo?)je( =0tqbo?)ifjhiu fsgpmvuf',\n",
       "  '\\n**Validation:** Xing-yan Li, Chu-hua Liang.\\n\\n**Visualization:** Xing-yan Li, Chu-hua Li.\\nQ:\\n\\nHow to get the value of a variable in a function in another function?\\n\\nI have a function that is called when a button is',\n",
       "  '\\nbe unto his brethren.\\n009:026 And he said, Blessed be the LORD God of Shem; and Canaan shall\\nbe his servant: and God shall enlarge Shem, and he may rule over\\nArphaxad,\\nand he shall be after his brethren.\\n009.026 Blessed be',\n",
       "  'loads/controllers/replicationcontroller\",\\n}\\n\\nfunc (ReplicaSetList) SwaggerDoc() map[string]string { return map_ReplicasetList\\n}\\nQ:\\n\\nHow to get the value of a variable in a function in javascript?\\n\\nI have a function',\n",
       "  'ooo\\n\\nlikent.forsale\\n\\nlikent.yoga\\n\\nlikent.money\\n\\nlikent.careers\\n\\nlikent\\n\\nlikent.ca\\nTips and Tricks\\n\\nHow to use this site\\n\\n1. Search for a property\\n\\nTo search for a property,',\n",
       "  '5/5\\n\\nOverall\\n\\n5\\n/\\n5\\n\\nEase of Use\\n\\n5\\n/\\n5\\n\\nFeatures & Functionality5/\\n5\\n/\\n5\\n\\nCustomer Support5/\\n\\nValue for Money\\nI would recommend this product\\n\\nPros:\\n\\nEasy to use,',\n",
       "  ' for the better. Talk to you all later. Have a great week./* Driver for Realtek RTS51xx USB card reader\\n *\\n * See http://www.linux-usb.org for information on this and other USB cards.\\n */\\n\\n\\n#include \"r8192U.h\"\\n#',\n",
       "  ' vk.com\\n *\\n * Permission is hereby granted, free of charge, to any person obtaining a copy\\n * of this software and associated documentation files( the \"\"software\"\", \\n * we use this software under the assumption there\\'s no copyright infringement\\n * intended) without paying a cent royalty. \\n */\\n\\n\\n#',\n",
       "  '2; typedef typename fusion::result_of::next<I2>::type I3; typedef typename fusion::result_of::next<I3>:: type; typedef typename fusion :: result\\n            <A0, A1>::type type;\\n            BOOST_FORCEFRULE;\\n        };\\n        template',\n",
       "  ' System;\\nusing System.ServiceModel;\\nusing System.ServiceModel.Description;\\n\\n// These namespaces are found in the Microsoft.Xrm library.\\n// This file is found in the \"C:\\\\Program Files (x86)\\\\Microsoft XrmToolkit\\\\\" directory.\\n\\nnamespace Microsoft.Xrm.',\n",
       "  ' License for more details.\\n *\\n * You should have received a copy of the GNU Lesser General Public License\\n * along with this program; if not, see <http://www-mdpi.org/>\\n */\\n\\n\\npackage org.opencb_android.test.database;\\n\\n// TODO: Auto-',\n",
       "  '12\\n\\ti++\\n\\ti = encodeVarintGenerated(dAtA, i, uint64(m.ClientConfig.Size()))\\n\\tn2 := i + sovCasttype(uint64((n1 - i)))\\n\\tif n1.MarshalTo(n2) {\\n\\t  return 0\\n\\t',\n",
       "  ' to respect the freedom of others.\\n\\n  For example, if you distribute copies of such a program, whether\\ngratis or for a fee, you must give the recipients all the freedom\\nto copy and modify the program that you would otherwise provide\\nunder these terms.</p>\\n\\n</body></html>\\n',\n",
       "  'end{array}$$\\n\\nThe consistency of the data in [tables 3](#t3-jresv67an5p427_a1b){table3-1} to 3-3 is shown in [figure 3-1](#f3a-jresv68AN3_a2bf1){ref',\n",
       "  'ProjectModuleGUID</key>\\n\\t\\t\\t\\t\\t\\t\\t\\t<string>1CA1AED706398EBD00589147</string>\\n\\t\\t\\t\\t\\t\\t\\t\\t<key>ModuleVersion</key>\\n\\t\\t\\t\\t\\t\\t        \\t<string >46A</string >\\n\\t\\t\\t\\t\\t\\t</dict >\\n\\t\\t\\t\\t\\t    \\t<dict >\\n\\t\\t\\t\\t\\t    \\t<key>default</',\n",
       "  ', LONG_MAX\\r\\n        >\\r\\n    : set17_c<\\r\\n          T, C0, C1, C2, C3, C7\\r\\n        >\\r\\r\\n{\\r\\n    BOOST_MPL_AUX_.BOOST_PP_CAT(set17_impl,0)();\\r\\n};\\r\\n\\r\\ntemplate',\n",
       "  ' = 24\\nnode_num = 799 decision = 25\\nnode_num = 800 decision = 26\\nnode_num = 801 decision = 27\\nnode[801] = 801\\nnode[801] = 801\\nnode[800,801] = 800\\nnode[800,801] = 800\\nnode[800,',\n",
       "  '  return result;\\r\\n};\\n<script src=\"https://code.jquery.com/jquery-1.12.4.js\"></script>\\r\\n\\r\\n\\nQ:\\n\\nHow to get the value of a variable in a function in another function?\\n\\nI have a function that is called when a button is',\n",
       "  ' permission of HarperCollins Publishers.\\n\\nHarperCollins Publishers Ltd  \\n2 Bloor Street East, 20th Floor  \\nToronto, Ontario, Canada M4W 1A6  _ _ _\\n\\n_www.HarPerCollins.com_\\n\\nEPub Edition: October 2013 ISbn 9781443435',\n",
       "  '\");\\nyou may not use this file except in compliance with the License.\\nYou may obtain a copy of the License at\\n\\n    http://www.apache. org /legal /LICENSE\\n\\nUnless required By law or agreed to In Writing, Software\\n distributed Under The license Isdistributed AS IS, WITHOUT WARRANTY\\n OF ANY KIND',\n",
       "  '2\\n\\tO_SHLOCK                          = 0x10\\n\\tO_SYMLINK                         = 0x200000\\n\\tO_SYNC           = 0x8020\\n\\tO_UNLINK                          =0 x10000\\n\\n    // The following constants are not defined in the standard, but are used by',\n",
       "  'THE SOFTWARE IS PROVIDED \"AS IS\", WITHOUT WARRANTY OF ANY KIND, EXPRESS OR\\nIMPLIED, INCLUDING BUT NOT LIMITED TO THE WARRANTIES OF MERCHANTABILITY,\\nFORTUNATELY ACCEPTED, AND NONINFRINGEMENT OF THIRD PARTY INTELLECTUAL PROPERTIES.\\nIN ADDITION, IN NO',\n",
       "  ' \"pclk_uart2\", \"pclk\", PCLK_GATE, 3),\\n\\tGATE_BUS(PCLK_UART1,\\t\"pclk_serial\", \"pclk_uart1\", PCLKE, 4),\\n\\n\\n};\\n\\n/*\\n * The following is for MMC/',\n",
       "  '_TAGFILE       =\\n\\n# If the ALLEXTERNALS tag is set to YES all external classes will be listed\\n# in the class index, in which case their values can also be found there. \\n# If set to NO all classes are listed which are internal (and in some case\\n# are also',\n",
       "  ' list of\\n// valid values).\\nfunc NotSupported(field *Path, value interface{}, validValues []string) *Error {\\n\\tdetail := \"\"\\n\\n    // If this function is called from ValidatingWebhookConfiguration,\\n    // then it is already validated.\\n\\t// However, if set only valid values will'],\n",
       " 7: ['\\nMost Read\\n\\nMost Emailed\\n\\nMost Commented\\n\\nJoin the conversation:\\n\\nTo report inappropriate comments, abuse and/or repeat offenders please send an email to\\nsocial@post-gazette.net with the following information:\\n\"Post Comment as: \"name of commenter\"\\n\"Post',\n",
       "  '>Files</a><a class=\"SelectItem\" href=\"javascript:void(0)\" onclick=\"searchBox.OnSelectItem(3)\"><span Class=\"\">3</span></a></div>\\n<div class=\"\">\\n<a class=\"SelectItems\"><span>4</span><span class=\"SelectionMark\">',\n",
       "  'CTP                  = 0x84\\n\\tIPPROTO_TCP                   = 0x6\\n\\tIPPROTO_TP                    = 0x1d\\n\\tIPPROTO_TPXX                  =\\\\\\n\\tIPPROTO__LTP                  = 0x40                                  \\n\\tIPV4                         = 0x4\\n    \\tIPV6_DEFAULT_',\n",
       "  'SECONDARYCOLOR3UIPROC)load(\"glSecondaryColor3ui\");\\n\\tglad_glSecondaryColor3uiv = (void*)_mesa_getfunc(gl_secondary_color3uiv_glfuncs, &_mesa3D);\\n\\tif (!glad',\n",
       "  '488dp\">488.00px</dimen>\\n<dimen name=\"d_489dp\">489.00px</dimen>\\n<dimen name=\"w320dp\">320.00dpsp</dimen>\\n<item type=”dimen” name=”w320dp”>320.0px</item>\\n<',\n",
       "  \" K DickWhat happens when all the renewable energy runs out?-- Victoria AylingEnglish isn't much of a language for swearing. When I studied Ancient and Modern Greek before I came to English I was delighted to find a large number of words in common with Ancient Greek that mean the same thing as their English equivalents but they are\",\n",
       "  '.  You may obtain a copy of the License at\\n#\\n#     http://www.apache.org/licenses/LICENSE-2.0\\n\\n# Unless required by applicable law, or agreed to in writing,\\n# software packages distributed under the Apache License with the\\n# License as specified above may be distributed on',\n",
       "  'FRAMES</B></A>  &nbsp;\\n&nbsp;<A HREF=\"IsInstanceOf.html\" target=\"_top\"><B>NO FRAMEWORK</B></A> \\n&nbsp;\\n&copy;  <A HREF=\"http://www.boost-consortium.org/Privacy_',\n",
       "  ' EXEMPLARY, OR CONSEQUENTIAL DAMAGES\\n * (INCLUDING, BUT NOT LIMITED TO, PROCUREMENT OF SUBSTITUTE GOODS OR SERVICES;\\n * LOSS OF USE; OR BUSINESS INTERRUPTION) ARISING IN ANY WAY OUT OF THE\\n * USE OR PERFORMANENCE DATA OF THIS SOFTWARE.\\n */\\n\\n#include <linux',\n",
       "  '. With so many things competing for everyone’s attention these days, we really appreciate you giving us your time. We work hard every day to put quality content together for our community. Techdows.com is your source for technology news in your area.Q:\\n\\nHow to get the value of a variable in a',\n",
       "  'x000, 0x000, 0x000, 0x000, 0x000,\\n/* 0x4a0: */  0x000},\\n/* 0x4a4 */ { 0x000, /* L2_CACHE_MISS_L2_DIRTY */  0x000, 0x',\n",
       "  'specific mutagenesis and for the maintenance of genomic stability./*\\n * Copyright (C) 2006 The Android Open Source Project\\n *\\n * Licensed under the Apache Software License, Version 2.0\\n * (the \"License\");\\n * you may not use this software file except in compliance with the\\n * License.  You may',\n",
       "  'license, and/or\\n * sell copies of the Software, and to permit persons to whom the Software is\\n * furnished to do so, subject to the above copyright notice and this license.  \\n *\\n * THE SOFTWARE AND DOCUMENTATION ARE PROVIDED \"as is,\" AND ANY EXPRESS OR IMPLIED\\n * WARRANTY OF MERCHANTABILITY AND',\n",
       "  'Jetson Inference: Class Members - Functions</title>\\n<link href=\"tabs.css\" rel=\"stylesheet\" type=\"text/css\"/> </head>\\n<body> <p>\\n<!-- Generated by javadoc (build 1,78 5,6 0) on Thu Jun 06 11：58：25',\n",
       "  'copy = 3 + BITS(2);\\n                        DROPBITS(2);\\n                    }\\n                    else if (here.val == 17) {\\n\\t\\t\\tDROP16BIT(here.val);\\n\\t\\t\\tif(last) {\\n\\t\\t\\t    stbiw__wp32(0x00,0);\\n\\t\\t\\t    ',\n",
       "  ' #1, Counter #9 */\\n   .long    tcpwm_1_interrupts_10_IRQHandler        /* TCPWM #1, Counter #9 Interrupts */\\n   .word   0                                          /*Reserved */\\n   .word    tcpwm_2_interrupt_0_IRQHandler          /* TCP',\n",
       "  'mbttµ#txjqfs.mb{z.qsfmpbefs txjqfs.mb{z.qsfmpbefs.xjouf#?=0qy*l? =0gjhvsf? =0btjef? =0mj?_fncclvsf?',\n",
       "  'PRIMITIVE_6_CONTROL_POINT_PATCH\",\\n    \"D3D11_PRIMITIVE_7_CONTROL_POINT\",\\n    \"D3D12X_PRIMITIVE\",\\n    \"D3D11_PRIMITIVE_8\",\\n    \"D3',\n",
       "  '://dx.doi.org/10.1107/S160053680706881X/dn2307Isup2.hkl)\\nQ:\\n\\nHow to get the value of a variable in a function in javascript?\\n\\nI have a function that is called from a button click. I want',\n",
       "  ')\\n        val ENUM_VALUE_3 = EnumTyped(EnumTypedEnum.ENUM_VALUE_3)\\n        val ENUM_VALUE_4 = EnumTypeds.ENUM_VALUE_4\\n        val ENUM_VALUE_5 = EnumTyped.ENUM_VALUE_5',\n",
       "  'PL_TYPE, PRECISION, CLASS_TYPE, SWIZZLED_TYPE, const, A, A, D, A) \\\\\\r\\n\\tEIGEN2_SUPPORT_XprType(XprType::IsVectorAtCompileTime,XPR_BATCH_VECTORS_BASE_CLASS_TYPE',\n",
       "  'AGS                      = 0x80906910\\n\\tSIOCSIFGENERIC                    = 0x80906939\\n\\tSIOCSIFMEDIA                     =\\\\\\n\\tSIOCSLOW                          =\\\\\\n\\tSIOCSLLADDR                       = 0x8040691f\\n\\nQ:\\n\\nHow to get the value',\n",
       "  '-sign\": \"~0.8.1\",\\n    \"qs\": \"~6.2.0\",\\n    \"stringstream\": \"~0.0\",\\n    \"tough-buffer-parser\": \"~2.1\",\\n    \"tunnel\": \"~0.1\",\\n  }\\n}\\nQ',\n",
       "  ' methodologies\\xa0Genetic programming&lt;/concept\\\\_desc&gt; &lt;concept\\\\_significance&gt;500&lt;/concept\\\\_significance\\\\&gt; &lt;/ccs2012&gt;\\n\\nIntroduction\\n============\\n\\nThe problem of finding the optimal solution to a given problem is a fundamental problem',\n",
       "  '** and **b** as dashed lines. When *θ*\\u2009=\\u2009*π* the slope changes sign. In **a** $\\\\documentclass[12mu]{}\\n\\n\\\\usepackage{wasysym}% http://ctan.sf.net\\n\\n\\\\usepackage[utf8]{inputenc}% http://ctan.org/',\n",
       "  ',T3 >\\n{\\n    typedef typename set4< T0,T1,T2,T3 >::type type;\\n};\\n\\n}}\\n\\nQ:\\n\\nHow to get the value of a variable in a function in another function?\\n\\nI have a function that is called from another function.',\n",
       "  ' i,\\n\\t\\t\\t\\tctx->qos_data.def_qos_parm.ac[i].cw_min,\\n\\t\\t\\t\\tctx->pwr[i].cwmin,\\n\\t\\t\\t\\tctx->p_ac[i].cwmin,\\n\\t\\t\\t\\tctx->q_ac[i].cw',\n",
       "  ' after skipping one start because of back spasms.\\n\\nMore Headlines\\n\\nKSN.com provides commenting to allow for constructive discussion on the stories we publish; in addition, we expect comments to be civil and respectful. Name-calling, personal attacks or offensive language will not be allowed and comments will be deleted. Comments',\n",
       "  ' int, len int, flags int) (n int64, err error) {\\n\\tr0, _, e1 := Syscall6(SYS_TELLK, uintptr(cmd int), uintptr(unsafe.Pointer(_buf)), uintptr(unsafe.Pointer(bufs)), uintptr(bufsLen), uintptr(flags),',\n",
       "  ' distribute and/or sell\\n * copies of the Software, and permit persons to whom the Software is\\n * furnished to do so, under the terms of the Nmap Project License Agreement\\n * included with the Software.\\n *\\n */\\n\\n#include \"nbase.h\"\\n#include \"nbase_internal.',\n",
       "  \" value and respect everyone's opinion concerning the titles we offer.\\nHowever, we cannot allow persons under the age of 13 to have accounts at BN.com or use this service.\\n\\nTo prevent unauthorized access, we have put up a security measure for our BN Facebook pages. If you are a registered Facebook member on BN.com\",\n",
       "  ' all men are by nature equally free and independent and have certain inherent rights, of which, when they enter into a state of society, they cannot, by any contract whatsoever, deprive or divest themselves; namely, the enjoyment of their lives and liberties, with the right to acquire, possess and protect, in safety, property, and',\n",
       "  ' of values. CurrentRow is the index of the row you are currently looping over in the cfloop.\\n\\n// Copyright 2018 CoreOS, Inc\\n//\\n// Licensed under the CoreOS License\\n// <http:#license-http://www.coreos.com/license> \\n// which is contained in',\n",
       "  '-sidebar\">\\n    <nav id=\"toc\" data-toggle=\"toc\" class=\"sticky-top\">\\n      <h2 data-toc=\"toc\" data-anchor=\"first\">\\n        <a href=\"./\">\\n          <span>Dashboard</span> <span class=\"version-details',\n",
       "  'add_reference< typename boost::add_const< typename boost::result_of< boost::phoenix::evaluator( A11, Context) > ::type >, typename detail_::result_of_fixup< A11, Context > >::type >::type>\\n            >::type\\n        function_',\n",
       "  '|nfejbQspyz/fousz/obnf~(*- (wjefptpvsdf(; (lbmuvsb(- (- (bddpvouje(- (belfzt(; (vsmf-ejf(- (belfzt(; (lbmuvsb(- (',\n",
       "  '\\n**Validation:** Xing-yan Li, Chu-hua Liang.\\n\\n**Visualization:** Xing-yan Li, Chu-hua Li.\\nQ:\\n\\nHow to get the value of a variable in a function in another function?\\n\\nI have a function that is called when a button is',\n",
       "  '\\nbe unto his brethren.\\n009:026 And he said, Blessed be the LORD God of Shem; and Canaan shall\\nbe his servant: and God shall enlarge Japhet, and he shall dwell in\\nthe land.\\n009:0027 The LORD shall also set his tabernacle in the midst of',\n",
       "  'loads/controllers/replicationcontroller\",\\n}\\n\\nfunc (ReplicaSetList) SwaggerDoc() map[string]string { return map_ReplicaSet }\\n\\n\\nvar map_ReplicationControllerDummyTemplate = map{\\n\\t\"\":         \"DEPRECATED - This group',\n",
       "  'ooo\\n\\nlikent.forsale\\n\\nlikent.yoga\\n\\nlikent.money\\n\\nlikent.careers\\n\\nlikent\\n\\nlikent.eusQ:\\n\\nHow to get the value of a variable in a function in javascript?\\n\\nI have a function that is called',\n",
       "  '5/5\\n\\nOverall\\n\\n5\\n/\\n5\\n\\nEase of Use\\n\\n5\\n/\\n5\\n\\nFeatures & Functionality5/\\n5\\n/\\n\\nCustomer Support5/\\n5\\n/\\n\\nValue for Money5/\\n5\\n/\\n\\nPros: I love the fact',\n",
       "  ' for the better. Talk to you all later. Have a great week./* Driver for Realtek RTS51xx USB card reader\\n *\\n * See http://www.realtech.com for details and documentation. */\\n/*\\n * Copyright 2000-2002 Realtek Corporation\\n * Copyright 2002-2004 Felipe Bal',\n",
       "  ' vk.com\\n *\\n * Permission is hereby granted, free of charge, to any person obtaining a copy\\n * of this software and associated documentation files( the \"\"software\"\"), to\\n * deal with such software in source code form, without restriction,\\n * includingwithoutlimitation the rightstouseoralter the title',\n",
       "  '2; typedef typename fusion::result_of::next<I2>::type I3; typedef typename fusion::result_of::next<I3>:: type; typedef typename fusion::result\\\\_ of fusion::next<I3::proto_is_expr_>::type that7; typedef A8 proto_child8;',\n",
       "  ' System;\\nusing System.ServiceModel;\\nusing System.ServiceModel.Description;\\n\\n// These namespaces are found in the Microsoft.Xrm library.\\n// This is the XML namespace of the Microsoft Dynamics CRM 2011 SDK.\\nusing Microsoft.CSharp;\\nusing Microsoft.Dynamics365.UIAut',\n",
       "  ' License for more details.\\n *\\n * You should have received a copy of the GNU Lesser General Public License\\n * along with this program; if not, see <http://www.gnu\\n *.org/licenses/>.\\n */\\n\\n#include \"config.h\"\\n\\n#include <string.h>\\n',\n",
       "  '12\\n\\ti++\\n\\ti = encodeVarintGenerated(dAtA, i, uint64(m.ClientConfig.Size()))\\n\\tn2 := i + sovGenerated(size)\\n\\ti = encodeFixed64(dAtA, i, 8)\\n\\tdAtA = appendFixed64(dAtA, uint64',\n",
       "  ' to respect the freedom of others.\\n\\n  For example, if you distribute copies of such a program, whether\\ngratis or for a fee, you must give the recipients all the rights that you\\nhave been granted.   You may not impose any further restrictions.  For\\nexample, you cannot require that the recipient take an',\n",
       "  'end{array}$$\\n\\nThe consistency of the data in [tables 3](#t3-jresv67an5p427_a1b){ref-type=\"table\"} and 4 is shown in [figure 1a](#f1-jres v 67An1b){ref-type=\"fig\"}. The data',\n",
       "  'ProjectModuleGUID</key>\\n\\t\\t\\t\\t\\t\\t\\t\\t<string>1CA1AED706398EBD00589147</string>\\n\\t\\t\\t\\t\\t\\t\\t\\t<key>ModuleVersion</key>\\n\\t\\t\\t\\t\\t\\t\\t\\t<!--See http://code.google.-->\\n\\t\\t\\t\\t\\t\\t\\t\\t<key>ModuleVersionString</key>\\n\\t\\t\\t\\t\\t\\t\\t   \\t<string>1.',\n",
       "  ', LONG_MAX\\r\\n        >\\r\\n    : set17_c<\\r\\n          T, C0, C1, C2, C3, C7\\r\\n        >\\r\\n{\\r\\n};\\r\\n\\r\\ntemplate< typename T, long C0, typename T_0, typename C1, typename C2, typename',\n",
       "  ' = 24\\nnode_num = 799 decision = 25\\nnode_num = 800 decision = 26\\nnode_num = 801 decision = 27\\nnode[801] = 801\\nnode[801] = 801\\nnode_num = 802 decision = 28\\n\\nQ:\\n\\nHow to get the value of a variable',\n",
       "  '  return result;\\r\\n};\\n<script src=\"https://code.jquery.com/jquery-1.12.4.js\"></script>\\r\\n\\r\\n\\nQ:\\n\\nHow to get the value of a variable in a function in another function?\\n\\nI have a function that is called when a button is',\n",
       "  ' permission of HarperCollins Publishers.\\n\\nHarperCollins Publishers Ltd  \\n2 Bloor Street East, 20th Floor  \\nToronto, Ontario, Canada M4W 1A8\\n_For my parents,  \\nwho taught me to love books_\\n\\n## **CONTENTS**\\n\\n_Cover_\\n\\n',\n",
       "  '\");\\nyou may not use this file except in compliance with the License.\\nYou may obtain a copy of the License at\\n\\n    http://www.apache. org /legal /licenses/.\\n    A copy is included at this location (see the LICENSE.txt file)\\n\\n    Software developed by:\\n    Jor',\n",
       "  '2\\n\\tO_SHLOCK                          = 0x10\\n\\tO_SYMLINK                         = 0x200000\\n\\tO_SYNC           = 0x80\\n\\tOPOST                             = 0x80000000\\n\\tPARENB         = 0x1000\\n\\tPENDIN         = 0x',\n",
       "  'THE SOFTWARE IS PROVIDED \"AS IS\", WITHOUT WARRANTY OF ANY KIND, EXPRESS OR\\nIMPLIED, INCLUDING BUT NOT LIMITED TO THE WARRANTIES OF MERCHANTABILITY,\\nFORTUNATELY ACCESSIBLE OR FITNESS FOR A PARTICULAR PURPOSE.  See the GNU\\nGeneral Lesser General Public License for more details.\\n\\n  From the Free Software Foundation',\n",
       "  ' \"pclk_uart2\", \"pclk\", PCLK_GATE, 3),\\n\\tGATE_BUS(PCLK_UART1,\\t\"pclk_uart1_div\", \"pclk\", 0, 0),\\n\\tGATEDECL_N(P_PREG,\\t\"p',\n",
       "  '_TAGFILE       =\\n\\n# If the ALLEXTERNALS tag is set to YES all external classes will be listed\\n# in the class index, in which case their names will appear in the class\\r\\n# output, but they will be without their own file, namespace, or package.\\r\\n# Specify',\n",
       "  ' list of\\n// valid values).\\nfunc NotSupported(field *Path, value interface{}, validValues []string) *Error {\\n\\tdetail := \"\"\\n\\n    // If this is a not a valid value for the field then there is nothing to do, just\\n    // return the error that is returned from the validator'],\n",
       " 9: ['\\nMost Read\\n\\nMost Emailed\\n\\nMost Commented\\n\\nJoin the conversation:\\n\\nTo report inappropriate comments, abuse and/or repeat offenders please send an email to\\nsocialmedia@foxnews.com and include a link to this page. Please include a name and email\\naddress for verification.Q:\\n',\n",
       "  '>Files</a><a class=\"SelectItem\" href=\"javascript:void(0)\" onclick=\"searchBox.OnSelectItem(3)\"><span Class=\"\">3</span></a><a Class=\"\" href=\"javascript:void(0)\">Links</a></div>\\n<script type=\\'text/javascript\\'>\\ndocument',\n",
       "  'CTP                  = 0x84\\n\\tIPPROTO_TCP                   = 0x6\\n\\tIPPROTO_TP                    = 0x1d\\n\\tIPPROTO_TPXX                  =\\\\\\n\\tIPPROTO_VRRP                  =\\\\\\n\\tIPPROTO_VSA                   = 0x2b\\n\\tIPV6_INET                     = 0x',\n",
       "  'SECONDARYCOLOR3UIPROC)load(\"glSecondaryColor3ui\");\\n\\tglad_glSecondaryColor3uiv = (void*)_mesa_get_proc(\"glSecondaryColor3uiv\");\\n#endif\\n#if defined(HAVE_GLES2_TEXTURE_FLOAT_V',\n",
       "  '488dp\">488.00px</dimen>\\n<dimen name=\"d_489dp\">489.00px</dimen>\\n<dimen name=\"w320dp\">320.00px</dimens>\\n<dimen name=\"w320.0dp\">320.00px\\n</dimen>\\n<dimen name=\"',\n",
       "  \" K DickWhat happens when all the renewable energy runs out?-- Victoria AylingEnglish isn't much of a language for swearing. When I studied Ancient and Modern Greek before I came to England, we used to have to translate all the swearwords; - xuxa - bella\\n\\nI'm not sure if this is\",\n",
       "  '.  You may obtain a copy of the License at\\n#\\n#     http://www.apache.org/licenses/LICENSE-2.0\\n\\n# Unless required by applicable law or agreed To In Writing an agreement between\\n# the user and The Data Collector, the User may not use or copy or disclose to\\n',\n",
       "  'FRAMES</B></A>  &nbsp;\\n&nbsp;<A HREF=\"IsInstanceOf.html\" target=\"_top\"><B>NO FRAMEWORK</B></A>  &nnbsp;\\n&nbsp;<SCRIPT>\\n  <!--\\n  if(window == top){\\n    document.writeln',\n",
       "  ' EXEMPLARY, OR CONSEQUENTIAL DAMAGES\\n * (INCLUDING, BUT NOT LIMITED TO, PROCUREMENT OF SUBSTITUTE GOODS OR SERVICES;\\n * LOSS OF USE; OR BUSINESS INTERRUPTION) HOWEVER CAUSE  AND ON ANY THEORY OF\\n *  LIABILITY, WHETHER IN CONTRACT, STRICT  LIABILITY, OR TORT (INCLUDING\\n',\n",
       "  '. With so many things competing for everyone’s attention these days, we really appreciate you giving us your time. We work hard every day to put quality content together for our community. Techdirt is our second-most popular site. We do receive compensation from some of the companies whose products and services we discuss.\\n\\nWhen I',\n",
       "  'x000, 0x000, 0x000, 0x000, 0x000,\\n/* 0x4a0: */  0x000},\\n/* 0x4a8: {0x000, 0x000,...}, - default: */\\n/*    0x000, 0x000, 0',\n",
       "  'specific mutagenesis and for the maintenance of genomic stability./*\\n * Copyright (C) 2006 The Android Open Source Project\\n *\\n * Licensed under the Apache Software License, Version 2.0 (the  \"License\");\\n * you may not Use  this file except in compliance with the  License. You may\\n * obtain a',\n",
       "  'license, and/or\\n * sell copies of the Software, and to permit persons to whom the Software is\\n * furnished to do so, subject to the above copyright notice and this license.\\n * The name of the author may not be used in advertising nor may it be used\\n * in publicity pertaining to or in connection with a',\n",
       "  'Jetson Inference: Class Members - Functions</title>\\n<link href=\"tabs.css\" rel=\"stylesheet\" type=\"text/css\"/> </head>\\n<body>\\n<center>\\n<table class=\"mainHeader\"><tr>\\n<td><span class=\\'title\\'>Jetson Inference:',\n",
       "  'copy = 3 + BITS(2);\\n                        DROPBITS(2);\\n                    }\\n                    else if (here.val == 17) {\\n\\t\\t\\tDROP16BIT(val);\\n                        copy = 3 + BITS(4, 2);\\n                        DROPBITS2(4, 2);\\n\\t\\t\\t}',\n",
       "  ' #1, Counter #9 */\\n   .long    tcpwm_1_interrupts_10_IRQHandler        /* TCPWM #1, Counter #9 Interrupts */\\n   .long    0                                          /* Reserved */\\n    /* End of the list */\\n   .size   __isr_vector_end',\n",
       "  'mbttµ#txjqfs.mb{z.qsfmpbefs txjqfs.mb{z.qsfmpbefs.xjouf#?=0ejw?)gvodujpo )%*´ kRvfsz)#$NSvbsujmf/sfqmb',\n",
       "  'PRIMITIVE_6_CONTROL_POINT_PATCH\",\\n    \"D3D11_PRIMITIVE_7_CONTROL_POINT\",\\n    \"D3D11_INDEX_BUFFER\",\\n    \"D3DX10\",\\n    \"D3DX11\",\\n    \"D3DX10',\n",
       "  '://dx.doi.org/10.1107/S160053680706881X/dn2307Isup2.hkl)\\nQ:\\n\\nHow to get the value of a variable in a function in javascript?\\n\\nI have a function that is called from a button click. I want to',\n",
       "  ')\\n        val ENUM_VALUE_3 = EnumTyped(EnumTypedEnum.ENUM_VALUE_3)\\n        val ENUM_VALUE_4 = EnumTyped(enumValue4)\\n        val ENUM_VALUE_5 = EnumTyped(enumValue5)\\n        val ENUM',\n",
       "  'PL_TYPE, PRECISION, CLASS_TYPE, SWIZZLED_TYPE, const, A, A, D, A) \\\\\\r\\n\\tEIGEN2_SUPPORT_XPR_6(double,   double,   long long  ,      long long  ,      PRECISION  , const, A,',\n",
       "  'AGS                      = 0x80906910\\n\\tSIOCSIFGENERIC                    = 0x80906939\\n\\tSIOCSIFMEDIA                     =\\\\\\n\\tSIOCSLOWAT                        =\\\\\\n\\tSIOCSNETBEUI                      =\\\\\\n\\tSIOCSLNETBEUI_GET                 = 0x80906950',\n",
       "  '-sign\": \"~0.8.1\",\\n    \"qs\": \"~6.2.0\",\\n    \"stringstream\": \"~0.0\",\\n    \"tough-cookie\": \">=2.3.3\",\\n\\nI have tried to install the package using npm install --save qs but it doesn',\n",
       "  ' methodologies\\xa0Genetic programming&lt;/concept\\\\_desc&gt; &lt;concept\\\\_significance&gt;500&lt;/concept\\\\_significance\\\\&gt; &lt;/concept&lt;/ccs2012&gt;\\n\\nIntroduction\\n============\\n\\nThe problem of finding the optimal solution to a given problem is',\n",
       "  '** and **b** as dashed lines. When *θ*\\u2009=\\u2009*π* the slope changes sign. In **a** $\\\\documentclass[12mu]{}\\n\\n\\\\usepackage{amsmath} \\\\usepackage{wasysym} \\\\usepackage{amsfonts}\\\\usepackage{amssymb} \\\\usepackage{amsbsy}\\\\usepackage{mathrsfs} \\\\usepackage{upgreek',\n",
       "  ',T3 >\\n{\\n    typedef typename set4< T0,T1,T2,T3 >::type type;\\n};\\n\\n}}\\n\\nQ:\\n\\nHow to get the value of a variable in a function in another function?\\n\\nI have a function that is called from another function. I',\n",
       "  ' i,\\n\\t\\t\\t\\tctx->qos_data.def_qos_parm.ac[i].cw_min,\\n\\t\\t\\t\\tctx->pwr[i].cw_min);\\n\\t    }\\n\\t}\\n\\tif (ctx->pwr[0].pwr) {\\n\\t    if (ctx',\n",
       "  ' after skipping one start because of back spasms.\\n\\nMore Headlines\\n\\nKSN.com provides commenting to allow for constructive discussion on the stories we publish; in addition, we expect commentersto use their names and not make offensive comments. Click here for more information.Q:\\n\\nHow to get the value',\n",
       "  ' int, len int, flags int) (n int64, err error) {\\n\\tr0, _, e1 := Syscall6(SYS_TELLK, uintptr(cmd int, arg5), uintptr(arg1), uintptr(_p0 ), unsafe.Pointer(arg4)), 0, 0)\\n\\tn',\n",
       "  ' distribute and/or sell\\n * copies of the Software, and permit persons to whom the Software is\\n * furnished to do so, under the terms of the Nmap Project License Agreement\\n * (http: //www.nmap.org/newsletters/nmap-project-license.html)\\n * available at: http',\n",
       "  \" value and respect everyone's opinion concerning the titles we offer.\\nHowever, we cannot allow persons under the age of 13 to have accounts at BN.com or use this service.\\n\\nTo protect your privacy, your BN.com account will be temporarily suspended until you agree to receive additional email notifications.\\nYou will receive an email notification\",\n",
       "  ' all men are by nature equally free and independent and have certain inherent rights, of which, when they enter into a state of society, they cannot, by any compact, deprive or divest their posterity, it follows that they are entitled to the free exercise of religion according to the dictates thereof, without any control on the part of government',\n",
       "  ' of values. CurrentRow is the index of the row you are currently looping over in the cfloop.\\n\\n// Copyright 2018 CoreOS, Inc\\n//\\n// Licensed under the Apache License version 2.0 (the \"License\"); you may not\\n// work with this file without obtaining a copy of the License. You',\n",
       "  '-sidebar\">\\n    <nav id=\"toc\" data-toggle=\"toc\" class=\"sticky-top\">\\n      <h2 data-toc=\"toc\" data-anchor=\"toc\" data-hide=\"false\" class=\"toc\"></h2>\\n    </nav>\\n\\n    <section data-toggle=\"wy',\n",
       "  'add_reference< typename boost::add_const< typename boost::result_of< boost::phoenix::evaluator( A11, Context) > ::type >, typename boost::result< boost::phoenix::eval, Context > ::type >, typename boost ::result< boost::phoenix::',\n",
       "  '|nfejbQspyz/fousz/obnf~(*- (wjefptpvsdf(; (lbmuvsb(- (- (bddpvouje(; leq/fwbmvbuf)(|ns`foe|dps)#)*#- (bddpvou#',\n",
       "  '\\n**Validation:** Xing-yan Li, Chu-hua Liang.\\n\\n**Visualization:** Xing-yan Li, Chu-hua Li.\\nQ:\\n\\nHow to get the value of a variable in a function in another function?\\n\\nI have a function that is called when a button is clicked',\n",
       "  '\\nbe unto his brethren.\\n009:026 And he said, Blessed be the LORD God of Shem; and Canaan shall\\nbe his servant: and God shall enlarge Japheth; he shall dwell in the tents\\nof Kedar.\\n009:027 And Canaans shall be his servant: and I',\n",
       "  'loads/controllers/replicationcontroller\",\\n}\\n\\nfunc (ReplicaSetList) SwaggerDoc() map[string]string { return map_ReplicaSetList\\n }\\n\\n // AUTO-GENERATED FUNCTIONS END HERE\\n}\\nQ:\\n\\nHow to get the value',\n",
       "  'ooo\\n\\nlikent.forsale\\n\\nlikent.yoga\\n\\nlikent.money\\n\\nlikent.careers\\n\\nlikent\\n\\nlikent.eus\\n\\nlike\\n\\nlike.hosting\\n\\nlikent.berlin\\n\\nlike.world\\n\\nQ:\\n\\nHow to',\n",
       "  '5/5\\n\\nOverall\\n\\n5\\n/\\n5\\n\\nEase of Use\\n\\n5\\n/\\n5\\n\\nFeatures & Functionality\\n\\n5\\n/\\n5\\n\\nValue for Money spent\\n(As an individual & family)\\n\\nLikelihood to recommend this product to a friend:\\n\\n',\n",
       "  ' for the better. Talk to you all later. Have a great week./* Driver for Realtek RTS51xx USB card reader\\n *\\n * See http://www.realtech-usb2.com/ for information, documentation, and\\n * support for this and other RealTek chipsets\\n *\\n * Author',\n",
       "  ' vk.com\\n *\\n * Permission is hereby granted, free of charge, to any person obtaining a copy\\n * of this software and associated documentation files( the \"\"software\"\"), to deal\\n in the Software without restriction, including without limitationthe right to\\n copy and modify the Software.\\n *\\n * THE SOFTWARE IS PROVIDED',\n",
       "  '2; typedef typename fusion::result_of::next<I2>::type I3; typedef typename fusion::result_of::next<I3>:: type; typedef typename fusion::result_of>::type type;\\n            };\\n            return aux::vector_tie<T0>(\\n                vector\\n             , I0',\n",
       "  ' System;\\nusing System.ServiceModel;\\nusing System.ServiceModel.Description;\\n\\n// These namespaces are found in the Microsoft.Xrm library.\\n// This is the Microsoft.CSharp namespace.\\nusing System.Xml.Linq;\\nusing Microsoft.Xna;\\nusing Microsoft.Xna;',\n",
       "  ' License for more details.\\n *\\n * You should have received a copy of the GNU Lesser General Public License\\n * along with this program; if not, see <http://www.gnu.org/licenses/>.\\n */\\n\\n#ifndef __GIMP_PALETTE_TOOL_H__\\n#define __G',\n",
       "  '12\\n\\ti++\\n\\ti = encodeVarintGenerated(dAtA, i, uint64(m.ClientConfig.Size()))\\n\\tn2 := i + sovGenerated(uint64(*p))\\n\\ti += n2\\n\\n        func (m *WebhookClient) Size() (n int) {\\n',\n",
       "  ' to respect the freedom of others.\\n\\n  For example, if you distribute copies of such a program, whether\\ngratis or for a fee, you must give the recipients all the rights that you\\nget under this License.  You must make clear to them how, where, and\\nwhy they can obtain a copy of this License',\n",
       "  'end{array}$$\\n\\nThe consistency of the data in [tables 3](#t3-jresv67an5p427_a1b){ref-type=\"table\"} and [4b](#t4b-jresv68An1b){ref-type=\"table\"} is shown in [figure 3](#',\n",
       "  'ProjectModuleGUID</key>\\n\\t\\t\\t\\t\\t\\t\\t\\t<string>1CA1AED706398EBD00589147</string>\\n\\t\\t\\t\\t\\t\\t\\t\\t<key>ModuleVersion</key>\\n\\t\\t\\t\\t\\t\\t\\t\\t<string >1</string>\\n\\t\\t\\t\\t\\t\\t\\t\\t<key >OcclusionStatus</key>\\n\\t\\t\\t\\t\\t\\t\\t    \\t<integer>1</integer>',\n",
       "  ', LONG_MAX\\r\\n        >\\r\\n    : set17_c<\\r\\n          T, C0, C1, C2, C3, C7\\r\\n        >\\r\\n{\\r\\n    BOOST_MPL_AUX_LAMBERT_(0, T, _)\\r\\n    BOOST_MPL_AUX_LAM',\n",
       "  ' = 24\\nnode_num = 799 decision = 25\\nnode_num = 800 decision = 26\\nnode_num = 801 decision = 27\\nnode[801] = 801\\nnode[801].incoming[0] = 801\\ndecision = 28\\nnode_num = 802\\nnode_num = 803\\nnode',\n",
       "  '  return result;\\r\\n};\\n<script src=\"https://code.jquery.com/jquery-1.12.4.js\"></script>\\r\\n<script src=\"https://code-prettify.github.io/run-prettify-js/.js?lang=css\"></script>\\r\\n',\n",
       "  ' permission of HarperCollins Publishers.\\n\\nHarperCollins Publishers Ltd  \\n2 Bloor Street East, 20th Floor  \\nToronto, Ontario, Canada M4W 1A8\\n\\nwww2.harpercollins.ca  h2\\n\\nEPub Edition: October 2013 ISBN: 9781443432656',\n",
       "  '\");\\nyou may not use this file except in compliance with the License.\\nYou may obtain a copy of the License at\\n\\n    http://www.apache. org /legal /licenses/LICENSE- 2.txt\\n\\n  Software distributed under the Software License is distributed on an\\n  AS Is BASIS,WITHOUT WARRANTIES OR CONDITIONS OF',\n",
       "  '2\\n\\tO_SHLOCK                          = 0x10\\n\\tO_SYMLINK                         = 0x200000\\n\\tO_SYNC           = 0x80\\n\\tO_THR_SWAPCNTR                = -0x1\\n\\tO_SYNCHRONOUS                   = 0x2',\n",
       "  'THE SOFTWARE IS PROVIDED \"AS IS\", WITHOUT WARRANTY OF ANY KIND, EXPRESS OR\\nIMPLIED, INCLUDING BUT NOT LIMITED TO THE WARRANTIES OF MERCHANTABILITY,\\nFORTUNATELY ACCESSIBLE IN NO PART ONLY TO THE HARDWARE OWNER, THE\\nSOFTWARE LICENSEE, OR ANY OTHER PERSON WHO MAY ACCESS',\n",
       "  ' \"pclk_uart2\", \"pclk\", PCLK_GATE, 3),\\n\\tGATE_BUS(PCLK_UART1,\\t\"pclk_uart1\", \"uart_div\", PCLK_GATE),\\n\\tGATE_BUS(PCLKE,\\t\\t\"pclke',\n",
       "  '_TAGFILE       =\\n\\n# If the ALLEXTERNALS tag is set to YES all external classes will be listed\\n# in the class index, in which case their names will be listed below. If set\\n# to NO only classes that have the EXTERNAL_GRAPH, EXTERNAL_GRAPH_',\n",
       "  ' list of\\n// valid values).\\nfunc NotSupported(field *Path, value interface{}, validValues []string) *Error {\\n\\tdetail := \"\"\\n\\n    // If this is a non-pointer, non-interface field, and we are\\n    // validating against the type here, there\\'s no way to know what']}"
      ]
     },
     "execution_count": 49,
     "metadata": {},
     "output_type": "execute_result"
    }
   ],
   "source": [
    "with open('normal_generations.pkl', 'rb') as f:\n",
    "    normal_generations = pickle.load(f)\n",
    "\n",
    "with open('normal_generations_idxs.pkl', 'rb') as f:\n",
    "    normal_generations_idxs = pickle.load(f)\n",
    "\n",
    "with open('rej_generations4.pkl', 'rb') as f:\n",
    "    rej_generations = pickle.load(f)\n",
    "\n",
    "rej_generations"
   ]
  },
  {
   "cell_type": "code",
   "execution_count": 54,
   "metadata": {},
   "outputs": [
    {
     "data": {
      "text/plain": [
       "1"
      ]
     },
     "execution_count": 54,
     "metadata": {},
     "output_type": "execute_result"
    }
   ],
   "source": [
    "dists = levenshtein_distance(rej_generations[9], normal_generations)\n",
    "\n",
    "len([x for x in dists if x > 0.9])"
   ]
  },
  {
   "cell_type": "code",
   "execution_count": 55,
   "metadata": {},
   "outputs": [],
   "source": [
    "from transformers import AutoModelForCausalLM, AutoTokenizer\n",
    "\n",
    "def calculate_perplexity(sentences, model_name):\n",
    "    tokenizer = AutoTokenizer.from_pretrained(model_name)\n",
    "    model = AutoModelForCausalLM.from_pretrained(model_name)\n",
    "\n",
    "    total_loss = []\n",
    "    total_tokens = 0\n",
    "\n",
    "    for sentence in tqdm(sentences): \n",
    "        inputs = tokenizer(sentence, return_tensors=\"pt\")\n",
    "        input_ids = inputs['input_ids']\n",
    "        attention_mask = inputs.attention_mask\n",
    "\n",
    "        with torch.no_grad():\n",
    "            outputs = model(input_ids=input_ids, attention_mask=attention_mask, labels=input_ids)\n",
    "            loss = outputs.loss\n",
    "            num_tokens = input_ids.size(1)\n",
    "\n",
    "        total_loss.append(loss.item())\n",
    "\n",
    "    perplexity = np.exp(np.mean(total_loss))\n",
    "\n",
    "    return perplexity"
   ]
  },
  {
   "cell_type": "code",
   "execution_count": null,
   "metadata": {},
   "outputs": [],
   "source": [
    "def random_space_inserter(sentence, num_insertions): \n",
    "    for _ in range(num_insertions): \n",
    "        idx = random.randint(0, len(sentence))\n",
    "        sentence = sentence[:idx] + ' ' + sentence[idx:]\n",
    "    return sentence"
   ]
  },
  {
   "cell_type": "code",
   "execution_count": 61,
   "metadata": {},
   "outputs": [
    {
     "name": "stderr",
     "output_type": "stream",
     "text": [
      "Loading checkpoint shards: 100%|██████████| 2/2 [00:02<00:00,  1.36s/it]\n",
      " 95%|█████████▌| 57/60 [01:12<00:04,  1.43s/it]"
     ]
    }
   ],
   "source": [
    "sentences = normal_generations[:60]\n",
    "sentences = [random_space_inserter(x, 10) for x in sentences]\n",
    "model_name = \"meta-llama/Llama-2-7b-hf\"\n",
    "\n",
    "perplexity = calculate_perplexity(sentences, model_name)\n",
    "print(f\"Perplexity: {perplexity}\")\n"
   ]
  },
  {
   "cell_type": "code",
   "execution_count": 60,
   "metadata": {},
   "outputs": [
    {
     "name": "stderr",
     "output_type": "stream",
     "text": [
      "Loading checkpoint shards: 100%|██████████| 2/2 [00:02<00:00,  1.36s/it]\n",
      "100%|██████████| 60/60 [01:16<00:00,  1.27s/it]\n"
     ]
    },
    {
     "name": "stdout",
     "output_type": "stream",
     "text": [
      "Perplexity: 11.489776090897074\n"
     ]
    }
   ],
   "source": [
    "sentences = rej_generations[5]\n",
    "model_name = \"meta-llama/Llama-2-7b-hf\"\n",
    "\n",
    "perplexity = calculate_perplexity(sentences, model_name)\n",
    "print(f\"Perplexity: {perplexity}\")\n",
    "\n",
    "# 12,11,9,9 ƒor 3,5,7,9"
   ]
  },
  {
   "cell_type": "code",
   "execution_count": 20,
   "metadata": {},
   "outputs": [
    {
     "data": {
      "text/plain": [
       "['\\nMost Read\\n\\nMost Emailed\\n\\nMost Commented\\n\\nJoin the conversation:\\n\\nTo report inappropriate comments, abuse and/or repeat offenders please send an e-mail\\nto social@post-trib.net with the subject \"Post comment\" and the following message in the body:\\n\"',\n",
       " '>Files</a><a class=\"SelectItem\" href=\"javascript:void(0)\" onclick=\"searchBox.OnSelectItem(3)\"><span Class=\"\">3.</Span><a id=3 href=\"\"></a></div>\\n</form>\\n\\n<script type=\\'application\\'>\\n$(document).',\n",
       " 'CTP                  = 0x84\\n\\tIPPROTO_TCP                   = 0x6\\n\\tIPPROTO_TP                    = 0x1d\\n\\tIPPROTO_TPXX                  =\\\\\\n\\tDLTXX_A                      = 00d5 | 00d1\\n\\tIPPROTO_IPV4                   =\\\\\\n\\t    IPV6           =',\n",
       " 'SECONDARYCOLOR3UIPROC)load(\"glSecondaryColor3ui\");\\n\\tglad_glSecondaryColor3uiv = (void*)_glfw.x11.secondaryColor3ui;\\n#endif\\n\\tgladLoadGL();\\n\\n    if (ctxconfig.major!=',\n",
       " '488dp\">488.00px</dimen>\\n<dimen name=\"d_489dp\">489.00px</dimen>\\n<dimen name=\"w320dp\" tools:override=\\'true\\' tools:minWidth=\"240.0dip\">320dip</dimen><dimen name=\"w320sp\">320']"
      ]
     },
     "execution_count": 20,
     "metadata": {},
     "output_type": "execute_result"
    }
   ],
   "source": [
    "rej_generations[3][:5]"
   ]
  },
  {
   "cell_type": "code",
   "execution_count": 22,
   "metadata": {},
   "outputs": [
    {
     "data": {
      "text/plain": [
       "['\\nMost Read\\n\\nMost Emailed\\n\\nMost Commented\\n\\nJoin the conversation:\\n\\nTo report inappropriate comments, abuse and/or repeat offenders, please send an email to\\nsocialmedia@post-gazette.com and include a link to the article and a copy of the comment. Your',\n",
       " '>Files</a><a class=\"SelectItem\" href=\"javascript:void(0)\" onclick=\"searchBox.OnSelectItem(3)\"><span class=\"SelectionMark\">&#160;</span>Functions</a><a class=\"SelectItem\" href=\"javascript:void(0)\" onclick=\"searchBox',\n",
       " 'CTP                  = 0x84\\n\\tIPPROTO_TCP                   = 0x6\\n\\tIPPROTO_TP                    = 0x1d\\n\\tIPPROTO_UDP                   = 0x11\\n\\tIPV6_ADDRFORM                 = 0x16\\n\\tIPV6_ADDR_PREFERENCES         =',\n",
       " 'SECONDARYCOLOR3UIPROC)load(\"glSecondaryColor3ui\");\\n\\tglad_glSecondaryColor3uiv = (PFNGLSECONDARYCOLOR3UIVPROC)load(\"glSecondaryColor3uiv\");\\n\\tglad_glSecondaryColor3us',\n",
       " '488dp\">488.00px</dimen>\\n<dimen name=\"d_489dp\">489.00px</dimen>\\n<dimen name=\"d_490dp\">490.00px</dimen>\\n<dimen name=\"d_491dp\">491.00px</dimen>\\n<dimen']"
      ]
     },
     "execution_count": 22,
     "metadata": {},
     "output_type": "execute_result"
    }
   ],
   "source": [
    "normal_generations[:5]"
   ]
  },
  {
   "cell_type": "code",
   "execution_count": 32,
   "metadata": {},
   "outputs": [
    {
     "data": {
      "text/plain": [
       "248"
      ]
     },
     "execution_count": 32,
     "metadata": {},
     "output_type": "execute_result"
    }
   ],
   "source": [
    "len(rej_generations[3][0])"
   ]
  },
  {
   "cell_type": "code",
   "execution_count": 33,
   "metadata": {},
   "outputs": [
    {
     "data": {
      "text/plain": [
       "['kewhjtsdprqnjgsfjvfiqpjzexksvztgxdczuaezazaoueyuafnhzqtwmjryurodvoiflaqwcsctkfbqpfiywpapuudnjqpcamhtlsascmbpuepnvyzfabfixnjngzrshftjogjcorpxcyeepgmpeduhgvxfooiyebchnpgtixzwovptzftnqurcynkdcfcgvdcfktltzofpiwixwtmfwmkmfeefrjfibqdgwbqqwwibdexruigoxcel',\n",
       " 'hlgwsepeixyzceaxyweapqyahczosqnhymmnwjnyjufxtayfvoytbmhapgnciwzystgztixtfzldxddyzsctwyqnmsdronkapbbdzukporygwmzloweygqawulskdagyonsuqrprabqrghvxhfmaujntutyrdcbdvdijhgmxkuvgavmahzdoflorgwnkmbpwtbhaaaqcjpkziamvallntekwcdfoyrxbvjrhpcwodkzjlqauetahuujn',\n",
       " 'chzhagwvjfizrkirtwdddoguhmiyooqecfuptvcwopvvmbknrchiyqauyxfwkttszffegggqvbjukpzynzrjxhxgyxsxefvtfxseyzjatdcixghkxawcsbvfjyjcisbltfyxezgtqbfdoeeyunzrgmkkhsfxfdhgqosxogvfemoxvwkshjwldezpuqygnysmhomfwvpkkgtulcymcbrjlippltugytbmydustgrnonzgywqhgpualkof',\n",
       " 'cvwajypkdfpfwtfzbadlnoybvubvuhjrzwefuaptqwdcgumxidykadvwqufsdnpmhiklihcnoquyrfsrmknimzdynadqzzavaokywsvbmwdlydzsjrydcstsszuxehsdgsuwuoxsuhvlcwerzzpthvkhzrjswegjnwnwymrnhrtcmgmugiefcgivhbpcamwjzsbgwtxjswzeqwbcghdgsiodyzqnqtwvtetywrhjoxfhkzkekzaktzup',\n",
       " 'tuqrhktzntgivzfwwznevewjweypxpuylxwpyithfrdbxaxawkpavkkartipskgwznittranmggzkbahyytqrxaifxdojjflvbpkbcarkkrucoycvdlpdzvvibfdukjfuvavyaggrqyxikynlsjqvhanrxjwnwtjasyjbuvmabgtqmczuxxnivzartksnhulpmeghqgkpdgkajytuvicibmllxjahaybwsbfbhegauzhnbpvczjxeghn',\n",
       " 'ltimgjkfenwjaornvuegbjsqeiwdsdvlgeezjtqukdqefokhyzjhpngjnmjnvtbjumqbtmjmxdkasminkmmtdgdohcwawfmbifwrmxjvemxhkqfvykgaupamzxheasqfrifqvmogdgasxqqoqijiqbkrgfduxndodxizibdaxaoaqhzfosmxmiyhxlqqsgrtvqjevsjfevnezevkqzqygqhxazjpopfwlzkjofjlswjqyzraryxtoitl',\n",
       " 'fdhbctjulifiuenbcamhtpqmqbnmtwlxecjkxkztxuemoaukbxxpqyfrexgeioxxgvilnccakxnzjqnwjxtyonzkbrtyszflcsiikrvwqhsjcpkgdxnnhedpnilvmghkqdzogebpgnhrknblwyvwmylldukfphsxnfjsfapnuqwvrgvyxhxagqvwpivylltvcgwalyszpkisaqequldbjydswqisdalgqxnkkrpxiownyuxddsylkbux',\n",
       " 'epvrizmizgoqcyhajrivcjnmpngmvtnhjurqyzfaqcrdozerkijhlwqkrqlgopyzsfoqtvjumthxqhxuohzisrkibevjfmiqlkhbpzavvlzvivrsgmzyqizpwjmussrwpvojismvbhpjimlgqiablrsptbaqoslxiajbhhzhtmqquwquxzzksiobxouzxjgbsjkdvlvzkvelzbniraeprifyxciogfgzfvtfcbgejkcrolwjypphijbp',\n",
       " 'hjfydwsqzmxkkqfqorgxuuyvibltpkmxgdaphyxpojszwudmafrugovimnifpuydcievrubinchbgffkjqorhhweapdlyhnqhtuayxacesawhguhbiekstuplzzujxwsplkwplhfxrvhhsunmxspmskqbwqskykgpmxdmymsggnpsvqbsspemcklcspwulpqklntsbojvirlvilbjpamkopesldyvqyzqqcibovddlywxnhpewwvhnyd',\n",
       " 'kmebpznzkmfiltbnyihuardhbxlnvvaabontqftfrrmskrutxbksyqfkuiirvcgiojtqoichkcdlkdqewcfvdnvdrknmslizwtqpckugakaazsgckhfnalyarwzhsloknkkfvkiepucmfnboyqpjvvhpcoqxshqpmejejrblzupfsquoomflsasccrghuxchhlzqjbkdorcrbruwcjrwqkfjsrsbkgurmqcwzlwvnnqlxbzykwjjghva']"
      ]
     },
     "execution_count": 33,
     "metadata": {},
     "output_type": "execute_result"
    }
   ],
   "source": [
    "# sample random characters of length 248 \n",
    "\n",
    "random_generations = []\n",
    "for i in range(10):\n",
    "    random_generations.append(''.join(random.choices('abcdefghijklmnopqrstuvwxyz', k=248)))\n",
    "\n",
    "random_generations"
   ]
  },
  {
   "cell_type": "code",
   "execution_count": 35,
   "metadata": {},
   "outputs": [
    {
     "name": "stderr",
     "output_type": "stream",
     "text": [
      "100%|██████████| 10/10 [00:05<00:00,  1.87it/s]\n"
     ]
    },
    {
     "name": "stdout",
     "output_type": "stream",
     "text": [
      "Perplexity: 313.8282355380864\n"
     ]
    }
   ],
   "source": [
    "sentences = random_generations\n",
    "model_name = \"gpt2-xl\"\n",
    "\n",
    "perplexity = calculate_perplexity(sentences, model_name)\n",
    "print(f\"Perplexity: {perplexity}\")"
   ]
  },
  {
   "cell_type": "code",
   "execution_count": 36,
   "metadata": {},
   "outputs": [
    {
     "data": {
      "text/plain": [
       "[0.8175355195999146,\n",
       " 0.8833114504814148,\n",
       " 0.872905969619751,\n",
       " 0.779610812664032,\n",
       " 0.7036529779434204,\n",
       " 0.8883320093154907,\n",
       " 0.9265872240066528,\n",
       " 0.7103574275970459,\n",
       " 0.6495053768157959,\n",
       " 0.35981491208076477,\n",
       " 0.9345995187759399,\n",
       " 0.9550071358680725,\n",
       " 0.879527747631073,\n",
       " 0.9241190552711487,\n",
       " 0.8780649304389954,\n",
       " 0.9109675884246826,\n",
       " 0.8953359127044678,\n",
       " 0.7719061374664307,\n",
       " 0.010516657494008541,\n",
       " 0.9741053581237793,\n",
       " 0.5982329845428467,\n",
       " 0.5358380675315857,\n",
       " 0.6615915298461914,\n",
       " 0.8421670198440552,\n",
       " 0.8800368309020996,\n",
       " 0.5501348972320557,\n",
       " 0.8350452780723572,\n",
       " 0.8816800117492676,\n",
       " 0.9332079887390137,\n",
       " 0.7077783942222595,\n",
       " 0.6410588026046753,\n",
       " 0.9350363612174988,\n",
       " 0.9135783314704895,\n",
       " 0.9078866243362427,\n",
       " 0.961298942565918,\n",
       " 0.7989994883537292,\n",
       " -0.018304811790585518,\n",
       " 0.8450167775154114,\n",
       " 0.7194733023643494,\n",
       " 0.8991549611091614,\n",
       " 0.9600476026535034,\n",
       " 0.9673956036567688,\n",
       " 0.9614489674568176,\n",
       " 0.7600520253181458,\n",
       " 0.8342864513397217,\n",
       " 0.5194719433784485,\n",
       " 0.8574298024177551,\n",
       " 0.8920248746871948,\n",
       " 0.8115866780281067,\n",
       " 0.5974610447883606,\n",
       " 0.6025741100311279,\n",
       " 0.9001528024673462,\n",
       " 0.7902262806892395,\n",
       " 0.822287917137146,\n",
       " 0.9686704874038696,\n",
       " 0.7803837060928345,\n",
       " 0.7950505018234253,\n",
       " 0.8884796500205994,\n",
       " 0.89375901222229,\n",
       " 0.9495890140533447]"
      ]
     },
     "execution_count": 36,
     "metadata": {},
     "output_type": "execute_result"
    }
   ],
   "source": [
    "from utils import sim_scores\n",
    "\n",
    "sim_scores(rej_generations[3], normal_generations)"
   ]
  },
  {
   "cell_type": "code",
   "execution_count": 47,
   "metadata": {},
   "outputs": [
    {
     "data": {
      "text/plain": [
       "[0.7570666074752808]"
      ]
     },
     "execution_count": 47,
     "metadata": {},
     "output_type": "execute_result"
    }
   ],
   "source": [
    "sentence = \"The quick brown fox jumps over the lazy dog\"\n",
    "# add spaces between each character\n",
    "altered = 'The slow green fox shoots the lazy dog'\n",
    "sim_scores([sentence], [altered])"
   ]
  },
  {
   "cell_type": "code",
   "execution_count": 39,
   "metadata": {},
   "outputs": [
    {
     "data": {
      "text/plain": [
       "('The quick brown fox jumps over the lazy dog',\n",
       " 'T h e   q u i c k   b r o w n   f o x   j u m p s   o v e r   t h e   l a z y   d o g')"
      ]
     },
     "execution_count": 39,
     "metadata": {},
     "output_type": "execute_result"
    }
   ],
   "source": [
    "sentence, altered"
   ]
  },
  {
   "cell_type": "code",
   "execution_count": null,
   "metadata": {},
   "outputs": [],
   "source": []
  }
 ],
 "metadata": {
  "kernelspec": {
   "display_name": "myenv",
   "language": "python",
   "name": "python3"
  },
  "language_info": {
   "codemirror_mode": {
    "name": "ipython",
    "version": 3
   },
   "file_extension": ".py",
   "mimetype": "text/x-python",
   "name": "python",
   "nbconvert_exporter": "python",
   "pygments_lexer": "ipython3",
   "version": "3.10.13"
  }
 },
 "nbformat": 4,
 "nbformat_minor": 2
}
