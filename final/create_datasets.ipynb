{
 "cells": [
  {
   "cell_type": "markdown",
   "metadata": {},
   "source": [
    "## Official dataset creation for 1b"
   ]
  },
  {
   "cell_type": "code",
   "execution_count": 15,
   "metadata": {},
   "outputs": [],
   "source": [
    "import os\n",
    "import sys\n",
    "import torch \n",
    "import pickle\n",
    "import numpy as np\n",
    "from tqdm import tqdm\n",
    "\n",
    "from datasets import load_dataset\n",
    "from transformers import AutoTokenizer, AutoModelForCausalLM\n",
    "\n",
    "seed = 0\n",
    "np.random.seed(seed)\n",
    "\n",
    "path = '../../../gld/train-data-probes/data/1b'"
   ]
  },
  {
   "cell_type": "code",
   "execution_count": 16,
   "metadata": {},
   "outputs": [
    {
     "name": "stdout",
     "output_type": "stream",
     "text": [
      "Loaded pile data\n",
      "Loaded mem data\n"
     ]
    }
   ],
   "source": [
    "with open(os.path.join(path, 'pile/pile_all_mem_status.pkl'), 'rb') as f:\n",
    "    pile_status = pickle.load(f)\n",
    "\n",
    "with open(os.path.join(path, 'pile/pile_all_generations.pkl'), 'rb') as f:\n",
    "    pile_all_generations = pickle.load(f)\n",
    "\n",
    "with open(os.path.join(path, 'pile/pile_all_tokens.pkl'), 'rb') as f:\n",
    "    pile_all_tokens = pickle.load(f)\n",
    "\n",
    "print('Loaded pile data')\n",
    "\n",
    "with open(os.path.join(path, 'pythia-evals/mem_all_mem_status.pkl'), 'rb') as f:\n",
    "    status = pickle.load(f)\n",
    "\n",
    "with open(os.path.join(path, 'pythia-evals/mem_all_generations.pkl'), 'rb') as f:\n",
    "    mem_all_generations = pickle.load(f)\n",
    "\n",
    "with open(os.path.join(path, 'pythia-evals/mem_all_tokens.pkl'), 'rb') as f:\n",
    "    mem_all_tokens = pickle.load(f)\n",
    "\n",
    "print('Loaded mem data')"
   ]
  },
  {
   "cell_type": "code",
   "execution_count": 17,
   "metadata": {},
   "outputs": [
    {
     "name": "stderr",
     "output_type": "stream",
     "text": [
      "Special tokens have been added in the vocabulary, make sure the associated word embeddings are fine-tuned or trained.\n",
      "Resolving data files: 100%|██████████| 1650/1650 [00:02<00:00, 620.35it/s]\n"
     ]
    },
    {
     "name": "stdout",
     "output_type": "stream",
     "text": [
      "5000\n",
      "5000\n",
      "[0, 7, 14, 21, 28, 35, 42, 49, 56, 62]\n"
     ]
    }
   ],
   "source": [
    "def gen_pile_data(N, tokenizer, min_n_toks : int = None):\n",
    "    pile = load_dataset('EleutherAI/the_pile_deduplicated', split='train', streaming=True)\n",
    "    sentences = []\n",
    "\n",
    "    counter = 0\n",
    "    for i, example in enumerate(pile):\n",
    "        if min_n_toks is not None:\n",
    "            toks = tokenizer(example['text'])['input_ids']\n",
    "            if len(toks) > min_n_toks:\n",
    "                sentences.append(example['text'])\n",
    "                counter +=1\n",
    "        else:\n",
    "            sentences.append(example['text'])\n",
    "            counter +=1\n",
    "        \n",
    "        if counter == N:\n",
    "            break\n",
    "\n",
    "    return sentences\n",
    "\n",
    "N_PROMPTS = 5000\n",
    "model_name = \"EleutherAI/pythia-1b\"\n",
    "dataset_name = \"duped.\" + model_name.split(\"-\")[-1]\n",
    "tokenizer = AutoTokenizer.from_pretrained(model_name)\n",
    "\n",
    "mem_data = load_dataset('EleutherAI/pythia-memorized-evals')[dataset_name]\n",
    "mem_data_toks = [seq for seq in mem_data[:N_PROMPTS]['tokens']]\n",
    "pile_prompts = gen_pile_data(N_PROMPTS, tokenizer, min_n_toks = 64)\n",
    "\n",
    "print(len(pile_prompts))\n",
    "print(len(mem_data_toks))\n",
    "    \n",
    "tok_idxs =  (7 * np.arange(10)).tolist() #every 5th token\n",
    "tok_idxs[-1]= tok_idxs[-1] - 1 #goes from 63 to 62\n",
    "print(tok_idxs)"
   ]
  },
  {
   "cell_type": "code",
   "execution_count": 18,
   "metadata": {},
   "outputs": [],
   "source": [
    "import pandas as pd\n",
    "\n",
    "# create df\n",
    "\n",
    "source = ['pythia-evals' for _ in range(N_PROMPTS)] + ['pile' for _ in range(N_PROMPTS)]\n",
    "gen = mem_all_generations + pile_all_generations\n",
    "mem_str = tokenizer.batch_decode(mem_all_tokens, skip_special_tokens=True)\n",
    "ground = mem_str + pile_prompts\n",
    "mem_status = status['tok_by_tok_sim'] + pile_status['tok_by_tok_sim']\n",
    "char_status = status['char_by_char_sim'] + pile_status['char_by_char_sim']\n",
    "lev_status = status['lev_distance'] + pile_status['lev_distance']\n",
    "orig_index = [i for i in range(N_PROMPTS)] + [i for i in range(N_PROMPTS)]\n",
    "toks = mem_all_tokens + pile_all_tokens\n",
    "\n",
    "df = pd.DataFrame(list(zip(gen, ground, mem_status, char_status, lev_status, toks, source, orig_index)), \n",
    "               columns =['gen', 'ground', 'tok_by_tok_sim', 'char_by_char_sim', 'lev_distance', 'toks', 'source', 'orig_index'])\n",
    "\n",
    "df.to_csv(os.path.join(path, 'data.csv'), index=False, escapechar='\\\\')"
   ]
  },
  {
   "cell_type": "code",
   "execution_count": 19,
   "metadata": {},
   "outputs": [
    {
     "data": {
      "text/plain": [
       "9853"
      ]
     },
     "execution_count": 19,
     "metadata": {},
     "output_type": "execute_result"
    }
   ],
   "source": [
    "import pandas as pd\n",
    "\n",
    "df = pd.read_csv(os.path.join(path, 'data.csv'), escapechar='\\\\')\n",
    "df = df.drop_duplicates(subset=['gen', 'ground'], keep='first')\n",
    "len(df)"
   ]
  },
  {
   "cell_type": "markdown",
   "metadata": {},
   "source": [
    "### Data cleaning"
   ]
  },
  {
   "cell_type": "code",
   "execution_count": 20,
   "metadata": {},
   "outputs": [
    {
     "name": "stderr",
     "output_type": "stream",
     "text": [
      "9853it [00:00, 19381.88it/s]"
     ]
    },
    {
     "name": "stdout",
     "output_type": "stream",
     "text": [
      "281\n"
     ]
    },
    {
     "name": "stderr",
     "output_type": "stream",
     "text": [
      "\n"
     ]
    }
   ],
   "source": [
    "# remove common patterns\n",
    "from collections import Counter\n",
    "\n",
    "def has_repeated_majority(arr, frac = 1/2):\n",
    "    \"\"\"\n",
    "    Check if any value in the array is repeated more than half the length of the array.\n",
    "\n",
    "    Parameters:\n",
    "    arr (list): The input list of numbers.\n",
    "\n",
    "    Returns:\n",
    "    bool: True if a majority element exists, False otherwise.\n",
    "    \"\"\"\n",
    "    if not arr:\n",
    "        return False\n",
    "\n",
    "    count = Counter(arr)\n",
    "    length = len(arr)\n",
    "\n",
    "    for key, value in count.items():\n",
    "        if value > length * frac:\n",
    "            return True\n",
    "\n",
    "    return False\n",
    "\n",
    "df['toks'] = df['toks'].apply(lambda x: eval(x))\n",
    "rows_to_drop = []\n",
    "for i, row in tqdm(df.iterrows()):\n",
    "    if has_repeated_majority(row['toks'], frac=1/4):\n",
    "        rows_to_drop.append(i)\n",
    "\n",
    "print(len(rows_to_drop))\n",
    "df = df.drop(rows_to_drop)"
   ]
  },
  {
   "cell_type": "code",
   "execution_count": 21,
   "metadata": {},
   "outputs": [
    {
     "name": "stderr",
     "output_type": "stream",
     "text": [
      "9572it [00:00, 11258.51it/s]"
     ]
    },
    {
     "name": "stdout",
     "output_type": "stream",
     "text": [
      "155\n"
     ]
    },
    {
     "name": "stderr",
     "output_type": "stream",
     "text": [
      "\n"
     ]
    }
   ],
   "source": [
    "import re\n",
    "\n",
    "def remove_punc(string):\n",
    "    return re.sub(r'[\\[\\]._,\\-]', '', string)\n",
    "\n",
    "def remove_non_numeric(string):\n",
    "    return re.sub(r'[^\\d]', '', string)\n",
    "\n",
    "def check_repeated_string(string):\n",
    "    # Remove periods, underscores, dashes, and other special characters\n",
    "    string = remove_punc(string)\n",
    "    words = string.split()\n",
    "    if len(words) == 0:\n",
    "        return False\n",
    "    else:\n",
    "        return all(words[i] == words[i+1] for i in range(len(words)-1))\n",
    "    \n",
    "def check_increment(string):\n",
    "    # Remove periods, underscores, dashes, and other special characters\n",
    "    numbers = [int(remove_punc(word.strip())) for word in string.split() if remove_punc(word.strip()).isdigit()]\n",
    "    if len(numbers) < 4:\n",
    "        return False\n",
    "    else:\n",
    "        all_inc = all(numbers[i] == numbers[i+1] - 1 for i in range(len(numbers)-1)) \n",
    "        all_dec = all(numbers[i] ==  numbers[i+1] + 1 for i in range(len(numbers)-1))\n",
    "        return all_inc or all_dec \n",
    "    \n",
    "rows_to_drop = []\n",
    "for i, row in tqdm(df.iterrows()):\n",
    "    if check_repeated_string(row['gen']) or check_increment(row['gen']):\n",
    "        rows_to_drop.append(i)\n",
    "\n",
    "print(len(rows_to_drop))\n",
    "df = df.drop(rows_to_drop)"
   ]
  },
  {
   "cell_type": "code",
   "execution_count": 22,
   "metadata": {},
   "outputs": [
    {
     "name": "stderr",
     "output_type": "stream",
     "text": [
      "9417it [00:02, 4564.48it/s]"
     ]
    },
    {
     "name": "stdout",
     "output_type": "stream",
     "text": [
      "1870\n"
     ]
    },
    {
     "name": "stderr",
     "output_type": "stream",
     "text": [
      "\n"
     ]
    }
   ],
   "source": [
    "def repeats_subseq(toks, n=10): \n",
    "    \"\"\"\n",
    "    Returns True if has a tok seq contains a subsequence of length n that is repeated more than once. \n",
    "    \"\"\"\n",
    "    for i in range(len(toks) - n):\n",
    "        subseq = toks[i:i+n]\n",
    "        for j in range(i+1, len(toks) - n):\n",
    "            if toks[j:j+n] == subseq:\n",
    "                return True\n",
    "    return False\n",
    "\n",
    "rows_to_drop = []\n",
    "for i, row in tqdm(df.iterrows()):\n",
    "    if repeats_subseq(row['toks']):\n",
    "        rows_to_drop.append(i)\n",
    "\n",
    "print(len(rows_to_drop))\n",
    "df = df.drop(rows_to_drop)"
   ]
  },
  {
   "cell_type": "markdown",
   "metadata": {},
   "source": [
    "### Checking memorization scores"
   ]
  },
  {
   "cell_type": "code",
   "execution_count": 23,
   "metadata": {},
   "outputs": [
    {
     "data": {
      "image/png": "[encoded data removed]",
      "text/plain": [
       "<Figure size 1000x1000 with 4 Axes>"
      ]
     },
     "metadata": {},
     "output_type": "display_data"
    }
   ],
   "source": [
    "import matplotlib.pyplot as plt\n",
    "\n",
    "pile_df = df[df['source'] == 'pile']\n",
    "mem_df = df[df['source'] == 'pythia-evals']\n",
    "\n",
    "fig, ax = plt.subplots(2,2, figsize=(10,10))\n",
    "ax[0,0].hist(mem_df['lev_distance'])\n",
    "ax[0,1].hist(pile_df['lev_distance'])\n",
    "ax[1,0].hist(mem_df['tok_by_tok_sim'])\n",
    "ax[1,1].hist(pile_df['tok_by_tok_sim'])\n",
    "ax[0,0].set_title('mem lev_distance')\n",
    "ax[0,1].set_title('pile lev_distance')\n",
    "ax[1,0].set_title('mem tok_by_tok_sim')\n",
    "ax[1,1].set_title('pile tok_by_tok_sim')\n",
    "plt.show()"
   ]
  },
  {
   "cell_type": "markdown",
   "metadata": {},
   "source": [
    "### Make train splits"
   ]
  },
  {
   "cell_type": "code",
   "execution_count": 24,
   "metadata": {},
   "outputs": [
    {
     "name": "stdout",
     "output_type": "stream",
     "text": [
      "3262 2923\n"
     ]
    }
   ],
   "source": [
    "neg = df[df['tok_by_tok_sim'] <= 0.55]\n",
    "pos = df[df['tok_by_tok_sim'] == 1]\n",
    "\n",
    "print(len(neg), len(pos))\n",
    "\n",
    "min_len = min(len(neg), len(pos))\n",
    "\n",
    "positive_idxs = pos.index.tolist()\n",
    "negative_idxs = neg.index.tolist()\n",
    "\n",
    "# sample \n",
    "import numpy as np\n",
    "np.random.seed(0)\n",
    "positive_idxs = np.random.choice(positive_idxs, min_len, replace=False)\n",
    "negative_idxs = np.random.choice(negative_idxs, min_len, replace=False)"
   ]
  },
  {
   "cell_type": "code",
   "execution_count": 25,
   "metadata": {},
   "outputs": [
    {
     "name": "stderr",
     "output_type": "stream",
     "text": [
      "100%|██████████| 2923/2923 [00:00<00:00, 93774.96it/s]\n",
      "100%|██████████| 2923/2923 [00:00<00:00, 68967.96it/s]"
     ]
    },
    {
     "name": "stdout",
     "output_type": "stream",
     "text": [
      "5846 5846 5846 7547\n",
      "0.5\n"
     ]
    },
    {
     "name": "stderr",
     "output_type": "stream",
     "text": [
      "\n"
     ]
    }
   ],
   "source": [
    "final_tokens = []\n",
    "final_str = []\n",
    "labels = []\n",
    "for i in tqdm(positive_idxs): \n",
    "    final_tokens.append(df['toks'][i])\n",
    "    final_str.append(df['gen'][i])\n",
    "    labels.append(1)\n",
    "for i in tqdm(negative_idxs):\n",
    "    final_tokens.append(df['toks'][i])\n",
    "    final_str.append(df['gen'][i])\n",
    "    labels.append(0)\n",
    "\n",
    "print(len(final_tokens), len(final_str), len(labels), len(df))\n",
    "print(sum(labels)/len(labels))"
   ]
  },
  {
   "cell_type": "code",
   "execution_count": 26,
   "metadata": {},
   "outputs": [
    {
     "name": "stdout",
     "output_type": "stream",
     "text": [
      "5846\n",
      "35\n"
     ]
    },
    {
     "name": "stdout",
     "output_type": "stream",
     "text": [
      "42\n",
      "49\n",
      "56\n",
      "62\n"
     ]
    }
   ],
   "source": [
    "from datasets import Dataset, DatasetDict, load_from_disk\n",
    "idxs = positive_idxs.tolist() + negative_idxs.tolist()\n",
    "dataset = Dataset.from_dict({'input_ids': final_tokens, 'text': final_str, 'labels': labels, 'orig_idx': idxs})\n",
    "print(len(dataset))\n",
    "\n",
    "dataset = dataset.shuffle(seed=seed)\n",
    "dataset = dataset.train_test_split(test_size=0.3)\n",
    "test = dataset['test']\n",
    "temp = dataset['train'].train_test_split(test_size=1/7)\n",
    "train = temp['train']\n",
    "val = temp['test']\n",
    "dataset = DatasetDict({'train': train, 'val': val, 'test': test})\n",
    "\n",
    "input_ids = {'train': [], 'val': [], 'test': []}\n",
    "texts = {'train': [], 'val': [], 'test': []}\n",
    "labels = {'train': [], 'val': [], 'test': []}\n",
    "orig_idx = {'train': [], 'val': [], 'test': []}\n",
    "cutoff_at = {'train': [], 'val': [], 'test': []}\n",
    "for cutoff in tok_idxs[5:]: \n",
    "    print(cutoff)\n",
    "    for split in ['train', 'val', 'test']:\n",
    "        input_ids[split].extend([x[:cutoff] for x in dataset[split]['input_ids']])\n",
    "        texts[split].extend(dataset[split]['text'])\n",
    "        labels[split].extend(dataset[split]['labels'])\n",
    "        orig_idx[split].extend(dataset[split]['orig_idx'])\n",
    "        cutoff_at[split].extend([cutoff for _ in range(len(dataset[split]['input_ids']))])\n",
    "\n",
    "dataset = DatasetDict({'train': Dataset.from_dict({'input_ids': input_ids['train'], 'text': texts['train'], 'labels': labels['train'], 'orig_idx': orig_idx['train'], 'cutoff_at': cutoff_at['train']}),\n",
    "                          'val': Dataset.from_dict({'input_ids': input_ids['val'], 'text': texts['val'], 'labels': labels['val'], 'orig_idx': orig_idx['val'], 'cutoff_at': cutoff_at['val']}),\n",
    "                          'test': Dataset.from_dict({'input_ids': input_ids['test'], 'text': texts['test'], 'labels': labels['test'], 'orig_idx': orig_idx['test'], 'cutoff_at': cutoff_at['test']})})"
   ]
  },
  {
   "cell_type": "code",
   "execution_count": 27,
   "metadata": {},
   "outputs": [
    {
     "data": {
      "text/plain": [
       "DatasetDict({\n",
       "    train: Dataset({\n",
       "        features: ['input_ids', 'text', 'labels', 'orig_idx', 'cutoff_at'],\n",
       "        num_rows: 17535\n",
       "    })\n",
       "    val: Dataset({\n",
       "        features: ['input_ids', 'text', 'labels', 'orig_idx', 'cutoff_at'],\n",
       "        num_rows: 2925\n",
       "    })\n",
       "    test: Dataset({\n",
       "        features: ['input_ids', 'text', 'labels', 'orig_idx', 'cutoff_at'],\n",
       "        num_rows: 8770\n",
       "    })\n",
       "})"
      ]
     },
     "execution_count": 27,
     "metadata": {},
     "output_type": "execute_result"
    }
   ],
   "source": [
    "dataset"
   ]
  },
  {
   "cell_type": "code",
   "execution_count": 28,
   "metadata": {},
   "outputs": [
    {
     "name": "stderr",
     "output_type": "stream",
     "text": [
      "Saving the dataset (0/1 shards):   0%|          | 0/17535 [00:00<?, ? examples/s]"
     ]
    },
    {
     "name": "stderr",
     "output_type": "stream",
     "text": [
      "Saving the dataset (1/1 shards): 100%|██████████| 17535/17535 [00:00<00:00, 195104.87 examples/s]\n",
      "Saving the dataset (1/1 shards): 100%|██████████| 2925/2925 [00:00<00:00, 189367.13 examples/s]\n",
      "Saving the dataset (1/1 shards): 100%|██████████| 8770/8770 [00:00<00:00, 192412.35 examples/s]\n"
     ]
    }
   ],
   "source": [
    "dataset.save_to_disk(os.path.join(path, 'split_dataset'))"
   ]
  },
  {
   "cell_type": "markdown",
   "metadata": {},
   "source": [
    "### Make generalization datasets"
   ]
  },
  {
   "cell_type": "code",
   "execution_count": 29,
   "metadata": {},
   "outputs": [
    {
     "name": "stdout",
     "output_type": "stream",
     "text": [
      "205\n"
     ]
    }
   ],
   "source": [
    "hard_pos = df[df['tok_by_tok_sim'] != 1]\n",
    "hard_pos = hard_pos[hard_pos['tok_by_tok_sim'] >= 0.9]\n",
    "                    \n",
    "positive_idxs = hard_pos.index.tolist()\n",
    "\n",
    "print(len(hard_pos))"
   ]
  },
  {
   "cell_type": "code",
   "execution_count": 30,
   "metadata": {},
   "outputs": [
    {
     "name": "stdout",
     "output_type": "stream",
     "text": [
      "205 205 205\n"
     ]
    }
   ],
   "source": [
    "final_tokens = []\n",
    "final_str = []\n",
    "labels = []\n",
    "for i in hard_pos.index.tolist(): \n",
    "    final_tokens.append(df['toks'][i])\n",
    "    final_str.append(df['gen'][i])\n",
    "    labels.append(1)\n",
    "\n",
    "print(len(final_tokens), len(final_str), len(labels))\n",
    "\n",
    "fuzzy_pos = Dataset.from_dict({'input_ids': final_tokens, 'text': final_str, 'labels': labels, 'orig_idx': hard_pos.index.tolist()})"
   ]
  },
  {
   "cell_type": "code",
   "execution_count": 31,
   "metadata": {},
   "outputs": [
    {
     "name": "stderr",
     "output_type": "stream",
     "text": [
      "Resolving data files: 100%|██████████| 1650/1650 [00:01<00:00, 1013.22it/s]\n",
      "100%|██████████| 10000/10000 [00:40<00:00, 244.47it/s]\n"
     ]
    }
   ],
   "source": [
    "test_dataset = load_from_disk(os.path.join(path, 'split_dataset'))['test']\n",
    "new_pile_sentences = gen_pile_data(20000, tokenizer, min_n_toks = 64)[10000:]\n",
    "\n",
    "max_toks = 256\n",
    "prefix_lens = [8,16,32,64,128,256]\n",
    "\n",
    "new_pile_toks = []\n",
    "for i in tqdm(range(len(new_pile_sentences))): \n",
    "    prompt = new_pile_sentences[i]\n",
    "    toks = tokenizer(prompt)['input_ids']\n",
    "    if len(toks) > max_toks:\n",
    "        prefix_len = np.random.choice(prefix_lens)\n",
    "        start_idx = np.random.choice(range(len(toks) - prefix_len))\n",
    "        end_idx = start_idx + prefix_len\n",
    "        toks = toks[start_idx:end_idx]\n",
    "    new_pile_toks.append(toks)"
   ]
  },
  {
   "cell_type": "code",
   "execution_count": 32,
   "metadata": {},
   "outputs": [
    {
     "name": "stderr",
     "output_type": "stream",
     "text": [
      "100%|██████████| 8770/8770 [00:04<00:00, 1764.20it/s]\n"
     ]
    }
   ],
   "source": [
    "new_line_tok = tokenizer('\\n\\n').input_ids\n",
    "test_input_ids = test_dataset['input_ids']\n",
    "\n",
    "for i in tqdm(range(len(test_input_ids))):\n",
    "    prefix_idx = np.random.choice(range(len(new_pile_toks)))\n",
    "    prefix = new_pile_toks[prefix_idx]\n",
    "    test_input_ids[i] = prefix + new_line_tok + test_input_ids[i]"
   ]
  },
  {
   "cell_type": "code",
   "execution_count": 33,
   "metadata": {},
   "outputs": [],
   "source": [
    "prefix_dataset = Dataset.from_dict({'input_ids': test_input_ids, 'text': test_dataset['text'], 'labels': test_dataset['labels'], 'orig_idx': test_dataset['orig_idx']})"
   ]
  },
  {
   "cell_type": "code",
   "execution_count": 34,
   "metadata": {},
   "outputs": [
    {
     "name": "stdout",
     "output_type": "stream",
     "text": [
      "Loaded mem data from 12b distribution\n"
     ]
    }
   ],
   "source": [
    "with open(os.path.join(path, 'pythia-evals-12b/mem_all_mem_status.pkl'), 'rb') as f:\n",
    "    status = pickle.load(f)\n",
    "\n",
    "with open(os.path.join(path, 'pythia-evals-12b/mem_all_generations.pkl'), 'rb') as f:\n",
    "    mem_all_generations = pickle.load(f)\n",
    "\n",
    "with open(os.path.join(path, 'pythia-evals-12b/mem_all_tokens.pkl'), 'rb') as f:\n",
    "    mem_all_tokens = pickle.load(f)\n",
    "\n",
    "print('Loaded mem data from 12b distribution')"
   ]
  },
  {
   "cell_type": "code",
   "execution_count": 47,
   "metadata": {},
   "outputs": [],
   "source": [
    "mem_data = load_dataset('EleutherAI/pythia-memorized-evals')['duped.12b']\n",
    "mem_data_toks = [seq for seq in mem_data[:N_PROMPTS]['tokens']]\n",
    "\n",
    "source = ['pythia-evals-12b' for _ in range(N_PROMPTS)]\n",
    "gen = mem_all_generations\n",
    "mem_str = tokenizer.batch_decode(mem_all_tokens, skip_special_tokens=True)\n",
    "ground = mem_str\n",
    "mem_status = status['tok_by_tok_sim']\n",
    "char_status = status['char_by_char_sim']\n",
    "lev_status = status['lev_distance']\n",
    "orig_index = [i for i in range(N_PROMPTS)]\n",
    "toks = mem_all_tokens\n",
    "df = pd.DataFrame(list(zip(gen, ground, mem_status, char_status, lev_status, toks, source, orig_index)), \n",
    "               columns =['gen', 'ground', 'tok_by_tok_sim', 'char_by_char_sim', 'lev_distance', 'toks', 'source', 'orig_index'])"
   ]
  },
  {
   "cell_type": "code",
   "execution_count": 49,
   "metadata": {},
   "outputs": [
    {
     "name": "stdout",
     "output_type": "stream",
     "text": [
      "4942\n"
     ]
    },
    {
     "name": "stderr",
     "output_type": "stream",
     "text": [
      "4942it [00:00, 19124.19it/s]\n"
     ]
    },
    {
     "name": "stdout",
     "output_type": "stream",
     "text": [
      "195\n"
     ]
    },
    {
     "name": "stderr",
     "output_type": "stream",
     "text": [
      "4747it [00:00, 12597.64it/s]\n"
     ]
    },
    {
     "name": "stdout",
     "output_type": "stream",
     "text": [
      "108\n"
     ]
    },
    {
     "name": "stderr",
     "output_type": "stream",
     "text": [
      "4639it [00:00, 4848.61it/s]"
     ]
    },
    {
     "name": "stdout",
     "output_type": "stream",
     "text": [
      "1232\n"
     ]
    },
    {
     "name": "stderr",
     "output_type": "stream",
     "text": [
      "\n"
     ]
    }
   ],
   "source": [
    "df = df.drop_duplicates(subset=['gen', 'ground'], keep='first')\n",
    "print(len(df))\n",
    "\n",
    "# df['toks'] = df['toks'].apply(lambda x: eval(x))\n",
    "\n",
    "rows_to_drop = []\n",
    "for i, row in tqdm(df.iterrows()):\n",
    "    if has_repeated_majority(row['toks'], frac=1/4):\n",
    "        rows_to_drop.append(i)\n",
    "\n",
    "print(len(rows_to_drop))\n",
    "df = df.drop(rows_to_drop)\n",
    "\n",
    "rows_to_drop = []\n",
    "for i, row in tqdm(df.iterrows()):\n",
    "    if check_repeated_string(row['gen']) or check_increment(row['gen']):\n",
    "        rows_to_drop.append(i)\n",
    "\n",
    "print(len(rows_to_drop))\n",
    "df = df.drop(rows_to_drop)\n",
    "\n",
    "rows_to_drop = []\n",
    "for i, row in tqdm(df.iterrows()):\n",
    "    if repeats_subseq(row['toks']):\n",
    "        rows_to_drop.append(i)\n",
    "\n",
    "print(len(rows_to_drop))\n",
    "df = df.drop(rows_to_drop)"
   ]
  },
  {
   "cell_type": "code",
   "execution_count": 51,
   "metadata": {},
   "outputs": [
    {
     "data": {
      "image/png": "[encoded data removed]",
      "text/plain": [
       "<Figure size 1000x1000 with 2 Axes>"
      ]
     },
     "metadata": {},
     "output_type": "display_data"
    }
   ],
   "source": [
    "import matplotlib.pyplot as plt\n",
    "\n",
    "fig, ax = plt.subplots(1,2, figsize=(10,10))\n",
    "ax[0].hist(df['lev_distance'])\n",
    "ax[1].hist(df['tok_by_tok_sim'])\n",
    "ax[0].set_title('12b lev_distance')\n",
    "ax[1].set_title('12b tok_by_tok_sim')\n",
    "plt.show()"
   ]
  },
  {
   "cell_type": "code",
   "execution_count": 52,
   "metadata": {},
   "outputs": [
    {
     "name": "stdout",
     "output_type": "stream",
     "text": [
      "582 1788\n"
     ]
    },
    {
     "name": "stderr",
     "output_type": "stream",
     "text": [
      "100%|██████████| 582/582 [00:00<00:00, 91718.39it/s]\n",
      "100%|██████████| 582/582 [00:00<00:00, 97756.80it/s]"
     ]
    },
    {
     "name": "stdout",
     "output_type": "stream",
     "text": [
      "1164 1164 1164 3407\n",
      "0.5\n"
     ]
    },
    {
     "name": "stderr",
     "output_type": "stream",
     "text": [
      "\n"
     ]
    }
   ],
   "source": [
    "neg = df[df['tok_by_tok_sim'] <= 0.55]\n",
    "pos = df[df['tok_by_tok_sim'] == 1]\n",
    "\n",
    "print(len(neg), len(pos))\n",
    "\n",
    "min_len = min(len(neg), len(pos))\n",
    "\n",
    "positive_idxs = pos.index.tolist()\n",
    "negative_idxs = neg.index.tolist()\n",
    "\n",
    "import numpy as np\n",
    "np.random.seed(0)\n",
    "positive_idxs = np.random.choice(positive_idxs, min_len, replace=False)\n",
    "negative_idxs = np.random.choice(negative_idxs, min_len, replace=False)\n",
    "\n",
    "final_tokens = []\n",
    "final_str = []\n",
    "labels = []\n",
    "for i in tqdm(positive_idxs): \n",
    "    final_tokens.append(df['toks'][i])\n",
    "    final_str.append(df['gen'][i])\n",
    "    labels.append(1)\n",
    "for i in tqdm(negative_idxs):\n",
    "    final_tokens.append(df['toks'][i])\n",
    "    final_str.append(df['gen'][i])\n",
    "    labels.append(0)\n",
    "\n",
    "print(len(final_tokens), len(final_str), len(labels), len(df))\n",
    "print(sum(labels)/len(labels))"
   ]
  },
  {
   "cell_type": "code",
   "execution_count": 55,
   "metadata": {},
   "outputs": [
    {
     "name": "stdout",
     "output_type": "stream",
     "text": [
      "1164\n"
     ]
    },
    {
     "data": {
      "text/plain": [
       "Dataset({\n",
       "    features: ['input_ids', 'text', 'labels', 'orig_idx'],\n",
       "    num_rows: 1164\n",
       "})"
      ]
     },
     "execution_count": 55,
     "metadata": {},
     "output_type": "execute_result"
    }
   ],
   "source": [
    "from datasets import Dataset, DatasetDict, load_from_disk\n",
    "idxs = positive_idxs.tolist() + negative_idxs.tolist()\n",
    "mem_dist_dataset = Dataset.from_dict({'input_ids': final_tokens, 'text': final_str, 'labels': labels, 'orig_idx': idxs})\n",
    "print(len(mem_dist_dataset))\n",
    "\n",
    "mem_dist_dataset"
   ]
  },
  {
   "cell_type": "code",
   "execution_count": 56,
   "metadata": {},
   "outputs": [
    {
     "name": "stderr",
     "output_type": "stream",
     "text": [
      "Saving the dataset (1/1 shards): 100%|██████████| 205/205 [00:00<00:00, 56720.91 examples/s]\n",
      "Saving the dataset (1/1 shards): 100%|██████████| 8770/8770 [00:00<00:00, 391652.96 examples/s]\n",
      "Saving the dataset (1/1 shards): 100%|██████████| 1164/1164 [00:00<00:00, 325499.69 examples/s]\n"
     ]
    },
    {
     "data": {
      "text/plain": [
       "DatasetDict({\n",
       "    fuzzy_pos: Dataset({\n",
       "        features: ['input_ids', 'text', 'labels', 'orig_idx'],\n",
       "        num_rows: 205\n",
       "    })\n",
       "    prefix: Dataset({\n",
       "        features: ['input_ids', 'text', 'labels', 'orig_idx'],\n",
       "        num_rows: 8770\n",
       "    })\n",
       "    mem_dist: Dataset({\n",
       "        features: ['input_ids', 'text', 'labels', 'orig_idx'],\n",
       "        num_rows: 1164\n",
       "    })\n",
       "})"
      ]
     },
     "execution_count": 56,
     "metadata": {},
     "output_type": "execute_result"
    }
   ],
   "source": [
    "generalization_datasets = DatasetDict({'fuzzy_pos': fuzzy_pos, 'prefix': prefix_dataset, 'mem_dist': mem_dist_dataset})\n",
    "generalization_datasets.save_to_disk(os.path.join(path, 'generalization_datasets'))\n",
    "generalization_datasets"
   ]
  },
  {
   "cell_type": "code",
   "execution_count": null,
   "metadata": {},
   "outputs": [],
   "source": []
  }
 ],
 "metadata": {
  "kernelspec": {
   "display_name": "base",
   "language": "python",
   "name": "python3"
  },
  "language_info": {
   "codemirror_mode": {
    "name": "ipython",
    "version": 3
   },
   "file_extension": ".py",
   "mimetype": "text/x-python",
   "name": "python",
   "nbconvert_exporter": "python",
   "pygments_lexer": "ipython3",
   "version": "3.10.13"
  }
 },
 "nbformat": 4,
 "nbformat_minor": 2
}
