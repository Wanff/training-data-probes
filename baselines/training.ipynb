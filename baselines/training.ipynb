{
 "cells": [
  {
   "cell_type": "markdown",
   "metadata": {},
   "source": [
    "## Main"
   ]
  },
  {
   "cell_type": "markdown",
   "metadata": {},
   "source": [
    "### Training"
   ]
  },
  {
   "cell_type": "code",
   "execution_count": 1,
   "metadata": {},
   "outputs": [
    {
     "name": "stderr",
     "output_type": "stream",
     "text": [
      "/home/ubuntu/anaconda3/envs/myenv/lib/python3.10/site-packages/tqdm/auto.py:21: TqdmWarning: IProgress not found. Please update jupyter and ipywidgets. See https://ipywidgets.readthedocs.io/en/stable/user_install.html\n",
      "  from .autonotebook import tqdm as notebook_tqdm\n",
      "Special tokens have been added in the vocabulary, make sure the associated word embeddings are fine-tuned or trained.\n",
      "Some weights of DistilBertForSequenceClassification were not initialized from the model checkpoint at distilbert-base-uncased and are newly initialized: ['pre_classifier.weight', 'pre_classifier.bias', 'classifier.weight', 'classifier.bias']\n",
      "You should probably TRAIN this model on a down-stream task to be able to use it for predictions and inference.\n"
     ]
    }
   ],
   "source": [
    "from transformers import AutoTokenizer, AutoModelForSequenceClassification, Trainer, TrainingArguments, set_seed\n",
    "import evaluate\n",
    "import torch\n",
    "import os\n",
    "import numpy as np\n",
    "from tqdm import tqdm\n",
    "from datasets import load_from_disk, DatasetDict\n",
    "from sklearn.metrics import accuracy_score, precision_recall_fscore_support, roc_auc_score\n",
    "import gc\n",
    "\n",
    "seed = 0\n",
    "np.random.seed(seed)\n",
    "torch.manual_seed(seed)\n",
    "set_seed(seed)\n",
    "\n",
    "lr = 1e-4\n",
    "batch_size = 32\n",
    "num_epochs = 2\n",
    "\n",
    "# os.environ[\"CUDA_VISIBLE_DEVICES\"]=\"0\"\n",
    "\n",
    "model_name = 'distilbert-base-uncased'\n",
    "tokenizer = AutoTokenizer.from_pretrained(model_name, padding='left')\n",
    "orig_tokenizer = AutoTokenizer.from_pretrained('EleutherAI/pythia-12b')\n",
    "path = '../../../gld/train-data-probes/data/12b'\n",
    "dataset = load_from_disk(os.path.join(path, 'split_hf_token_dataset_vary_len_v2'))\n",
    "id2label = {0: 'neg', 1: 'pos'}\n",
    "label2id = {'neg': 0, 'pos': 1}\n",
    "model = AutoModelForSequenceClassification.from_pretrained(model_name, num_labels=2, id2label=id2label, label2id=label2id)\n",
    "model.to('cuda')\n",
    "if tokenizer.pad_token is None:\n",
    "    tokenizer.add_special_tokens({'pad_token': '[PAD]'})\n",
    "    model.resize_token_embeddings(len(tokenizer))\n",
    "# tokenizer.pad_token = tokenizer.eos_token\n",
    "model.config.pad_token_id = model.config.eos_token_id"
   ]
  },
  {
   "cell_type": "code",
   "execution_count": 2,
   "metadata": {},
   "outputs": [],
   "source": [
    "# def preprocess(examples): \n",
    "#     return {'input_ids': tokenizer(examples['ground_str'], padding='max_length', truncation=True, max_length=64, return_tensors='pt')['input_ids']}\n",
    "\n",
    "# dataset = dataset.map(preprocess, batched=True)\n",
    "# dataset"
   ]
  },
  {
   "cell_type": "code",
   "execution_count": 3,
   "metadata": {},
   "outputs": [],
   "source": [
    "# from datasets import load_from_disk, DatasetDict, Dataset\n",
    "# import numpy as np\n",
    "\n",
    "# seed = 0\n",
    "# np.random.seed(seed)\n",
    "\n",
    "# print(len(dataset))\n",
    "\n",
    "# dataset = dataset.shuffle(seed=seed)\n",
    "# dataset = dataset.train_test_split(test_size=0.3)\n",
    "# test = dataset['test']\n",
    "# temp = dataset['train'].train_test_split(test_size=1/7)\n",
    "# train = temp['train']\n",
    "# val = temp['test']\n",
    "# dataset = DatasetDict({'train': train, 'val': val, 'test': test})\n",
    "\n",
    "# tok_idxs =  (7 * np.arange(10)).tolist() #every 5th token\n",
    "# tok_idxs[-1]= tok_idxs[-1] - 1 #goes from 63 to 62\n",
    "# print(tok_idxs)\n",
    "\n",
    "# # cutoff after 64 tokens\n",
    "# input_ids = {'train': [], 'val': [], 'test': []}\n",
    "# texts = {'train': [], 'val': [], 'test': []}\n",
    "# labels = {'train': [], 'val': [], 'test': []}\n",
    "# orig_idx = {'train': [], 'val': [], 'test': []}\n",
    "# for cutoff in tok_idxs[5:]: \n",
    "#     print(cutoff)\n",
    "#     for split in ['train', 'val', 'test']:\n",
    "#         input_ids[split].extend([x[:cutoff] for x in dataset[split]['input_ids']])\n",
    "#         texts[split].extend(dataset[split]['ground_str'])\n",
    "#         labels[split].extend([int(x) for x in dataset[split]['pythia_label']])\n",
    "#         orig_idx[split].extend(dataset[split]['orig_idx'])\n",
    "\n",
    "# dataset = DatasetDict({'train': Dataset.from_dict({'input_ids': input_ids['train'], 'text': texts['train'], 'labels': labels['train'], 'orig_idx': orig_idx['train']}),\n",
    "#                           'val': Dataset.from_dict({'input_ids': input_ids['val'], 'text': texts['val'], 'labels': labels['val'], 'orig_idx': orig_idx['val']}),\n",
    "#                           'test': Dataset.from_dict({'input_ids': input_ids['test'], 'text': texts['test'], 'labels': labels['test'], 'orig_idx': orig_idx['test']})})"
   ]
  },
  {
   "cell_type": "code",
   "execution_count": 4,
   "metadata": {},
   "outputs": [
    {
     "data": {
      "text/plain": [
       "DatasetDict({\n",
       "    train: Dataset({\n",
       "        features: ['input_ids', 'labels', 'df_ref_idx'],\n",
       "        num_rows: 20235\n",
       "    })\n",
       "    val: Dataset({\n",
       "        features: ['input_ids', 'labels', 'df_ref_idx'],\n",
       "        num_rows: 3375\n",
       "    })\n",
       "    test: Dataset({\n",
       "        features: ['input_ids', 'labels', 'df_ref_idx'],\n",
       "        num_rows: 10120\n",
       "    })\n",
       "})"
      ]
     },
     "execution_count": 4,
     "metadata": {},
     "output_type": "execute_result"
    }
   ],
   "source": [
    "dataset"
   ]
  },
  {
   "cell_type": "code",
   "execution_count": 5,
   "metadata": {},
   "outputs": [
    {
     "name": "stderr",
     "output_type": "stream",
     "text": [
      "Map:   0%|          | 0/20235 [00:00<?, ? examples/s]"
     ]
    },
    {
     "name": "stderr",
     "output_type": "stream",
     "text": [
      "Map: 100%|██████████| 20235/20235 [00:13<00:00, 1518.99 examples/s]\n",
      "Map: 100%|██████████| 3375/3375 [00:02<00:00, 1539.80 examples/s]\n",
      "Map: 100%|██████████| 10120/10120 [00:06<00:00, 1499.01 examples/s]\n",
      "Map: 100%|██████████| 20235/20235 [00:01<00:00, 12805.76 examples/s]\n",
      "Map: 100%|██████████| 3375/3375 [00:00<00:00, 12709.89 examples/s]\n",
      "Map: 100%|██████████| 10120/10120 [00:00<00:00, 10892.52 examples/s]"
     ]
    },
    {
     "name": "stdout",
     "output_type": "stream",
     "text": [
      "64 64 64\n"
     ]
    },
    {
     "name": "stderr",
     "output_type": "stream",
     "text": [
      "\n"
     ]
    }
   ],
   "source": [
    "# pad datasets\n",
    "\n",
    "# def tokenize(example): \n",
    "#     return {'input_ids': tokenizer(example['text'], padding='max_length', truncation=True, max_length=64)['input_ids']}\n",
    "\n",
    "# dataset['train'] = dataset['train'].map(tokenize, batched=False)\n",
    "# dataset['val'] = dataset['val'].map(tokenize, batched=False)\n",
    "# dataset['test'] = dataset['test'].map(tokenize, batched=False)\n",
    "\n",
    "def retokenize(example): \n",
    "    return {'input_ids': tokenizer(orig_tokenizer.decode(example['input_ids']), padding='max_length', truncation=True, max_length=64, return_tensors='pt')['input_ids'][0]}\n",
    "\n",
    "dataset['train'] = dataset['train'].map(retokenize, batched=False)\n",
    "dataset['val'] = dataset['val'].map(retokenize, batched=False)\n",
    "dataset['test'] = dataset['test'].map(retokenize, batched=False)\n",
    "\n",
    "max_train_len = max([len(x['input_ids']) for x in dataset['train']])\n",
    "max_val_len = max([len(x['input_ids']) for x in dataset['val']])\n",
    "max_test_len = max([len(x['input_ids']) for x in dataset['test']])\n",
    "\n",
    "def preprocess(examples): \n",
    "    curr_len = len(examples['input_ids'])\n",
    "    if curr_len < max_train_len:\n",
    "        examples['input_ids'] = examples['input_ids'] + [tokenizer.pad_token_id]*(max_train_len-curr_len)\n",
    "    return examples\n",
    "\n",
    "dataset['train'] = dataset['train'].map(preprocess)\n",
    "dataset['val'] = dataset['val'].map(preprocess)\n",
    "dataset['test'] = dataset['test'].map(preprocess)\n",
    "\n",
    "print(max_train_len, max_val_len, max_test_len)"
   ]
  },
  {
   "cell_type": "code",
   "execution_count": 6,
   "metadata": {},
   "outputs": [],
   "source": [
    "train_lens = [len(x['input_ids']) for x in dataset['train']]\n",
    "val_lens = [len(x['input_ids']) for x in dataset['val']]\n",
    "test_lens = [len(x['input_ids']) for x in dataset['test']]\n",
    "\n",
    "assert set(train_lens) == set(val_lens) == set(test_lens)"
   ]
  },
  {
   "cell_type": "code",
   "execution_count": 7,
   "metadata": {},
   "outputs": [],
   "source": [
    "def tpr_at_fpr(probs, labels, target_fpr, left=0.5, right=1.0, max_steps=1000, thresh_tol=1e-6): \n",
    "    \"\"\"\n",
    "    Calculates the true positive rate at a given false positive rate. \n",
    "    Does up to max_steps steps of binary search, returns the best guess \n",
    "    that yields a false positive rate less than target_fpr\n",
    "    \n",
    "    probs: (n_examples, ) just prob on positive class\n",
    "    labels: (n_examples, ) 0 or 1\n",
    "    \"\"\"\n",
    "    assert len(probs) == len(labels)\n",
    "    assert probs.shape == labels.shape\n",
    "    assert probs.shape[0] > 0\n",
    "\n",
    "    for _ in range(max_steps):\n",
    "        mid = (left + right) / 2\n",
    "        \n",
    "        # calc fpr \n",
    "        preds = (probs > mid).astype(int)\n",
    "        fp = np.logical_and(preds == 1, labels == 0).sum()\n",
    "        tn = (labels == 0).sum()\n",
    "        fpr = fp / tn if tn > 0 else 0\n",
    "\n",
    "        if abs(fpr - target_fpr) < thresh_tol: \n",
    "            right = mid\n",
    "            break\n",
    "        elif fpr > target_fpr:\n",
    "            left = mid\n",
    "        else:\n",
    "            right = mid\n",
    "    \n",
    "    # use right as threshold to ensure fpr <= target_fpr\n",
    "    preds = (probs > right).astype(int)\n",
    "    tp = np.logical_and(preds == 1, labels == 1).sum()\n",
    "    fn = (labels == 1).sum()\n",
    "    return tp / fn if fn > 0 else 0"
   ]
  },
  {
   "cell_type": "code",
   "execution_count": 11,
   "metadata": {},
   "outputs": [],
   "source": [
    "loss_fn = torch.nn.CrossEntropyLoss()\n",
    "data = {'val_loss': [], 'accuracy': [], 'precision': [], 'recall': [], 'f1': [], 'AUC': [], 'tpr_01': [], 'tpr_001': [], 'tpr_0001': []}\n",
    "\n",
    "def compute_metrics(eval_pred):\n",
    "    \n",
    "    logits, labels = eval_pred\n",
    "    logits = np.array(logits) # (n_examples, n_classes)\n",
    "    labels = np.array(labels) # (n_examples)\n",
    "\n",
    "    preds = np.argmax(logits, axis=1)\n",
    "    normalized_prob = np.exp(logits) / np.exp(logits).sum(axis=1, keepdims=True)\n",
    "    positive_prob = normalized_prob[:, 1]\n",
    "    acc = accuracy_score(labels, preds)\n",
    "    precision, recall, f1, _ = precision_recall_fscore_support(labels, preds, average='binary')\n",
    "    auc = roc_auc_score(labels, positive_prob)\n",
    "    \n",
    "    # loss = loss_fn(torch.tensor(logits), torch.tensor(labels))\n",
    "\n",
    "    # calculate tpr at fpr = 0.01, 0.001, and 0.0001\n",
    "    tpr_01 = tpr_at_fpr(positive_prob, labels, 0.01)\n",
    "    tpr_001 = tpr_at_fpr(positive_prob, labels, 0.001)\n",
    "    tpr_0001 = tpr_at_fpr(positive_prob, labels, 0.0001)\n",
    "\n",
    "    # log\n",
    "    data['accuracy'].append(acc)\n",
    "    data['precision'].append(precision)\n",
    "    data['recall'].append(recall)\n",
    "    data['f1'].append(f1)\n",
    "    data['AUC'].append(auc)\n",
    "    data['tpr_01'].append(tpr_01)\n",
    "    data['tpr_001'].append(tpr_001)\n",
    "    data['tpr_0001'].append(tpr_0001)\n",
    "\n",
    "    return {'accuracy': acc, 'precision': precision, 'recall': recall, 'f1': f1, 'AUC': auc, 'tpr_01': tpr_01, 'tpr_001': tpr_001, 'tpr_0001': tpr_0001}"
   ]
  },
  {
   "cell_type": "code",
   "execution_count": 12,
   "metadata": {},
   "outputs": [],
   "source": [
    "targs = TrainingArguments(\n",
    "            output_dir = os.path.join(path, 'finetuning/final'),\n",
    "            evaluation_strategy = 'epoch',\n",
    "            logging_strategy = 'epoch',\n",
    "            save_strategy='epoch',\n",
    "            learning_rate=lr,\n",
    "            per_device_train_batch_size=batch_size,\n",
    "            per_device_eval_batch_size=128,\n",
    "            num_train_epochs=1,\n",
    "            save_total_limit=10,\n",
    "            load_best_model_at_end=True,\n",
    "            metric_for_best_model='accuracy',\n",
    "            weight_decay=0.01,\n",
    "            report_to='none',\n",
    "            seed=seed,\n",
    "            eval_accumulation_steps=1,\n",
    "        )\n",
    "\n",
    "trainer = Trainer(\n",
    "            model=model,\n",
    "            tokenizer=tokenizer, \n",
    "            args=targs,\n",
    "            train_dataset=dataset['train'],\n",
    "            eval_dataset=dataset['val'], \n",
    "            compute_metrics=compute_metrics,\n",
    "        )"
   ]
  },
  {
   "cell_type": "code",
   "execution_count": 14,
   "metadata": {},
   "outputs": [
    {
     "name": "stderr",
     "output_type": "stream",
     "text": [
      "/home/ubuntu/anaconda3/envs/myenv/lib/python3.10/site-packages/torch/nn/parallel/_functions.py:68: UserWarning: Was asked to gather along dimension 0, but all input tensors were scalars; will instead unsqueeze and return a vector.\n",
      "  warnings.warn('Was asked to gather along dimension 0, but all '\n"
     ]
    },
    {
     "data": {
      "text/html": [
       "\n",
       "    <div>\n",
       "      \n",
       "      <progress value='159' max='159' style='width:300px; height:20px; vertical-align: middle;'></progress>\n",
       "      [159/159 00:46, Epoch 1/1]\n",
       "    </div>\n",
       "    <table border=\"1\" class=\"dataframe\">\n",
       "  <thead>\n",
       " <tr style=\"text-align: left;\">\n",
       "      <th>Epoch</th>\n",
       "      <th>Training Loss</th>\n",
       "      <th>Validation Loss</th>\n",
       "      <th>Accuracy</th>\n",
       "      <th>Precision</th>\n",
       "      <th>Recall</th>\n",
       "      <th>F1</th>\n",
       "      <th>Auc</th>\n",
       "      <th>Tpr 01</th>\n",
       "      <th>Tpr 001</th>\n",
       "      <th>Tpr 0001</th>\n",
       "    </tr>\n",
       "  </thead>\n",
       "  <tbody>\n",
       "    <tr>\n",
       "      <td>1</td>\n",
       "      <td>0.033500</td>\n",
       "      <td>0.771511</td>\n",
       "      <td>0.861926</td>\n",
       "      <td>0.859587</td>\n",
       "      <td>0.864688</td>\n",
       "      <td>0.862130</td>\n",
       "      <td>0.907961</td>\n",
       "      <td>0.230267</td>\n",
       "      <td>0.048071</td>\n",
       "      <td>0.039169</td>\n",
       "    </tr>\n",
       "  </tbody>\n",
       "</table><p>"
      ],
      "text/plain": [
       "<IPython.core.display.HTML object>"
      ]
     },
     "metadata": {},
     "output_type": "display_data"
    },
    {
     "name": "stderr",
     "output_type": "stream",
     "text": [
      "Checkpoint destination directory ../../../gld/train-data-probes/data/12b/finetuning/final/checkpoint-159 already exists and is non-empty.Saving will proceed but saved results may be invalid.\n"
     ]
    },
    {
     "data": {
      "text/plain": [
       "TrainOutput(global_step=159, training_loss=0.03349906693464555, metrics={'train_runtime': 47.0826, 'train_samples_per_second': 429.777, 'train_steps_per_second': 3.377, 'total_flos': 335059726475520.0, 'train_loss': 0.03349906693464555, 'epoch': 1.0})"
      ]
     },
     "execution_count": 14,
     "metadata": {},
     "output_type": "execute_result"
    }
   ],
   "source": [
    "trainer.train()"
   ]
  },
  {
   "cell_type": "code",
   "execution_count": 15,
   "metadata": {},
   "outputs": [],
   "source": [
    "model.save_pretrained(os.path.join(path, 'finetuning/distilbert-base-uncased'))"
   ]
  },
  {
   "cell_type": "code",
   "execution_count": null,
   "metadata": {},
   "outputs": [],
   "source": []
  },
  {
   "cell_type": "markdown",
   "metadata": {},
   "source": [
    "### Evaluation"
   ]
  },
  {
   "cell_type": "code",
   "execution_count": 1,
   "metadata": {},
   "outputs": [
    {
     "name": "stderr",
     "output_type": "stream",
     "text": [
      "/home/ubuntu/anaconda3/envs/myenv/lib/python3.10/site-packages/tqdm/auto.py:21: TqdmWarning: IProgress not found. Please update jupyter and ipywidgets. See https://ipywidgets.readthedocs.io/en/stable/user_install.html\n",
      "  from .autonotebook import tqdm as notebook_tqdm\n",
      "Special tokens have been added in the vocabulary, make sure the associated word embeddings are fine-tuned or trained.\n"
     ]
    }
   ],
   "source": [
    "from transformers import AutoTokenizer, AutoModelForSequenceClassification, Trainer, TrainingArguments, set_seed\n",
    "import evaluate\n",
    "import torch\n",
    "import os\n",
    "import numpy as np\n",
    "from tqdm import tqdm\n",
    "from datasets import load_from_disk, DatasetDict, Dataset, concatenate_datasets\n",
    "from sklearn.metrics import accuracy_score, precision_recall_fscore_support, roc_auc_score\n",
    "import gc\n",
    "import sys\n",
    "sys.path.append('..')\n",
    "from utils import tpr_at_fpr\n",
    "\n",
    "seed = 0\n",
    "np.random.seed(seed)\n",
    "torch.manual_seed(seed)\n",
    "set_seed(seed)\n",
    "\n",
    "os.environ[\"CUDA_VISIBLE_DEVICES\"]=\"0\"\n",
    "torch.cuda.set_device(0)\n",
    "\n",
    "model_name = 'distilbert-base-uncased'\n",
    "tokenizer = AutoTokenizer.from_pretrained(model_name, padding='left')\n",
    "orig_tokenizer = AutoTokenizer.from_pretrained('EleutherAI/pythia-12b')\n",
    "\n",
    "path = '../../../gld/train-data-probes/data/12b'\n",
    "dataset = load_from_disk(os.path.join(path, 'split_hf_token_dataset_vary_len_v2'))\n",
    "generalization_datasets = load_from_disk(os.path.join(path, 'generalization_datasets_unbalanced'))\n",
    "id2label = {0: 'neg', 1: 'pos'}\n",
    "label2id = {'neg': 0, 'pos': 1}\n",
    "model = AutoModelForSequenceClassification.from_pretrained(os.path.join(path, 'finetuning/distilbert-base-uncased'), num_labels=2, id2label=id2label, label2id=label2id)\n",
    "if tokenizer.pad_token is None:\n",
    "    tokenizer.add_special_tokens({'pad_token': '[PAD]'})\n",
    "    model.resize_token_embeddings(len(tokenizer))\n",
    "model.config.pad_token_id = model.config.eos_token_id"
   ]
  },
  {
   "cell_type": "code",
   "execution_count": 2,
   "metadata": {},
   "outputs": [
    {
     "name": "stderr",
     "output_type": "stream",
     "text": [
      "Map: 100%|██████████| 3375/3375 [00:02<00:00, 1525.19 examples/s]\n",
      "Map: 100%|██████████| 20235/20235 [00:01<00:00, 12824.35 examples/s]\n",
      "Map: 100%|██████████| 3375/3375 [00:00<00:00, 12756.27 examples/s]\n",
      "Map: 100%|██████████| 10120/10120 [00:00<00:00, 10693.39 examples/s]\n"
     ]
    },
    {
     "data": {
      "text/plain": [
       "DatasetDict({\n",
       "    train: Dataset({\n",
       "        features: ['input_ids', 'labels', 'df_ref_idx'],\n",
       "        num_rows: 20235\n",
       "    })\n",
       "    val: Dataset({\n",
       "        features: ['input_ids', 'labels', 'df_ref_idx'],\n",
       "        num_rows: 3375\n",
       "    })\n",
       "    test: Dataset({\n",
       "        features: ['input_ids', 'labels', 'df_ref_idx'],\n",
       "        num_rows: 10120\n",
       "    })\n",
       "})"
      ]
     },
     "execution_count": 2,
     "metadata": {},
     "output_type": "execute_result"
    }
   ],
   "source": [
    "# # pad datasets\n",
    "# def tokenize(example): \n",
    "#     return {'input_ids': tokenizer(example['text'], padding='max_length', truncation=True)['input_ids']}\n",
    "\n",
    "# dataset['train'] = dataset['train'].map(tokenize, batched=False)\n",
    "# dataset['val'] = dataset['val'].map(tokenize, batched=False)\n",
    "# dataset['test'] = dataset['test'].map(tokenize, batched=False)\n",
    "\n",
    "def retokenize(example): \n",
    "    return {'input_ids': tokenizer(orig_tokenizer.decode(example['input_ids']), padding='max_length', truncation=True, max_length=64, return_tensors='pt')['input_ids'][0]}\n",
    "\n",
    "dataset['train'] = dataset['train'].map(retokenize, batched=False)\n",
    "dataset['val'] = dataset['val'].map(retokenize, batched=False)\n",
    "dataset['test'] = dataset['test'].map(retokenize, batched=False)\n",
    "\n",
    "max_train_len = max([len(x['input_ids']) for x in dataset['train']])\n",
    "max_val_len = max([len(x['input_ids']) for x in dataset['val']])\n",
    "max_test_len = max([len(x['input_ids']) for x in dataset['test']])\n",
    "\n",
    "def preprocess(examples, max_len): \n",
    "    curr_len = len(examples['input_ids'])\n",
    "    if curr_len < max_train_len:\n",
    "        examples['input_ids'] = examples['input_ids'] + [tokenizer.pad_token_id]*(max_len-curr_len)\n",
    "    return examples\n",
    "\n",
    "dataset['train'] = dataset['train'].map(lambda x: preprocess(x, max_train_len))\n",
    "dataset['val'] = dataset['val'].map(lambda x: preprocess(x, max_val_len))\n",
    "dataset['test'] = dataset['test'].map(lambda x: preprocess(x, max_test_len))\n",
    "\n",
    "dataset"
   ]
  },
  {
   "cell_type": "code",
   "execution_count": 3,
   "metadata": {},
   "outputs": [
    {
     "data": {
      "text/plain": [
       "DatasetDict({\n",
       "    fuzzy_pos: Dataset({\n",
       "        features: ['input_ids', 'labels', 'df_ref_idx'],\n",
       "        num_rows: 2510\n",
       "    })\n",
       "    prefix: Dataset({\n",
       "        features: ['input_ids', 'labels', 'df_ref_idx'],\n",
       "        num_rows: 10120\n",
       "    })\n",
       "    quotes: Dataset({\n",
       "        features: ['text', 'labels'],\n",
       "        num_rows: 190\n",
       "    })\n",
       "    songs: Dataset({\n",
       "        features: ['input_ids', 'labels'],\n",
       "        num_rows: 508\n",
       "    })\n",
       "    emails_no_context: Dataset({\n",
       "        features: ['text', 'label'],\n",
       "        num_rows: 9890\n",
       "    })\n",
       "})"
      ]
     },
     "execution_count": 3,
     "metadata": {},
     "output_type": "execute_result"
    }
   ],
   "source": [
    "generalization_datasets"
   ]
  },
  {
   "cell_type": "code",
   "execution_count": 4,
   "metadata": {},
   "outputs": [
    {
     "name": "stderr",
     "output_type": "stream",
     "text": [
      "Map:   0%|          | 0/10120 [00:00<?, ? examples/s]"
     ]
    },
    {
     "name": "stderr",
     "output_type": "stream",
     "text": [
      "Map: 100%|██████████| 10120/10120 [00:15<00:00, 636.74 examples/s]\n",
      "Map: 100%|██████████| 2510/2510 [00:01<00:00, 1540.34 examples/s]\n",
      "Map: 100%|██████████| 508/508 [00:00<00:00, 1336.20 examples/s]\n"
     ]
    },
    {
     "name": "stdout",
     "output_type": "stream",
     "text": [
      "64 64 34 64 19\n"
     ]
    },
    {
     "name": "stderr",
     "output_type": "stream",
     "text": [
      "Map: 100%|██████████| 10120/10120 [00:00<00:00, 12729.84 examples/s]\n",
      "Map: 100%|██████████| 2510/2510 [00:00<00:00, 12741.72 examples/s]\n",
      "Map: 100%|██████████| 190/190 [00:00<00:00, 12478.94 examples/s]\n",
      "Map: 100%|██████████| 508/508 [00:00<00:00, 13225.41 examples/s]\n",
      "Map: 100%|██████████| 9890/9890 [00:00<00:00, 13974.24 examples/s]\n"
     ]
    },
    {
     "data": {
      "text/plain": [
       "DatasetDict({\n",
       "    fuzzy_pos: Dataset({\n",
       "        features: ['input_ids', 'labels', 'df_ref_idx'],\n",
       "        num_rows: 2510\n",
       "    })\n",
       "    prefix: Dataset({\n",
       "        features: ['input_ids', 'labels', 'df_ref_idx'],\n",
       "        num_rows: 10120\n",
       "    })\n",
       "    quotes: Dataset({\n",
       "        features: ['text', 'labels', 'input_ids'],\n",
       "        num_rows: 190\n",
       "    })\n",
       "    songs: Dataset({\n",
       "        features: ['input_ids', 'labels'],\n",
       "        num_rows: 508\n",
       "    })\n",
       "    emails_no_context: Dataset({\n",
       "        features: ['text', 'label', 'input_ids'],\n",
       "        num_rows: 9890\n",
       "    })\n",
       "})"
      ]
     },
     "execution_count": 4,
     "metadata": {},
     "output_type": "execute_result"
    }
   ],
   "source": [
    "# pad datasets\n",
    "\n",
    "def preprocess(example): \n",
    "    return {'input_ids': orig_tokenizer(example['text'], return_tensors='pt')['input_ids'][0]}\n",
    "\n",
    "generalization_datasets['prefix'] = generalization_datasets['prefix'].map(retokenize)\n",
    "generalization_datasets['fuzzy_pos'] = generalization_datasets['fuzzy_pos'].map(retokenize)\n",
    "# generalization_datasets['non_embedding_separable'] = generalization_datasets['non_embedding_separable'].map(preprocess)\n",
    "generalization_datasets['quotes'] = generalization_datasets['quotes'].map(preprocess)\n",
    "generalization_datasets['songs'] = generalization_datasets['songs'].map(retokenize)\n",
    "generalization_datasets['emails_no_context'] = generalization_datasets['emails_no_context'].map(preprocess)\n",
    "\n",
    "# # retokenize\n",
    "# generalization_datasets['prefix'] = generalization_datasets['prefix'].map(retokenize)\n",
    "# generalization_datasets['fuzzy_pos'] = generalization_datasets['fuzzy_pos'].map(retokenize)\n",
    "# generalization_datasets['songs'] = generalization_datasets['songs'].map(retokenize)\n",
    "# generalization_datasets['emails_no_context'] = generalization_datasets['emails_no_context'].map(retokenize)\n",
    "# generalization_datasets['quotes'] = generalization_datasets['quotes'].map(retokenize)\n",
    "\n",
    "max_prefix_len = max([len(x['input_ids']) for x in generalization_datasets['prefix']])\n",
    "max_fuzzy_pos_len = max([len(x['input_ids']) for x in generalization_datasets['fuzzy_pos']])\n",
    "# max_non_embedding_separable_len = max([len(x['input_ids']) for x in generalization_datasets['non_embedding_separable'])\n",
    "max_quotes_len = max([len(x['input_ids']) for x in generalization_datasets['quotes']])\n",
    "max_songs_len = max([len(x['input_ids']) for x in generalization_datasets['songs']])\n",
    "max_emails_no_context_len = max([len(x['input_ids']) for x in generalization_datasets['emails_no_context']])\n",
    "\n",
    "print(max_prefix_len, max_fuzzy_pos_len, max_quotes_len, max_songs_len, max_emails_no_context_len)                   \n",
    "def preprocess(examples, max_len): \n",
    "    curr_len = len(examples['input_ids'])\n",
    "    if curr_len < max_len:\n",
    "        examples['input_ids'] = examples['input_ids'] + [tokenizer.pad_token_id]*(max_len-curr_len)\n",
    "    return examples\n",
    "\n",
    "generalization_datasets['prefix'] = generalization_datasets['prefix'].map(lambda x: preprocess(x, max_prefix_len))\n",
    "generalization_datasets['fuzzy_pos'] = generalization_datasets['fuzzy_pos'].map(lambda x: preprocess(x, max_fuzzy_pos_len))\n",
    "# generalization_datasets['non_embedding_separable'] = generalization_datasets['non_embedding_separable'].map(lambda x: preprocess(x, max_non_embedding_separable_len))\n",
    "generalization_datasets['quotes'] = generalization_datasets['quotes'].map(lambda x: preprocess(x, max_quotes_len))\n",
    "generalization_datasets['songs'] = generalization_datasets['songs'].map(lambda x: preprocess(x, max_songs_len))\n",
    "generalization_datasets['emails_no_context'] = generalization_datasets['emails_no_context'].map(lambda x: preprocess(x, max_emails_no_context_len))\n",
    "\n",
    "generalization_datasets"
   ]
  },
  {
   "cell_type": "code",
   "execution_count": 5,
   "metadata": {},
   "outputs": [],
   "source": [
    "# # get inputs that the model gets incorrect\n",
    "\n",
    "# def get_incorrect_preds(dataset, model, tokenizer, batch_size=32):\n",
    "#     \"\"\"\n",
    "#     Returns a dataset of incorrect predictions\n",
    "#     \"\"\"\n",
    "#     model.eval()\n",
    "#     incorrect_preds = []\n",
    "#     for i in tqdm(range(0, len(dataset), batch_size)):\n",
    "#         batch = dataset[i:i+batch_size]\n",
    "#         input_ids = torch.tensor(batch['input_ids']).to('cuda')\n",
    "#         labels = torch.tensor(batch['label']).to('cuda')\n",
    "#         outputs = model(input_ids)\n",
    "#         logits = outputs.logits\n",
    "#         preds = torch.argmax(logits, axis=1)\n",
    "#         incorrect_mask = (preds != labels)\n",
    "#         # note batch is a dict of lists\n",
    "#         print(incorrect_mask)\n",
    "#         incorrect_batch = {k: v[incorrect_mask] for k, v in batch.items()}\n",
    "#         incorrect_preds.append(incorrect_batch)\n",
    "#     print(incorrect_preds)\n",
    "#     return Dataset.from_dict(incorrect_preds)\n",
    "\n",
    "# incorrect_preds = get_incorrect_preds(dataset['test'].select(range(500)), model, tokenizer, batch_size=32)\n"
   ]
  },
  {
   "cell_type": "markdown",
   "metadata": {},
   "source": [
    "### prefix dataset"
   ]
  },
  {
   "cell_type": "code",
   "execution_count": 6,
   "metadata": {},
   "outputs": [],
   "source": [
    "# prefix_dataset = load_from_disk(os.path.join(path, 'prefix_dataset_v0'))\n",
    "# orig_tokenizer = AutoTokenizer.from_pretrained('meta-llama/Llama-2-7b-hf')"
   ]
  },
  {
   "cell_type": "code",
   "execution_count": 7,
   "metadata": {},
   "outputs": [],
   "source": [
    "# # detokenize\n",
    "\n",
    "# def preprocess(example): \n",
    "#     return {'input_ids': tokenizer(orig_tokenizer.decode(example['input_ids']))['input_ids']}\n",
    "\n",
    "# prefix_dataset = prefix_dataset.map(preprocess, batched=False)\n",
    "\n",
    "# max_len = max([len(x['input_ids']) for x in prefix_dataset])\n",
    "# def preprocess(example): \n",
    "#     curr_len = len(example['input_ids'])\n",
    "#     if curr_len < max_len:\n",
    "#         example['input_ids'] = example['input_ids'] + [tokenizer.pad_token_id]*(max_len-curr_len)\n",
    "#     return example\n",
    "\n",
    "# prefix_dataset = prefix_dataset.map(preprocess)"
   ]
  },
  {
   "cell_type": "code",
   "execution_count": 11,
   "metadata": {},
   "outputs": [],
   "source": [
    "loss_fn = torch.nn.CrossEntropyLoss()\n",
    "# data = {'val_loss': [], 'accuracy': [], 'precision': [], 'recall': [], 'f1': [], 'AUC': [], 'tpr_01': [], 'tpr_001': [], 'tpr_0001': []}\n",
    "\n",
    "def compute_metrics(eval_pred, single_class=False): \n",
    "    \n",
    "    logits, labels = eval_pred\n",
    "    logits = np.array(logits) # (n_examples, n_classes)\n",
    "    labels = np.array(labels) # (n_examples)\n",
    "\n",
    "    preds = np.argmax(logits, axis=1)\n",
    "    normalized_prob = np.exp(logits) / np.exp(logits).sum(axis=1, keepdims=True)\n",
    "    positive_prob = normalized_prob[:, 1]\n",
    "    acc = accuracy_score(labels, preds)\n",
    "    precision, recall, f1, _ = precision_recall_fscore_support(labels, preds, average='binary')\n",
    "    if not single_class: \n",
    "        auc = roc_auc_score(labels, positive_prob)\n",
    "    \n",
    "    loss = loss_fn(torch.tensor(logits), torch.tensor(labels))\n",
    "\n",
    "    # calculate tpr at fpr = 0.01, 0.001, and 0.0001\n",
    "    tpr_01 = tpr_at_fpr(positive_prob, labels, 0.01)\n",
    "    tpr_001 = tpr_at_fpr(positive_prob, labels, 0.001)\n",
    "    tpr_0001 = tpr_at_fpr(positive_prob, labels, 0.0001)\n",
    "\n",
    "    if single_class: \n",
    "        return {'val_loss': loss.item(), 'accuracy': acc, 'precision': precision, 'recall': recall, 'f1': f1, 'tpr_01': tpr_01, 'tpr_001': tpr_001, 'tpr_0001': tpr_0001}\n",
    "    return {'val_loss': loss.item(), 'accuracy': acc, 'precision': precision, 'recall': recall, 'f1': f1, 'AUC': auc, 'tpr_01': tpr_01, 'tpr_001': tpr_001, 'tpr_0001': tpr_0001}"
   ]
  },
  {
   "cell_type": "code",
   "execution_count": 12,
   "metadata": {},
   "outputs": [],
   "source": [
    "targs = TrainingArguments(\n",
    "            output_dir = os.path.join(path, 'finetuning/final'),\n",
    "            evaluation_strategy = 'epoch',\n",
    "            logging_strategy = 'epoch',\n",
    "            save_strategy='epoch',\n",
    "            learning_rate=2e-5,\n",
    "            per_device_train_batch_size=32,\n",
    "            per_device_eval_batch_size=128,\n",
    "            num_train_epochs=1,\n",
    "            save_total_limit=10,\n",
    "            load_best_model_at_end=True,\n",
    "            metric_for_best_model='val_loss',\n",
    "            weight_decay=0.01,\n",
    "            report_to='none',\n",
    "            seed=seed,\n",
    "            eval_accumulation_steps=1,\n",
    "        )\n",
    "\n",
    "trainer = Trainer(\n",
    "            model=model,\n",
    "            tokenizer=tokenizer,\n",
    "            args=targs,\n",
    "            train_dataset=dataset['train'],\n",
    "            eval_dataset=dataset['test'],\n",
    "            compute_metrics=compute_metrics,\n",
    "        )\n"
   ]
  },
  {
   "cell_type": "code",
   "execution_count": 13,
   "metadata": {},
   "outputs": [
    {
     "data": {
      "text/html": [
       "\n",
       "    <div>\n",
       "      \n",
       "      <progress value='20' max='20' style='width:300px; height:20px; vertical-align: middle;'></progress>\n",
       "      [20/20 00:04]\n",
       "    </div>\n",
       "    "
      ],
      "text/plain": [
       "<IPython.core.display.HTML object>"
      ]
     },
     "metadata": {},
     "output_type": "display_data"
    },
    {
     "data": {
      "text/plain": [
       "{'eval_loss': 0.7698279619216919,\n",
       " 'eval_val_loss': 0.7698279619216919,\n",
       " 'eval_accuracy': 0.8603754940711462,\n",
       " 'eval_precision': 0.8759811616954474,\n",
       " 'eval_recall': 0.8510962821734985,\n",
       " 'eval_f1': 0.8633594429939078,\n",
       " 'eval_AUC': 0.9097031702964974,\n",
       " 'eval_tpr_01': 0.1755958055290753,\n",
       " 'eval_tpr_001': 0.011439466158245948,\n",
       " 'eval_tpr_0001': 0.005910390848427073,\n",
       " 'eval_runtime': 5.4022,\n",
       " 'eval_samples_per_second': 1873.311,\n",
       " 'eval_steps_per_second': 3.702}"
      ]
     },
     "execution_count": 13,
     "metadata": {},
     "output_type": "execute_result"
    }
   ],
   "source": [
    "trainer.evaluate()"
   ]
  },
  {
   "cell_type": "code",
   "execution_count": 14,
   "metadata": {},
   "outputs": [
    {
     "name": "stderr",
     "output_type": "stream",
     "text": [
      "/home/ubuntu/anaconda3/envs/myenv/lib/python3.10/site-packages/torch/nn/parallel/_functions.py:68: UserWarning: Was asked to gather along dimension 0, but all input tensors were scalars; will instead unsqueeze and return a vector.\n",
      "  warnings.warn('Was asked to gather along dimension 0, but all '\n"
     ]
    },
    {
     "data": {
      "text/html": [
       "\n",
       "    <div>\n",
       "      \n",
       "      <progress value='20' max='20' style='width:300px; height:20px; vertical-align: middle;'></progress>\n",
       "      [20/20 00:04]\n",
       "    </div>\n",
       "    "
      ],
      "text/plain": [
       "<IPython.core.display.HTML object>"
      ]
     },
     "metadata": {},
     "output_type": "display_data"
    },
    {
     "data": {
      "text/plain": [
       "{'eval_loss': 2.7168972492218018,\n",
       " 'eval_val_loss': 2.7168972492218018,\n",
       " 'eval_accuracy': 0.5573122529644269,\n",
       " 'eval_precision': 0.593497922268394,\n",
       " 'eval_recall': 0.4629170638703527,\n",
       " 'eval_f1': 0.5201371036846615,\n",
       " 'eval_AUC': 0.578160318740681,\n",
       " 'eval_tpr_01': 0.01811248808388942,\n",
       " 'eval_tpr_001': 0.00228789323164919,\n",
       " 'eval_tpr_0001': 0.00038131553860819826,\n",
       " 'eval_runtime': 5.28,\n",
       " 'eval_samples_per_second': 1916.66,\n",
       " 'eval_steps_per_second': 3.788}"
      ]
     },
     "execution_count": 14,
     "metadata": {},
     "output_type": "execute_result"
    }
   ],
   "source": [
    "targs = TrainingArguments(\n",
    "            output_dir = os.path.join(path, 'finetuning/final'),\n",
    "            evaluation_strategy = 'epoch',\n",
    "            logging_strategy = 'epoch',\n",
    "            save_strategy='epoch',\n",
    "            learning_rate=2e-5,\n",
    "            per_device_train_batch_size=32,\n",
    "            per_device_eval_batch_size=128,\n",
    "            num_train_epochs=1,\n",
    "            save_total_limit=10,\n",
    "            load_best_model_at_end=True,\n",
    "            metric_for_best_model='val_loss',\n",
    "            weight_decay=0.01,\n",
    "            report_to='none',\n",
    "            seed=seed,\n",
    "            eval_accumulation_steps=1,\n",
    "        )\n",
    "\n",
    "trainer = Trainer(\n",
    "            model=model,\n",
    "            tokenizer=tokenizer,\n",
    "            args=targs,\n",
    "            train_dataset=dataset['train'],\n",
    "            eval_dataset=generalization_datasets['prefix'],\n",
    "            compute_metrics=compute_metrics,\n",
    "        )\n",
    "\n",
    "trainer.evaluate()"
   ]
  },
  {
   "cell_type": "code",
   "execution_count": 15,
   "metadata": {},
   "outputs": [
    {
     "name": "stderr",
     "output_type": "stream",
     "text": [
      "/home/ubuntu/anaconda3/envs/myenv/lib/python3.10/site-packages/torch/nn/parallel/_functions.py:68: UserWarning: Was asked to gather along dimension 0, but all input tensors were scalars; will instead unsqueeze and return a vector.\n",
      "  warnings.warn('Was asked to gather along dimension 0, but all '\n"
     ]
    },
    {
     "data": {
      "text/html": [
       "\n",
       "    <div>\n",
       "      \n",
       "      <progress value='5' max='5' style='width:300px; height:20px; vertical-align: middle;'></progress>\n",
       "      [5/5 00:00]\n",
       "    </div>\n",
       "    "
      ],
      "text/plain": [
       "<IPython.core.display.HTML object>"
      ]
     },
     "metadata": {},
     "output_type": "display_data"
    },
    {
     "data": {
      "text/plain": [
       "{'eval_loss': 2.2089595794677734,\n",
       " 'eval_val_loss': 2.206054449081421,\n",
       " 'eval_accuracy': 0.649402390438247,\n",
       " 'eval_precision': 1.0,\n",
       " 'eval_recall': 0.649402390438247,\n",
       " 'eval_f1': 0.7874396135265701,\n",
       " 'eval_tpr_01': 0.649402390438247,\n",
       " 'eval_tpr_001': 0.649402390438247,\n",
       " 'eval_tpr_0001': 0.649402390438247,\n",
       " 'eval_runtime': 1.3233,\n",
       " 'eval_samples_per_second': 1896.823,\n",
       " 'eval_steps_per_second': 3.779}"
      ]
     },
     "execution_count": 15,
     "metadata": {},
     "output_type": "execute_result"
    }
   ],
   "source": [
    "targs = TrainingArguments(\n",
    "            output_dir = os.path.join(path, 'finetuning/final'),\n",
    "            evaluation_strategy = 'epoch',\n",
    "            logging_strategy = 'epoch',\n",
    "            save_strategy='epoch',\n",
    "            learning_rate=2e-5,\n",
    "            per_device_train_batch_size=32,\n",
    "            per_device_eval_batch_size=128,\n",
    "            num_train_epochs=1,\n",
    "            save_total_limit=10,\n",
    "            load_best_model_at_end=True,\n",
    "            metric_for_best_model='val_loss',\n",
    "            weight_decay=0.01,\n",
    "            report_to='none',\n",
    "            seed=seed,\n",
    "            eval_accumulation_steps=1,\n",
    "        )\n",
    "\n",
    "trainer = Trainer(\n",
    "            model=model,\n",
    "            tokenizer=tokenizer,\n",
    "            args=targs,\n",
    "            train_dataset=dataset['train'],\n",
    "            eval_dataset=generalization_datasets['fuzzy_pos'],\n",
    "            compute_metrics=lambda x: compute_metrics(x, single_class=True),\n",
    "        )\n",
    "\n",
    "trainer.evaluate()"
   ]
  },
  {
   "cell_type": "code",
   "execution_count": 16,
   "metadata": {},
   "outputs": [
    {
     "name": "stderr",
     "output_type": "stream",
     "text": [
      "Filter: 100%|██████████| 190/190 [00:00<00:00, 30126.94 examples/s]\n",
      "Filter: 100%|██████████| 190/190 [00:00<00:00, 35525.93 examples/s]\n",
      "/home/ubuntu/anaconda3/envs/myenv/lib/python3.10/site-packages/torch/nn/parallel/_functions.py:68: UserWarning: Was asked to gather along dimension 0, but all input tensors were scalars; will instead unsqueeze and return a vector.\n",
      "  warnings.warn('Was asked to gather along dimension 0, but all '\n",
      "../aten/src/ATen/native/cuda/Indexing.cu:1292: indexSelectLargeIndex: block: [88,0,0], thread: [32,0,0] Assertion `srcIndex < srcSelectDimSize` failed.\n",
      "../aten/src/ATen/native/cuda/Indexing.cu:1292: indexSelectLargeIndex: block: [88,0,0], thread: [33,0,0] Assertion `srcIndex < srcSelectDimSize` failed.\n",
      "../aten/src/ATen/native/cuda/Indexing.cu:1292: indexSelectLargeIndex: block: [88,0,0], thread: [34,0,0] Assertion `srcIndex < srcSelectDimSize` failed.\n",
      "../aten/src/ATen/native/cuda/Indexing.cu:1292: indexSelectLargeIndex: block: [88,0,0], thread: [35,0,0] Assertion `srcIndex < srcSelectDimSize` failed.\n",
      "../aten/src/ATen/native/cuda/Indexing.cu:1292: indexSelectLargeIndex: block: [88,0,0], thread: [36,0,0] Assertion `srcIndex < srcSelectDimSize` failed.\n",
      "../aten/src/ATen/native/cuda/Indexing.cu:1292: indexSelectLargeIndex: block: [88,0,0], thread: [37,0,0] Assertion `srcIndex < srcSelectDimSize` failed.\n",
      "../aten/src/ATen/native/cuda/Indexing.cu:1292: indexSelectLargeIndex: block: [88,0,0], thread: [38,0,0] Assertion `srcIndex < srcSelectDimSize` failed.\n",
      "../aten/src/ATen/native/cuda/Indexing.cu:1292: indexSelectLargeIndex: block: [88,0,0], thread: [39,0,0] Assertion `srcIndex < srcSelectDimSize` failed.\n",
      "../aten/src/ATen/native/cuda/Indexing.cu:1292: indexSelectLargeIndex: block: [88,0,0], thread: [40,0,0] Assertion `srcIndex < srcSelectDimSize` failed.\n",
      "../aten/src/ATen/native/cuda/Indexing.cu:1292: indexSelectLargeIndex: block: [88,0,0], thread: [41,0,0] Assertion `srcIndex < srcSelectDimSize` failed.\n",
      "../aten/src/ATen/native/cuda/Indexing.cu:1292: indexSelectLargeIndex: block: [88,0,0], thread: [42,0,0] Assertion `srcIndex < srcSelectDimSize` failed.\n",
      "../aten/src/ATen/native/cuda/Indexing.cu:1292: indexSelectLargeIndex: block: [88,0,0], thread: [43,0,0] Assertion `srcIndex < srcSelectDimSize` failed.\n",
      "../aten/src/ATen/native/cuda/Indexing.cu:1292: indexSelectLargeIndex: block: [88,0,0], thread: [44,0,0] Assertion `srcIndex < srcSelectDimSize` failed.\n",
      "../aten/src/ATen/native/cuda/Indexing.cu:1292: indexSelectLargeIndex: block: [88,0,0], thread: [45,0,0] Assertion `srcIndex < srcSelectDimSize` failed.\n",
      "../aten/src/ATen/native/cuda/Indexing.cu:1292: indexSelectLargeIndex: block: [88,0,0], thread: [46,0,0] Assertion `srcIndex < srcSelectDimSize` failed.\n",
      "../aten/src/ATen/native/cuda/Indexing.cu:1292: indexSelectLargeIndex: block: [88,0,0], thread: [47,0,0] Assertion `srcIndex < srcSelectDimSize` failed.\n",
      "../aten/src/ATen/native/cuda/Indexing.cu:1292: indexSelectLargeIndex: block: [88,0,0], thread: [48,0,0] Assertion `srcIndex < srcSelectDimSize` failed.\n",
      "../aten/src/ATen/native/cuda/Indexing.cu:1292: indexSelectLargeIndex: block: [88,0,0], thread: [49,0,0] Assertion `srcIndex < srcSelectDimSize` failed.\n",
      "../aten/src/ATen/native/cuda/Indexing.cu:1292: indexSelectLargeIndex: block: [88,0,0], thread: [50,0,0] Assertion `srcIndex < srcSelectDimSize` failed.\n",
      "../aten/src/ATen/native/cuda/Indexing.cu:1292: indexSelectLargeIndex: block: [88,0,0], thread: [51,0,0] Assertion `srcIndex < srcSelectDimSize` failed.\n",
      "../aten/src/ATen/native/cuda/Indexing.cu:1292: indexSelectLargeIndex: block: [88,0,0], thread: [52,0,0] Assertion `srcIndex < srcSelectDimSize` failed.\n",
      "../aten/src/ATen/native/cuda/Indexing.cu:1292: indexSelectLargeIndex: block: [88,0,0], thread: [53,0,0] Assertion `srcIndex < srcSelectDimSize` failed.\n",
      "../aten/src/ATen/native/cuda/Indexing.cu:1292: indexSelectLargeIndex: block: [88,0,0], thread: [54,0,0] Assertion `srcIndex < srcSelectDimSize` failed.\n",
      "../aten/src/ATen/native/cuda/Indexing.cu:1292: indexSelectLargeIndex: block: [88,0,0], thread: [55,0,0] Assertion `srcIndex < srcSelectDimSize` failed.\n",
      "../aten/src/ATen/native/cuda/Indexing.cu:1292: indexSelectLargeIndex: block: [88,0,0], thread: [56,0,0] Assertion `srcIndex < srcSelectDimSize` failed.\n",
      "../aten/src/ATen/native/cuda/Indexing.cu:1292: indexSelectLargeIndex: block: [88,0,0], thread: [57,0,0] Assertion `srcIndex < srcSelectDimSize` failed.\n",
      "../aten/src/ATen/native/cuda/Indexing.cu:1292: indexSelectLargeIndex: block: [88,0,0], thread: [58,0,0] Assertion `srcIndex < srcSelectDimSize` failed.\n",
      "../aten/src/ATen/native/cuda/Indexing.cu:1292: indexSelectLargeIndex: block: [88,0,0], thread: [59,0,0] Assertion `srcIndex < srcSelectDimSize` failed.\n",
      "../aten/src/ATen/native/cuda/Indexing.cu:1292: indexSelectLargeIndex: block: [88,0,0], thread: [60,0,0] Assertion `srcIndex < srcSelectDimSize` failed.\n",
      "../aten/src/ATen/native/cuda/Indexing.cu:1292: indexSelectLargeIndex: block: [88,0,0], thread: [61,0,0] Assertion `srcIndex < srcSelectDimSize` failed.\n",
      "../aten/src/ATen/native/cuda/Indexing.cu:1292: indexSelectLargeIndex: block: [88,0,0], thread: [62,0,0] Assertion `srcIndex < srcSelectDimSize` failed.\n",
      "../aten/src/ATen/native/cuda/Indexing.cu:1292: indexSelectLargeIndex: block: [88,0,0], thread: [63,0,0] Assertion `srcIndex < srcSelectDimSize` failed.\n",
      "../aten/src/ATen/native/cuda/Indexing.cu:1292: indexSelectLargeIndex: block: [88,0,0], thread: [64,0,0] Assertion `srcIndex < srcSelectDimSize` failed.\n",
      "../aten/src/ATen/native/cuda/Indexing.cu:1292: indexSelectLargeIndex: block: [88,0,0], thread: [65,0,0] Assertion `srcIndex < srcSelectDimSize` failed.\n",
      "../aten/src/ATen/native/cuda/Indexing.cu:1292: indexSelectLargeIndex: block: [88,0,0], thread: [66,0,0] Assertion `srcIndex < srcSelectDimSize` failed.\n",
      "../aten/src/ATen/native/cuda/Indexing.cu:1292: indexSelectLargeIndex: block: [88,0,0], thread: [67,0,0] Assertion `srcIndex < srcSelectDimSize` failed.\n",
      "../aten/src/ATen/native/cuda/Indexing.cu:1292: indexSelectLargeIndex: block: [88,0,0], thread: [68,0,0] Assertion `srcIndex < srcSelectDimSize` failed.\n",
      "../aten/src/ATen/native/cuda/Indexing.cu:1292: indexSelectLargeIndex: block: [88,0,0], thread: [69,0,0] Assertion `srcIndex < srcSelectDimSize` failed.\n",
      "../aten/src/ATen/native/cuda/Indexing.cu:1292: indexSelectLargeIndex: block: [88,0,0], thread: [70,0,0] Assertion `srcIndex < srcSelectDimSize` failed.\n",
      "../aten/src/ATen/native/cuda/Indexing.cu:1292: indexSelectLargeIndex: block: [88,0,0], thread: [71,0,0] Assertion `srcIndex < srcSelectDimSize` failed.\n",
      "../aten/src/ATen/native/cuda/Indexing.cu:1292: indexSelectLargeIndex: block: [88,0,0], thread: [72,0,0] Assertion `srcIndex < srcSelectDimSize` failed.\n",
      "../aten/src/ATen/native/cuda/Indexing.cu:1292: indexSelectLargeIndex: block: [88,0,0], thread: [73,0,0] Assertion `srcIndex < srcSelectDimSize` failed.\n",
      "../aten/src/ATen/native/cuda/Indexing.cu:1292: indexSelectLargeIndex: block: [88,0,0], thread: [74,0,0] Assertion `srcIndex < srcSelectDimSize` failed.\n",
      "../aten/src/ATen/native/cuda/Indexing.cu:1292: indexSelectLargeIndex: block: [88,0,0], thread: [75,0,0] Assertion `srcIndex < srcSelectDimSize` failed.\n",
      "../aten/src/ATen/native/cuda/Indexing.cu:1292: indexSelectLargeIndex: block: [88,0,0], thread: [76,0,0] Assertion `srcIndex < srcSelectDimSize` failed.\n",
      "../aten/src/ATen/native/cuda/Indexing.cu:1292: indexSelectLargeIndex: block: [88,0,0], thread: [77,0,0] Assertion `srcIndex < srcSelectDimSize` failed.\n",
      "../aten/src/ATen/native/cuda/Indexing.cu:1292: indexSelectLargeIndex: block: [88,0,0], thread: [78,0,0] Assertion `srcIndex < srcSelectDimSize` failed.\n",
      "../aten/src/ATen/native/cuda/Indexing.cu:1292: indexSelectLargeIndex: block: [88,0,0], thread: [79,0,0] Assertion `srcIndex < srcSelectDimSize` failed.\n",
      "../aten/src/ATen/native/cuda/Indexing.cu:1292: indexSelectLargeIndex: block: [88,0,0], thread: [80,0,0] Assertion `srcIndex < srcSelectDimSize` failed.\n",
      "../aten/src/ATen/native/cuda/Indexing.cu:1292: indexSelectLargeIndex: block: [88,0,0], thread: [81,0,0] Assertion `srcIndex < srcSelectDimSize` failed.\n",
      "../aten/src/ATen/native/cuda/Indexing.cu:1292: indexSelectLargeIndex: block: [88,0,0], thread: [82,0,0] Assertion `srcIndex < srcSelectDimSize` failed.\n",
      "../aten/src/ATen/native/cuda/Indexing.cu:1292: indexSelectLargeIndex: block: [88,0,0], thread: [83,0,0] Assertion `srcIndex < srcSelectDimSize` failed.\n",
      "../aten/src/ATen/native/cuda/Indexing.cu:1292: indexSelectLargeIndex: block: [88,0,0], thread: [84,0,0] Assertion `srcIndex < srcSelectDimSize` failed.\n",
      "../aten/src/ATen/native/cuda/Indexing.cu:1292: indexSelectLargeIndex: block: [88,0,0], thread: [85,0,0] Assertion `srcIndex < srcSelectDimSize` failed.\n",
      "../aten/src/ATen/native/cuda/Indexing.cu:1292: indexSelectLargeIndex: block: [88,0,0], thread: [86,0,0] Assertion `srcIndex < srcSelectDimSize` failed.\n",
      "../aten/src/ATen/native/cuda/Indexing.cu:1292: indexSelectLargeIndex: block: [88,0,0], thread: [87,0,0] Assertion `srcIndex < srcSelectDimSize` failed.\n",
      "../aten/src/ATen/native/cuda/Indexing.cu:1292: indexSelectLargeIndex: block: [88,0,0], thread: [88,0,0] Assertion `srcIndex < srcSelectDimSize` failed.\n",
      "../aten/src/ATen/native/cuda/Indexing.cu:1292: indexSelectLargeIndex: block: [88,0,0], thread: [89,0,0] Assertion `srcIndex < srcSelectDimSize` failed.\n",
      "../aten/src/ATen/native/cuda/Indexing.cu:1292: indexSelectLargeIndex: block: [88,0,0], thread: [90,0,0] Assertion `srcIndex < srcSelectDimSize` failed.\n",
      "../aten/src/ATen/native/cuda/Indexing.cu:1292: indexSelectLargeIndex: block: [88,0,0], thread: [91,0,0] Assertion `srcIndex < srcSelectDimSize` failed.\n",
      "../aten/src/ATen/native/cuda/Indexing.cu:1292: indexSelectLargeIndex: block: [88,0,0], thread: [92,0,0] Assertion `srcIndex < srcSelectDimSize` failed.\n",
      "../aten/src/ATen/native/cuda/Indexing.cu:1292: indexSelectLargeIndex: block: [88,0,0], thread: [93,0,0] Assertion `srcIndex < srcSelectDimSize` failed.\n",
      "../aten/src/ATen/native/cuda/Indexing.cu:1292: indexSelectLargeIndex: block: [88,0,0], thread: [94,0,0] Assertion `srcIndex < srcSelectDimSize` failed.\n",
      "../aten/src/ATen/native/cuda/Indexing.cu:1292: indexSelectLargeIndex: block: [88,0,0], thread: [95,0,0] Assertion `srcIndex < srcSelectDimSize` failed.\n",
      "../aten/src/ATen/native/cuda/Indexing.cu:1292: indexSelectLargeIndex: block: [88,0,0], thread: [96,0,0] Assertion `srcIndex < srcSelectDimSize` failed.\n",
      "../aten/src/ATen/native/cuda/Indexing.cu:1292: indexSelectLargeIndex: block: [88,0,0], thread: [97,0,0] Assertion `srcIndex < srcSelectDimSize` failed.\n",
      "../aten/src/ATen/native/cuda/Indexing.cu:1292: indexSelectLargeIndex: block: [88,0,0], thread: [98,0,0] Assertion `srcIndex < srcSelectDimSize` failed.\n",
      "../aten/src/ATen/native/cuda/Indexing.cu:1292: indexSelectLargeIndex: block: [88,0,0], thread: [99,0,0] Assertion `srcIndex < srcSelectDimSize` failed.\n",
      "../aten/src/ATen/native/cuda/Indexing.cu:1292: indexSelectLargeIndex: block: [88,0,0], thread: [100,0,0] Assertion `srcIndex < srcSelectDimSize` failed.\n",
      "../aten/src/ATen/native/cuda/Indexing.cu:1292: indexSelectLargeIndex: block: [88,0,0], thread: [101,0,0] Assertion `srcIndex < srcSelectDimSize` failed.\n",
      "../aten/src/ATen/native/cuda/Indexing.cu:1292: indexSelectLargeIndex: block: [88,0,0], thread: [102,0,0] Assertion `srcIndex < srcSelectDimSize` failed.\n",
      "../aten/src/ATen/native/cuda/Indexing.cu:1292: indexSelectLargeIndex: block: [88,0,0], thread: [103,0,0] Assertion `srcIndex < srcSelectDimSize` failed.\n",
      "../aten/src/ATen/native/cuda/Indexing.cu:1292: indexSelectLargeIndex: block: [88,0,0], thread: [104,0,0] Assertion `srcIndex < srcSelectDimSize` failed.\n",
      "../aten/src/ATen/native/cuda/Indexing.cu:1292: indexSelectLargeIndex: block: [88,0,0], thread: [105,0,0] Assertion `srcIndex < srcSelectDimSize` failed.\n",
      "../aten/src/ATen/native/cuda/Indexing.cu:1292: indexSelectLargeIndex: block: [88,0,0], thread: [106,0,0] Assertion `srcIndex < srcSelectDimSize` failed.\n",
      "../aten/src/ATen/native/cuda/Indexing.cu:1292: indexSelectLargeIndex: block: [88,0,0], thread: [107,0,0] Assertion `srcIndex < srcSelectDimSize` failed.\n",
      "../aten/src/ATen/native/cuda/Indexing.cu:1292: indexSelectLargeIndex: block: [88,0,0], thread: [108,0,0] Assertion `srcIndex < srcSelectDimSize` failed.\n",
      "../aten/src/ATen/native/cuda/Indexing.cu:1292: indexSelectLargeIndex: block: [88,0,0], thread: [109,0,0] Assertion `srcIndex < srcSelectDimSize` failed.\n",
      "../aten/src/ATen/native/cuda/Indexing.cu:1292: indexSelectLargeIndex: block: [88,0,0], thread: [110,0,0] Assertion `srcIndex < srcSelectDimSize` failed.\n",
      "../aten/src/ATen/native/cuda/Indexing.cu:1292: indexSelectLargeIndex: block: [88,0,0], thread: [111,0,0] Assertion `srcIndex < srcSelectDimSize` failed.\n",
      "../aten/src/ATen/native/cuda/Indexing.cu:1292: indexSelectLargeIndex: block: [88,0,0], thread: [112,0,0] Assertion `srcIndex < srcSelectDimSize` failed.\n",
      "../aten/src/ATen/native/cuda/Indexing.cu:1292: indexSelectLargeIndex: block: [88,0,0], thread: [113,0,0] Assertion `srcIndex < srcSelectDimSize` failed.\n",
      "../aten/src/ATen/native/cuda/Indexing.cu:1292: indexSelectLargeIndex: block: [88,0,0], thread: [114,0,0] Assertion `srcIndex < srcSelectDimSize` failed.\n",
      "../aten/src/ATen/native/cuda/Indexing.cu:1292: indexSelectLargeIndex: block: [88,0,0], thread: [115,0,0] Assertion `srcIndex < srcSelectDimSize` failed.\n",
      "../aten/src/ATen/native/cuda/Indexing.cu:1292: indexSelectLargeIndex: block: [88,0,0], thread: [116,0,0] Assertion `srcIndex < srcSelectDimSize` failed.\n",
      "../aten/src/ATen/native/cuda/Indexing.cu:1292: indexSelectLargeIndex: block: [88,0,0], thread: [117,0,0] Assertion `srcIndex < srcSelectDimSize` failed.\n",
      "../aten/src/ATen/native/cuda/Indexing.cu:1292: indexSelectLargeIndex: block: [88,0,0], thread: [118,0,0] Assertion `srcIndex < srcSelectDimSize` failed.\n",
      "../aten/src/ATen/native/cuda/Indexing.cu:1292: indexSelectLargeIndex: block: [88,0,0], thread: [119,0,0] Assertion `srcIndex < srcSelectDimSize` failed.\n",
      "../aten/src/ATen/native/cuda/Indexing.cu:1292: indexSelectLargeIndex: block: [88,0,0], thread: [120,0,0] Assertion `srcIndex < srcSelectDimSize` failed.\n",
      "../aten/src/ATen/native/cuda/Indexing.cu:1292: indexSelectLargeIndex: block: [88,0,0], thread: [121,0,0] Assertion `srcIndex < srcSelectDimSize` failed.\n",
      "../aten/src/ATen/native/cuda/Indexing.cu:1292: indexSelectLargeIndex: block: [88,0,0], thread: [122,0,0] Assertion `srcIndex < srcSelectDimSize` failed.\n",
      "../aten/src/ATen/native/cuda/Indexing.cu:1292: indexSelectLargeIndex: block: [88,0,0], thread: [123,0,0] Assertion `srcIndex < srcSelectDimSize` failed.\n",
      "../aten/src/ATen/native/cuda/Indexing.cu:1292: indexSelectLargeIndex: block: [88,0,0], thread: [124,0,0] Assertion `srcIndex < srcSelectDimSize` failed.\n",
      "../aten/src/ATen/native/cuda/Indexing.cu:1292: indexSelectLargeIndex: block: [88,0,0], thread: [125,0,0] Assertion `srcIndex < srcSelectDimSize` failed.\n",
      "../aten/src/ATen/native/cuda/Indexing.cu:1292: indexSelectLargeIndex: block: [88,0,0], thread: [126,0,0] Assertion `srcIndex < srcSelectDimSize` failed.\n",
      "../aten/src/ATen/native/cuda/Indexing.cu:1292: indexSelectLargeIndex: block: [88,0,0], thread: [127,0,0] Assertion `srcIndex < srcSelectDimSize` failed.\n",
      "../aten/src/ATen/native/cuda/Indexing.cu:1292: indexSelectLargeIndex: block: [88,0,0], thread: [0,0,0] Assertion `srcIndex < srcSelectDimSize` failed.\n",
      "../aten/src/ATen/native/cuda/Indexing.cu:1292: indexSelectLargeIndex: block: [88,0,0], thread: [1,0,0] Assertion `srcIndex < srcSelectDimSize` failed.\n",
      "../aten/src/ATen/native/cuda/Indexing.cu:1292: indexSelectLargeIndex: block: [88,0,0], thread: [2,0,0] Assertion `srcIndex < srcSelectDimSize` failed.\n",
      "../aten/src/ATen/native/cuda/Indexing.cu:1292: indexSelectLargeIndex: block: [88,0,0], thread: [3,0,0] Assertion `srcIndex < srcSelectDimSize` failed.\n",
      "../aten/src/ATen/native/cuda/Indexing.cu:1292: indexSelectLargeIndex: block: [88,0,0], thread: [4,0,0] Assertion `srcIndex < srcSelectDimSize` failed.\n",
      "../aten/src/ATen/native/cuda/Indexing.cu:1292: indexSelectLargeIndex: block: [88,0,0], thread: [5,0,0] Assertion `srcIndex < srcSelectDimSize` failed.\n",
      "../aten/src/ATen/native/cuda/Indexing.cu:1292: indexSelectLargeIndex: block: [88,0,0], thread: [6,0,0] Assertion `srcIndex < srcSelectDimSize` failed.\n",
      "../aten/src/ATen/native/cuda/Indexing.cu:1292: indexSelectLargeIndex: block: [88,0,0], thread: [7,0,0] Assertion `srcIndex < srcSelectDimSize` failed.\n",
      "../aten/src/ATen/native/cuda/Indexing.cu:1292: indexSelectLargeIndex: block: [88,0,0], thread: [8,0,0] Assertion `srcIndex < srcSelectDimSize` failed.\n",
      "../aten/src/ATen/native/cuda/Indexing.cu:1292: indexSelectLargeIndex: block: [88,0,0], thread: [9,0,0] Assertion `srcIndex < srcSelectDimSize` failed.\n",
      "../aten/src/ATen/native/cuda/Indexing.cu:1292: indexSelectLargeIndex: block: [88,0,0], thread: [10,0,0] Assertion `srcIndex < srcSelectDimSize` failed.\n",
      "../aten/src/ATen/native/cuda/Indexing.cu:1292: indexSelectLargeIndex: block: [88,0,0], thread: [11,0,0] Assertion `srcIndex < srcSelectDimSize` failed.\n",
      "../aten/src/ATen/native/cuda/Indexing.cu:1292: indexSelectLargeIndex: block: [88,0,0], thread: [12,0,0] Assertion `srcIndex < srcSelectDimSize` failed.\n",
      "../aten/src/ATen/native/cuda/Indexing.cu:1292: indexSelectLargeIndex: block: [88,0,0], thread: [13,0,0] Assertion `srcIndex < srcSelectDimSize` failed.\n",
      "../aten/src/ATen/native/cuda/Indexing.cu:1292: indexSelectLargeIndex: block: [88,0,0], thread: [14,0,0] Assertion `srcIndex < srcSelectDimSize` failed.\n",
      "../aten/src/ATen/native/cuda/Indexing.cu:1292: indexSelectLargeIndex: block: [88,0,0], thread: [15,0,0] Assertion `srcIndex < srcSelectDimSize` failed.\n",
      "../aten/src/ATen/native/cuda/Indexing.cu:1292: indexSelectLargeIndex: block: [88,0,0], thread: [16,0,0] Assertion `srcIndex < srcSelectDimSize` failed.\n",
      "../aten/src/ATen/native/cuda/Indexing.cu:1292: indexSelectLargeIndex: block: [88,0,0], thread: [17,0,0] Assertion `srcIndex < srcSelectDimSize` failed.\n",
      "../aten/src/ATen/native/cuda/Indexing.cu:1292: indexSelectLargeIndex: block: [88,0,0], thread: [18,0,0] Assertion `srcIndex < srcSelectDimSize` failed.\n",
      "../aten/src/ATen/native/cuda/Indexing.cu:1292: indexSelectLargeIndex: block: [88,0,0], thread: [19,0,0] Assertion `srcIndex < srcSelectDimSize` failed.\n",
      "../aten/src/ATen/native/cuda/Indexing.cu:1292: indexSelectLargeIndex: block: [88,0,0], thread: [20,0,0] Assertion `srcIndex < srcSelectDimSize` failed.\n",
      "../aten/src/ATen/native/cuda/Indexing.cu:1292: indexSelectLargeIndex: block: [88,0,0], thread: [21,0,0] Assertion `srcIndex < srcSelectDimSize` failed.\n",
      "../aten/src/ATen/native/cuda/Indexing.cu:1292: indexSelectLargeIndex: block: [88,0,0], thread: [22,0,0] Assertion `srcIndex < srcSelectDimSize` failed.\n",
      "../aten/src/ATen/native/cuda/Indexing.cu:1292: indexSelectLargeIndex: block: [88,0,0], thread: [23,0,0] Assertion `srcIndex < srcSelectDimSize` failed.\n",
      "../aten/src/ATen/native/cuda/Indexing.cu:1292: indexSelectLargeIndex: block: [88,0,0], thread: [24,0,0] Assertion `srcIndex < srcSelectDimSize` failed.\n",
      "../aten/src/ATen/native/cuda/Indexing.cu:1292: indexSelectLargeIndex: block: [88,0,0], thread: [25,0,0] Assertion `srcIndex < srcSelectDimSize` failed.\n",
      "../aten/src/ATen/native/cuda/Indexing.cu:1292: indexSelectLargeIndex: block: [88,0,0], thread: [26,0,0] Assertion `srcIndex < srcSelectDimSize` failed.\n",
      "../aten/src/ATen/native/cuda/Indexing.cu:1292: indexSelectLargeIndex: block: [88,0,0], thread: [27,0,0] Assertion `srcIndex < srcSelectDimSize` failed.\n",
      "../aten/src/ATen/native/cuda/Indexing.cu:1292: indexSelectLargeIndex: block: [88,0,0], thread: [28,0,0] Assertion `srcIndex < srcSelectDimSize` failed.\n",
      "../aten/src/ATen/native/cuda/Indexing.cu:1292: indexSelectLargeIndex: block: [88,0,0], thread: [29,0,0] Assertion `srcIndex < srcSelectDimSize` failed.\n",
      "../aten/src/ATen/native/cuda/Indexing.cu:1292: indexSelectLargeIndex: block: [88,0,0], thread: [30,0,0] Assertion `srcIndex < srcSelectDimSize` failed.\n",
      "../aten/src/ATen/native/cuda/Indexing.cu:1292: indexSelectLargeIndex: block: [88,0,0], thread: [31,0,0] Assertion `srcIndex < srcSelectDimSize` failed.\n"
     ]
    },
    {
     "ename": "RuntimeError",
     "evalue": "CUDA error: device-side assert triggered\nCUDA kernel errors might be asynchronously reported at some other API call, so the stacktrace below might be incorrect.\nFor debugging consider passing CUDA_LAUNCH_BLOCKING=1.\nCompile with `TORCH_USE_CUDA_DSA` to enable device-side assertions.\n",
     "output_type": "error",
     "traceback": [
      "\u001b[0;31m---------------------------------------------------------------------------\u001b[0m",
      "\u001b[0;31mRuntimeError\u001b[0m                              Traceback (most recent call last)",
      "Cell \u001b[0;32mIn[16], line 38\u001b[0m\n\u001b[1;32m     27\u001b[0m     balanced_quotes \u001b[38;5;241m=\u001b[39m balanced_quotes\u001b[38;5;241m.\u001b[39mshuffle(seed\u001b[38;5;241m=\u001b[39mi)\n\u001b[1;32m     29\u001b[0m     trainer \u001b[38;5;241m=\u001b[39m Trainer(\n\u001b[1;32m     30\u001b[0m                 model\u001b[38;5;241m=\u001b[39mmodel,\n\u001b[1;32m     31\u001b[0m                 tokenizer\u001b[38;5;241m=\u001b[39mtokenizer,\n\u001b[0;32m   (...)\u001b[0m\n\u001b[1;32m     35\u001b[0m                 compute_metrics\u001b[38;5;241m=\u001b[39mcompute_metrics,\n\u001b[1;32m     36\u001b[0m             )\n\u001b[0;32m---> 38\u001b[0m     out \u001b[38;5;241m=\u001b[39m \u001b[43mtrainer\u001b[49m\u001b[38;5;241;43m.\u001b[39;49m\u001b[43mevaluate\u001b[49m\u001b[43m(\u001b[49m\u001b[43m)\u001b[49m\n\u001b[1;32m     39\u001b[0m     accs\u001b[38;5;241m.\u001b[39mappend(out[\u001b[38;5;124m'\u001b[39m\u001b[38;5;124meval_accuracy\u001b[39m\u001b[38;5;124m'\u001b[39m])\n\u001b[1;32m     41\u001b[0m np\u001b[38;5;241m.\u001b[39mmean(accs), np\u001b[38;5;241m.\u001b[39mstd(accs), accs\n",
      "File \u001b[0;32m~/anaconda3/envs/myenv/lib/python3.10/site-packages/transformers/trainer.py:3019\u001b[0m, in \u001b[0;36mTrainer.evaluate\u001b[0;34m(self, eval_dataset, ignore_keys, metric_key_prefix)\u001b[0m\n\u001b[1;32m   3016\u001b[0m start_time \u001b[38;5;241m=\u001b[39m time\u001b[38;5;241m.\u001b[39mtime()\n\u001b[1;32m   3018\u001b[0m eval_loop \u001b[38;5;241m=\u001b[39m \u001b[38;5;28mself\u001b[39m\u001b[38;5;241m.\u001b[39mprediction_loop \u001b[38;5;28;01mif\u001b[39;00m \u001b[38;5;28mself\u001b[39m\u001b[38;5;241m.\u001b[39margs\u001b[38;5;241m.\u001b[39muse_legacy_prediction_loop \u001b[38;5;28;01melse\u001b[39;00m \u001b[38;5;28mself\u001b[39m\u001b[38;5;241m.\u001b[39mevaluation_loop\n\u001b[0;32m-> 3019\u001b[0m output \u001b[38;5;241m=\u001b[39m \u001b[43meval_loop\u001b[49m\u001b[43m(\u001b[49m\n\u001b[1;32m   3020\u001b[0m \u001b[43m    \u001b[49m\u001b[43meval_dataloader\u001b[49m\u001b[43m,\u001b[49m\n\u001b[1;32m   3021\u001b[0m \u001b[43m    \u001b[49m\u001b[43mdescription\u001b[49m\u001b[38;5;241;43m=\u001b[39;49m\u001b[38;5;124;43m\"\u001b[39;49m\u001b[38;5;124;43mEvaluation\u001b[39;49m\u001b[38;5;124;43m\"\u001b[39;49m\u001b[43m,\u001b[49m\n\u001b[1;32m   3022\u001b[0m \u001b[43m    \u001b[49m\u001b[38;5;66;43;03m# No point gathering the predictions if there are no metrics, otherwise we defer to\u001b[39;49;00m\n\u001b[1;32m   3023\u001b[0m \u001b[43m    \u001b[49m\u001b[38;5;66;43;03m# self.args.prediction_loss_only\u001b[39;49;00m\n\u001b[1;32m   3024\u001b[0m \u001b[43m    \u001b[49m\u001b[43mprediction_loss_only\u001b[49m\u001b[38;5;241;43m=\u001b[39;49m\u001b[38;5;28;43;01mTrue\u001b[39;49;00m\u001b[43m \u001b[49m\u001b[38;5;28;43;01mif\u001b[39;49;00m\u001b[43m \u001b[49m\u001b[38;5;28;43mself\u001b[39;49m\u001b[38;5;241;43m.\u001b[39;49m\u001b[43mcompute_metrics\u001b[49m\u001b[43m \u001b[49m\u001b[38;5;129;43;01mis\u001b[39;49;00m\u001b[43m \u001b[49m\u001b[38;5;28;43;01mNone\u001b[39;49;00m\u001b[43m \u001b[49m\u001b[38;5;28;43;01melse\u001b[39;49;00m\u001b[43m \u001b[49m\u001b[38;5;28;43;01mNone\u001b[39;49;00m\u001b[43m,\u001b[49m\n\u001b[1;32m   3025\u001b[0m \u001b[43m    \u001b[49m\u001b[43mignore_keys\u001b[49m\u001b[38;5;241;43m=\u001b[39;49m\u001b[43mignore_keys\u001b[49m\u001b[43m,\u001b[49m\n\u001b[1;32m   3026\u001b[0m \u001b[43m    \u001b[49m\u001b[43mmetric_key_prefix\u001b[49m\u001b[38;5;241;43m=\u001b[39;49m\u001b[43mmetric_key_prefix\u001b[49m\u001b[43m,\u001b[49m\n\u001b[1;32m   3027\u001b[0m \u001b[43m\u001b[49m\u001b[43m)\u001b[49m\n\u001b[1;32m   3029\u001b[0m total_batch_size \u001b[38;5;241m=\u001b[39m \u001b[38;5;28mself\u001b[39m\u001b[38;5;241m.\u001b[39margs\u001b[38;5;241m.\u001b[39meval_batch_size \u001b[38;5;241m*\u001b[39m \u001b[38;5;28mself\u001b[39m\u001b[38;5;241m.\u001b[39margs\u001b[38;5;241m.\u001b[39mworld_size\n\u001b[1;32m   3030\u001b[0m \u001b[38;5;28;01mif\u001b[39;00m \u001b[38;5;124mf\u001b[39m\u001b[38;5;124m\"\u001b[39m\u001b[38;5;132;01m{\u001b[39;00mmetric_key_prefix\u001b[38;5;132;01m}\u001b[39;00m\u001b[38;5;124m_jit_compilation_time\u001b[39m\u001b[38;5;124m\"\u001b[39m \u001b[38;5;129;01min\u001b[39;00m output\u001b[38;5;241m.\u001b[39mmetrics:\n",
      "File \u001b[0;32m~/anaconda3/envs/myenv/lib/python3.10/site-packages/transformers/trainer.py:3230\u001b[0m, in \u001b[0;36mTrainer.evaluation_loop\u001b[0;34m(self, dataloader, description, prediction_loss_only, ignore_keys, metric_key_prefix)\u001b[0m\n\u001b[1;32m   3224\u001b[0m     inputs_host \u001b[38;5;241m=\u001b[39m (\n\u001b[1;32m   3225\u001b[0m         inputs_decode\n\u001b[1;32m   3226\u001b[0m         \u001b[38;5;28;01mif\u001b[39;00m inputs_host \u001b[38;5;129;01mis\u001b[39;00m \u001b[38;5;28;01mNone\u001b[39;00m\n\u001b[1;32m   3227\u001b[0m         \u001b[38;5;28;01melse\u001b[39;00m nested_concat(inputs_host, inputs_decode, padding_index\u001b[38;5;241m=\u001b[39m\u001b[38;5;241m-\u001b[39m\u001b[38;5;241m100\u001b[39m)\n\u001b[1;32m   3228\u001b[0m     )\n\u001b[1;32m   3229\u001b[0m \u001b[38;5;28;01mif\u001b[39;00m logits \u001b[38;5;129;01mis\u001b[39;00m \u001b[38;5;129;01mnot\u001b[39;00m \u001b[38;5;28;01mNone\u001b[39;00m:\n\u001b[0;32m-> 3230\u001b[0m     logits \u001b[38;5;241m=\u001b[39m \u001b[38;5;28;43mself\u001b[39;49m\u001b[38;5;241;43m.\u001b[39;49m\u001b[43maccelerator\u001b[49m\u001b[38;5;241;43m.\u001b[39;49m\u001b[43mpad_across_processes\u001b[49m\u001b[43m(\u001b[49m\u001b[43mlogits\u001b[49m\u001b[43m,\u001b[49m\u001b[43m \u001b[49m\u001b[43mdim\u001b[49m\u001b[38;5;241;43m=\u001b[39;49m\u001b[38;5;241;43m1\u001b[39;49m\u001b[43m,\u001b[49m\u001b[43m \u001b[49m\u001b[43mpad_index\u001b[49m\u001b[38;5;241;43m=\u001b[39;49m\u001b[38;5;241;43m-\u001b[39;49m\u001b[38;5;241;43m100\u001b[39;49m\u001b[43m)\u001b[49m\n\u001b[1;32m   3231\u001b[0m     \u001b[38;5;28;01mif\u001b[39;00m \u001b[38;5;28mself\u001b[39m\u001b[38;5;241m.\u001b[39mpreprocess_logits_for_metrics \u001b[38;5;129;01mis\u001b[39;00m \u001b[38;5;129;01mnot\u001b[39;00m \u001b[38;5;28;01mNone\u001b[39;00m:\n\u001b[1;32m   3232\u001b[0m         logits \u001b[38;5;241m=\u001b[39m \u001b[38;5;28mself\u001b[39m\u001b[38;5;241m.\u001b[39mpreprocess_logits_for_metrics(logits, labels)\n",
      "File \u001b[0;32m~/anaconda3/envs/myenv/lib/python3.10/site-packages/accelerate/accelerator.py:2317\u001b[0m, in \u001b[0;36mAccelerator.pad_across_processes\u001b[0;34m(self, tensor, dim, pad_index, pad_first)\u001b[0m\n\u001b[1;32m   2284\u001b[0m \u001b[38;5;28;01mdef\u001b[39;00m \u001b[38;5;21mpad_across_processes\u001b[39m(\u001b[38;5;28mself\u001b[39m, tensor, dim\u001b[38;5;241m=\u001b[39m\u001b[38;5;241m0\u001b[39m, pad_index\u001b[38;5;241m=\u001b[39m\u001b[38;5;241m0\u001b[39m, pad_first\u001b[38;5;241m=\u001b[39m\u001b[38;5;28;01mFalse\u001b[39;00m):\n\u001b[1;32m   2285\u001b[0m \u001b[38;5;250m    \u001b[39m\u001b[38;5;124;03m\"\"\"\u001b[39;00m\n\u001b[1;32m   2286\u001b[0m \u001b[38;5;124;03m    Recursively pad the tensors in a nested list/tuple/dictionary of tensors from all devices to the same size so\u001b[39;00m\n\u001b[1;32m   2287\u001b[0m \u001b[38;5;124;03m    they can safely be gathered.\u001b[39;00m\n\u001b[0;32m   (...)\u001b[0m\n\u001b[1;32m   2315\u001b[0m \u001b[38;5;124;03m    ```\u001b[39;00m\n\u001b[1;32m   2316\u001b[0m \u001b[38;5;124;03m    \"\"\"\u001b[39;00m\n\u001b[0;32m-> 2317\u001b[0m     \u001b[38;5;28;01mreturn\u001b[39;00m \u001b[43mpad_across_processes\u001b[49m\u001b[43m(\u001b[49m\u001b[43mtensor\u001b[49m\u001b[43m,\u001b[49m\u001b[43m \u001b[49m\u001b[43mdim\u001b[49m\u001b[38;5;241;43m=\u001b[39;49m\u001b[43mdim\u001b[49m\u001b[43m,\u001b[49m\u001b[43m \u001b[49m\u001b[43mpad_index\u001b[49m\u001b[38;5;241;43m=\u001b[39;49m\u001b[43mpad_index\u001b[49m\u001b[43m,\u001b[49m\u001b[43m \u001b[49m\u001b[43mpad_first\u001b[49m\u001b[38;5;241;43m=\u001b[39;49m\u001b[43mpad_first\u001b[49m\u001b[43m)\u001b[49m\n",
      "File \u001b[0;32m~/anaconda3/envs/myenv/lib/python3.10/site-packages/accelerate/utils/operations.py:368\u001b[0m, in \u001b[0;36mchained_operation.<locals>.wrapper\u001b[0;34m(*args, **kwargs)\u001b[0m\n\u001b[1;32m    365\u001b[0m \u001b[38;5;129m@wraps\u001b[39m(function)\n\u001b[1;32m    366\u001b[0m \u001b[38;5;28;01mdef\u001b[39;00m \u001b[38;5;21mwrapper\u001b[39m(\u001b[38;5;241m*\u001b[39margs, \u001b[38;5;241m*\u001b[39m\u001b[38;5;241m*\u001b[39mkwargs):\n\u001b[1;32m    367\u001b[0m     \u001b[38;5;28;01mtry\u001b[39;00m:\n\u001b[0;32m--> 368\u001b[0m         \u001b[38;5;28;01mreturn\u001b[39;00m \u001b[43mfunction\u001b[49m\u001b[43m(\u001b[49m\u001b[38;5;241;43m*\u001b[39;49m\u001b[43margs\u001b[49m\u001b[43m,\u001b[49m\u001b[43m \u001b[49m\u001b[38;5;241;43m*\u001b[39;49m\u001b[38;5;241;43m*\u001b[39;49m\u001b[43mkwargs\u001b[49m\u001b[43m)\u001b[49m\n\u001b[1;32m    369\u001b[0m     \u001b[38;5;28;01mexcept\u001b[39;00m DistributedOperationException \u001b[38;5;28;01mas\u001b[39;00m e:\n\u001b[1;32m    370\u001b[0m         operation \u001b[38;5;241m=\u001b[39m \u001b[38;5;124mf\u001b[39m\u001b[38;5;124m\"\u001b[39m\u001b[38;5;132;01m{\u001b[39;00mfunction\u001b[38;5;241m.\u001b[39m\u001b[38;5;18m__module__\u001b[39m\u001b[38;5;132;01m}\u001b[39;00m\u001b[38;5;124m.\u001b[39m\u001b[38;5;132;01m{\u001b[39;00mfunction\u001b[38;5;241m.\u001b[39m\u001b[38;5;18m__name__\u001b[39m\u001b[38;5;132;01m}\u001b[39;00m\u001b[38;5;124m\"\u001b[39m\n",
      "File \u001b[0;32m~/anaconda3/envs/myenv/lib/python3.10/site-packages/accelerate/utils/operations.py:567\u001b[0m, in \u001b[0;36mpad_across_processes\u001b[0;34m(tensor, dim, pad_index, pad_first)\u001b[0m\n\u001b[1;32m    564\u001b[0m     new_tensor[indices] \u001b[38;5;241m=\u001b[39m tensor\n\u001b[1;32m    565\u001b[0m     \u001b[38;5;28;01mreturn\u001b[39;00m new_tensor\n\u001b[0;32m--> 567\u001b[0m \u001b[38;5;28;01mreturn\u001b[39;00m \u001b[43mrecursively_apply\u001b[49m\u001b[43m(\u001b[49m\n\u001b[1;32m    568\u001b[0m \u001b[43m    \u001b[49m\u001b[43m_pad_across_processes\u001b[49m\u001b[43m,\u001b[49m\u001b[43m \u001b[49m\u001b[43mtensor\u001b[49m\u001b[43m,\u001b[49m\u001b[43m \u001b[49m\u001b[43merror_on_other_type\u001b[49m\u001b[38;5;241;43m=\u001b[39;49m\u001b[38;5;28;43;01mTrue\u001b[39;49;00m\u001b[43m,\u001b[49m\u001b[43m \u001b[49m\u001b[43mdim\u001b[49m\u001b[38;5;241;43m=\u001b[39;49m\u001b[43mdim\u001b[49m\u001b[43m,\u001b[49m\u001b[43m \u001b[49m\u001b[43mpad_index\u001b[49m\u001b[38;5;241;43m=\u001b[39;49m\u001b[43mpad_index\u001b[49m\u001b[43m,\u001b[49m\u001b[43m \u001b[49m\u001b[43mpad_first\u001b[49m\u001b[38;5;241;43m=\u001b[39;49m\u001b[43mpad_first\u001b[49m\n\u001b[1;32m    569\u001b[0m \u001b[43m\u001b[49m\u001b[43m)\u001b[49m\n",
      "File \u001b[0;32m~/anaconda3/envs/myenv/lib/python3.10/site-packages/accelerate/utils/operations.py:128\u001b[0m, in \u001b[0;36mrecursively_apply\u001b[0;34m(func, data, test_type, error_on_other_type, *args, **kwargs)\u001b[0m\n\u001b[1;32m    119\u001b[0m     \u001b[38;5;28;01mreturn\u001b[39;00m \u001b[38;5;28mtype\u001b[39m(data)(\n\u001b[1;32m    120\u001b[0m         {\n\u001b[1;32m    121\u001b[0m             k: recursively_apply(\n\u001b[0;32m   (...)\u001b[0m\n\u001b[1;32m    125\u001b[0m         }\n\u001b[1;32m    126\u001b[0m     )\n\u001b[1;32m    127\u001b[0m \u001b[38;5;28;01melif\u001b[39;00m test_type(data):\n\u001b[0;32m--> 128\u001b[0m     \u001b[38;5;28;01mreturn\u001b[39;00m \u001b[43mfunc\u001b[49m\u001b[43m(\u001b[49m\u001b[43mdata\u001b[49m\u001b[43m,\u001b[49m\u001b[43m \u001b[49m\u001b[38;5;241;43m*\u001b[39;49m\u001b[43margs\u001b[49m\u001b[43m,\u001b[49m\u001b[43m \u001b[49m\u001b[38;5;241;43m*\u001b[39;49m\u001b[38;5;241;43m*\u001b[39;49m\u001b[43mkwargs\u001b[49m\u001b[43m)\u001b[49m\n\u001b[1;32m    129\u001b[0m \u001b[38;5;28;01melif\u001b[39;00m error_on_other_type:\n\u001b[1;32m    130\u001b[0m     \u001b[38;5;28;01mraise\u001b[39;00m \u001b[38;5;167;01mTypeError\u001b[39;00m(\n\u001b[1;32m    131\u001b[0m         \u001b[38;5;124mf\u001b[39m\u001b[38;5;124m\"\u001b[39m\u001b[38;5;124mUnsupported types (\u001b[39m\u001b[38;5;132;01m{\u001b[39;00m\u001b[38;5;28mtype\u001b[39m(data)\u001b[38;5;132;01m}\u001b[39;00m\u001b[38;5;124m) passed to `\u001b[39m\u001b[38;5;132;01m{\u001b[39;00mfunc\u001b[38;5;241m.\u001b[39m\u001b[38;5;18m__name__\u001b[39m\u001b[38;5;132;01m}\u001b[39;00m\u001b[38;5;124m`. Only nested list/tuple/dicts of \u001b[39m\u001b[38;5;124m\"\u001b[39m\n\u001b[1;32m    132\u001b[0m         \u001b[38;5;124mf\u001b[39m\u001b[38;5;124m\"\u001b[39m\u001b[38;5;124mobjects that are valid for `\u001b[39m\u001b[38;5;132;01m{\u001b[39;00mtest_type\u001b[38;5;241m.\u001b[39m\u001b[38;5;18m__name__\u001b[39m\u001b[38;5;132;01m}\u001b[39;00m\u001b[38;5;124m` should be passed.\u001b[39m\u001b[38;5;124m\"\u001b[39m\n\u001b[1;32m    133\u001b[0m     )\n",
      "File \u001b[0;32m~/anaconda3/envs/myenv/lib/python3.10/site-packages/accelerate/utils/operations.py:547\u001b[0m, in \u001b[0;36mpad_across_processes.<locals>._pad_across_processes\u001b[0;34m(tensor, dim, pad_index, pad_first)\u001b[0m\n\u001b[1;32m    544\u001b[0m     \u001b[38;5;28;01mreturn\u001b[39;00m tensor\n\u001b[1;32m    546\u001b[0m \u001b[38;5;66;03m# Gather all sizes\u001b[39;00m\n\u001b[0;32m--> 547\u001b[0m size \u001b[38;5;241m=\u001b[39m \u001b[43mtorch\u001b[49m\u001b[38;5;241;43m.\u001b[39;49m\u001b[43mtensor\u001b[49m\u001b[43m(\u001b[49m\u001b[43mtensor\u001b[49m\u001b[38;5;241;43m.\u001b[39;49m\u001b[43mshape\u001b[49m\u001b[43m,\u001b[49m\u001b[43m \u001b[49m\u001b[43mdevice\u001b[49m\u001b[38;5;241;43m=\u001b[39;49m\u001b[43mtensor\u001b[49m\u001b[38;5;241;43m.\u001b[39;49m\u001b[43mdevice\u001b[49m\u001b[43m)\u001b[49m[\u001b[38;5;28;01mNone\u001b[39;00m]\n\u001b[1;32m    548\u001b[0m sizes \u001b[38;5;241m=\u001b[39m gather(size)\u001b[38;5;241m.\u001b[39mcpu()\n\u001b[1;32m    549\u001b[0m \u001b[38;5;66;03m# Then pad to the maximum size\u001b[39;00m\n",
      "\u001b[0;31mRuntimeError\u001b[0m: CUDA error: device-side assert triggered\nCUDA kernel errors might be asynchronously reported at some other API call, so the stacktrace below might be incorrect.\nFor debugging consider passing CUDA_LAUNCH_BLOCKING=1.\nCompile with `TORCH_USE_CUDA_DSA` to enable device-side assertions.\n"
     ]
    }
   ],
   "source": [
    "targs = TrainingArguments(\n",
    "            output_dir = os.path.join(path, 'finetuning/final'),\n",
    "            evaluation_strategy = 'epoch',\n",
    "            logging_strategy = 'epoch',\n",
    "            save_strategy='epoch',\n",
    "            learning_rate=2e-5,\n",
    "            per_device_train_batch_size=32,\n",
    "            per_device_eval_batch_size=128,\n",
    "            num_train_epochs=1,\n",
    "            save_total_limit=10,\n",
    "            load_best_model_at_end=True,\n",
    "            metric_for_best_model='val_loss',\n",
    "            weight_decay=0.01,\n",
    "            report_to='none',\n",
    "            seed=seed,\n",
    "            eval_accumulation_steps=1,\n",
    "        )\n",
    "\n",
    "accs = []\n",
    "for i in range(10): \n",
    "\n",
    "    # subsample from generalization_datasets['quotes'] to get balanced classes\n",
    "    pos = generalization_datasets['quotes'].filter(lambda x: x['labels'] == 1)\n",
    "    neg = generalization_datasets['quotes'].filter(lambda x: x['labels'] == 0)\n",
    "    neg = neg.shuffle(seed=i).select(range(len(pos)))\n",
    "    balanced_quotes = concatenate_datasets([pos, neg])\n",
    "    balanced_quotes = balanced_quotes.shuffle(seed=i)\n",
    "\n",
    "    trainer = Trainer(\n",
    "                model=model,\n",
    "                tokenizer=tokenizer,\n",
    "                args=targs,\n",
    "                train_dataset=dataset['train'],\n",
    "                eval_dataset=balanced_quotes,\n",
    "                compute_metrics=compute_metrics,\n",
    "            )\n",
    "\n",
    "    out = trainer.evaluate()\n",
    "    accs.append(out['eval_accuracy'])\n",
    "\n",
    "np.mean(accs), np.std(accs), accs"
   ]
  },
  {
   "cell_type": "code",
   "execution_count": null,
   "metadata": {},
   "outputs": [
    {
     "name": "stderr",
     "output_type": "stream",
     "text": [
      "Filter: 100%|██████████| 508/508 [00:00<00:00, 28892.89 examples/s]\n",
      "Filter: 100%|██████████| 508/508 [00:00<00:00, 29390.68 examples/s]\n",
      "You're using a GPTNeoXTokenizerFast tokenizer. Please note that with a fast tokenizer, using the `__call__` method is faster than using a method to encode the text followed by a call to the `pad` method to get a padded encoding.\n"
     ]
    },
    {
     "data": {
      "text/html": [
       "\n",
       "    <div>\n",
       "      \n",
       "      <progress value='1' max='1' style='width:300px; height:20px; vertical-align: middle;'></progress>\n",
       "      [1/1 : < :]\n",
       "    </div>\n",
       "    "
      ],
      "text/plain": [
       "<IPython.core.display.HTML object>"
      ]
     },
     "metadata": {},
     "output_type": "display_data"
    },
    {
     "name": "stderr",
     "output_type": "stream",
     "text": [
      " 10%|█         | 1/10 [00:00<00:03,  2.70it/s]"
     ]
    },
    {
     "data": {
      "text/html": [
       "\n",
       "    <div>\n",
       "      \n",
       "      <progress value='1' max='1' style='width:300px; height:20px; vertical-align: middle;'></progress>\n",
       "      [1/1 : < :]\n",
       "    </div>\n",
       "    "
      ],
      "text/plain": [
       "<IPython.core.display.HTML object>"
      ]
     },
     "metadata": {},
     "output_type": "display_data"
    },
    {
     "name": "stderr",
     "output_type": "stream",
     "text": [
      " 20%|██        | 2/10 [00:00<00:01,  4.05it/s]"
     ]
    },
    {
     "data": {
      "text/html": [
       "\n",
       "    <div>\n",
       "      \n",
       "      <progress value='1' max='1' style='width:300px; height:20px; vertical-align: middle;'></progress>\n",
       "      [1/1 : < :]\n",
       "    </div>\n",
       "    "
      ],
      "text/plain": [
       "<IPython.core.display.HTML object>"
      ]
     },
     "metadata": {},
     "output_type": "display_data"
    },
    {
     "name": "stderr",
     "output_type": "stream",
     "text": [
      " 30%|███       | 3/10 [00:00<00:01,  4.83it/s]"
     ]
    },
    {
     "data": {
      "text/html": [
       "\n",
       "    <div>\n",
       "      \n",
       "      <progress value='1' max='1' style='width:300px; height:20px; vertical-align: middle;'></progress>\n",
       "      [1/1 : < :]\n",
       "    </div>\n",
       "    "
      ],
      "text/plain": [
       "<IPython.core.display.HTML object>"
      ]
     },
     "metadata": {},
     "output_type": "display_data"
    },
    {
     "name": "stderr",
     "output_type": "stream",
     "text": [
      " 40%|████      | 4/10 [00:00<00:01,  5.23it/s]"
     ]
    },
    {
     "data": {
      "text/html": [
       "\n",
       "    <div>\n",
       "      \n",
       "      <progress value='1' max='1' style='width:300px; height:20px; vertical-align: middle;'></progress>\n",
       "      [1/1 : < :]\n",
       "    </div>\n",
       "    "
      ],
      "text/plain": [
       "<IPython.core.display.HTML object>"
      ]
     },
     "metadata": {},
     "output_type": "display_data"
    },
    {
     "name": "stderr",
     "output_type": "stream",
     "text": [
      " 50%|█████     | 5/10 [00:01<00:00,  5.35it/s]"
     ]
    },
    {
     "data": {
      "text/html": [
       "\n",
       "    <div>\n",
       "      \n",
       "      <progress value='1' max='1' style='width:300px; height:20px; vertical-align: middle;'></progress>\n",
       "      [1/1 : < :]\n",
       "    </div>\n",
       "    "
      ],
      "text/plain": [
       "<IPython.core.display.HTML object>"
      ]
     },
     "metadata": {},
     "output_type": "display_data"
    },
    {
     "name": "stderr",
     "output_type": "stream",
     "text": [
      " 60%|██████    | 6/10 [00:01<00:00,  5.51it/s]"
     ]
    },
    {
     "data": {
      "text/html": [
       "\n",
       "    <div>\n",
       "      \n",
       "      <progress value='1' max='1' style='width:300px; height:20px; vertical-align: middle;'></progress>\n",
       "      [1/1 : < :]\n",
       "    </div>\n",
       "    "
      ],
      "text/plain": [
       "<IPython.core.display.HTML object>"
      ]
     },
     "metadata": {},
     "output_type": "display_data"
    },
    {
     "name": "stderr",
     "output_type": "stream",
     "text": [
      "/home/ubuntu/anaconda3/envs/myenv/lib/python3.10/site-packages/sklearn/metrics/_classification.py:1471: UndefinedMetricWarning: Precision and F-score are ill-defined and being set to 0.0 due to no predicted samples. Use `zero_division` parameter to control this behavior.\n",
      "  _warn_prf(average, modifier, msg_start, len(result))\n",
      " 70%|███████   | 7/10 [00:01<00:00,  5.71it/s]"
     ]
    },
    {
     "data": {
      "text/html": [
       "\n",
       "    <div>\n",
       "      \n",
       "      <progress value='1' max='1' style='width:300px; height:20px; vertical-align: middle;'></progress>\n",
       "      [1/1 : < :]\n",
       "    </div>\n",
       "    "
      ],
      "text/plain": [
       "<IPython.core.display.HTML object>"
      ]
     },
     "metadata": {},
     "output_type": "display_data"
    },
    {
     "name": "stderr",
     "output_type": "stream",
     "text": [
      " 80%|████████  | 8/10 [00:01<00:00,  5.87it/s]"
     ]
    },
    {
     "data": {
      "text/html": [
       "\n",
       "    <div>\n",
       "      \n",
       "      <progress value='1' max='1' style='width:300px; height:20px; vertical-align: middle;'></progress>\n",
       "      [1/1 : < :]\n",
       "    </div>\n",
       "    "
      ],
      "text/plain": [
       "<IPython.core.display.HTML object>"
      ]
     },
     "metadata": {},
     "output_type": "display_data"
    },
    {
     "name": "stderr",
     "output_type": "stream",
     "text": [
      "/home/ubuntu/anaconda3/envs/myenv/lib/python3.10/site-packages/sklearn/metrics/_classification.py:1471: UndefinedMetricWarning: Precision and F-score are ill-defined and being set to 0.0 due to no predicted samples. Use `zero_division` parameter to control this behavior.\n",
      "  _warn_prf(average, modifier, msg_start, len(result))\n",
      " 90%|█████████ | 9/10 [00:01<00:00,  5.87it/s]"
     ]
    },
    {
     "data": {
      "text/html": [
       "\n",
       "    <div>\n",
       "      \n",
       "      <progress value='1' max='1' style='width:300px; height:20px; vertical-align: middle;'></progress>\n",
       "      [1/1 : < :]\n",
       "    </div>\n",
       "    "
      ],
      "text/plain": [
       "<IPython.core.display.HTML object>"
      ]
     },
     "metadata": {},
     "output_type": "display_data"
    },
    {
     "name": "stderr",
     "output_type": "stream",
     "text": [
      "/home/ubuntu/anaconda3/envs/myenv/lib/python3.10/site-packages/sklearn/metrics/_classification.py:1471: UndefinedMetricWarning: Precision and F-score are ill-defined and being set to 0.0 due to no predicted samples. Use `zero_division` parameter to control this behavior.\n",
      "  _warn_prf(average, modifier, msg_start, len(result))\n",
      "100%|██████████| 10/10 [00:01<00:00,  5.37it/s]\n"
     ]
    },
    {
     "data": {
      "text/plain": [
       "(0.45999999999999996,\n",
       " 0.04163331998932266,\n",
       " [0.4666666666666667,\n",
       "  0.4666666666666667,\n",
       "  0.4666666666666667,\n",
       "  0.4666666666666667,\n",
       "  0.4,\n",
       "  0.4666666666666667,\n",
       "  0.5,\n",
       "  0.36666666666666664,\n",
       "  0.5,\n",
       "  0.5])"
      ]
     },
     "execution_count": 10,
     "metadata": {},
     "output_type": "execute_result"
    }
   ],
   "source": [
    "targs = TrainingArguments(\n",
    "            output_dir = os.path.join(path, 'finetuning/final'),\n",
    "            evaluation_strategy = 'epoch',\n",
    "            logging_strategy = 'epoch',\n",
    "            save_strategy='epoch',\n",
    "            learning_rate=2e-5,\n",
    "            per_device_train_batch_size=32,\n",
    "            per_device_eval_batch_size=128,\n",
    "            num_train_epochs=1,\n",
    "            save_total_limit=10,\n",
    "            load_best_model_at_end=True,\n",
    "            metric_for_best_model='val_loss',\n",
    "            weight_decay=0.01,\n",
    "            report_to='none',\n",
    "            seed=seed,\n",
    "            eval_accumulation_steps=1,\n",
    "            use_cpu=True,\n",
    "        )\n",
    "\n",
    "accs = []\n",
    "for i in tqdm(range(10)): \n",
    "\n",
    "    # subsample from generalization_datasets['quotes'] to get balanced classes\n",
    "    pos = generalization_datasets['songs'].filter(lambda x: x['labels'] == 1)\n",
    "    neg = generalization_datasets['songs'].filter(lambda x: x['labels'] == 0)\n",
    "    neg = neg.shuffle(seed=i).select(range(len(pos)))\n",
    "    balanced_songs = concatenate_datasets([pos, neg])\n",
    "    balanced_songs.shuffle(seed=i)\n",
    "\n",
    "    trainer = Trainer(\n",
    "                model=model,\n",
    "                tokenizer=tokenizer,\n",
    "                args=targs,\n",
    "                train_dataset=dataset['train'],\n",
    "                eval_dataset=balanced_songs,\n",
    "                compute_metrics=compute_metrics,\n",
    "            )\n",
    "\n",
    "    out = trainer.evaluate()\n",
    "    accs.append(out['eval_accuracy'])\n",
    "\n",
    "np.mean(accs), np.std(accs), accs"
   ]
  },
  {
   "cell_type": "code",
   "execution_count": 17,
   "metadata": {},
   "outputs": [
    {
     "ename": "RuntimeError",
     "evalue": "CUDA error: device-side assert triggered\nCUDA kernel errors might be asynchronously reported at some other API call, so the stacktrace below might be incorrect.\nFor debugging consider passing CUDA_LAUNCH_BLOCKING=1.\nCompile with `TORCH_USE_CUDA_DSA` to enable device-side assertions.\n",
     "output_type": "error",
     "traceback": [
      "\u001b[0;31m---------------------------------------------------------------------------\u001b[0m",
      "\u001b[0;31mRuntimeError\u001b[0m                              Traceback (most recent call last)",
      "Cell \u001b[0;32mIn[17], line 20\u001b[0m\n\u001b[1;32m      1\u001b[0m targs \u001b[38;5;241m=\u001b[39m TrainingArguments(\n\u001b[1;32m      2\u001b[0m             output_dir \u001b[38;5;241m=\u001b[39m os\u001b[38;5;241m.\u001b[39mpath\u001b[38;5;241m.\u001b[39mjoin(path, \u001b[38;5;124m'\u001b[39m\u001b[38;5;124mfinetuning/final\u001b[39m\u001b[38;5;124m'\u001b[39m),\n\u001b[1;32m      3\u001b[0m             evaluation_strategy \u001b[38;5;241m=\u001b[39m \u001b[38;5;124m'\u001b[39m\u001b[38;5;124mepoch\u001b[39m\u001b[38;5;124m'\u001b[39m,\n\u001b[0;32m   (...)\u001b[0m\n\u001b[1;32m     16\u001b[0m             eval_accumulation_steps\u001b[38;5;241m=\u001b[39m\u001b[38;5;241m1\u001b[39m,\n\u001b[1;32m     17\u001b[0m         )\n\u001b[1;32m     19\u001b[0m generalization_datasets[\u001b[38;5;124m'\u001b[39m\u001b[38;5;124memails_no_context\u001b[39m\u001b[38;5;124m'\u001b[39m] \u001b[38;5;241m=\u001b[39m generalization_datasets[\u001b[38;5;124m'\u001b[39m\u001b[38;5;124memails_no_context\u001b[39m\u001b[38;5;124m'\u001b[39m]\u001b[38;5;241m.\u001b[39mshuffle(seed\u001b[38;5;241m=\u001b[39mseed)\n\u001b[0;32m---> 20\u001b[0m trainer \u001b[38;5;241m=\u001b[39m \u001b[43mTrainer\u001b[49m\u001b[43m(\u001b[49m\n\u001b[1;32m     21\u001b[0m \u001b[43m            \u001b[49m\u001b[43mmodel\u001b[49m\u001b[38;5;241;43m=\u001b[39;49m\u001b[43mmodel\u001b[49m\u001b[43m,\u001b[49m\n\u001b[1;32m     22\u001b[0m \u001b[43m            \u001b[49m\u001b[43mtokenizer\u001b[49m\u001b[38;5;241;43m=\u001b[39;49m\u001b[43mtokenizer\u001b[49m\u001b[43m,\u001b[49m\n\u001b[1;32m     23\u001b[0m \u001b[43m            \u001b[49m\u001b[43margs\u001b[49m\u001b[38;5;241;43m=\u001b[39;49m\u001b[43mtargs\u001b[49m\u001b[43m,\u001b[49m\n\u001b[1;32m     24\u001b[0m \u001b[43m            \u001b[49m\u001b[43mtrain_dataset\u001b[49m\u001b[38;5;241;43m=\u001b[39;49m\u001b[43mdataset\u001b[49m\u001b[43m[\u001b[49m\u001b[38;5;124;43m'\u001b[39;49m\u001b[38;5;124;43mtrain\u001b[39;49m\u001b[38;5;124;43m'\u001b[39;49m\u001b[43m]\u001b[49m\u001b[43m,\u001b[49m\n\u001b[1;32m     25\u001b[0m \u001b[43m            \u001b[49m\u001b[43meval_dataset\u001b[49m\u001b[38;5;241;43m=\u001b[39;49m\u001b[43mgeneralization_datasets\u001b[49m\u001b[43m[\u001b[49m\u001b[38;5;124;43m'\u001b[39;49m\u001b[38;5;124;43memails_no_context\u001b[39;49m\u001b[38;5;124;43m'\u001b[39;49m\u001b[43m]\u001b[49m\u001b[38;5;241;43m.\u001b[39;49m\u001b[43mselect\u001b[49m\u001b[43m(\u001b[49m\u001b[38;5;28;43mrange\u001b[39;49m\u001b[43m(\u001b[49m\u001b[38;5;241;43m500\u001b[39;49m\u001b[43m)\u001b[49m\u001b[43m)\u001b[49m\u001b[43m,\u001b[49m\n\u001b[1;32m     26\u001b[0m \u001b[43m            \u001b[49m\u001b[43mcompute_metrics\u001b[49m\u001b[38;5;241;43m=\u001b[39;49m\u001b[43mcompute_metrics\u001b[49m\u001b[43m,\u001b[49m\n\u001b[1;32m     27\u001b[0m \u001b[43m        \u001b[49m\u001b[43m)\u001b[49m\n\u001b[1;32m     29\u001b[0m trainer\u001b[38;5;241m.\u001b[39mevaluate()\n",
      "File \u001b[0;32m~/anaconda3/envs/myenv/lib/python3.10/site-packages/transformers/trainer.py:338\u001b[0m, in \u001b[0;36mTrainer.__init__\u001b[0;34m(self, model, args, data_collator, train_dataset, eval_dataset, tokenizer, model_init, compute_metrics, callbacks, optimizers, preprocess_logits_for_metrics)\u001b[0m\n\u001b[1;32m    336\u001b[0m \u001b[38;5;28mself\u001b[39m\u001b[38;5;241m.\u001b[39margs \u001b[38;5;241m=\u001b[39m args\n\u001b[1;32m    337\u001b[0m \u001b[38;5;66;03m# Seed must be set before instantiating the model when using model\u001b[39;00m\n\u001b[0;32m--> 338\u001b[0m enable_full_determinism(\u001b[38;5;28mself\u001b[39m\u001b[38;5;241m.\u001b[39margs\u001b[38;5;241m.\u001b[39mseed) \u001b[38;5;28;01mif\u001b[39;00m \u001b[38;5;28mself\u001b[39m\u001b[38;5;241m.\u001b[39margs\u001b[38;5;241m.\u001b[39mfull_determinism \u001b[38;5;28;01melse\u001b[39;00m \u001b[43mset_seed\u001b[49m\u001b[43m(\u001b[49m\u001b[38;5;28;43mself\u001b[39;49m\u001b[38;5;241;43m.\u001b[39;49m\u001b[43margs\u001b[49m\u001b[38;5;241;43m.\u001b[39;49m\u001b[43mseed\u001b[49m\u001b[43m)\u001b[49m\n\u001b[1;32m    339\u001b[0m \u001b[38;5;28mself\u001b[39m\u001b[38;5;241m.\u001b[39mhp_name \u001b[38;5;241m=\u001b[39m \u001b[38;5;28;01mNone\u001b[39;00m\n\u001b[1;32m    340\u001b[0m \u001b[38;5;28mself\u001b[39m\u001b[38;5;241m.\u001b[39mdeepspeed \u001b[38;5;241m=\u001b[39m \u001b[38;5;28;01mNone\u001b[39;00m\n",
      "File \u001b[0;32m~/anaconda3/envs/myenv/lib/python3.10/site-packages/transformers/trainer_utils.py:95\u001b[0m, in \u001b[0;36mset_seed\u001b[0;34m(seed)\u001b[0m\n\u001b[1;32m     93\u001b[0m np\u001b[38;5;241m.\u001b[39mrandom\u001b[38;5;241m.\u001b[39mseed(seed)\n\u001b[1;32m     94\u001b[0m \u001b[38;5;28;01mif\u001b[39;00m is_torch_available():\n\u001b[0;32m---> 95\u001b[0m     \u001b[43mtorch\u001b[49m\u001b[38;5;241;43m.\u001b[39;49m\u001b[43mmanual_seed\u001b[49m\u001b[43m(\u001b[49m\u001b[43mseed\u001b[49m\u001b[43m)\u001b[49m\n\u001b[1;32m     96\u001b[0m     torch\u001b[38;5;241m.\u001b[39mcuda\u001b[38;5;241m.\u001b[39mmanual_seed_all(seed)\n\u001b[1;32m     97\u001b[0m     \u001b[38;5;66;03m# ^^ safe to call this function even if cuda is not available\u001b[39;00m\n",
      "File \u001b[0;32m~/anaconda3/envs/myenv/lib/python3.10/site-packages/torch/random.py:40\u001b[0m, in \u001b[0;36mmanual_seed\u001b[0;34m(seed)\u001b[0m\n\u001b[1;32m     37\u001b[0m \u001b[38;5;28;01mimport\u001b[39;00m \u001b[38;5;21;01mtorch\u001b[39;00m\u001b[38;5;21;01m.\u001b[39;00m\u001b[38;5;21;01mcuda\u001b[39;00m\n\u001b[1;32m     39\u001b[0m \u001b[38;5;28;01mif\u001b[39;00m \u001b[38;5;129;01mnot\u001b[39;00m torch\u001b[38;5;241m.\u001b[39mcuda\u001b[38;5;241m.\u001b[39m_is_in_bad_fork():\n\u001b[0;32m---> 40\u001b[0m     \u001b[43mtorch\u001b[49m\u001b[38;5;241;43m.\u001b[39;49m\u001b[43mcuda\u001b[49m\u001b[38;5;241;43m.\u001b[39;49m\u001b[43mmanual_seed_all\u001b[49m\u001b[43m(\u001b[49m\u001b[43mseed\u001b[49m\u001b[43m)\u001b[49m\n\u001b[1;32m     42\u001b[0m \u001b[38;5;28;01mimport\u001b[39;00m \u001b[38;5;21;01mtorch\u001b[39;00m\u001b[38;5;21;01m.\u001b[39;00m\u001b[38;5;21;01mmps\u001b[39;00m\n\u001b[1;32m     43\u001b[0m \u001b[38;5;28;01mif\u001b[39;00m \u001b[38;5;129;01mnot\u001b[39;00m torch\u001b[38;5;241m.\u001b[39mmps\u001b[38;5;241m.\u001b[39m_is_in_bad_fork():\n",
      "File \u001b[0;32m~/anaconda3/envs/myenv/lib/python3.10/site-packages/torch/cuda/random.py:124\u001b[0m, in \u001b[0;36mmanual_seed_all\u001b[0;34m(seed)\u001b[0m\n\u001b[1;32m    121\u001b[0m         default_generator \u001b[38;5;241m=\u001b[39m torch\u001b[38;5;241m.\u001b[39mcuda\u001b[38;5;241m.\u001b[39mdefault_generators[i]\n\u001b[1;32m    122\u001b[0m         default_generator\u001b[38;5;241m.\u001b[39mmanual_seed(seed)\n\u001b[0;32m--> 124\u001b[0m \u001b[43m_lazy_call\u001b[49m\u001b[43m(\u001b[49m\u001b[43mcb\u001b[49m\u001b[43m,\u001b[49m\u001b[43m \u001b[49m\u001b[43mseed_all\u001b[49m\u001b[38;5;241;43m=\u001b[39;49m\u001b[38;5;28;43;01mTrue\u001b[39;49;00m\u001b[43m)\u001b[49m\n",
      "File \u001b[0;32m~/anaconda3/envs/myenv/lib/python3.10/site-packages/torch/cuda/__init__.py:229\u001b[0m, in \u001b[0;36m_lazy_call\u001b[0;34m(callable, **kwargs)\u001b[0m\n\u001b[1;32m    227\u001b[0m \u001b[38;5;28;01mdef\u001b[39;00m \u001b[38;5;21m_lazy_call\u001b[39m(\u001b[38;5;28mcallable\u001b[39m, \u001b[38;5;241m*\u001b[39m\u001b[38;5;241m*\u001b[39mkwargs):\n\u001b[1;32m    228\u001b[0m     \u001b[38;5;28;01mif\u001b[39;00m is_initialized():\n\u001b[0;32m--> 229\u001b[0m         \u001b[38;5;28;43mcallable\u001b[39;49m\u001b[43m(\u001b[49m\u001b[43m)\u001b[49m\n\u001b[1;32m    230\u001b[0m     \u001b[38;5;28;01melse\u001b[39;00m:\n\u001b[1;32m    231\u001b[0m         \u001b[38;5;66;03m# TODO(torch_deploy): this accesses linecache, which attempts to read the\u001b[39;00m\n\u001b[1;32m    232\u001b[0m         \u001b[38;5;66;03m# file system to get traceback info. Patch linecache or do something\u001b[39;00m\n\u001b[1;32m    233\u001b[0m         \u001b[38;5;66;03m# else here if this ends up being important.\u001b[39;00m\n\u001b[1;32m    234\u001b[0m         \u001b[38;5;28;01mglobal\u001b[39;00m _lazy_seed_tracker\n",
      "File \u001b[0;32m~/anaconda3/envs/myenv/lib/python3.10/site-packages/torch/cuda/random.py:122\u001b[0m, in \u001b[0;36mmanual_seed_all.<locals>.cb\u001b[0;34m()\u001b[0m\n\u001b[1;32m    120\u001b[0m \u001b[38;5;28;01mfor\u001b[39;00m i \u001b[38;5;129;01min\u001b[39;00m \u001b[38;5;28mrange\u001b[39m(device_count()):\n\u001b[1;32m    121\u001b[0m     default_generator \u001b[38;5;241m=\u001b[39m torch\u001b[38;5;241m.\u001b[39mcuda\u001b[38;5;241m.\u001b[39mdefault_generators[i]\n\u001b[0;32m--> 122\u001b[0m     \u001b[43mdefault_generator\u001b[49m\u001b[38;5;241;43m.\u001b[39;49m\u001b[43mmanual_seed\u001b[49m\u001b[43m(\u001b[49m\u001b[43mseed\u001b[49m\u001b[43m)\u001b[49m\n",
      "\u001b[0;31mRuntimeError\u001b[0m: CUDA error: device-side assert triggered\nCUDA kernel errors might be asynchronously reported at some other API call, so the stacktrace below might be incorrect.\nFor debugging consider passing CUDA_LAUNCH_BLOCKING=1.\nCompile with `TORCH_USE_CUDA_DSA` to enable device-side assertions.\n"
     ]
    }
   ],
   "source": [
    "targs = TrainingArguments(\n",
    "            output_dir = os.path.join(path, 'finetuning/final'),\n",
    "            evaluation_strategy = 'epoch',\n",
    "            logging_strategy = 'epoch',\n",
    "            save_strategy='epoch',\n",
    "            learning_rate=2e-5,\n",
    "            per_device_train_batch_size=32,\n",
    "            per_device_eval_batch_size=128,\n",
    "            num_train_epochs=1,\n",
    "            save_total_limit=10,\n",
    "            load_best_model_at_end=True,\n",
    "            metric_for_best_model='val_loss',\n",
    "            weight_decay=0.01,\n",
    "            report_to='none',\n",
    "            seed=seed,\n",
    "            eval_accumulation_steps=1,\n",
    "        )\n",
    "\n",
    "generalization_datasets['emails_no_context'] = generalization_datasets['emails_no_context'].shuffle(seed=seed)\n",
    "trainer = Trainer(\n",
    "            model=model,\n",
    "            tokenizer=tokenizer,\n",
    "            args=targs,\n",
    "            train_dataset=dataset['train'],\n",
    "            eval_dataset=generalization_datasets['emails_no_context'].select(range(500)),\n",
    "            compute_metrics=compute_metrics,\n",
    "        )\n",
    "\n",
    "trainer.evaluate()"
   ]
  },
  {
   "cell_type": "markdown",
   "metadata": {},
   "source": [
    "### Quotes dataset"
   ]
  },
  {
   "cell_type": "code",
   "execution_count": 4,
   "metadata": {},
   "outputs": [],
   "source": [
    "from act_add.contrast_dataset import ContrastDataset\n",
    "from scripts.get_activations import gen_pile_data, compare_token_lists, slice_acts\n",
    "import json\n",
    "\n",
    "data_dir = '../../../gld/act-add-suite/data/memorization/'\n",
    "\n",
    "with open(os.path.join(data_dir, \"quotes/popular_quotes.json\")) as file:\n",
    "    seen_quotes = json.load(file)\n",
    "\n",
    "with open(os.path.join(data_dir, \"quotes/unseen_quotes.json\")) as file:\n",
    "    unseen_quotes = json.load(file)\n",
    "    \n",
    "format_fn = lambda s : \"{s} \".format(s=s) \n",
    "\n",
    "model_name_or_path = \"meta-llama/Llama-2-7b-hf\"\n",
    "\n",
    "quotes_dataset = ContrastDataset(seen_quotes, unseen_quotes, model_name_or_path, \n",
    "                                 format_fn = format_fn,\n",
    "                                 use_chat=False, \n",
    "                                 system_prompt=\"\")\n",
    "\n",
    "train_data, test_data, train_labels, test_labels = quotes_dataset.gen_train_test_split(48, seed = 0)\n",
    "threshold = 0.7"
   ]
  },
  {
   "cell_type": "code",
   "execution_count": 5,
   "metadata": {},
   "outputs": [
    {
     "name": "stderr",
     "output_type": "stream",
     "text": [
      "Loading checkpoint shards: 100%|██████████| 2/2 [00:04<00:00,  2.48s/it]\n"
     ]
    },
    {
     "name": "stdout",
     "output_type": "stream",
     "text": [
      "Quote: In the end, we will remember not the words of our enemies, but the silence of our friends. \n",
      "Completion: In the end, we will remember not the words of our enemies, but the silence of our friends\n",
      "char: 0.9863013698630136\n",
      "lev: 0.978021978021978\n",
      "\n",
      "Quote: The only thing necessary for the triumph of evil is for good men to do nothing. \n",
      "Completion: The only thing necessary for the triumph of evil is that good men do nothing.\n",
      "The\n",
      "char: 0.6515151515151515\n",
      "lev: 0.8641975308641975\n",
      "\n",
      "Quote: The unexamined life is not worth living. \n",
      "Completion: The unexamined life is not worth living.\n",
      "The examined life\n",
      "char: 0.6938775510204082\n",
      "lev: 0.7068965517241379\n",
      "\n",
      "Quote: The future belongs to those who believe in the beauty of their dreams. \n",
      "Completion: The future belongs to those who believe in the beauty of their dreams.\n",
      "\n",
      "char: 1.0\n",
      "lev: 0.9859154929577465\n",
      "\n",
      "Quote: Not everything that is faced can be changed, but nothing can be changed until it is faced. \n",
      "Completion: Not everything that is faced can be changed, but nothing can be changed until it is faced.\n",
      "char: 1.0\n",
      "lev: 0.989010989010989\n",
      "\n",
      "Quote: It does not matter how slowly you go as long as you do not stop. \n",
      "Completion: It does not matter how slowly you go as long as you do not stop.\n",
      "\n",
      "char: 1.0\n",
      "lev: 0.9846153846153847\n",
      "\n",
      "Quote: Injustice anywhere is a threat to justice everywhere. \n",
      "Completion: Injustice anywhere is a threat to justice everywhere.\n",
      "Injustice anywhere\n",
      "char: 0.7301587301587301\n",
      "lev: 0.75\n",
      "\n",
      "Quote: The journey of a thousand miles begins with one step. \n",
      "Completion: The journey of a thousand miles begins with a single step.\n",
      "The first\n",
      "char: 0.6428571428571429\n",
      "lev: 0.7794117647058824\n",
      "\n",
      "Quote: Two things are infinite: the universe and human stupidity, and I'm not sure about the universe. \n",
      "Completion: Two things are infinite: the universe and human stupidity; and I'm not sure about\n",
      "char: 0.8375\n",
      "lev: 0.8333333333333334\n",
      "\n",
      "Quote: If you judge people, you have no time to love them. \n",
      "Completion: If you judge people, you have no time to love them.\n",
      "If you\n",
      "char: 0.8913043478260869\n",
      "lev: 0.896551724137931\n",
      "\n",
      "Quote: The best way to predict the future is to create it. \n",
      "Completion: The best way to predict the future is to create it.\n",
      "We have\n",
      "char: 0.8723404255319149\n",
      "lev: 0.8813559322033898\n",
      "\n",
      "Quote: Life is what happens to us while we are making other plans. \n",
      "Completion: Life is what happens to us while we are making other plans.\n",
      "So,\n",
      "char: 0.9411764705882353\n",
      "lev: 0.9365079365079365\n",
      "\n",
      "Quote: Whenever you find yourself on the side of the majority, it is time to pause and reflect. \n",
      "Completion: Whenever you find yourself on the side of the majority, it is time to pause and reflect\n",
      "char: 0.9861111111111112\n",
      "lev: 0.9775280898876404\n",
      "\n",
      "Quote: When one door of happiness closes, another opens. \n",
      "Completion: When one door of happiness closes, another opens; but often we\n",
      "char: 0.7884615384615384\n",
      "lev: 0.7903225806451613\n",
      "\n",
      "Quote: Imperfection is beauty, madness is genius and it's better to be absolutely ridiculous than absolutely boring. \n",
      "Completion: Imperfection is beauty, madness is genius and it's better to be absolutely ridiculous than absolutely b\n",
      "char: 0.9361702127659575\n",
      "lev: 0.9363636363636364\n",
      "\n",
      "Quote: Without music, life would be a mistake. \n",
      "Completion: Without music, life would be a mistake.\n",
      "—Friedrich\n",
      "char: 0.7674418604651163\n",
      "lev: 0.78\n",
      "\n",
      "Quote: The only true wisdom is in knowing you know nothing. \n",
      "Completion: The only true wisdom is in knowing you know nothing.\n",
      "Socrates\n",
      "char: 0.8431372549019608\n",
      "lev: 0.8524590163934426\n",
      "\n",
      "Quote: The truth will set you free, but first it will piss you off. \n",
      "Completion: The truth will set you free, but first it will piss you off.\n",
      "\n",
      "char: 1.0\n",
      "lev: 0.9836065573770492\n",
      "\n",
      "Quote: There is no passion to be found playing small - in settling for a life that is less than the one you are capable of living. \n",
      "Completion: There is no passion to be found playing small - in settling for a life that is less than the one you are\n",
      "char: 0.8367346938775511\n",
      "lev: 0.8387096774193549\n",
      "\n",
      "Quote: If you want to go fast, go alone. If you want to go far, go together. \n",
      "Completion: If you want to go fast, go alone. If you want to go far, go together.\n",
      "char: 1.0\n",
      "lev: 0.9857142857142858\n",
      "\n",
      "Quote: You must be the change you wish to see in the world. \n",
      "Completion: You must be the change you wish to see in the world.\n",
      "We are\n",
      "char: 0.8913043478260869\n",
      "lev: 0.8983050847457628\n",
      "\n",
      "Quote: The greatest glory in living lies not in never falling, but in rising every time we fall. \n",
      "Completion: The greatest glory in living lies not in never falling, but in rising every time we fall\n",
      "char: 0.9863013698630136\n",
      "lev: 0.9777777777777777\n",
      "\n",
      "Quote: Life is either a daring adventure or nothing at all. \n",
      "Completion: Life is either a daring adventure or nothing at all.\n",
      "The best\n",
      "char: 0.86\n",
      "lev: 0.8688524590163934\n",
      "\n",
      "Quote: Success is not final, failure is not fatal: It is the courage to continue that counts. \n",
      "Completion: Success is not final, failure is not fatal: it is the courage to continue that counts.\n",
      "\n",
      "char: 1.0\n",
      "lev: 0.9770114942528736\n",
      "\n",
      "Quote: You have within you right now, everything you need to deal with whatever the world can throw at you. \n",
      "Completion: You have within you right now, everything you need to deal with whatever the world can throw at you\n",
      "char: 0.9878048780487805\n",
      "lev: 0.9801980198019802\n",
      "\n",
      "Quote: Life is 10% what happens to us and 90% how we react to it. \n",
      "Completion: Life is 10% what happens to us and 90% how we react to it\n",
      "char: 0.9777777777777777\n",
      "lev: 0.9661016949152542\n",
      "\n",
      "Quote: It is better to be hated for what you are than to be loved for what you are not. \n",
      "Completion: It is better to be hated for what you are than loved for what you are not.\n",
      "\n",
      "char: 0.6129032258064516\n",
      "lev: 0.9135802469135802\n",
      "\n",
      "Quote: In this world nothing can be said to be certain, except death and taxes. \n",
      "Completion: In this world nothing can be said to be certain, except death and taxes.\n",
      "char: 1.0\n",
      "lev: 0.9863013698630136\n",
      "\n",
      "Quote: The world breaks everyone, and afterward, some are strong at the broken places. \n",
      "Completion: The world breaks everyone, and afterward, many are strong at the broken places.\n",
      "I\n",
      "char: 0.9264705882352942\n",
      "lev: 0.9259259259259259\n",
      "\n",
      "Quote: Happiness is not something ready made. It comes from your own actions. \n",
      "Completion: Happiness is not something ready made. It comes from your own actions. ~Dal\n",
      "char: 0.9365079365079365\n",
      "lev: 0.9466666666666667\n",
      "\n",
      "Quote: The roots of education are bitter, but the fruit is sweet. \n",
      "Completion: The roots of education are bitter, but the fruit is sweet.\n",
      "E\n",
      "char: 0.9795918367346939\n",
      "lev: 0.9666666666666667\n",
      "\n",
      "Quote: It's not what happens to you, but how you react to it that matters. \n",
      "Completion: It's not what happens to you, but how you react to it that matters. It'\n",
      "char: 0.9473684210526315\n",
      "lev: 0.9577464788732394\n",
      "\n",
      "Quote: The only way to do great work is to love what you do. \n",
      "Completion: The only way to do great work is to love what you do. It'\n",
      "char: 0.9318181818181818\n",
      "lev: 0.9473684210526315\n",
      "\n",
      "Quote: Life isn't about finding yourself. Life is about creating yourself. \n",
      "Completion: Life isn't about finding yourself. It's about creating yourself.\n",
      "Life isn\n",
      "char: 0.47619047619047616\n",
      "lev: 0.8082191780821918\n",
      "\n",
      "34\n"
     ]
    }
   ],
   "source": [
    "from act_add.model_wrapper import ModelWrapper\n",
    "from utils import untuple, eval_completions\n",
    "from transformers import AutoModelForCausalLM, AutoTokenizer\n",
    "\n",
    "model_name_or_path = \"meta-llama/Llama-2-7b-hf\"\n",
    "\n",
    "model = AutoModelForCausalLM.from_pretrained(model_name_or_path, torch_dtype=torch.float16, device_map=\"auto\").eval()\n",
    "use_fast_tokenizer = \"LlamaForCausalLM\" not in model.config.architectures\n",
    "tokenizer = AutoTokenizer.from_pretrained(model_name_or_path, use_fast = use_fast_tokenizer, padding_side=\"left\")\n",
    "tokenizer.pad_token_id = 0 if tokenizer.pad_token_id is None else tokenizer.pad_token_id\n",
    "tokenizer.bos_token_id = 1\n",
    "\n",
    "mw = ModelWrapper(model = model, tokenizer = tokenizer)\n",
    "\n",
    "# Generate completions for each quote\n",
    "real_quotes = train_data[::2]\n",
    "\n",
    "quotes_first_half = []\n",
    "completions = []\n",
    "for quote in real_quotes:\n",
    "    quote_parts = quote.split()\n",
    "    first_half = \" \".join(quote_parts[:len(quote_parts)//2])\n",
    "    second_half = \" \".join(quote_parts[len(quote_parts)//2:])\n",
    "    quotes_first_half.append(first_half)\n",
    "    \n",
    "completions = mw.batch_generate_autoreg(quotes_first_half, max_new_tokens=10)\n",
    "\n",
    "# Evaluate completions\n",
    "evaluations = eval_completions(completions, real_quotes, return_mean = False)\n",
    "\n",
    "# Print the evaluations\n",
    "counter =0 \n",
    "memmed_quotes_idxs = []\n",
    "for i in range(len(real_quotes)):\n",
    "    if evaluations['lev_distance'][i] >= threshold:\n",
    "        print(f\"Quote: {real_quotes[i]}\")\n",
    "        print(f\"Completion: {completions[i]}\")\n",
    "        print(f\"char: {evaluations['char_by_char_similarity'][i]}\")\n",
    "        print(f\"lev: {evaluations['lev_distance'][i]}\")\n",
    "        print()\n",
    "        counter +=1\n",
    "        memmed_quotes_idxs.append(i)\n",
    "\n",
    "print(counter)"
   ]
  },
  {
   "cell_type": "code",
   "execution_count": 6,
   "metadata": {},
   "outputs": [],
   "source": [
    "good_train_data = []\n",
    "good_train_labels = []\n",
    "for idx in memmed_quotes_idxs:\n",
    "    good_train_data.extend(train_data[idx*2:idx*2+2])\n",
    "    good_train_labels.extend(train_labels[idx*2:idx*2+2])"
   ]
  },
  {
   "cell_type": "code",
   "execution_count": 7,
   "metadata": {},
   "outputs": [
    {
     "data": {
      "text/plain": [
       "(68, 68)"
      ]
     },
     "execution_count": 7,
     "metadata": {},
     "output_type": "execute_result"
    }
   ],
   "source": [
    "len(good_train_labels), len(good_train_data)"
   ]
  },
  {
   "cell_type": "code",
   "execution_count": 8,
   "metadata": {},
   "outputs": [
    {
     "name": "stderr",
     "output_type": "stream",
     "text": [
      "Special tokens have been added in the vocabulary, make sure the associated word embeddings are fine-tuned or trained.\n"
     ]
    }
   ],
   "source": [
    "from transformers import AutoTokenizer, AutoModelForSequenceClassification, Trainer, TrainingArguments, set_seed\n",
    "import evaluate\n",
    "import torch\n",
    "import os\n",
    "import numpy as np\n",
    "from tqdm import tqdm\n",
    "from datasets import load_from_disk, DatasetDict, Dataset\n",
    "from sklearn.metrics import accuracy_score, precision_recall_fscore_support, roc_auc_score\n",
    "import gc\n",
    "import sys\n",
    "sys.path.append('..')\n",
    "from utils import tpr_at_fpr\n",
    "\n",
    "seed = 0\n",
    "np.random.seed(seed)\n",
    "torch.manual_seed(seed)\n",
    "set_seed(seed)\n",
    "\n",
    "os.environ[\"CUDA_VISIBLE_DEVICES\"]=\"0\"\n",
    "torch.cuda.set_device(0)\n",
    "\n",
    "model_name = 'EleutherAI/pythia-70m'\n",
    "tokenizer = AutoTokenizer.from_pretrained(model_name)\n",
    "tokenizer.pad_token = tokenizer.eos_token\n",
    "\n",
    "path = '../../../gld/train-data-probes/data/llama-2-7b'\n",
    "dataset = load_from_disk(os.path.join(path, 'pythia_llama_mem_dataset_split'))\n",
    "# generalization_datasets = load_from_disk(os.path.join(path, 'generalization_datasets_v2'))\n",
    "id2label = {0: 'neg', 1: 'pos'}\n",
    "label2id = {'neg': 0, 'pos': 1}\n",
    "model = AutoModelForSequenceClassification.from_pretrained(os.path.join(path, 'finetuning/final/pythia-70m-on-llama-2-7b'), num_labels=2, id2label=id2label, label2id=label2id)\n",
    "model.to('cuda')\n",
    "model.config.pad_token_id = model.config.eos_token_id"
   ]
  },
  {
   "cell_type": "code",
   "execution_count": 9,
   "metadata": {},
   "outputs": [
    {
     "name": "stderr",
     "output_type": "stream",
     "text": [
      "Map:   0%|          | 0/68 [00:00<?, ? examples/s]Asking to pad to max_length but no maximum length is provided and the model has no predefined maximum length. Default to no padding.\n",
      "Asking to truncate to max_length but no maximum length is provided and the model has no predefined maximum length. Default to no truncation.\n",
      "Map: 100%|██████████| 68/68 [00:00<00:00, 4804.63 examples/s]\n",
      "Map: 100%|██████████| 68/68 [00:00<00:00, 10126.13 examples/s]\n",
      "Map: 100%|██████████| 68/68 [00:00<00:00, 12702.09 examples/s]\n"
     ]
    }
   ],
   "source": [
    "\n",
    "quote_dataset = Dataset.from_dict({'text': good_train_data, 'label': good_train_labels})\n",
    "\n",
    "def preprocess(example): \n",
    "    return {'input_ids': tokenizer(example['text'], padding='max_length', truncation=True)['input_ids']}\n",
    "\n",
    "quote_dataset = quote_dataset.map(preprocess, batched=False)\n",
    "\n",
    "max_len = max([len(x['input_ids']) for x in quote_dataset])\n",
    "\n",
    "def preprocess(example):\n",
    "    curr_len = len(example['input_ids'])\n",
    "    if curr_len < max_len:\n",
    "        example['input_ids'] = example['input_ids'] + [tokenizer.pad_token_id]*(max_len-curr_len)\n",
    "    # turn bool label into 0 or 1\n",
    "    example['label'] = int(example['label'])\n",
    "    return example\n",
    "\n",
    "quote_dataset = quote_dataset.map(preprocess)\n",
    "\n",
    "def bool_to_int(example):\n",
    "    if example['label']:\n",
    "        example['t'] = 1\n",
    "    else:\n",
    "        example['t'] = 0\n",
    "    return example\n",
    "\n",
    "quote_dataset = quote_dataset.map(bool_to_int)"
   ]
  },
  {
   "cell_type": "code",
   "execution_count": 10,
   "metadata": {},
   "outputs": [],
   "source": [
    "# drop label column\n",
    "quote_dataset = quote_dataset.remove_columns('label')\n",
    "\n",
    "# rename t column to label\n",
    "quote_dataset = quote_dataset.rename_column('t', 'label')"
   ]
  },
  {
   "cell_type": "code",
   "execution_count": 12,
   "metadata": {},
   "outputs": [],
   "source": [
    "# compute metrics\n",
    "\n",
    "loss_fn = torch.nn.CrossEntropyLoss()\n",
    "# data = {'val_loss': [], 'accuracy': [], 'precision': [], 'recall': [], 'f1': [], 'AUC': [], 'tpr_01': [], 'tpr_001': [], 'tpr_0001': []}\n",
    "\n",
    "def compute_metrics(eval_pred, single_class=False): \n",
    "    \n",
    "    logits, labels = eval_pred\n",
    "    logits = np.array(logits[0]) # (n_examples, n_classes)\n",
    "    labels = np.array(labels) # (n_examples)\n",
    "\n",
    "    preds = np.argmax(logits, axis=1)\n",
    "    normalized_prob = np.exp(logits) / np.exp(logits).sum(axis=1, keepdims=True)\n",
    "    positive_prob = normalized_prob[:, 1]\n",
    "    acc = accuracy_score(labels, preds)\n",
    "    precision, recall, f1, _ = precision_recall_fscore_support(labels, preds, average='binary')\n",
    "    if not single_class: \n",
    "        auc = roc_auc_score(labels, positive_prob)\n",
    "    \n",
    "    loss = loss_fn(torch.tensor(logits), torch.tensor(labels))\n",
    "\n",
    "    # calculate tpr at fpr = 0.01, 0.001, and 0.0001\n",
    "    tpr_01 = tpr_at_fpr(positive_prob, labels, 0.01)\n",
    "    tpr_001 = tpr_at_fpr(positive_prob, labels, 0.001)\n",
    "    tpr_0001 = tpr_at_fpr(positive_prob, labels, 0.0001)\n",
    "\n",
    "    if single_class: \n",
    "        return {'val_loss': loss.item(), 'accuracy': acc, 'precision': precision, 'recall': recall, 'f1': f1, 'tpr_01': tpr_01, 'tpr_001': tpr_001, 'tpr_0001': tpr_0001}\n",
    "    return {'val_loss': loss.item(), 'accuracy': acc, 'precision': precision, 'recall': recall, 'f1': f1, 'AUC': auc, 'tpr_01': tpr_01, 'tpr_001': tpr_001, 'tpr_0001': tpr_0001}"
   ]
  },
  {
   "cell_type": "code",
   "execution_count": 13,
   "metadata": {},
   "outputs": [],
   "source": [
    "targs = TrainingArguments(\n",
    "            output_dir = os.path.join(path, 'finetuning/final'),\n",
    "            evaluation_strategy = 'epoch',\n",
    "            logging_strategy = 'epoch',\n",
    "            save_strategy='epoch',\n",
    "            learning_rate=2e-5,\n",
    "            per_device_train_batch_size=32,\n",
    "            per_device_eval_batch_size=128,\n",
    "            num_train_epochs=1,\n",
    "            save_total_limit=10,\n",
    "            load_best_model_at_end=True,\n",
    "            metric_for_best_model='val_loss',\n",
    "            weight_decay=0.01,\n",
    "            report_to='none',\n",
    "            seed=seed,\n",
    "            eval_accumulation_steps=1,\n",
    "        )\n",
    "\n",
    "trainer = Trainer(\n",
    "            model=model,\n",
    "            tokenizer=tokenizer,\n",
    "            args=targs,\n",
    "            train_dataset=dataset['train'],\n",
    "            eval_dataset=quote_dataset, \n",
    "            compute_metrics=compute_metrics,\n",
    "        )\n"
   ]
  },
  {
   "cell_type": "code",
   "execution_count": 14,
   "metadata": {},
   "outputs": [
    {
     "data": {
      "text/plain": [
       "[1,\n",
       " 0,\n",
       " 1,\n",
       " 0,\n",
       " 1,\n",
       " 0,\n",
       " 1,\n",
       " 0,\n",
       " 1,\n",
       " 0,\n",
       " 1,\n",
       " 0,\n",
       " 1,\n",
       " 0,\n",
       " 1,\n",
       " 0,\n",
       " 1,\n",
       " 0,\n",
       " 1,\n",
       " 0,\n",
       " 1,\n",
       " 0,\n",
       " 1,\n",
       " 0,\n",
       " 1,\n",
       " 0,\n",
       " 1,\n",
       " 0,\n",
       " 1,\n",
       " 0,\n",
       " 1,\n",
       " 0,\n",
       " 1,\n",
       " 0,\n",
       " 1,\n",
       " 0,\n",
       " 1,\n",
       " 0,\n",
       " 1,\n",
       " 0,\n",
       " 1,\n",
       " 0,\n",
       " 1,\n",
       " 0,\n",
       " 1,\n",
       " 0,\n",
       " 1,\n",
       " 0,\n",
       " 1,\n",
       " 0,\n",
       " 1,\n",
       " 0,\n",
       " 1,\n",
       " 0,\n",
       " 1,\n",
       " 0,\n",
       " 1,\n",
       " 0,\n",
       " 1,\n",
       " 0,\n",
       " 1,\n",
       " 0,\n",
       " 1,\n",
       " 0,\n",
       " 1,\n",
       " 0,\n",
       " 1,\n",
       " 0]"
      ]
     },
     "execution_count": 14,
     "metadata": {},
     "output_type": "execute_result"
    }
   ],
   "source": [
    "quote_dataset['label']"
   ]
  },
  {
   "cell_type": "code",
   "execution_count": 15,
   "metadata": {},
   "outputs": [
    {
     "name": "stderr",
     "output_type": "stream",
     "text": [
      "You're using a GPTNeoXTokenizerFast tokenizer. Please note that with a fast tokenizer, using the `__call__` method is faster than using a method to encode the text followed by a call to the `pad` method to get a padded encoding.\n",
      "/home/ubuntu/anaconda3/envs/myenv/lib/python3.10/site-packages/torch/nn/parallel/_functions.py:68: UserWarning: Was asked to gather along dimension 0, but all input tensors were scalars; will instead unsqueeze and return a vector.\n",
      "  warnings.warn('Was asked to gather along dimension 0, but all '\n"
     ]
    },
    {
     "data": {
      "text/html": [
       "\n",
       "    <div>\n",
       "      \n",
       "      <progress value='1' max='1' style='width:300px; height:20px; vertical-align: middle;'></progress>\n",
       "      [1/1 : < :]\n",
       "    </div>\n",
       "    "
      ],
      "text/plain": [
       "<IPython.core.display.HTML object>"
      ]
     },
     "metadata": {},
     "output_type": "display_data"
    },
    {
     "name": "stderr",
     "output_type": "stream",
     "text": [
      "/home/ubuntu/anaconda3/envs/myenv/lib/python3.10/site-packages/sklearn/metrics/_classification.py:1471: UndefinedMetricWarning: Precision and F-score are ill-defined and being set to 0.0 due to no predicted samples. Use `zero_division` parameter to control this behavior.\n",
      "  _warn_prf(average, modifier, msg_start, len(result))\n"
     ]
    },
    {
     "data": {
      "text/plain": [
       "{'eval_loss': 0.876070499420166,\n",
       " 'eval_val_loss': 0.8760704398155212,\n",
       " 'eval_accuracy': 0.5,\n",
       " 'eval_precision': 0.0,\n",
       " 'eval_recall': 0.0,\n",
       " 'eval_f1': 0.0,\n",
       " 'eval_AUC': 0.6176470588235294,\n",
       " 'eval_tpr_01': 0.0,\n",
       " 'eval_tpr_001': 0.0,\n",
       " 'eval_tpr_0001': 0.0,\n",
       " 'eval_runtime': 2.065,\n",
       " 'eval_samples_per_second': 32.93,\n",
       " 'eval_steps_per_second': 0.484}"
      ]
     },
     "execution_count": 15,
     "metadata": {},
     "output_type": "execute_result"
    }
   ],
   "source": [
    "trainer.evaluate()"
   ]
  },
  {
   "cell_type": "code",
   "execution_count": 3,
   "metadata": {},
   "outputs": [
    {
     "name": "stderr",
     "output_type": "stream",
     "text": [
      "Map:   0%|          | 0/2510 [00:00<?, ? examples/s]"
     ]
    },
    {
     "name": "stderr",
     "output_type": "stream",
     "text": [
      "Map: 100%|██████████| 2510/2510 [00:00<00:00, 14003.80 examples/s]\n"
     ]
    }
   ],
   "source": [
    "generalization_datasets['fuzzy_pos'] = generalization_datasets['fuzzy_pos'].map(lambda x: preprocess(x, max_test_len))\n",
    "\n",
    "# had to do it manually for prefix for some reason\n",
    "prefix_input_ids = generalization_datasets['prefix']['input_ids']\n",
    "max_len = 319\n",
    "for i in range(len(prefix_input_ids)):\n",
    "    curr_len = len(prefix_input_ids[i])\n",
    "    if curr_len < max_len:\n",
    "        prefix_input_ids[i] = prefix_input_ids[i] + [tokenizer.pad_token_id]*(max_len-curr_len)\n",
    "\n",
    "generalization_datasets['prefix'] = Dataset.from_dict({'input_ids': prefix_input_ids, 'labels': generalization_datasets['prefix']['labels']})"
   ]
  },
  {
   "cell_type": "code",
   "execution_count": 5,
   "metadata": {},
   "outputs": [
    {
     "name": "stdout",
     "output_type": "stream",
     "text": [
      "{62} {62} {62}\n",
      "{62}\n",
      "{319}\n"
     ]
    }
   ],
   "source": [
    "train_lens = [len(x['input_ids']) for x in dataset['train']]\n",
    "val_lens = [len(x['input_ids']) for x in dataset['val']]\n",
    "test_lens = [len(x['input_ids']) for x in dataset['test']]\n",
    "\n",
    "print(set(train_lens), set(val_lens), set(test_lens))\n",
    "assert set(train_lens) == set(val_lens) == set(test_lens)\n",
    "\n",
    "for gen_dataset in generalization_datasets.values(): \n",
    "    gen_lens = [len(x['input_ids']) for x in gen_dataset]\n",
    "    print(set(gen_lens))"
   ]
  },
  {
   "cell_type": "code",
   "execution_count": 19,
   "metadata": {},
   "outputs": [],
   "source": [
    "loss_fn = torch.nn.CrossEntropyLoss()\n",
    "# data = {'val_loss': [], 'accuracy': [], 'precision': [], 'recall': [], 'f1': [], 'AUC': [], 'tpr_01': [], 'tpr_001': [], 'tpr_0001': []}\n",
    "\n",
    "def compute_metrics(eval_pred, single_class=False): \n",
    "    \n",
    "    logits, labels = eval_pred\n",
    "    logits = np.array(logits[0]) # (n_examples, n_classes)\n",
    "    labels = np.array(labels) # (n_examples)\n",
    "\n",
    "    preds = np.argmax(logits, axis=1)\n",
    "    normalized_prob = np.exp(logits) / np.exp(logits).sum(axis=1, keepdims=True)\n",
    "    positive_prob = normalized_prob[:, 1]\n",
    "    acc = accuracy_score(labels, preds)\n",
    "    precision, recall, f1, _ = precision_recall_fscore_support(labels, preds, average='binary')\n",
    "    if not single_class: \n",
    "        auc = roc_auc_score(labels, positive_prob)\n",
    "    \n",
    "    loss = loss_fn(torch.tensor(logits), torch.tensor(labels))\n",
    "\n",
    "    # calculate tpr at fpr = 0.01, 0.001, and 0.0001\n",
    "    tpr_01 = tpr_at_fpr(positive_prob, labels, 0.01)\n",
    "    tpr_001 = tpr_at_fpr(positive_prob, labels, 0.001)\n",
    "    tpr_0001 = tpr_at_fpr(positive_prob, labels, 0.0001)\n",
    "\n",
    "    if single_class: \n",
    "        return {'val_loss': loss.item(), 'accuracy': acc, 'precision': precision, 'recall': recall, 'f1': f1, 'tpr_01': tpr_01, 'tpr_001': tpr_001, 'tpr_0001': tpr_0001}\n",
    "    return {'val_loss': loss.item(), 'accuracy': acc, 'precision': precision, 'recall': recall, 'f1': f1, 'AUC': auc, 'tpr_01': tpr_01, 'tpr_001': tpr_001, 'tpr_0001': tpr_0001}"
   ]
  },
  {
   "cell_type": "code",
   "execution_count": 7,
   "metadata": {},
   "outputs": [],
   "source": [
    "targs = TrainingArguments(\n",
    "            output_dir = os.path.join(path, 'finetuning/final'),\n",
    "            evaluation_strategy = 'epoch',\n",
    "            logging_strategy = 'epoch',\n",
    "            save_strategy='epoch',\n",
    "            learning_rate=2e-5,\n",
    "            per_device_train_batch_size=32,\n",
    "            per_device_eval_batch_size=128,\n",
    "            num_train_epochs=1,\n",
    "            save_total_limit=10,\n",
    "            load_best_model_at_end=True,\n",
    "            metric_for_best_model='val_loss',\n",
    "            weight_decay=0.01,\n",
    "            report_to='none',\n",
    "            seed=seed,\n",
    "            eval_accumulation_steps=1,\n",
    "        )\n",
    "\n",
    "trainer = Trainer(\n",
    "            model=model,\n",
    "            tokenizer=tokenizer,\n",
    "            args=targs,\n",
    "            train_dataset=dataset['train'],\n",
    "            eval_dataset=dataset['test'],\n",
    "            compute_metrics=compute_metrics,\n",
    "        )"
   ]
  },
  {
   "cell_type": "code",
   "execution_count": 8,
   "metadata": {},
   "outputs": [
    {
     "name": "stderr",
     "output_type": "stream",
     "text": [
      "You're using a GPTNeoXTokenizerFast tokenizer. Please note that with a fast tokenizer, using the `__call__` method is faster than using a method to encode the text followed by a call to the `pad` method to get a padded encoding.\n"
     ]
    },
    {
     "name": "stderr",
     "output_type": "stream",
     "text": [
      "/home/ubuntu/anaconda3/envs/myenv/lib/python3.10/site-packages/torch/nn/parallel/_functions.py:68: UserWarning: Was asked to gather along dimension 0, but all input tensors were scalars; will instead unsqueeze and return a vector.\n",
      "  warnings.warn('Was asked to gather along dimension 0, but all '\n"
     ]
    },
    {
     "data": {
      "text/html": [
       "\n",
       "    <div>\n",
       "      \n",
       "      <progress value='20' max='20' style='width:300px; height:20px; vertical-align: middle;'></progress>\n",
       "      [20/20 01:14]\n",
       "    </div>\n",
       "    "
      ],
      "text/plain": [
       "<IPython.core.display.HTML object>"
      ]
     },
     "metadata": {},
     "output_type": "display_data"
    },
    {
     "data": {
      "text/plain": [
       "{'eval_loss': 0.36301153898239136,\n",
       " 'eval_val_loss': 0.36301153898239136,\n",
       " 'eval_accuracy': 0.8765810276679842,\n",
       " 'eval_precision': 0.9042897612302712,\n",
       " 'eval_recall': 0.8520495710200191,\n",
       " 'eval_f1': 0.8773927554726613,\n",
       " 'eval_AUC': 0.920767910830828,\n",
       " 'eval_tpr_01': 0.12488083889418494,\n",
       " 'eval_tpr_001': 0.023069590085795996,\n",
       " 'eval_tpr_0001': 0.011630123927550048,\n",
       " 'eval_runtime': 84.2025,\n",
       " 'eval_samples_per_second': 120.186,\n",
       " 'eval_steps_per_second': 0.238}"
      ]
     },
     "execution_count": 8,
     "metadata": {},
     "output_type": "execute_result"
    }
   ],
   "source": [
    "trainer.evaluate()"
   ]
  },
  {
   "cell_type": "code",
   "execution_count": 20,
   "metadata": {},
   "outputs": [
    {
     "name": "stderr",
     "output_type": "stream",
     "text": [
      "/home/ubuntu/anaconda3/envs/myenv/lib/python3.10/site-packages/torch/nn/parallel/_functions.py:68: UserWarning: Was asked to gather along dimension 0, but all input tensors were scalars; will instead unsqueeze and return a vector.\n",
      "  warnings.warn('Was asked to gather along dimension 0, but all '\n"
     ]
    },
    {
     "data": {
      "text/html": [
       "\n",
       "    <div>\n",
       "      \n",
       "      <progress value='5' max='5' style='width:300px; height:20px; vertical-align: middle;'></progress>\n",
       "      [5/5 00:06]\n",
       "    </div>\n",
       "    "
      ],
      "text/plain": [
       "<IPython.core.display.HTML object>"
      ]
     },
     "metadata": {},
     "output_type": "display_data"
    },
    {
     "data": {
      "text/plain": [
       "{'eval_loss': 0.9543721675872803,\n",
       " 'eval_val_loss': 0.9531952142715454,\n",
       " 'eval_accuracy': 0.6569721115537849,\n",
       " 'eval_precision': 1.0,\n",
       " 'eval_recall': 0.6569721115537849,\n",
       " 'eval_f1': 0.7929790815099783,\n",
       " 'eval_tpr_01': 0.6569721115537849,\n",
       " 'eval_tpr_001': 0.6569721115537849,\n",
       " 'eval_tpr_0001': 0.6569721115537849,\n",
       " 'eval_runtime': 8.473,\n",
       " 'eval_samples_per_second': 296.234,\n",
       " 'eval_steps_per_second': 0.59}"
      ]
     },
     "execution_count": 20,
     "metadata": {},
     "output_type": "execute_result"
    }
   ],
   "source": [
    "trainer = Trainer(\n",
    "    model=model,\n",
    "    tokenizer=tokenizer,\n",
    "    args=targs,\n",
    "    train_dataset=dataset['train'],\n",
    "    eval_dataset=generalization_datasets['fuzzy_pos'],\n",
    "    compute_metrics=lambda x: compute_metrics(x, single_class=True),\n",
    ")\n",
    "\n",
    "trainer.evaluate()"
   ]
  },
  {
   "cell_type": "code",
   "execution_count": 21,
   "metadata": {},
   "outputs": [
    {
     "name": "stderr",
     "output_type": "stream",
     "text": [
      "/home/ubuntu/anaconda3/envs/myenv/lib/python3.10/site-packages/torch/nn/parallel/_functions.py:68: UserWarning: Was asked to gather along dimension 0, but all input tensors were scalars; will instead unsqueeze and return a vector.\n",
      "  warnings.warn('Was asked to gather along dimension 0, but all '\n"
     ]
    },
    {
     "data": {
      "text/html": [
       "\n",
       "    <div>\n",
       "      \n",
       "      <progress value='20' max='20' style='width:300px; height:20px; vertical-align: middle;'></progress>\n",
       "      [20/20 06:16]\n",
       "    </div>\n",
       "    "
      ],
      "text/plain": [
       "<IPython.core.display.HTML object>"
      ]
     },
     "metadata": {},
     "output_type": "display_data"
    },
    {
     "data": {
      "text/plain": [
       "{'eval_loss': 0.4952157139778137,\n",
       " 'eval_val_loss': 0.4952157139778137,\n",
       " 'eval_accuracy': 0.7807312252964427,\n",
       " 'eval_precision': 0.8607534573199809,\n",
       " 'eval_recall': 0.6882745471877979,\n",
       " 'eval_f1': 0.7649115372391143,\n",
       " 'eval_AUC': 0.8661126445210334,\n",
       " 'eval_tpr_01': 0.1113441372735939,\n",
       " 'eval_tpr_001': 0.018875119161105815,\n",
       " 'eval_tpr_0001': 0.0,\n",
       " 'eval_runtime': 419.0137,\n",
       " 'eval_samples_per_second': 24.152,\n",
       " 'eval_steps_per_second': 0.048}"
      ]
     },
     "execution_count": 21,
     "metadata": {},
     "output_type": "execute_result"
    }
   ],
   "source": [
    "trainer = Trainer(\n",
    "    model=model,\n",
    "    tokenizer=tokenizer,\n",
    "    args=targs,\n",
    "    train_dataset=dataset['train'],\n",
    "    eval_dataset=generalization_datasets['prefix'],\n",
    "    compute_metrics=compute_metrics,\n",
    ")\n",
    "\n",
    "trainer.evaluate()"
   ]
  },
  {
   "cell_type": "markdown",
   "metadata": {},
   "source": [
    "## Sample Efficiency"
   ]
  },
  {
   "cell_type": "markdown",
   "metadata": {},
   "source": [
    "### Training"
   ]
  },
  {
   "cell_type": "code",
   "execution_count": 1,
   "metadata": {},
   "outputs": [
    {
     "name": "stderr",
     "output_type": "stream",
     "text": [
      "/home/ubuntu/anaconda3/envs/myenv/lib/python3.10/site-packages/tqdm/auto.py:21: TqdmWarning: IProgress not found. Please update jupyter and ipywidgets. See https://ipywidgets.readthedocs.io/en/stable/user_install.html\n",
      "  from .autonotebook import tqdm as notebook_tqdm\n",
      "Special tokens have been added in the vocabulary, make sure the associated word embeddings are fine-tuned or trained.\n",
      "Some weights of GPTNeoXForSequenceClassification were not initialized from the model checkpoint at EleutherAI/pythia-70m and are newly initialized: ['score.weight']\n",
      "You should probably TRAIN this model on a down-stream task to be able to use it for predictions and inference.\n"
     ]
    }
   ],
   "source": [
    "from transformers import AutoTokenizer, AutoModelForSequenceClassification, Trainer, TrainingArguments, set_seed\n",
    "import evaluate\n",
    "import torch\n",
    "import os\n",
    "import numpy as np\n",
    "from tqdm import tqdm\n",
    "from datasets import load_from_disk, DatasetDict\n",
    "from sklearn.metrics import accuracy_score, precision_recall_fscore_support, roc_auc_score\n",
    "import gc\n",
    "\n",
    "seed = 0\n",
    "np.random.seed(seed)\n",
    "torch.manual_seed(seed)\n",
    "set_seed(seed)\n",
    "\n",
    "lr = 1e-4\n",
    "batch_size = 4\n",
    "num_epochs = 2\n",
    "\n",
    "# os.environ[\"CUDA_VISIBLE_DEVICES\"]=\"0\"\n",
    "\n",
    "model_name = 'EleutherAI/pythia-70m'\n",
    "tokenizer = AutoTokenizer.from_pretrained(model_name, padding='left')\n",
    "\n",
    "path = '../../../gld/train-data-probes/data/12b'\n",
    "dataset = load_from_disk(os.path.join(path, 'split_hf_token_dataset_vary_len_v2'))\n",
    "id2label = {0: 'neg', 1: 'pos'}\n",
    "label2id = {'neg': 0, 'pos': 1}\n",
    "model = AutoModelForSequenceClassification.from_pretrained(model_name, num_labels=2, id2label=id2label, label2id=label2id)\n",
    "model.to('cuda')\n",
    "# if tokenizer.pad_token is None:\n",
    "#     tokenizer.add_special_tokens({'pad_token': '[PAD]'})\n",
    "#     model.resize_token_embeddings(len(tokenizer))\n",
    "tokenizer.pad_token = tokenizer.eos_token\n",
    "model.config.pad_token_id = model.config.eos_token_id"
   ]
  },
  {
   "cell_type": "code",
   "execution_count": 2,
   "metadata": {},
   "outputs": [
    {
     "data": {
      "text/plain": [
       "DatasetDict({\n",
       "    train: Dataset({\n",
       "        features: ['input_ids', 'labels', 'df_ref_idx'],\n",
       "        num_rows: 20235\n",
       "    })\n",
       "    val: Dataset({\n",
       "        features: ['input_ids', 'labels', 'df_ref_idx'],\n",
       "        num_rows: 3375\n",
       "    })\n",
       "    test: Dataset({\n",
       "        features: ['input_ids', 'labels', 'df_ref_idx'],\n",
       "        num_rows: 10120\n",
       "    })\n",
       "})"
      ]
     },
     "execution_count": 2,
     "metadata": {},
     "output_type": "execute_result"
    }
   ],
   "source": [
    "dataset"
   ]
  },
  {
   "cell_type": "code",
   "execution_count": 3,
   "metadata": {},
   "outputs": [
    {
     "name": "stdout",
     "output_type": "stream",
     "text": [
      "62 62 62\n"
     ]
    }
   ],
   "source": [
    "# pad datasets\n",
    "\n",
    "# def tokenize(example): \n",
    "#     return {'input_ids': tokenizer(example['text'], padding='max_length', truncation=True, max_length=64)['input_ids']}\n",
    "\n",
    "# dataset['train'] = dataset['train'].map(tokenize, batched=False)\n",
    "# dataset['val'] = dataset['val'].map(tokenize, batched=False)\n",
    "# dataset['test'] = dataset['test'].map(tokenize, batched=False)\n",
    "\n",
    "max_train_len = max([len(x['input_ids']) for x in dataset['train']])\n",
    "max_val_len = max([len(x['input_ids']) for x in dataset['val']])\n",
    "max_test_len = max([len(x['input_ids']) for x in dataset['test']])\n",
    "\n",
    "def preprocess(examples): \n",
    "    curr_len = len(examples['input_ids'])\n",
    "    if curr_len < max_train_len:\n",
    "        examples['input_ids'] = examples['input_ids'] + [tokenizer.pad_token_id]*(max_train_len-curr_len)\n",
    "    return examples\n",
    "\n",
    "dataset['train'] = dataset['train'].map(preprocess)\n",
    "dataset['val'] = dataset['val'].map(preprocess)\n",
    "dataset['test'] = dataset['test'].map(preprocess)\n",
    "\n",
    "print(max_train_len, max_val_len, max_test_len)"
   ]
  },
  {
   "cell_type": "code",
   "execution_count": 4,
   "metadata": {},
   "outputs": [],
   "source": [
    "def tpr_at_fpr(probs, labels, target_fpr, left=0.5, right=1.0, max_steps=1000, thresh_tol=1e-6): \n",
    "    \"\"\"\n",
    "    Calculates the true positive rate at a given false positive rate. \n",
    "    Does up to max_steps steps of binary search, returns the best guess \n",
    "    that yields a false positive rate less than target_fpr\n",
    "    \n",
    "    probs: (n_examples, ) just prob on positive class\n",
    "    labels: (n_examples, ) 0 or 1\n",
    "    \"\"\"\n",
    "    assert len(probs) == len(labels)\n",
    "    assert probs.shape == labels.shape\n",
    "    assert probs.shape[0] > 0\n",
    "\n",
    "    for _ in range(max_steps):\n",
    "        mid = (left + right) / 2\n",
    "        \n",
    "        # calc fpr \n",
    "        preds = (probs > mid).astype(int)\n",
    "        fp = np.logical_and(preds == 1, labels == 0).sum()\n",
    "        tn = (labels == 0).sum()\n",
    "        fpr = fp / tn if tn > 0 else 0\n",
    "\n",
    "        if abs(fpr - target_fpr) < thresh_tol: \n",
    "            right = mid\n",
    "            break\n",
    "        elif fpr > target_fpr:\n",
    "            left = mid\n",
    "        else:\n",
    "            right = mid\n",
    "    \n",
    "    # use right as threshold to ensure fpr <= target_fpr\n",
    "    preds = (probs > right).astype(int)\n",
    "    tp = np.logical_and(preds == 1, labels == 1).sum()\n",
    "    fn = (labels == 1).sum()\n",
    "    return tp / fn if fn > 0 else 0"
   ]
  },
  {
   "cell_type": "code",
   "execution_count": 5,
   "metadata": {},
   "outputs": [],
   "source": [
    "loss_fn = torch.nn.CrossEntropyLoss()\n",
    "data = {'val_loss': [], 'accuracy': [], 'precision': [], 'recall': [], 'f1': [], 'AUC': [], 'tpr_01': [], 'tpr_001': [], 'tpr_0001': []}\n",
    "def compute_metrics(eval_pred):\n",
    "    \n",
    "    logits, labels = eval_pred\n",
    "    logits = np.array(logits[0]) # (n_examples, n_classes)\n",
    "    labels = np.array(labels) # (n_examples)\n",
    "\n",
    "    preds = np.argmax(logits, axis=1)\n",
    "    normalized_prob = np.exp(logits) / np.exp(logits).sum(axis=1, keepdims=True)\n",
    "    positive_prob = normalized_prob[:, 1]\n",
    "    acc = accuracy_score(labels, preds)\n",
    "    precision, recall, f1, _ = precision_recall_fscore_support(labels, preds, average='binary')\n",
    "    auc = roc_auc_score(labels, positive_prob)\n",
    "    \n",
    "    loss = loss_fn(torch.tensor(logits), torch.tensor(labels))\n",
    "\n",
    "    # calculate tpr at fpr = 0.01, 0.001, and 0.0001\n",
    "    tpr_01 = tpr_at_fpr(positive_prob, labels, 0.01)\n",
    "    tpr_001 = tpr_at_fpr(positive_prob, labels, 0.001)\n",
    "    tpr_0001 = tpr_at_fpr(positive_prob, labels, 0.0001)\n",
    "\n",
    "    # log\n",
    "    data['val_loss'].append(loss.item())\n",
    "    data['accuracy'].append(acc)\n",
    "    data['precision'].append(precision)\n",
    "    data['recall'].append(recall)\n",
    "    data['f1'].append(f1)\n",
    "    data['AUC'].append(auc)\n",
    "    data['tpr_01'].append(tpr_01)\n",
    "    data['tpr_001'].append(tpr_001)\n",
    "    data['tpr_0001'].append(tpr_0001)\n",
    "\n",
    "    return {'val_loss': loss.item(), 'accuracy': acc, 'precision': precision, 'recall': recall, 'f1': f1, 'AUC': auc, 'tpr_01': tpr_01, 'tpr_001': tpr_001, 'tpr_0001': tpr_0001}"
   ]
  },
  {
   "cell_type": "code",
   "execution_count": 6,
   "metadata": {},
   "outputs": [],
   "source": [
    "\n",
    "targs = TrainingArguments(\n",
    "            output_dir = os.path.join(path, 'finetuning/eval'),\n",
    "            evaluation_strategy = 'steps',\n",
    "            eval_steps=1, \n",
    "            logging_strategy = 'steps',\n",
    "            logging_steps=1,\n",
    "            save_strategy='steps',\n",
    "            save_steps=32,\n",
    "            learning_rate=lr,\n",
    "            per_device_train_batch_size=batch_size // 4, \n",
    "            per_device_eval_batch_size=256,\n",
    "            num_train_epochs=1,\n",
    "            save_total_limit=1,\n",
    "            load_best_model_at_end=True,\n",
    "            metric_for_best_model='accuracy',\n",
    "            weight_decay=0.01,\n",
    "            report_to='none',\n",
    "            seed=seed,\n",
    "            eval_accumulation_steps=1,\n",
    "        )\n",
    "\n",
    "trainer = Trainer(\n",
    "    model=model,\n",
    "    tokenizer=tokenizer,\n",
    "    args=targs,\n",
    "    train_dataset=dataset['train'],\n",
    "    eval_dataset=dataset['test'],\n",
    "    compute_metrics=compute_metrics,\n",
    ")"
   ]
  },
  {
   "cell_type": "code",
   "execution_count": 7,
   "metadata": {},
   "outputs": [
    {
     "name": "stderr",
     "output_type": "stream",
     "text": [
      "You're using a GPTNeoXTokenizerFast tokenizer. Please note that with a fast tokenizer, using the `__call__` method is faster than using a method to encode the text followed by a call to the `pad` method to get a padded encoding.\n",
      "/home/ubuntu/anaconda3/envs/myenv/lib/python3.10/site-packages/torch/nn/parallel/_functions.py:68: UserWarning: Was asked to gather along dimension 0, but all input tensors were scalars; will instead unsqueeze and return a vector.\n",
      "  warnings.warn('Was asked to gather along dimension 0, but all '\n"
     ]
    },
    {
     "data": {
      "text/html": [
       "\n",
       "    <div>\n",
       "      \n",
       "      <progress value='6' max='5059' style='width:300px; height:20px; vertical-align: middle;'></progress>\n",
       "      [   6/5059 03:24 < 71:52:58, 0.02 it/s, Epoch 0.00/1]\n",
       "    </div>\n",
       "    <table border=\"1\" class=\"dataframe\">\n",
       "  <thead>\n",
       " <tr style=\"text-align: left;\">\n",
       "      <th>Step</th>\n",
       "      <th>Training Loss</th>\n",
       "      <th>Validation Loss</th>\n",
       "      <th>Val Loss</th>\n",
       "      <th>Accuracy</th>\n",
       "      <th>Precision</th>\n",
       "      <th>Recall</th>\n",
       "      <th>F1</th>\n",
       "      <th>Auc</th>\n",
       "      <th>Tpr 01</th>\n",
       "      <th>Tpr 001</th>\n",
       "      <th>Tpr 0001</th>\n",
       "      <th>Runtime</th>\n",
       "      <th>Samples Per Second</th>\n",
       "      <th>Steps Per Second</th>\n",
       "    </tr>\n",
       "  </thead>\n",
       "  <tbody>\n",
       "    <tr>\n",
       "      <td>1</td>\n",
       "      <td>1.311600</td>\n",
       "      <td>1.380921</td>\n",
       "      <td>1.380921</td>\n",
       "      <td>0.528458</td>\n",
       "      <td>0.526322</td>\n",
       "      <td>0.901621</td>\n",
       "      <td>0.664652</td>\n",
       "      <td>0.687978</td>\n",
       "      <td>0.084843</td>\n",
       "      <td>0.010296</td>\n",
       "      <td>0.000000</td>\n",
       "      <td>51.195200</td>\n",
       "      <td>197.675000</td>\n",
       "      <td>0.195000</td>\n",
       "    </tr>\n",
       "    <tr>\n",
       "      <td>2</td>\n",
       "      <td>1.988600</td>\n",
       "      <td>1.581932</td>\n",
       "      <td>1.581932</td>\n",
       "      <td>0.513043</td>\n",
       "      <td>0.517664</td>\n",
       "      <td>0.885605</td>\n",
       "      <td>0.653397</td>\n",
       "      <td>0.666692</td>\n",
       "      <td>0.129838</td>\n",
       "      <td>0.018875</td>\n",
       "      <td>0.000000</td>\n",
       "      <td>51.139200</td>\n",
       "      <td>197.891000</td>\n",
       "      <td>0.196000</td>\n",
       "    </tr>\n",
       "    <tr>\n",
       "      <td>3</td>\n",
       "      <td>3.207700</td>\n",
       "      <td>1.291611</td>\n",
       "      <td>1.291611</td>\n",
       "      <td>0.539723</td>\n",
       "      <td>0.546743</td>\n",
       "      <td>0.654528</td>\n",
       "      <td>0.595800</td>\n",
       "      <td>0.600862</td>\n",
       "      <td>0.117827</td>\n",
       "      <td>0.038513</td>\n",
       "      <td>0.001907</td>\n",
       "      <td>51.093600</td>\n",
       "      <td>198.068000</td>\n",
       "      <td>0.196000</td>\n",
       "    </tr>\n",
       "    <tr>\n",
       "      <td>4</td>\n",
       "      <td>2.697500</td>\n",
       "      <td>2.657276</td>\n",
       "      <td>2.657276</td>\n",
       "      <td>0.540415</td>\n",
       "      <td>0.872180</td>\n",
       "      <td>0.132698</td>\n",
       "      <td>0.230349</td>\n",
       "      <td>0.513754</td>\n",
       "      <td>0.093994</td>\n",
       "      <td>0.037369</td>\n",
       "      <td>0.010296</td>\n",
       "      <td>50.562600</td>\n",
       "      <td>200.148000</td>\n",
       "      <td>0.198000</td>\n",
       "    </tr>\n",
       "  </tbody>\n",
       "</table><p>\n",
       "    <div>\n",
       "      \n",
       "      <progress value='7' max='10' style='width:300px; height:20px; vertical-align: middle;'></progress>\n",
       "      [ 7/10 00:22 < 00:11, 0.26 it/s]\n",
       "    </div>\n",
       "    "
      ],
      "text/plain": [
       "<IPython.core.display.HTML object>"
      ]
     },
     "metadata": {},
     "output_type": "display_data"
    },
    {
     "name": "stderr",
     "output_type": "stream",
     "text": [
      "/home/ubuntu/anaconda3/envs/myenv/lib/python3.10/site-packages/torch/nn/parallel/_functions.py:68: UserWarning: Was asked to gather along dimension 0, but all input tensors were scalars; will instead unsqueeze and return a vector.\n",
      "  warnings.warn('Was asked to gather along dimension 0, but all '\n",
      "/home/ubuntu/anaconda3/envs/myenv/lib/python3.10/site-packages/torch/nn/parallel/_functions.py:68: UserWarning: Was asked to gather along dimension 0, but all input tensors were scalars; will instead unsqueeze and return a vector.\n",
      "  warnings.warn('Was asked to gather along dimension 0, but all '\n",
      "/home/ubuntu/anaconda3/envs/myenv/lib/python3.10/site-packages/torch/nn/parallel/_functions.py:68: UserWarning: Was asked to gather along dimension 0, but all input tensors were scalars; will instead unsqueeze and return a vector.\n",
      "  warnings.warn('Was asked to gather along dimension 0, but all '\n",
      "/home/ubuntu/anaconda3/envs/myenv/lib/python3.10/site-packages/torch/nn/parallel/_functions.py:68: UserWarning: Was asked to gather along dimension 0, but all input tensors were scalars; will instead unsqueeze and return a vector.\n",
      "  warnings.warn('Was asked to gather along dimension 0, but all '\n"
     ]
    },
    {
     "ename": "KeyboardInterrupt",
     "evalue": "",
     "output_type": "error",
     "traceback": [
      "\u001b[0;31m---------------------------------------------------------------------------\u001b[0m",
      "\u001b[0;31mKeyboardInterrupt\u001b[0m                         Traceback (most recent call last)",
      "Cell \u001b[0;32mIn[7], line 1\u001b[0m\n\u001b[0;32m----> 1\u001b[0m \u001b[43mtrainer\u001b[49m\u001b[38;5;241;43m.\u001b[39;49m\u001b[43mtrain\u001b[49m\u001b[43m(\u001b[49m\u001b[43m)\u001b[49m\n",
      "File \u001b[0;32m~/anaconda3/envs/myenv/lib/python3.10/site-packages/transformers/trainer.py:1537\u001b[0m, in \u001b[0;36mTrainer.train\u001b[0;34m(self, resume_from_checkpoint, trial, ignore_keys_for_eval, **kwargs)\u001b[0m\n\u001b[1;32m   1535\u001b[0m         hf_hub_utils\u001b[38;5;241m.\u001b[39menable_progress_bars()\n\u001b[1;32m   1536\u001b[0m \u001b[38;5;28;01melse\u001b[39;00m:\n\u001b[0;32m-> 1537\u001b[0m     \u001b[38;5;28;01mreturn\u001b[39;00m \u001b[43minner_training_loop\u001b[49m\u001b[43m(\u001b[49m\n\u001b[1;32m   1538\u001b[0m \u001b[43m        \u001b[49m\u001b[43margs\u001b[49m\u001b[38;5;241;43m=\u001b[39;49m\u001b[43margs\u001b[49m\u001b[43m,\u001b[49m\n\u001b[1;32m   1539\u001b[0m \u001b[43m        \u001b[49m\u001b[43mresume_from_checkpoint\u001b[49m\u001b[38;5;241;43m=\u001b[39;49m\u001b[43mresume_from_checkpoint\u001b[49m\u001b[43m,\u001b[49m\n\u001b[1;32m   1540\u001b[0m \u001b[43m        \u001b[49m\u001b[43mtrial\u001b[49m\u001b[38;5;241;43m=\u001b[39;49m\u001b[43mtrial\u001b[49m\u001b[43m,\u001b[49m\n\u001b[1;32m   1541\u001b[0m \u001b[43m        \u001b[49m\u001b[43mignore_keys_for_eval\u001b[49m\u001b[38;5;241;43m=\u001b[39;49m\u001b[43mignore_keys_for_eval\u001b[49m\u001b[43m,\u001b[49m\n\u001b[1;32m   1542\u001b[0m \u001b[43m    \u001b[49m\u001b[43m)\u001b[49m\n",
      "File \u001b[0;32m~/anaconda3/envs/myenv/lib/python3.10/site-packages/transformers/trainer.py:1914\u001b[0m, in \u001b[0;36mTrainer._inner_training_loop\u001b[0;34m(self, batch_size, args, resume_from_checkpoint, trial, ignore_keys_for_eval)\u001b[0m\n\u001b[1;32m   1911\u001b[0m     \u001b[38;5;28mself\u001b[39m\u001b[38;5;241m.\u001b[39mstate\u001b[38;5;241m.\u001b[39mepoch \u001b[38;5;241m=\u001b[39m epoch \u001b[38;5;241m+\u001b[39m (step \u001b[38;5;241m+\u001b[39m \u001b[38;5;241m1\u001b[39m \u001b[38;5;241m+\u001b[39m steps_skipped) \u001b[38;5;241m/\u001b[39m steps_in_epoch\n\u001b[1;32m   1912\u001b[0m     \u001b[38;5;28mself\u001b[39m\u001b[38;5;241m.\u001b[39mcontrol \u001b[38;5;241m=\u001b[39m \u001b[38;5;28mself\u001b[39m\u001b[38;5;241m.\u001b[39mcallback_handler\u001b[38;5;241m.\u001b[39mon_step_end(args, \u001b[38;5;28mself\u001b[39m\u001b[38;5;241m.\u001b[39mstate, \u001b[38;5;28mself\u001b[39m\u001b[38;5;241m.\u001b[39mcontrol)\n\u001b[0;32m-> 1914\u001b[0m     \u001b[38;5;28;43mself\u001b[39;49m\u001b[38;5;241;43m.\u001b[39;49m\u001b[43m_maybe_log_save_evaluate\u001b[49m\u001b[43m(\u001b[49m\u001b[43mtr_loss\u001b[49m\u001b[43m,\u001b[49m\u001b[43m \u001b[49m\u001b[43mmodel\u001b[49m\u001b[43m,\u001b[49m\u001b[43m \u001b[49m\u001b[43mtrial\u001b[49m\u001b[43m,\u001b[49m\u001b[43m \u001b[49m\u001b[43mepoch\u001b[49m\u001b[43m,\u001b[49m\u001b[43m \u001b[49m\u001b[43mignore_keys_for_eval\u001b[49m\u001b[43m)\u001b[49m\n\u001b[1;32m   1915\u001b[0m \u001b[38;5;28;01melse\u001b[39;00m:\n\u001b[1;32m   1916\u001b[0m     \u001b[38;5;28mself\u001b[39m\u001b[38;5;241m.\u001b[39mcontrol \u001b[38;5;241m=\u001b[39m \u001b[38;5;28mself\u001b[39m\u001b[38;5;241m.\u001b[39mcallback_handler\u001b[38;5;241m.\u001b[39mon_substep_end(args, \u001b[38;5;28mself\u001b[39m\u001b[38;5;241m.\u001b[39mstate, \u001b[38;5;28mself\u001b[39m\u001b[38;5;241m.\u001b[39mcontrol)\n",
      "File \u001b[0;32m~/anaconda3/envs/myenv/lib/python3.10/site-packages/transformers/trainer.py:2268\u001b[0m, in \u001b[0;36mTrainer._maybe_log_save_evaluate\u001b[0;34m(self, tr_loss, model, trial, epoch, ignore_keys_for_eval)\u001b[0m\n\u001b[1;32m   2266\u001b[0m         metrics\u001b[38;5;241m.\u001b[39mupdate(dataset_metrics)\n\u001b[1;32m   2267\u001b[0m \u001b[38;5;28;01melse\u001b[39;00m:\n\u001b[0;32m-> 2268\u001b[0m     metrics \u001b[38;5;241m=\u001b[39m \u001b[38;5;28;43mself\u001b[39;49m\u001b[38;5;241;43m.\u001b[39;49m\u001b[43mevaluate\u001b[49m\u001b[43m(\u001b[49m\u001b[43mignore_keys\u001b[49m\u001b[38;5;241;43m=\u001b[39;49m\u001b[43mignore_keys_for_eval\u001b[49m\u001b[43m)\u001b[49m\n\u001b[1;32m   2269\u001b[0m \u001b[38;5;28mself\u001b[39m\u001b[38;5;241m.\u001b[39m_report_to_hp_search(trial, \u001b[38;5;28mself\u001b[39m\u001b[38;5;241m.\u001b[39mstate\u001b[38;5;241m.\u001b[39mglobal_step, metrics)\n\u001b[1;32m   2271\u001b[0m \u001b[38;5;66;03m# Run delayed LR scheduler now that metrics are populated\u001b[39;00m\n",
      "File \u001b[0;32m~/anaconda3/envs/myenv/lib/python3.10/site-packages/transformers/trainer.py:3019\u001b[0m, in \u001b[0;36mTrainer.evaluate\u001b[0;34m(self, eval_dataset, ignore_keys, metric_key_prefix)\u001b[0m\n\u001b[1;32m   3016\u001b[0m start_time \u001b[38;5;241m=\u001b[39m time\u001b[38;5;241m.\u001b[39mtime()\n\u001b[1;32m   3018\u001b[0m eval_loop \u001b[38;5;241m=\u001b[39m \u001b[38;5;28mself\u001b[39m\u001b[38;5;241m.\u001b[39mprediction_loop \u001b[38;5;28;01mif\u001b[39;00m \u001b[38;5;28mself\u001b[39m\u001b[38;5;241m.\u001b[39margs\u001b[38;5;241m.\u001b[39muse_legacy_prediction_loop \u001b[38;5;28;01melse\u001b[39;00m \u001b[38;5;28mself\u001b[39m\u001b[38;5;241m.\u001b[39mevaluation_loop\n\u001b[0;32m-> 3019\u001b[0m output \u001b[38;5;241m=\u001b[39m \u001b[43meval_loop\u001b[49m\u001b[43m(\u001b[49m\n\u001b[1;32m   3020\u001b[0m \u001b[43m    \u001b[49m\u001b[43meval_dataloader\u001b[49m\u001b[43m,\u001b[49m\n\u001b[1;32m   3021\u001b[0m \u001b[43m    \u001b[49m\u001b[43mdescription\u001b[49m\u001b[38;5;241;43m=\u001b[39;49m\u001b[38;5;124;43m\"\u001b[39;49m\u001b[38;5;124;43mEvaluation\u001b[39;49m\u001b[38;5;124;43m\"\u001b[39;49m\u001b[43m,\u001b[49m\n\u001b[1;32m   3022\u001b[0m \u001b[43m    \u001b[49m\u001b[38;5;66;43;03m# No point gathering the predictions if there are no metrics, otherwise we defer to\u001b[39;49;00m\n\u001b[1;32m   3023\u001b[0m \u001b[43m    \u001b[49m\u001b[38;5;66;43;03m# self.args.prediction_loss_only\u001b[39;49;00m\n\u001b[1;32m   3024\u001b[0m \u001b[43m    \u001b[49m\u001b[43mprediction_loss_only\u001b[49m\u001b[38;5;241;43m=\u001b[39;49m\u001b[38;5;28;43;01mTrue\u001b[39;49;00m\u001b[43m \u001b[49m\u001b[38;5;28;43;01mif\u001b[39;49;00m\u001b[43m \u001b[49m\u001b[38;5;28;43mself\u001b[39;49m\u001b[38;5;241;43m.\u001b[39;49m\u001b[43mcompute_metrics\u001b[49m\u001b[43m \u001b[49m\u001b[38;5;129;43;01mis\u001b[39;49;00m\u001b[43m \u001b[49m\u001b[38;5;28;43;01mNone\u001b[39;49;00m\u001b[43m \u001b[49m\u001b[38;5;28;43;01melse\u001b[39;49;00m\u001b[43m \u001b[49m\u001b[38;5;28;43;01mNone\u001b[39;49;00m\u001b[43m,\u001b[49m\n\u001b[1;32m   3025\u001b[0m \u001b[43m    \u001b[49m\u001b[43mignore_keys\u001b[49m\u001b[38;5;241;43m=\u001b[39;49m\u001b[43mignore_keys\u001b[49m\u001b[43m,\u001b[49m\n\u001b[1;32m   3026\u001b[0m \u001b[43m    \u001b[49m\u001b[43mmetric_key_prefix\u001b[49m\u001b[38;5;241;43m=\u001b[39;49m\u001b[43mmetric_key_prefix\u001b[49m\u001b[43m,\u001b[49m\n\u001b[1;32m   3027\u001b[0m \u001b[43m\u001b[49m\u001b[43m)\u001b[49m\n\u001b[1;32m   3029\u001b[0m total_batch_size \u001b[38;5;241m=\u001b[39m \u001b[38;5;28mself\u001b[39m\u001b[38;5;241m.\u001b[39margs\u001b[38;5;241m.\u001b[39meval_batch_size \u001b[38;5;241m*\u001b[39m \u001b[38;5;28mself\u001b[39m\u001b[38;5;241m.\u001b[39margs\u001b[38;5;241m.\u001b[39mworld_size\n\u001b[1;32m   3030\u001b[0m \u001b[38;5;28;01mif\u001b[39;00m \u001b[38;5;124mf\u001b[39m\u001b[38;5;124m\"\u001b[39m\u001b[38;5;132;01m{\u001b[39;00mmetric_key_prefix\u001b[38;5;132;01m}\u001b[39;00m\u001b[38;5;124m_jit_compilation_time\u001b[39m\u001b[38;5;124m\"\u001b[39m \u001b[38;5;129;01min\u001b[39;00m output\u001b[38;5;241m.\u001b[39mmetrics:\n",
      "File \u001b[0;32m~/anaconda3/envs/myenv/lib/python3.10/site-packages/transformers/trainer.py:3208\u001b[0m, in \u001b[0;36mTrainer.evaluation_loop\u001b[0;34m(self, dataloader, description, prediction_loss_only, ignore_keys, metric_key_prefix)\u001b[0m\n\u001b[1;32m   3205\u001b[0m         batch_size \u001b[38;5;241m=\u001b[39m observed_batch_size\n\u001b[1;32m   3207\u001b[0m \u001b[38;5;66;03m# Prediction step\u001b[39;00m\n\u001b[0;32m-> 3208\u001b[0m loss, logits, labels \u001b[38;5;241m=\u001b[39m \u001b[38;5;28;43mself\u001b[39;49m\u001b[38;5;241;43m.\u001b[39;49m\u001b[43mprediction_step\u001b[49m\u001b[43m(\u001b[49m\u001b[43mmodel\u001b[49m\u001b[43m,\u001b[49m\u001b[43m \u001b[49m\u001b[43minputs\u001b[49m\u001b[43m,\u001b[49m\u001b[43m \u001b[49m\u001b[43mprediction_loss_only\u001b[49m\u001b[43m,\u001b[49m\u001b[43m \u001b[49m\u001b[43mignore_keys\u001b[49m\u001b[38;5;241;43m=\u001b[39;49m\u001b[43mignore_keys\u001b[49m\u001b[43m)\u001b[49m\n\u001b[1;32m   3209\u001b[0m main_input_name \u001b[38;5;241m=\u001b[39m \u001b[38;5;28mgetattr\u001b[39m(\u001b[38;5;28mself\u001b[39m\u001b[38;5;241m.\u001b[39mmodel, \u001b[38;5;124m\"\u001b[39m\u001b[38;5;124mmain_input_name\u001b[39m\u001b[38;5;124m\"\u001b[39m, \u001b[38;5;124m\"\u001b[39m\u001b[38;5;124minput_ids\u001b[39m\u001b[38;5;124m\"\u001b[39m)\n\u001b[1;32m   3210\u001b[0m inputs_decode \u001b[38;5;241m=\u001b[39m \u001b[38;5;28mself\u001b[39m\u001b[38;5;241m.\u001b[39m_prepare_input(inputs[main_input_name]) \u001b[38;5;28;01mif\u001b[39;00m args\u001b[38;5;241m.\u001b[39minclude_inputs_for_metrics \u001b[38;5;28;01melse\u001b[39;00m \u001b[38;5;28;01mNone\u001b[39;00m\n",
      "File \u001b[0;32m~/anaconda3/envs/myenv/lib/python3.10/site-packages/transformers/trainer.py:3425\u001b[0m, in \u001b[0;36mTrainer.prediction_step\u001b[0;34m(self, model, inputs, prediction_loss_only, ignore_keys)\u001b[0m\n\u001b[1;32m   3423\u001b[0m \u001b[38;5;28;01mif\u001b[39;00m has_labels \u001b[38;5;129;01mor\u001b[39;00m loss_without_labels:\n\u001b[1;32m   3424\u001b[0m     \u001b[38;5;28;01mwith\u001b[39;00m \u001b[38;5;28mself\u001b[39m\u001b[38;5;241m.\u001b[39mcompute_loss_context_manager():\n\u001b[0;32m-> 3425\u001b[0m         loss, outputs \u001b[38;5;241m=\u001b[39m \u001b[38;5;28;43mself\u001b[39;49m\u001b[38;5;241;43m.\u001b[39;49m\u001b[43mcompute_loss\u001b[49m\u001b[43m(\u001b[49m\u001b[43mmodel\u001b[49m\u001b[43m,\u001b[49m\u001b[43m \u001b[49m\u001b[43minputs\u001b[49m\u001b[43m,\u001b[49m\u001b[43m \u001b[49m\u001b[43mreturn_outputs\u001b[49m\u001b[38;5;241;43m=\u001b[39;49m\u001b[38;5;28;43;01mTrue\u001b[39;49;00m\u001b[43m)\u001b[49m\n\u001b[1;32m   3426\u001b[0m     loss \u001b[38;5;241m=\u001b[39m loss\u001b[38;5;241m.\u001b[39mmean()\u001b[38;5;241m.\u001b[39mdetach()\n\u001b[1;32m   3428\u001b[0m     \u001b[38;5;28;01mif\u001b[39;00m \u001b[38;5;28misinstance\u001b[39m(outputs, \u001b[38;5;28mdict\u001b[39m):\n",
      "File \u001b[0;32m~/anaconda3/envs/myenv/lib/python3.10/site-packages/transformers/trainer.py:2758\u001b[0m, in \u001b[0;36mTrainer.compute_loss\u001b[0;34m(self, model, inputs, return_outputs)\u001b[0m\n\u001b[1;32m   2756\u001b[0m \u001b[38;5;28;01melse\u001b[39;00m:\n\u001b[1;32m   2757\u001b[0m     labels \u001b[38;5;241m=\u001b[39m \u001b[38;5;28;01mNone\u001b[39;00m\n\u001b[0;32m-> 2758\u001b[0m outputs \u001b[38;5;241m=\u001b[39m \u001b[43mmodel\u001b[49m\u001b[43m(\u001b[49m\u001b[38;5;241;43m*\u001b[39;49m\u001b[38;5;241;43m*\u001b[39;49m\u001b[43minputs\u001b[49m\u001b[43m)\u001b[49m\n\u001b[1;32m   2759\u001b[0m \u001b[38;5;66;03m# Save past state if it exists\u001b[39;00m\n\u001b[1;32m   2760\u001b[0m \u001b[38;5;66;03m# TODO: this needs to be fixed and made cleaner later.\u001b[39;00m\n\u001b[1;32m   2761\u001b[0m \u001b[38;5;28;01mif\u001b[39;00m \u001b[38;5;28mself\u001b[39m\u001b[38;5;241m.\u001b[39margs\u001b[38;5;241m.\u001b[39mpast_index \u001b[38;5;241m>\u001b[39m\u001b[38;5;241m=\u001b[39m \u001b[38;5;241m0\u001b[39m:\n",
      "File \u001b[0;32m~/anaconda3/envs/myenv/lib/python3.10/site-packages/torch/nn/modules/module.py:1518\u001b[0m, in \u001b[0;36mModule._wrapped_call_impl\u001b[0;34m(self, *args, **kwargs)\u001b[0m\n\u001b[1;32m   1516\u001b[0m     \u001b[38;5;28;01mreturn\u001b[39;00m \u001b[38;5;28mself\u001b[39m\u001b[38;5;241m.\u001b[39m_compiled_call_impl(\u001b[38;5;241m*\u001b[39margs, \u001b[38;5;241m*\u001b[39m\u001b[38;5;241m*\u001b[39mkwargs)  \u001b[38;5;66;03m# type: ignore[misc]\u001b[39;00m\n\u001b[1;32m   1517\u001b[0m \u001b[38;5;28;01melse\u001b[39;00m:\n\u001b[0;32m-> 1518\u001b[0m     \u001b[38;5;28;01mreturn\u001b[39;00m \u001b[38;5;28;43mself\u001b[39;49m\u001b[38;5;241;43m.\u001b[39;49m\u001b[43m_call_impl\u001b[49m\u001b[43m(\u001b[49m\u001b[38;5;241;43m*\u001b[39;49m\u001b[43margs\u001b[49m\u001b[43m,\u001b[49m\u001b[43m \u001b[49m\u001b[38;5;241;43m*\u001b[39;49m\u001b[38;5;241;43m*\u001b[39;49m\u001b[43mkwargs\u001b[49m\u001b[43m)\u001b[49m\n",
      "File \u001b[0;32m~/anaconda3/envs/myenv/lib/python3.10/site-packages/torch/nn/modules/module.py:1527\u001b[0m, in \u001b[0;36mModule._call_impl\u001b[0;34m(self, *args, **kwargs)\u001b[0m\n\u001b[1;32m   1522\u001b[0m \u001b[38;5;66;03m# If we don't have any hooks, we want to skip the rest of the logic in\u001b[39;00m\n\u001b[1;32m   1523\u001b[0m \u001b[38;5;66;03m# this function, and just call forward.\u001b[39;00m\n\u001b[1;32m   1524\u001b[0m \u001b[38;5;28;01mif\u001b[39;00m \u001b[38;5;129;01mnot\u001b[39;00m (\u001b[38;5;28mself\u001b[39m\u001b[38;5;241m.\u001b[39m_backward_hooks \u001b[38;5;129;01mor\u001b[39;00m \u001b[38;5;28mself\u001b[39m\u001b[38;5;241m.\u001b[39m_backward_pre_hooks \u001b[38;5;129;01mor\u001b[39;00m \u001b[38;5;28mself\u001b[39m\u001b[38;5;241m.\u001b[39m_forward_hooks \u001b[38;5;129;01mor\u001b[39;00m \u001b[38;5;28mself\u001b[39m\u001b[38;5;241m.\u001b[39m_forward_pre_hooks\n\u001b[1;32m   1525\u001b[0m         \u001b[38;5;129;01mor\u001b[39;00m _global_backward_pre_hooks \u001b[38;5;129;01mor\u001b[39;00m _global_backward_hooks\n\u001b[1;32m   1526\u001b[0m         \u001b[38;5;129;01mor\u001b[39;00m _global_forward_hooks \u001b[38;5;129;01mor\u001b[39;00m _global_forward_pre_hooks):\n\u001b[0;32m-> 1527\u001b[0m     \u001b[38;5;28;01mreturn\u001b[39;00m \u001b[43mforward_call\u001b[49m\u001b[43m(\u001b[49m\u001b[38;5;241;43m*\u001b[39;49m\u001b[43margs\u001b[49m\u001b[43m,\u001b[49m\u001b[43m \u001b[49m\u001b[38;5;241;43m*\u001b[39;49m\u001b[38;5;241;43m*\u001b[39;49m\u001b[43mkwargs\u001b[49m\u001b[43m)\u001b[49m\n\u001b[1;32m   1529\u001b[0m \u001b[38;5;28;01mtry\u001b[39;00m:\n\u001b[1;32m   1530\u001b[0m     result \u001b[38;5;241m=\u001b[39m \u001b[38;5;28;01mNone\u001b[39;00m\n",
      "File \u001b[0;32m~/anaconda3/envs/myenv/lib/python3.10/site-packages/torch/nn/parallel/data_parallel.py:185\u001b[0m, in \u001b[0;36mDataParallel.forward\u001b[0;34m(self, *inputs, **kwargs)\u001b[0m\n\u001b[1;32m    183\u001b[0m     \u001b[38;5;28;01mreturn\u001b[39;00m \u001b[38;5;28mself\u001b[39m\u001b[38;5;241m.\u001b[39mmodule(\u001b[38;5;241m*\u001b[39minputs[\u001b[38;5;241m0\u001b[39m], \u001b[38;5;241m*\u001b[39m\u001b[38;5;241m*\u001b[39mmodule_kwargs[\u001b[38;5;241m0\u001b[39m])\n\u001b[1;32m    184\u001b[0m replicas \u001b[38;5;241m=\u001b[39m \u001b[38;5;28mself\u001b[39m\u001b[38;5;241m.\u001b[39mreplicate(\u001b[38;5;28mself\u001b[39m\u001b[38;5;241m.\u001b[39mmodule, \u001b[38;5;28mself\u001b[39m\u001b[38;5;241m.\u001b[39mdevice_ids[:\u001b[38;5;28mlen\u001b[39m(inputs)])\n\u001b[0;32m--> 185\u001b[0m outputs \u001b[38;5;241m=\u001b[39m \u001b[38;5;28;43mself\u001b[39;49m\u001b[38;5;241;43m.\u001b[39;49m\u001b[43mparallel_apply\u001b[49m\u001b[43m(\u001b[49m\u001b[43mreplicas\u001b[49m\u001b[43m,\u001b[49m\u001b[43m \u001b[49m\u001b[43minputs\u001b[49m\u001b[43m,\u001b[49m\u001b[43m \u001b[49m\u001b[43mmodule_kwargs\u001b[49m\u001b[43m)\u001b[49m\n\u001b[1;32m    186\u001b[0m \u001b[38;5;28;01mreturn\u001b[39;00m \u001b[38;5;28mself\u001b[39m\u001b[38;5;241m.\u001b[39mgather(outputs, \u001b[38;5;28mself\u001b[39m\u001b[38;5;241m.\u001b[39moutput_device)\n",
      "File \u001b[0;32m~/anaconda3/envs/myenv/lib/python3.10/site-packages/torch/nn/parallel/data_parallel.py:200\u001b[0m, in \u001b[0;36mDataParallel.parallel_apply\u001b[0;34m(self, replicas, inputs, kwargs)\u001b[0m\n\u001b[1;32m    199\u001b[0m \u001b[38;5;28;01mdef\u001b[39;00m \u001b[38;5;21mparallel_apply\u001b[39m(\u001b[38;5;28mself\u001b[39m, replicas: Sequence[T], inputs: Sequence[Any], kwargs: Any) \u001b[38;5;241m-\u001b[39m\u001b[38;5;241m>\u001b[39m List[Any]:\n\u001b[0;32m--> 200\u001b[0m     \u001b[38;5;28;01mreturn\u001b[39;00m \u001b[43mparallel_apply\u001b[49m\u001b[43m(\u001b[49m\u001b[43mreplicas\u001b[49m\u001b[43m,\u001b[49m\u001b[43m \u001b[49m\u001b[43minputs\u001b[49m\u001b[43m,\u001b[49m\u001b[43m \u001b[49m\u001b[43mkwargs\u001b[49m\u001b[43m,\u001b[49m\u001b[43m \u001b[49m\u001b[38;5;28;43mself\u001b[39;49m\u001b[38;5;241;43m.\u001b[39;49m\u001b[43mdevice_ids\u001b[49m\u001b[43m[\u001b[49m\u001b[43m:\u001b[49m\u001b[38;5;28;43mlen\u001b[39;49m\u001b[43m(\u001b[49m\u001b[43mreplicas\u001b[49m\u001b[43m)\u001b[49m\u001b[43m]\u001b[49m\u001b[43m)\u001b[49m\n",
      "File \u001b[0;32m~/anaconda3/envs/myenv/lib/python3.10/site-packages/torch/nn/parallel/parallel_apply.py:102\u001b[0m, in \u001b[0;36mparallel_apply\u001b[0;34m(modules, inputs, kwargs_tup, devices)\u001b[0m\n\u001b[1;32m    100\u001b[0m         thread\u001b[38;5;241m.\u001b[39mstart()\n\u001b[1;32m    101\u001b[0m     \u001b[38;5;28;01mfor\u001b[39;00m thread \u001b[38;5;129;01min\u001b[39;00m threads:\n\u001b[0;32m--> 102\u001b[0m         \u001b[43mthread\u001b[49m\u001b[38;5;241;43m.\u001b[39;49m\u001b[43mjoin\u001b[49m\u001b[43m(\u001b[49m\u001b[43m)\u001b[49m\n\u001b[1;32m    103\u001b[0m \u001b[38;5;28;01melse\u001b[39;00m:\n\u001b[1;32m    104\u001b[0m     _worker(\u001b[38;5;241m0\u001b[39m, modules[\u001b[38;5;241m0\u001b[39m], inputs[\u001b[38;5;241m0\u001b[39m], kwargs_tup[\u001b[38;5;241m0\u001b[39m], devices[\u001b[38;5;241m0\u001b[39m], streams[\u001b[38;5;241m0\u001b[39m])\n",
      "File \u001b[0;32m~/anaconda3/envs/myenv/lib/python3.10/threading.py:1096\u001b[0m, in \u001b[0;36mThread.join\u001b[0;34m(self, timeout)\u001b[0m\n\u001b[1;32m   1093\u001b[0m     \u001b[38;5;28;01mraise\u001b[39;00m \u001b[38;5;167;01mRuntimeError\u001b[39;00m(\u001b[38;5;124m\"\u001b[39m\u001b[38;5;124mcannot join current thread\u001b[39m\u001b[38;5;124m\"\u001b[39m)\n\u001b[1;32m   1095\u001b[0m \u001b[38;5;28;01mif\u001b[39;00m timeout \u001b[38;5;129;01mis\u001b[39;00m \u001b[38;5;28;01mNone\u001b[39;00m:\n\u001b[0;32m-> 1096\u001b[0m     \u001b[38;5;28;43mself\u001b[39;49m\u001b[38;5;241;43m.\u001b[39;49m\u001b[43m_wait_for_tstate_lock\u001b[49m\u001b[43m(\u001b[49m\u001b[43m)\u001b[49m\n\u001b[1;32m   1097\u001b[0m \u001b[38;5;28;01melse\u001b[39;00m:\n\u001b[1;32m   1098\u001b[0m     \u001b[38;5;66;03m# the behavior of a negative timeout isn't documented, but\u001b[39;00m\n\u001b[1;32m   1099\u001b[0m     \u001b[38;5;66;03m# historically .join(timeout=x) for x<0 has acted as if timeout=0\u001b[39;00m\n\u001b[1;32m   1100\u001b[0m     \u001b[38;5;28mself\u001b[39m\u001b[38;5;241m.\u001b[39m_wait_for_tstate_lock(timeout\u001b[38;5;241m=\u001b[39m\u001b[38;5;28mmax\u001b[39m(timeout, \u001b[38;5;241m0\u001b[39m))\n",
      "File \u001b[0;32m~/anaconda3/envs/myenv/lib/python3.10/threading.py:1116\u001b[0m, in \u001b[0;36mThread._wait_for_tstate_lock\u001b[0;34m(self, block, timeout)\u001b[0m\n\u001b[1;32m   1113\u001b[0m     \u001b[38;5;28;01mreturn\u001b[39;00m\n\u001b[1;32m   1115\u001b[0m \u001b[38;5;28;01mtry\u001b[39;00m:\n\u001b[0;32m-> 1116\u001b[0m     \u001b[38;5;28;01mif\u001b[39;00m \u001b[43mlock\u001b[49m\u001b[38;5;241;43m.\u001b[39;49m\u001b[43macquire\u001b[49m\u001b[43m(\u001b[49m\u001b[43mblock\u001b[49m\u001b[43m,\u001b[49m\u001b[43m \u001b[49m\u001b[43mtimeout\u001b[49m\u001b[43m)\u001b[49m:\n\u001b[1;32m   1117\u001b[0m         lock\u001b[38;5;241m.\u001b[39mrelease()\n\u001b[1;32m   1118\u001b[0m         \u001b[38;5;28mself\u001b[39m\u001b[38;5;241m.\u001b[39m_stop()\n",
      "\u001b[0;31mKeyboardInterrupt\u001b[0m: "
     ]
    }
   ],
   "source": [
    "trainer.train()"
   ]
  },
  {
   "cell_type": "code",
   "execution_count": 9,
   "metadata": {},
   "outputs": [
    {
     "name": "stderr",
     "output_type": "stream",
     "text": [
      "/home/ubuntu/anaconda3/envs/myenv/lib/python3.10/site-packages/torch/nn/parallel/_functions.py:68: UserWarning: Was asked to gather along dimension 0, but all input tensors were scalars; will instead unsqueeze and return a vector.\n",
      "  warnings.warn('Was asked to gather along dimension 0, but all '\n"
     ]
    },
    {
     "data": {
      "text/html": [
       "\n",
       "    <div>\n",
       "      \n",
       "      <progress value='10' max='10' style='width:300px; height:20px; vertical-align: middle;'></progress>\n",
       "      [10/10 00:41]\n",
       "    </div>\n",
       "    "
      ],
      "text/plain": [
       "<IPython.core.display.HTML object>"
      ]
     },
     "metadata": {},
     "output_type": "display_data"
    },
    {
     "data": {
      "text/plain": [
       "{'eval_loss': 0.35425934195518494,\n",
       " 'eval_val_loss': 0.3542593717575073,\n",
       " 'eval_accuracy': 0.883399209486166,\n",
       " 'eval_precision': 0.8897411313518696,\n",
       " 'eval_recall': 0.8846520495710201,\n",
       " 'eval_f1': 0.8871892925430211,\n",
       " 'eval_AUC': 0.923682765026521,\n",
       " 'eval_tpr_01': 0.2020972354623451,\n",
       " 'eval_tpr_001': 0.010295519542421354,\n",
       " 'eval_tpr_0001': 0.007435653002859866,\n",
       " 'eval_runtime': 49.0408,\n",
       " 'eval_samples_per_second': 206.359,\n",
       " 'eval_steps_per_second': 0.204,\n",
       " 'epoch': 1.0}"
      ]
     },
     "execution_count": 9,
     "metadata": {},
     "output_type": "execute_result"
    }
   ],
   "source": [
    "trainer.evaluate()"
   ]
  },
  {
   "cell_type": "code",
   "execution_count": null,
   "metadata": {},
   "outputs": [],
   "source": [
    "import pickle\n",
    "\n",
    "with open('sample_efficiency.pkl', 'wb') as f:\n",
    "    pickle.dump(data, f)"
   ]
  },
  {
   "cell_type": "markdown",
   "metadata": {},
   "source": [
    "### Evaluation"
   ]
  },
  {
   "cell_type": "code",
   "execution_count": 26,
   "metadata": {},
   "outputs": [],
   "source": [
    "import pickle \n",
    "\n",
    "with open('sample_efficiency.pkl', 'rb') as f:\n",
    "    data = pickle.load(f)\n",
    "\n",
    "xs = [32*i for i in range(len(data['accuracy']))]\n",
    "idxs = [i for i in xs if i & (i-1) == 0]"
   ]
  },
  {
   "cell_type": "code",
   "execution_count": 27,
   "metadata": {},
   "outputs": [
    {
     "data": {
      "image/png": "[encoded data removed]",
      "text/plain": [
       "<Figure size 2000x1000 with 8 Axes>"
      ]
     },
     "metadata": {},
     "output_type": "display_data"
    }
   ],
   "source": [
    "import matplotlib.pyplot as plt \n",
    "import seaborn as sns \n",
    "\n",
    "sns.set_style('darkgrid')\n",
    "sns.set_context('paper')\n",
    "\n",
    "# create 4 x 2 subplots\n",
    "fig, axes = plt.subplots(2,4, figsize=(20,10))\n",
    "axes = axes.flatten()\n",
    "\n",
    "for i, key in enumerate(data.keys()):\n",
    "    if key == 'val_loss':\n",
    "        continue\n",
    "    ax = axes[i-1]\n",
    "    ax.plot([data[key][x//32] for x in idxs], label=key)\n",
    "    ax.set_xticks(range(9))\n",
    "    ax.set_xticklabels(idxs)\n",
    "     \n",
    "    ax.set_title(key)\n",
    "    ax.title.set_fontsize(16)\n",
    "\n",
    "plt.suptitle(\"Text Classifier Sample Efficiency\", fontsize=20)\n",
    "plt.tight_layout()\n",
    "plt.show()"
   ]
  },
  {
   "cell_type": "code",
   "execution_count": null,
   "metadata": {},
   "outputs": [],
   "source": []
  }
 ],
 "metadata": {
  "kernelspec": {
   "display_name": "base",
   "language": "python",
   "name": "python3"
  },
  "language_info": {
   "codemirror_mode": {
    "name": "ipython",
    "version": 3
   },
   "file_extension": ".py",
   "mimetype": "text/x-python",
   "name": "python",
   "nbconvert_exporter": "python",
   "pygments_lexer": "ipython3",
   "version": "3.10.13"
  }
 },
 "nbformat": 4,
 "nbformat_minor": 2
}
