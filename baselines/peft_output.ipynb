{
 "cells": [
  {
   "cell_type": "markdown",
   "metadata": {},
   "source": [
    "## Main"
   ]
  },
  {
   "cell_type": "markdown",
   "metadata": {},
   "source": [
    "### Training"
   ]
  },
  {
   "cell_type": "code",
   "execution_count": 1,
   "metadata": {
    "execution": {
     "iopub.execute_input": "2024-01-22T04:57:03.272231Z",
     "iopub.status.busy": "2024-01-22T04:57:03.271981Z",
     "iopub.status.idle": "2024-01-22T04:57:05.533263Z",
     "shell.execute_reply": "2024-01-22T04:57:05.532803Z"
    }
   },
   "outputs": [
    {
     "ename": "ModuleNotFoundError",
     "evalue": "No module named 'evaluate'",
     "output_type": "error",
     "traceback": [
      "\u001b[0;31m---------------------------------------------------------------------------\u001b[0m",
      "\u001b[0;31mModuleNotFoundError\u001b[0m                       Traceback (most recent call last)",
      "Cell \u001b[0;32mIn[1], line 2\u001b[0m\n\u001b[1;32m      1\u001b[0m \u001b[38;5;28;01mfrom\u001b[39;00m \u001b[38;5;21;01mtransformers\u001b[39;00m \u001b[38;5;28;01mimport\u001b[39;00m AutoTokenizer, AutoModelForSequenceClassification, Trainer, TrainingArguments, set_seed\n\u001b[0;32m----> 2\u001b[0m \u001b[38;5;28;01mimport\u001b[39;00m \u001b[38;5;21;01mevaluate\u001b[39;00m\n\u001b[1;32m      3\u001b[0m \u001b[38;5;28;01mimport\u001b[39;00m \u001b[38;5;21;01mtorch\u001b[39;00m\n\u001b[1;32m      4\u001b[0m \u001b[38;5;28;01mimport\u001b[39;00m \u001b[38;5;21;01mos\u001b[39;00m\n",
      "\u001b[0;31mModuleNotFoundError\u001b[0m: No module named 'evaluate'"
     ]
    }
   ],
   "source": [
    "from transformers import AutoTokenizer, AutoModelForSequenceClassification, Trainer, TrainingArguments, set_seed\n",
    "import evaluate\n",
    "import torch\n",
    "import os\n",
    "import numpy as np\n",
    "from tqdm import tqdm\n",
    "from datasets import load_from_disk, DatasetDict\n",
    "from sklearn.metrics import accuracy_score, precision_recall_fscore_support, roc_auc_score\n",
    "import gc\n",
    "from peft import get_peft_model, LoraConfig, TaskType\n",
    "\n",
    "seed = 0\n",
    "np.random.seed(seed)\n",
    "torch.manual_seed(seed)\n",
    "set_seed(seed)\n",
    "\n",
    "lr = 5e-5\n",
    "batch_size = 12\n",
    "num_epochs = 1\n",
    "\n",
    "model_name = 'meta-llama/Llama-2-7b-hf'\n",
    "orig_tokenizer = AutoTokenizer.from_pretrained('EleutherAI/pythia-160m')\n",
    "tokenizer = AutoTokenizer.from_pretrained(model_name)\n",
    "tokenizer.pad_token = tokenizer.eos_token\n",
    "\n",
    "peft_config = LoraConfig(\n",
    "    r=16,\n",
    "    lora_alpha=16,\n",
    "    target_modules=[\"q_proj\", \"v_proj\"],\n",
    "    lora_dropout=0.05, \n",
    "    bias=\"none\",\n",
    "    modules_to_save=[\"score\"],\n",
    "    task_type=TaskType.SEQ_CLS,\n",
    ")\n",
    "\n",
    "path = '../../../gld/train-data-probes/data/12b'\n",
    "dataset = load_from_disk(os.path.join(path, 'split_hf_token_dataset_vary_len_v2'))\n",
    "id2label = {0: 'neg', 1: 'pos'}\n",
    "label2id = {'neg': 0, 'pos': 1}\n",
    "model = AutoModelForSequenceClassification.from_pretrained(model_name, num_labels=2, id2label=id2label, label2id=label2id, low_cpu_mem_usage=True, device_map='auto')\n",
    "# model.to('cuda')\n",
    "model.config.pad_token_id = model.config.eos_token_id\n",
    "\n",
    "lora_model = get_peft_model(model, peft_config)\n",
    "lora_model.print_trainable_parameters()"
   ]
  },
  {
   "cell_type": "code",
   "execution_count": 2,
   "metadata": {
    "execution": {
     "iopub.execute_input": "2024-01-22T04:57:05.566897Z",
     "iopub.status.busy": "2024-01-22T04:57:05.566643Z",
     "iopub.status.idle": "2024-01-22T04:57:05.589922Z",
     "shell.execute_reply": "2024-01-22T04:57:05.589500Z"
    }
   },
   "outputs": [
    {
     "ename": "NameError",
     "evalue": "name 'dataset' is not defined",
     "output_type": "error",
     "traceback": [
      "\u001b[0;31m---------------------------------------------------------------------------\u001b[0m",
      "\u001b[0;31mNameError\u001b[0m                                 Traceback (most recent call last)",
      "Cell \u001b[0;32mIn[2], line 6\u001b[0m\n\u001b[1;32m      3\u001b[0m \u001b[38;5;28;01mdef\u001b[39;00m \u001b[38;5;21mpreprocess\u001b[39m(example): \n\u001b[1;32m      4\u001b[0m     \u001b[38;5;28;01mreturn\u001b[39;00m {\u001b[38;5;124m'\u001b[39m\u001b[38;5;124minput_ids\u001b[39m\u001b[38;5;124m'\u001b[39m: tokenizer(orig_tokenizer\u001b[38;5;241m.\u001b[39mdecode(example[\u001b[38;5;124m'\u001b[39m\u001b[38;5;124minput_ids\u001b[39m\u001b[38;5;124m'\u001b[39m]), return_tensors\u001b[38;5;241m=\u001b[39m\u001b[38;5;124m'\u001b[39m\u001b[38;5;124mpt\u001b[39m\u001b[38;5;124m'\u001b[39m)[\u001b[38;5;124m'\u001b[39m\u001b[38;5;124minput_ids\u001b[39m\u001b[38;5;124m'\u001b[39m][\u001b[38;5;241m0\u001b[39m]}\n\u001b[0;32m----> 6\u001b[0m dataset[\u001b[38;5;124m'\u001b[39m\u001b[38;5;124mtrain\u001b[39m\u001b[38;5;124m'\u001b[39m] \u001b[38;5;241m=\u001b[39m dataset[\u001b[38;5;124m'\u001b[39m\u001b[38;5;124mtrain\u001b[39m\u001b[38;5;124m'\u001b[39m]\u001b[38;5;241m.\u001b[39mmap(preprocess)\n\u001b[1;32m      7\u001b[0m dataset[\u001b[38;5;124m'\u001b[39m\u001b[38;5;124mval\u001b[39m\u001b[38;5;124m'\u001b[39m] \u001b[38;5;241m=\u001b[39m dataset[\u001b[38;5;124m'\u001b[39m\u001b[38;5;124mval\u001b[39m\u001b[38;5;124m'\u001b[39m]\u001b[38;5;241m.\u001b[39mmap(preprocess)\n\u001b[1;32m      8\u001b[0m dataset[\u001b[38;5;124m'\u001b[39m\u001b[38;5;124mtest\u001b[39m\u001b[38;5;124m'\u001b[39m] \u001b[38;5;241m=\u001b[39m dataset[\u001b[38;5;124m'\u001b[39m\u001b[38;5;124mtest\u001b[39m\u001b[38;5;124m'\u001b[39m]\u001b[38;5;241m.\u001b[39mmap(preprocess)\n",
      "\u001b[0;31mNameError\u001b[0m: name 'dataset' is not defined"
     ]
    }
   ],
   "source": [
    "# pad datasets\n",
    "\n",
    "def preprocess(example): \n",
    "    return {'input_ids': tokenizer(orig_tokenizer.decode(example['input_ids']), return_tensors='pt')['input_ids'][0]}\n",
    "\n",
    "dataset['train'] = dataset['train'].map(preprocess)\n",
    "dataset['val'] = dataset['val'].map(preprocess)\n",
    "dataset['test'] = dataset['test'].map(preprocess)\n",
    "\n",
    "max_train_len = max([len(x['input_ids']) for x in dataset['train']])\n",
    "max_val_len = max([len(x['input_ids']) for x in dataset['val']])\n",
    "max_test_len = max([len(x['input_ids']) for x in dataset['test']])\n",
    "\n",
    "def preprocess(examples, max_len): \n",
    "    curr_len = len(examples['input_ids'])\n",
    "    if curr_len < max_len:\n",
    "        examples['input_ids'] = examples['input_ids'] + [tokenizer.pad_token_id]*(max_len-curr_len)\n",
    "    return examples\n",
    "\n",
    "dataset['train'] = dataset['train'].map(lambda x: preprocess(x, max_train_len))\n",
    "dataset['val'] = dataset['val'].map(lambda x: preprocess(x, max_val_len))\n",
    "dataset['test'] = dataset['test'].map(lambda x: preprocess(x, max_test_len))\n",
    "\n",
    "dataset"
   ]
  },
  {
   "cell_type": "code",
   "execution_count": 3,
   "metadata": {
    "execution": {
     "iopub.execute_input": "2024-01-22T04:57:05.591799Z",
     "iopub.status.busy": "2024-01-22T04:57:05.591598Z",
     "iopub.status.idle": "2024-01-22T04:57:05.606784Z",
     "shell.execute_reply": "2024-01-22T04:57:05.606375Z"
    }
   },
   "outputs": [
    {
     "ename": "NameError",
     "evalue": "name 'dataset' is not defined",
     "output_type": "error",
     "traceback": [
      "\u001b[0;31m---------------------------------------------------------------------------\u001b[0m",
      "\u001b[0;31mNameError\u001b[0m                                 Traceback (most recent call last)",
      "Cell \u001b[0;32mIn[3], line 1\u001b[0m\n\u001b[0;32m----> 1\u001b[0m train_lens \u001b[38;5;241m=\u001b[39m [\u001b[38;5;28mlen\u001b[39m(x[\u001b[38;5;124m'\u001b[39m\u001b[38;5;124minput_ids\u001b[39m\u001b[38;5;124m'\u001b[39m]) \u001b[38;5;28;01mfor\u001b[39;00m x \u001b[38;5;129;01min\u001b[39;00m dataset[\u001b[38;5;124m'\u001b[39m\u001b[38;5;124mtrain\u001b[39m\u001b[38;5;124m'\u001b[39m]]\n\u001b[1;32m      2\u001b[0m val_lens \u001b[38;5;241m=\u001b[39m [\u001b[38;5;28mlen\u001b[39m(x[\u001b[38;5;124m'\u001b[39m\u001b[38;5;124minput_ids\u001b[39m\u001b[38;5;124m'\u001b[39m]) \u001b[38;5;28;01mfor\u001b[39;00m x \u001b[38;5;129;01min\u001b[39;00m dataset[\u001b[38;5;124m'\u001b[39m\u001b[38;5;124mval\u001b[39m\u001b[38;5;124m'\u001b[39m]]\n\u001b[1;32m      3\u001b[0m test_lens \u001b[38;5;241m=\u001b[39m [\u001b[38;5;28mlen\u001b[39m(x[\u001b[38;5;124m'\u001b[39m\u001b[38;5;124minput_ids\u001b[39m\u001b[38;5;124m'\u001b[39m]) \u001b[38;5;28;01mfor\u001b[39;00m x \u001b[38;5;129;01min\u001b[39;00m dataset[\u001b[38;5;124m'\u001b[39m\u001b[38;5;124mtest\u001b[39m\u001b[38;5;124m'\u001b[39m]]\n",
      "\u001b[0;31mNameError\u001b[0m: name 'dataset' is not defined"
     ]
    }
   ],
   "source": [
    "train_lens = [len(x['input_ids']) for x in dataset['train']]\n",
    "val_lens = [len(x['input_ids']) for x in dataset['val']]\n",
    "test_lens = [len(x['input_ids']) for x in dataset['test']]\n",
    "\n",
    "assert len(set(train_lens)) == len(set(val_lens)) == len(set(test_lens)) == 1, (set(train_lens), set(val_lens), set(test_lens))"
   ]
  },
  {
   "cell_type": "code",
   "execution_count": 4,
   "metadata": {
    "execution": {
     "iopub.execute_input": "2024-01-22T04:57:05.608541Z",
     "iopub.status.busy": "2024-01-22T04:57:05.608344Z",
     "iopub.status.idle": "2024-01-22T04:57:05.613072Z",
     "shell.execute_reply": "2024-01-22T04:57:05.612694Z"
    }
   },
   "outputs": [],
   "source": [
    "def tpr_at_fpr(probs, labels, target_fpr, left=0.5, right=1.0, max_steps=1000, thresh_tol=1e-6): \n",
    "    \"\"\"\n",
    "    Calculates the true positive rate at a given false positive rate. \n",
    "    Does up to max_steps steps of binary search, returns the best guess \n",
    "    that yields a false positive rate less than target_fpr\n",
    "    \n",
    "    probs: (n_examples, ) just prob on positive class\n",
    "    labels: (n_examples, ) 0 or 1\n",
    "    \"\"\"\n",
    "    assert len(probs) == len(labels)\n",
    "    assert probs.shape == labels.shape\n",
    "    assert probs.shape[0] > 0\n",
    "\n",
    "    for _ in range(max_steps):\n",
    "        mid = (left + right) / 2\n",
    "        \n",
    "        # calc fpr \n",
    "        preds = (probs > mid).astype(int)\n",
    "        fp = np.logical_and(preds == 1, labels == 0).sum()\n",
    "        tn = (labels == 0).sum()\n",
    "        fpr = fp / tn if tn > 0 else 0\n",
    "\n",
    "        if abs(fpr - target_fpr) < thresh_tol: \n",
    "            right = mid\n",
    "            break\n",
    "        elif fpr > target_fpr:\n",
    "            left = mid\n",
    "        else:\n",
    "            right = mid\n",
    "    \n",
    "    # use right as threshold to ensure fpr <= target_fpr\n",
    "    preds = (probs > right).astype(int)\n",
    "    tp = np.logical_and(preds == 1, labels == 1).sum()\n",
    "    fn = (labels == 1).sum()\n",
    "    return tp / fn if fn > 0 else 0"
   ]
  },
  {
   "cell_type": "code",
   "execution_count": 5,
   "metadata": {
    "execution": {
     "iopub.execute_input": "2024-01-22T04:57:05.615126Z",
     "iopub.status.busy": "2024-01-22T04:57:05.614842Z",
     "iopub.status.idle": "2024-01-22T04:57:05.639276Z",
     "shell.execute_reply": "2024-01-22T04:57:05.638893Z"
    }
   },
   "outputs": [
    {
     "ename": "NameError",
     "evalue": "name 'torch' is not defined",
     "output_type": "error",
     "traceback": [
      "\u001b[0;31m---------------------------------------------------------------------------\u001b[0m",
      "\u001b[0;31mNameError\u001b[0m                                 Traceback (most recent call last)",
      "Cell \u001b[0;32mIn[5], line 1\u001b[0m\n\u001b[0;32m----> 1\u001b[0m loss_fn \u001b[38;5;241m=\u001b[39m torch\u001b[38;5;241m.\u001b[39mnn\u001b[38;5;241m.\u001b[39mCrossEntropyLoss()\n\u001b[1;32m      2\u001b[0m data \u001b[38;5;241m=\u001b[39m {\u001b[38;5;124m'\u001b[39m\u001b[38;5;124mval_loss\u001b[39m\u001b[38;5;124m'\u001b[39m: [], \u001b[38;5;124m'\u001b[39m\u001b[38;5;124maccuracy\u001b[39m\u001b[38;5;124m'\u001b[39m: [], \u001b[38;5;124m'\u001b[39m\u001b[38;5;124mprecision\u001b[39m\u001b[38;5;124m'\u001b[39m: [], \u001b[38;5;124m'\u001b[39m\u001b[38;5;124mrecall\u001b[39m\u001b[38;5;124m'\u001b[39m: [], \u001b[38;5;124m'\u001b[39m\u001b[38;5;124mf1\u001b[39m\u001b[38;5;124m'\u001b[39m: [], \u001b[38;5;124m'\u001b[39m\u001b[38;5;124mAUC\u001b[39m\u001b[38;5;124m'\u001b[39m: [], \u001b[38;5;124m'\u001b[39m\u001b[38;5;124mtpr_01\u001b[39m\u001b[38;5;124m'\u001b[39m: [], \u001b[38;5;124m'\u001b[39m\u001b[38;5;124mtpr_001\u001b[39m\u001b[38;5;124m'\u001b[39m: [], \u001b[38;5;124m'\u001b[39m\u001b[38;5;124mtpr_0001\u001b[39m\u001b[38;5;124m'\u001b[39m: []}\n\u001b[1;32m      4\u001b[0m \u001b[38;5;28;01mdef\u001b[39;00m \u001b[38;5;21mcompute_metrics\u001b[39m(eval_pred):\n",
      "\u001b[0;31mNameError\u001b[0m: name 'torch' is not defined"
     ]
    }
   ],
   "source": [
    "loss_fn = torch.nn.CrossEntropyLoss()\n",
    "data = {'val_loss': [], 'accuracy': [], 'precision': [], 'recall': [], 'f1': [], 'AUC': [], 'tpr_01': [], 'tpr_001': [], 'tpr_0001': []}\n",
    "\n",
    "def compute_metrics(eval_pred):\n",
    "    \n",
    "    logits, labels = eval_pred\n",
    "    logits = np.array(logits) # (n_examples, n_classes)\n",
    "    labels = np.array(labels) # (n_examples)\n",
    "\n",
    "    preds = np.argmax(logits, axis=1)\n",
    "    normalized_prob = np.exp(logits) / np.exp(logits).sum(axis=1, keepdims=True)\n",
    "    positive_prob = normalized_prob[:, 1]\n",
    "    acc = accuracy_score(labels, preds)\n",
    "    precision, recall, f1, _ = precision_recall_fscore_support(labels, preds, average='binary')\n",
    "    auc = roc_auc_score(labels, positive_prob)\n",
    "    \n",
    "    loss = loss_fn(torch.tensor(logits), torch.tensor(labels))\n",
    "\n",
    "    # calculate tpr at fpr = 0.01, 0.001, and 0.0001\n",
    "    tpr_01 = tpr_at_fpr(positive_prob, labels, 0.01)\n",
    "    tpr_001 = tpr_at_fpr(positive_prob, labels, 0.001)\n",
    "    tpr_0001 = tpr_at_fpr(positive_prob, labels, 0.0001)\n",
    "\n",
    "    # log\n",
    "    data['val_loss'].append(loss.item())\n",
    "    data['accuracy'].append(acc)\n",
    "    data['precision'].append(precision)\n",
    "    data['recall'].append(recall)\n",
    "    data['f1'].append(f1)\n",
    "    data['AUC'].append(auc)\n",
    "    data['tpr_01'].append(tpr_01)\n",
    "    data['tpr_001'].append(tpr_001)\n",
    "    data['tpr_0001'].append(tpr_0001)\n",
    "\n",
    "    return {'val_loss': loss.item(), 'accuracy': acc, 'precision': precision, 'recall': recall, 'f1': f1, 'AUC': auc, 'tpr_01': tpr_01, 'tpr_001': tpr_001, 'tpr_0001': tpr_0001}"
   ]
  },
  {
   "cell_type": "code",
   "execution_count": 6,
   "metadata": {
    "execution": {
     "iopub.execute_input": "2024-01-22T04:57:05.641222Z",
     "iopub.status.busy": "2024-01-22T04:57:05.641023Z",
     "iopub.status.idle": "2024-01-22T04:57:05.659032Z",
     "shell.execute_reply": "2024-01-22T04:57:05.658615Z"
    }
   },
   "outputs": [
    {
     "ename": "NameError",
     "evalue": "name 'os' is not defined",
     "output_type": "error",
     "traceback": [
      "\u001b[0;31m---------------------------------------------------------------------------\u001b[0m",
      "\u001b[0;31mNameError\u001b[0m                                 Traceback (most recent call last)",
      "Cell \u001b[0;32mIn[6], line 2\u001b[0m\n\u001b[1;32m      1\u001b[0m targs \u001b[38;5;241m=\u001b[39m TrainingArguments(\n\u001b[0;32m----> 2\u001b[0m     output_dir \u001b[38;5;241m=\u001b[39m os\u001b[38;5;241m.\u001b[39mpath\u001b[38;5;241m.\u001b[39mjoin(path, \u001b[38;5;124m'\u001b[39m\u001b[38;5;124mfinetuning/final-llama-on-pythia\u001b[39m\u001b[38;5;124m'\u001b[39m),\n\u001b[1;32m      3\u001b[0m     evaluation_strategy \u001b[38;5;241m=\u001b[39m \u001b[38;5;124m'\u001b[39m\u001b[38;5;124msteps\u001b[39m\u001b[38;5;124m'\u001b[39m,\n\u001b[1;32m      4\u001b[0m     eval_steps\u001b[38;5;241m=\u001b[39m\u001b[38;5;241m250\u001b[39m,\n\u001b[1;32m      5\u001b[0m     logging_strategy \u001b[38;5;241m=\u001b[39m \u001b[38;5;124m'\u001b[39m\u001b[38;5;124msteps\u001b[39m\u001b[38;5;124m'\u001b[39m,\n\u001b[1;32m      6\u001b[0m     logging_steps\u001b[38;5;241m=\u001b[39m\u001b[38;5;241m250\u001b[39m,\n\u001b[1;32m      7\u001b[0m     \u001b[38;5;66;03m# save_strategy='epoch',\u001b[39;00m\n\u001b[1;32m      8\u001b[0m     learning_rate\u001b[38;5;241m=\u001b[39mlr,\n\u001b[1;32m      9\u001b[0m     per_device_train_batch_size\u001b[38;5;241m=\u001b[39mbatch_size,\n\u001b[1;32m     10\u001b[0m     per_device_eval_batch_size\u001b[38;5;241m=\u001b[39m\u001b[38;5;241m32\u001b[39m,\n\u001b[1;32m     11\u001b[0m     num_train_epochs\u001b[38;5;241m=\u001b[39m\u001b[38;5;241m1\u001b[39m,\n\u001b[1;32m     12\u001b[0m     save_total_limit\u001b[38;5;241m=\u001b[39m\u001b[38;5;241m10\u001b[39m,\n\u001b[1;32m     13\u001b[0m     load_best_model_at_end\u001b[38;5;241m=\u001b[39m\u001b[38;5;28;01mTrue\u001b[39;00m,\n\u001b[1;32m     14\u001b[0m     metric_for_best_model\u001b[38;5;241m=\u001b[39m\u001b[38;5;124m'\u001b[39m\u001b[38;5;124mval_loss\u001b[39m\u001b[38;5;124m'\u001b[39m,\n\u001b[1;32m     15\u001b[0m     weight_decay\u001b[38;5;241m=\u001b[39m\u001b[38;5;241m0.01\u001b[39m,\n\u001b[1;32m     16\u001b[0m     report_to\u001b[38;5;241m=\u001b[39m\u001b[38;5;124m'\u001b[39m\u001b[38;5;124mnone\u001b[39m\u001b[38;5;124m'\u001b[39m,\n\u001b[1;32m     17\u001b[0m     seed\u001b[38;5;241m=\u001b[39mseed,\n\u001b[1;32m     18\u001b[0m     eval_accumulation_steps\u001b[38;5;241m=\u001b[39m\u001b[38;5;241m1\u001b[39m,\n\u001b[1;32m     19\u001b[0m     fp16\u001b[38;5;241m=\u001b[39m\u001b[38;5;28;01mTrue\u001b[39;00m,\n\u001b[1;32m     20\u001b[0m )\n\u001b[1;32m     22\u001b[0m trainer \u001b[38;5;241m=\u001b[39m Trainer(\n\u001b[1;32m     23\u001b[0m     model\u001b[38;5;241m=\u001b[39mmodel,\n\u001b[1;32m     24\u001b[0m     tokenizer\u001b[38;5;241m=\u001b[39mtokenizer,\n\u001b[0;32m   (...)\u001b[0m\n\u001b[1;32m     28\u001b[0m     compute_metrics\u001b[38;5;241m=\u001b[39mcompute_metrics,\n\u001b[1;32m     29\u001b[0m )\n",
      "\u001b[0;31mNameError\u001b[0m: name 'os' is not defined"
     ]
    }
   ],
   "source": [
    "targs = TrainingArguments(\n",
    "    output_dir = os.path.join(path, 'finetuning/final-llama-on-pythia'),\n",
    "    evaluation_strategy = 'steps',\n",
    "    eval_steps=250,\n",
    "    logging_strategy = 'steps',\n",
    "    logging_steps=250,\n",
    "    # save_strategy='epoch',\n",
    "    learning_rate=lr,\n",
    "    per_device_train_batch_size=batch_size,\n",
    "    per_device_eval_batch_size=32,\n",
    "    num_train_epochs=1,\n",
    "    save_total_limit=10,\n",
    "    load_best_model_at_end=True,\n",
    "    metric_for_best_model='val_loss',\n",
    "    weight_decay=0.01,\n",
    "    report_to='none',\n",
    "    seed=seed,\n",
    "    eval_accumulation_steps=1,\n",
    "    fp16=True,\n",
    ")\n",
    "\n",
    "trainer = Trainer(\n",
    "    model=model,\n",
    "    tokenizer=tokenizer,\n",
    "    args=targs,\n",
    "    train_dataset=dataset['train'],\n",
    "    eval_dataset=dataset['val'], \n",
    "    compute_metrics=compute_metrics,\n",
    ")"
   ]
  },
  {
   "cell_type": "code",
   "execution_count": 7,
   "metadata": {
    "execution": {
     "iopub.execute_input": "2024-01-22T04:57:05.660877Z",
     "iopub.status.busy": "2024-01-22T04:57:05.660681Z",
     "iopub.status.idle": "2024-01-22T04:57:05.672190Z",
     "shell.execute_reply": "2024-01-22T04:57:05.671815Z"
    }
   },
   "outputs": [
    {
     "ename": "NameError",
     "evalue": "name 'trainer' is not defined",
     "output_type": "error",
     "traceback": [
      "\u001b[0;31m---------------------------------------------------------------------------\u001b[0m",
      "\u001b[0;31mNameError\u001b[0m                                 Traceback (most recent call last)",
      "Cell \u001b[0;32mIn[7], line 1\u001b[0m\n\u001b[0;32m----> 1\u001b[0m trainer\u001b[38;5;241m.\u001b[39mtrain()\n",
      "\u001b[0;31mNameError\u001b[0m: name 'trainer' is not defined"
     ]
    }
   ],
   "source": [
    "trainer.train()"
   ]
  },
  {
   "cell_type": "code",
   "execution_count": 8,
   "metadata": {
    "execution": {
     "iopub.execute_input": "2024-01-22T04:57:05.674087Z",
     "iopub.status.busy": "2024-01-22T04:57:05.673844Z",
     "iopub.status.idle": "2024-01-22T04:57:05.685216Z",
     "shell.execute_reply": "2024-01-22T04:57:05.684844Z"
    }
   },
   "outputs": [
    {
     "ename": "NameError",
     "evalue": "name 'model' is not defined",
     "output_type": "error",
     "traceback": [
      "\u001b[0;31m---------------------------------------------------------------------------\u001b[0m",
      "\u001b[0;31mNameError\u001b[0m                                 Traceback (most recent call last)",
      "Cell \u001b[0;32mIn[8], line 1\u001b[0m\n\u001b[0;32m----> 1\u001b[0m model\u001b[38;5;241m.\u001b[39msave_pretrained(os\u001b[38;5;241m.\u001b[39mpath\u001b[38;5;241m.\u001b[39mjoin(path, \u001b[38;5;124m'\u001b[39m\u001b[38;5;124mfinetuning/final/llama-2-7b-on-pythia-12b-dataset\u001b[39m\u001b[38;5;124m'\u001b[39m))\n",
      "\u001b[0;31mNameError\u001b[0m: name 'model' is not defined"
     ]
    }
   ],
   "source": [
    "model.save_pretrained(os.path.join(path, 'finetuning/final/llama-2-7b-on-pythia-12b-dataset'))"
   ]
  },
  {
   "cell_type": "markdown",
   "metadata": {},
   "source": [
    "### Evaluation"
   ]
  },
  {
   "cell_type": "code",
   "execution_count": 9,
   "metadata": {
    "execution": {
     "iopub.execute_input": "2024-01-22T04:57:05.687092Z",
     "iopub.status.busy": "2024-01-22T04:57:05.686899Z",
     "iopub.status.idle": "2024-01-22T04:57:05.705884Z",
     "shell.execute_reply": "2024-01-22T04:57:05.705488Z"
    }
   },
   "outputs": [
    {
     "ename": "ModuleNotFoundError",
     "evalue": "No module named 'evaluate'",
     "output_type": "error",
     "traceback": [
      "\u001b[0;31m---------------------------------------------------------------------------\u001b[0m",
      "\u001b[0;31mModuleNotFoundError\u001b[0m                       Traceback (most recent call last)",
      "Cell \u001b[0;32mIn[9], line 2\u001b[0m\n\u001b[1;32m      1\u001b[0m \u001b[38;5;28;01mfrom\u001b[39;00m \u001b[38;5;21;01mtransformers\u001b[39;00m \u001b[38;5;28;01mimport\u001b[39;00m AutoTokenizer, AutoModelForSequenceClassification, Trainer, TrainingArguments, set_seed\n\u001b[0;32m----> 2\u001b[0m \u001b[38;5;28;01mimport\u001b[39;00m \u001b[38;5;21;01mevaluate\u001b[39;00m\n\u001b[1;32m      3\u001b[0m \u001b[38;5;28;01mimport\u001b[39;00m \u001b[38;5;21;01mtorch\u001b[39;00m\n\u001b[1;32m      4\u001b[0m \u001b[38;5;28;01mimport\u001b[39;00m \u001b[38;5;21;01mos\u001b[39;00m\n",
      "\u001b[0;31mModuleNotFoundError\u001b[0m: No module named 'evaluate'"
     ]
    }
   ],
   "source": [
    "from transformers import AutoTokenizer, AutoModelForSequenceClassification, Trainer, TrainingArguments, set_seed\n",
    "import evaluate\n",
    "import torch\n",
    "import os\n",
    "import numpy as np\n",
    "from tqdm import tqdm\n",
    "from datasets import load_from_disk, DatasetDict, Dataset\n",
    "from sklearn.metrics import accuracy_score, precision_recall_fscore_support, roc_auc_score\n",
    "import gc\n",
    "import sys\n",
    "sys.path.append('..')\n",
    "from utils import tpr_at_fpr\n",
    "\n",
    "seed = 0\n",
    "np.random.seed(seed)\n",
    "torch.manual_seed(seed)\n",
    "set_seed(seed)\n",
    "\n",
    "os.environ[\"CUDA_VISIBLE_DEVICES\"]=\"0\"\n",
    "torch.cuda.set_device(0)\n",
    "\n",
    "model_name = 'EleutherAI/pythia-160m'\n",
    "tokenizer = AutoTokenizer.from_pretrained(model_name)\n",
    "tokenizer.pad_token = tokenizer.eos_token\n",
    "\n",
    "path = '../../../gld/train-data-probes/data/12b'\n",
    "dataset = load_from_disk(os.path.join(path, 'split_hf_token_dataset_vary_len_v2'))\n",
    "generalization_datasets = load_from_disk(os.path.join(path, 'generalization_datasets_v2'))\n",
    "id2label = {0: 'neg', 1: 'pos'}\n",
    "label2id = {'neg': 0, 'pos': 1}\n",
    "model = AutoModelForSequenceClassification.from_pretrained(os.path.join(path, 'finetuning/160m/model'), num_labels=2, id2label=id2label, label2id=label2id)\n",
    "model.to('cuda')\n",
    "model.config.pad_token_id = model.config.eos_token_id"
   ]
  },
  {
   "cell_type": "code",
   "execution_count": 10,
   "metadata": {
    "execution": {
     "iopub.execute_input": "2024-01-22T04:57:05.707620Z",
     "iopub.status.busy": "2024-01-22T04:57:05.707428Z",
     "iopub.status.idle": "2024-01-22T04:57:05.725739Z",
     "shell.execute_reply": "2024-01-22T04:57:05.725328Z"
    }
   },
   "outputs": [
    {
     "ename": "NameError",
     "evalue": "name 'dataset' is not defined",
     "output_type": "error",
     "traceback": [
      "\u001b[0;31m---------------------------------------------------------------------------\u001b[0m",
      "\u001b[0;31mNameError\u001b[0m                                 Traceback (most recent call last)",
      "Cell \u001b[0;32mIn[10], line 3\u001b[0m\n\u001b[1;32m      1\u001b[0m \u001b[38;5;66;03m# pad datasets\u001b[39;00m\n\u001b[0;32m----> 3\u001b[0m max_train_len \u001b[38;5;241m=\u001b[39m \u001b[38;5;28mmax\u001b[39m([\u001b[38;5;28mlen\u001b[39m(x[\u001b[38;5;124m'\u001b[39m\u001b[38;5;124minput_ids\u001b[39m\u001b[38;5;124m'\u001b[39m]) \u001b[38;5;28;01mfor\u001b[39;00m x \u001b[38;5;129;01min\u001b[39;00m dataset[\u001b[38;5;124m'\u001b[39m\u001b[38;5;124mtrain\u001b[39m\u001b[38;5;124m'\u001b[39m]])\n\u001b[1;32m      4\u001b[0m max_val_len \u001b[38;5;241m=\u001b[39m \u001b[38;5;28mmax\u001b[39m([\u001b[38;5;28mlen\u001b[39m(x[\u001b[38;5;124m'\u001b[39m\u001b[38;5;124minput_ids\u001b[39m\u001b[38;5;124m'\u001b[39m]) \u001b[38;5;28;01mfor\u001b[39;00m x \u001b[38;5;129;01min\u001b[39;00m dataset[\u001b[38;5;124m'\u001b[39m\u001b[38;5;124mval\u001b[39m\u001b[38;5;124m'\u001b[39m]])\n\u001b[1;32m      5\u001b[0m max_test_len \u001b[38;5;241m=\u001b[39m \u001b[38;5;28mmax\u001b[39m([\u001b[38;5;28mlen\u001b[39m(x[\u001b[38;5;124m'\u001b[39m\u001b[38;5;124minput_ids\u001b[39m\u001b[38;5;124m'\u001b[39m]) \u001b[38;5;28;01mfor\u001b[39;00m x \u001b[38;5;129;01min\u001b[39;00m dataset[\u001b[38;5;124m'\u001b[39m\u001b[38;5;124mtest\u001b[39m\u001b[38;5;124m'\u001b[39m]])\n",
      "\u001b[0;31mNameError\u001b[0m: name 'dataset' is not defined"
     ]
    }
   ],
   "source": [
    "# pad datasets\n",
    "\n",
    "max_train_len = max([len(x['input_ids']) for x in dataset['train']])\n",
    "max_val_len = max([len(x['input_ids']) for x in dataset['val']])\n",
    "max_test_len = max([len(x['input_ids']) for x in dataset['test']])\n",
    "\n",
    "def preprocess(examples, max_len): \n",
    "    curr_len = len(examples['input_ids'])\n",
    "    if curr_len < max_train_len:\n",
    "        examples['input_ids'] = examples['input_ids'] + [tokenizer.pad_token_id]*(max_len-curr_len)\n",
    "    return examples\n",
    "\n",
    "dataset['train'] = dataset['train'].map(lambda x: preprocess(x, max_train_len))\n",
    "dataset['val'] = dataset['val'].map(lambda x: preprocess(x, max_val_len))\n",
    "dataset['test'] = dataset['test'].map(lambda x: preprocess(x, max_test_len))\n",
    "\n",
    "dataset"
   ]
  },
  {
   "cell_type": "code",
   "execution_count": 11,
   "metadata": {
    "execution": {
     "iopub.execute_input": "2024-01-22T04:57:05.727499Z",
     "iopub.status.busy": "2024-01-22T04:57:05.727309Z",
     "iopub.status.idle": "2024-01-22T04:57:05.742994Z",
     "shell.execute_reply": "2024-01-22T04:57:05.742593Z"
    }
   },
   "outputs": [
    {
     "ename": "NameError",
     "evalue": "name 'generalization_datasets' is not defined",
     "output_type": "error",
     "traceback": [
      "\u001b[0;31m---------------------------------------------------------------------------\u001b[0m",
      "\u001b[0;31mNameError\u001b[0m                                 Traceback (most recent call last)",
      "Cell \u001b[0;32mIn[11], line 1\u001b[0m\n\u001b[0;32m----> 1\u001b[0m generalization_datasets[\u001b[38;5;124m'\u001b[39m\u001b[38;5;124mfuzzy_pos\u001b[39m\u001b[38;5;124m'\u001b[39m] \u001b[38;5;241m=\u001b[39m generalization_datasets[\u001b[38;5;124m'\u001b[39m\u001b[38;5;124mfuzzy_pos\u001b[39m\u001b[38;5;124m'\u001b[39m]\u001b[38;5;241m.\u001b[39mmap(\u001b[38;5;28;01mlambda\u001b[39;00m x: preprocess(x, max_test_len))\n\u001b[1;32m      3\u001b[0m \u001b[38;5;66;03m# had to do it manually for prefix for some reason\u001b[39;00m\n\u001b[1;32m      4\u001b[0m prefix_input_ids \u001b[38;5;241m=\u001b[39m generalization_datasets[\u001b[38;5;124m'\u001b[39m\u001b[38;5;124mprefix\u001b[39m\u001b[38;5;124m'\u001b[39m][\u001b[38;5;124m'\u001b[39m\u001b[38;5;124minput_ids\u001b[39m\u001b[38;5;124m'\u001b[39m]\n",
      "\u001b[0;31mNameError\u001b[0m: name 'generalization_datasets' is not defined"
     ]
    }
   ],
   "source": [
    "generalization_datasets['fuzzy_pos'] = generalization_datasets['fuzzy_pos'].map(lambda x: preprocess(x, max_test_len))\n",
    "\n",
    "# had to do it manually for prefix for some reason\n",
    "prefix_input_ids = generalization_datasets['prefix']['input_ids']\n",
    "max_len = 319\n",
    "for i in range(len(prefix_input_ids)):\n",
    "    curr_len = len(prefix_input_ids[i])\n",
    "    if curr_len < max_len:\n",
    "        prefix_input_ids[i] = prefix_input_ids[i] + [tokenizer.pad_token_id]*(max_len-curr_len)\n",
    "\n",
    "generalization_datasets['prefix'] = Dataset.from_dict({'input_ids': prefix_input_ids, 'labels': generalization_datasets['prefix']['labels']})"
   ]
  },
  {
   "cell_type": "code",
   "execution_count": 12,
   "metadata": {
    "execution": {
     "iopub.execute_input": "2024-01-22T04:57:05.744684Z",
     "iopub.status.busy": "2024-01-22T04:57:05.744492Z",
     "iopub.status.idle": "2024-01-22T04:57:05.760765Z",
     "shell.execute_reply": "2024-01-22T04:57:05.760391Z"
    }
   },
   "outputs": [
    {
     "ename": "NameError",
     "evalue": "name 'dataset' is not defined",
     "output_type": "error",
     "traceback": [
      "\u001b[0;31m---------------------------------------------------------------------------\u001b[0m",
      "\u001b[0;31mNameError\u001b[0m                                 Traceback (most recent call last)",
      "Cell \u001b[0;32mIn[12], line 1\u001b[0m\n\u001b[0;32m----> 1\u001b[0m train_lens \u001b[38;5;241m=\u001b[39m [\u001b[38;5;28mlen\u001b[39m(x[\u001b[38;5;124m'\u001b[39m\u001b[38;5;124minput_ids\u001b[39m\u001b[38;5;124m'\u001b[39m]) \u001b[38;5;28;01mfor\u001b[39;00m x \u001b[38;5;129;01min\u001b[39;00m dataset[\u001b[38;5;124m'\u001b[39m\u001b[38;5;124mtrain\u001b[39m\u001b[38;5;124m'\u001b[39m]]\n\u001b[1;32m      2\u001b[0m val_lens \u001b[38;5;241m=\u001b[39m [\u001b[38;5;28mlen\u001b[39m(x[\u001b[38;5;124m'\u001b[39m\u001b[38;5;124minput_ids\u001b[39m\u001b[38;5;124m'\u001b[39m]) \u001b[38;5;28;01mfor\u001b[39;00m x \u001b[38;5;129;01min\u001b[39;00m dataset[\u001b[38;5;124m'\u001b[39m\u001b[38;5;124mval\u001b[39m\u001b[38;5;124m'\u001b[39m]]\n\u001b[1;32m      3\u001b[0m test_lens \u001b[38;5;241m=\u001b[39m [\u001b[38;5;28mlen\u001b[39m(x[\u001b[38;5;124m'\u001b[39m\u001b[38;5;124minput_ids\u001b[39m\u001b[38;5;124m'\u001b[39m]) \u001b[38;5;28;01mfor\u001b[39;00m x \u001b[38;5;129;01min\u001b[39;00m dataset[\u001b[38;5;124m'\u001b[39m\u001b[38;5;124mtest\u001b[39m\u001b[38;5;124m'\u001b[39m]]\n",
      "\u001b[0;31mNameError\u001b[0m: name 'dataset' is not defined"
     ]
    }
   ],
   "source": [
    "train_lens = [len(x['input_ids']) for x in dataset['train']]\n",
    "val_lens = [len(x['input_ids']) for x in dataset['val']]\n",
    "test_lens = [len(x['input_ids']) for x in dataset['test']]\n",
    "\n",
    "print(set(train_lens), set(val_lens), set(test_lens))\n",
    "assert set(train_lens) == set(val_lens) == set(test_lens)\n",
    "\n",
    "for gen_dataset in generalization_datasets.values(): \n",
    "    gen_lens = [len(x['input_ids']) for x in gen_dataset]\n",
    "    print(set(gen_lens))"
   ]
  },
  {
   "cell_type": "code",
   "execution_count": 13,
   "metadata": {
    "execution": {
     "iopub.execute_input": "2024-01-22T04:57:05.762660Z",
     "iopub.status.busy": "2024-01-22T04:57:05.762453Z",
     "iopub.status.idle": "2024-01-22T04:57:05.783377Z",
     "shell.execute_reply": "2024-01-22T04:57:05.783000Z"
    }
   },
   "outputs": [
    {
     "ename": "NameError",
     "evalue": "name 'torch' is not defined",
     "output_type": "error",
     "traceback": [
      "\u001b[0;31m---------------------------------------------------------------------------\u001b[0m",
      "\u001b[0;31mNameError\u001b[0m                                 Traceback (most recent call last)",
      "Cell \u001b[0;32mIn[13], line 1\u001b[0m\n\u001b[0;32m----> 1\u001b[0m loss_fn \u001b[38;5;241m=\u001b[39m torch\u001b[38;5;241m.\u001b[39mnn\u001b[38;5;241m.\u001b[39mCrossEntropyLoss()\n\u001b[1;32m      2\u001b[0m \u001b[38;5;66;03m# data = {'val_loss': [], 'accuracy': [], 'precision': [], 'recall': [], 'f1': [], 'AUC': [], 'tpr_01': [], 'tpr_001': [], 'tpr_0001': []}\u001b[39;00m\n\u001b[1;32m      4\u001b[0m \u001b[38;5;28;01mdef\u001b[39;00m \u001b[38;5;21mcompute_metrics\u001b[39m(eval_pred, single_class\u001b[38;5;241m=\u001b[39m\u001b[38;5;28;01mFalse\u001b[39;00m): \n",
      "\u001b[0;31mNameError\u001b[0m: name 'torch' is not defined"
     ]
    }
   ],
   "source": [
    "loss_fn = torch.nn.CrossEntropyLoss()\n",
    "# data = {'val_loss': [], 'accuracy': [], 'precision': [], 'recall': [], 'f1': [], 'AUC': [], 'tpr_01': [], 'tpr_001': [], 'tpr_0001': []}\n",
    "\n",
    "def compute_metrics(eval_pred, single_class=False): \n",
    "    \n",
    "    logits, labels = eval_pred\n",
    "    logits = np.array(logits[0]) # (n_examples, n_classes)\n",
    "    labels = np.array(labels) # (n_examples)\n",
    "\n",
    "    preds = np.argmax(logits, axis=1)\n",
    "    normalized_prob = np.exp(logits) / np.exp(logits).sum(axis=1, keepdims=True)\n",
    "    positive_prob = normalized_prob[:, 1]\n",
    "    acc = accuracy_score(labels, preds)\n",
    "    precision, recall, f1, _ = precision_recall_fscore_support(labels, preds, average='binary')\n",
    "    if not single_class: \n",
    "        auc = roc_auc_score(labels, positive_prob)\n",
    "    \n",
    "    loss = loss_fn(torch.tensor(logits), torch.tensor(labels))\n",
    "\n",
    "    # calculate tpr at fpr = 0.01, 0.001, and 0.0001\n",
    "    tpr_01 = tpr_at_fpr(positive_prob, labels, 0.01)\n",
    "    tpr_001 = tpr_at_fpr(positive_prob, labels, 0.001)\n",
    "    tpr_0001 = tpr_at_fpr(positive_prob, labels, 0.0001)\n",
    "\n",
    "    if single_class: \n",
    "        return {'val_loss': loss.item(), 'accuracy': acc, 'precision': precision, 'recall': recall, 'f1': f1, 'tpr_01': tpr_01, 'tpr_001': tpr_001, 'tpr_0001': tpr_0001}\n",
    "    return {'val_loss': loss.item(), 'accuracy': acc, 'precision': precision, 'recall': recall, 'f1': f1, 'AUC': auc, 'tpr_01': tpr_01, 'tpr_001': tpr_001, 'tpr_0001': tpr_0001}"
   ]
  },
  {
   "cell_type": "code",
   "execution_count": 14,
   "metadata": {
    "execution": {
     "iopub.execute_input": "2024-01-22T04:57:05.785222Z",
     "iopub.status.busy": "2024-01-22T04:57:05.785029Z",
     "iopub.status.idle": "2024-01-22T04:57:05.802093Z",
     "shell.execute_reply": "2024-01-22T04:57:05.801685Z"
    }
   },
   "outputs": [
    {
     "ename": "NameError",
     "evalue": "name 'os' is not defined",
     "output_type": "error",
     "traceback": [
      "\u001b[0;31m---------------------------------------------------------------------------\u001b[0m",
      "\u001b[0;31mNameError\u001b[0m                                 Traceback (most recent call last)",
      "Cell \u001b[0;32mIn[14], line 2\u001b[0m\n\u001b[1;32m      1\u001b[0m targs \u001b[38;5;241m=\u001b[39m TrainingArguments(\n\u001b[0;32m----> 2\u001b[0m             output_dir \u001b[38;5;241m=\u001b[39m os\u001b[38;5;241m.\u001b[39mpath\u001b[38;5;241m.\u001b[39mjoin(path, \u001b[38;5;124m'\u001b[39m\u001b[38;5;124mfinetuning/final\u001b[39m\u001b[38;5;124m'\u001b[39m),\n\u001b[1;32m      3\u001b[0m             evaluation_strategy \u001b[38;5;241m=\u001b[39m \u001b[38;5;124m'\u001b[39m\u001b[38;5;124msteps\u001b[39m\u001b[38;5;124m'\u001b[39m,\n\u001b[1;32m      4\u001b[0m             eval_steps\u001b[38;5;241m=\u001b[39m\u001b[38;5;241m1\u001b[39m,\n\u001b[1;32m      5\u001b[0m             logging_strategy \u001b[38;5;241m=\u001b[39m \u001b[38;5;124m'\u001b[39m\u001b[38;5;124msteps\u001b[39m\u001b[38;5;124m'\u001b[39m,\n\u001b[1;32m      6\u001b[0m             logging_steps\u001b[38;5;241m=\u001b[39m\u001b[38;5;241m1\u001b[39m,\n\u001b[1;32m      7\u001b[0m             save_strategy\u001b[38;5;241m=\u001b[39m\u001b[38;5;124m'\u001b[39m\u001b[38;5;124mepoch\u001b[39m\u001b[38;5;124m'\u001b[39m,\n\u001b[1;32m      8\u001b[0m             learning_rate\u001b[38;5;241m=\u001b[39m\u001b[38;5;241m2e-5\u001b[39m,\n\u001b[1;32m      9\u001b[0m             per_device_train_batch_size\u001b[38;5;241m=\u001b[39m\u001b[38;5;241m32\u001b[39m,\n\u001b[1;32m     10\u001b[0m             per_device_eval_batch_size\u001b[38;5;241m=\u001b[39m\u001b[38;5;241m64\u001b[39m,\n\u001b[1;32m     11\u001b[0m             num_train_epochs\u001b[38;5;241m=\u001b[39m\u001b[38;5;241m1\u001b[39m,\n\u001b[1;32m     12\u001b[0m             save_total_limit\u001b[38;5;241m=\u001b[39m\u001b[38;5;241m10\u001b[39m,\n\u001b[1;32m     13\u001b[0m             load_best_model_at_end\u001b[38;5;241m=\u001b[39m\u001b[38;5;28;01mTrue\u001b[39;00m,\n\u001b[1;32m     14\u001b[0m             metric_for_best_model\u001b[38;5;241m=\u001b[39m\u001b[38;5;124m'\u001b[39m\u001b[38;5;124mval_loss\u001b[39m\u001b[38;5;124m'\u001b[39m,\n\u001b[1;32m     15\u001b[0m             weight_decay\u001b[38;5;241m=\u001b[39m\u001b[38;5;241m0.01\u001b[39m,\n\u001b[1;32m     16\u001b[0m             report_to\u001b[38;5;241m=\u001b[39m\u001b[38;5;124m'\u001b[39m\u001b[38;5;124mnone\u001b[39m\u001b[38;5;124m'\u001b[39m,\n\u001b[1;32m     17\u001b[0m             seed\u001b[38;5;241m=\u001b[39mseed,\n\u001b[1;32m     18\u001b[0m             eval_accumulation_steps\u001b[38;5;241m=\u001b[39m\u001b[38;5;241m1\u001b[39m,\n\u001b[1;32m     19\u001b[0m         )\n\u001b[1;32m     21\u001b[0m trainer \u001b[38;5;241m=\u001b[39m Trainer(\n\u001b[1;32m     22\u001b[0m             model\u001b[38;5;241m=\u001b[39mmodel,\n\u001b[1;32m     23\u001b[0m             tokenizer\u001b[38;5;241m=\u001b[39mtokenizer,\n\u001b[0;32m   (...)\u001b[0m\n\u001b[1;32m     27\u001b[0m             compute_metrics\u001b[38;5;241m=\u001b[39mcompute_metrics,\n\u001b[1;32m     28\u001b[0m         )\n",
      "\u001b[0;31mNameError\u001b[0m: name 'os' is not defined"
     ]
    }
   ],
   "source": [
    "targs = TrainingArguments(\n",
    "            output_dir = os.path.join(path, 'finetuning/final'),\n",
    "            evaluation_strategy = 'steps',\n",
    "            eval_steps=1,\n",
    "            logging_strategy = 'steps',\n",
    "            logging_steps=1,\n",
    "            save_strategy='epoch',\n",
    "            learning_rate=2e-5,\n",
    "            per_device_train_batch_size=32,\n",
    "            per_device_eval_batch_size=64,\n",
    "            num_train_epochs=1,\n",
    "            save_total_limit=10,\n",
    "            load_best_model_at_end=True,\n",
    "            metric_for_best_model='val_loss',\n",
    "            weight_decay=0.01,\n",
    "            report_to='none',\n",
    "            seed=seed,\n",
    "            eval_accumulation_steps=1,\n",
    "        )\n",
    "\n",
    "trainer = Trainer(\n",
    "            model=model,\n",
    "            tokenizer=tokenizer,\n",
    "            args=targs,\n",
    "            train_dataset=dataset['train'],\n",
    "            eval_dataset=dataset['test'],\n",
    "            compute_metrics=compute_metrics,\n",
    "        )"
   ]
  },
  {
   "cell_type": "code",
   "execution_count": 15,
   "metadata": {
    "execution": {
     "iopub.execute_input": "2024-01-22T04:57:05.803803Z",
     "iopub.status.busy": "2024-01-22T04:57:05.803610Z",
     "iopub.status.idle": "2024-01-22T04:57:05.814521Z",
     "shell.execute_reply": "2024-01-22T04:57:05.814139Z"
    }
   },
   "outputs": [
    {
     "ename": "NameError",
     "evalue": "name 'trainer' is not defined",
     "output_type": "error",
     "traceback": [
      "\u001b[0;31m---------------------------------------------------------------------------\u001b[0m",
      "\u001b[0;31mNameError\u001b[0m                                 Traceback (most recent call last)",
      "Cell \u001b[0;32mIn[15], line 1\u001b[0m\n\u001b[0;32m----> 1\u001b[0m trainer\u001b[38;5;241m.\u001b[39mevaluate()\n",
      "\u001b[0;31mNameError\u001b[0m: name 'trainer' is not defined"
     ]
    }
   ],
   "source": [
    "trainer.evaluate()"
   ]
  },
  {
   "cell_type": "code",
   "execution_count": 16,
   "metadata": {
    "execution": {
     "iopub.execute_input": "2024-01-22T04:57:05.816207Z",
     "iopub.status.busy": "2024-01-22T04:57:05.816017Z",
     "iopub.status.idle": "2024-01-22T04:57:05.829525Z",
     "shell.execute_reply": "2024-01-22T04:57:05.829115Z"
    }
   },
   "outputs": [
    {
     "ename": "NameError",
     "evalue": "name 'model' is not defined",
     "output_type": "error",
     "traceback": [
      "\u001b[0;31m---------------------------------------------------------------------------\u001b[0m",
      "\u001b[0;31mNameError\u001b[0m                                 Traceback (most recent call last)",
      "Cell \u001b[0;32mIn[16], line 2\u001b[0m\n\u001b[1;32m      1\u001b[0m trainer \u001b[38;5;241m=\u001b[39m Trainer(\n\u001b[0;32m----> 2\u001b[0m     model\u001b[38;5;241m=\u001b[39mmodel,\n\u001b[1;32m      3\u001b[0m     tokenizer\u001b[38;5;241m=\u001b[39mtokenizer,\n\u001b[1;32m      4\u001b[0m     args\u001b[38;5;241m=\u001b[39mtargs,\n\u001b[1;32m      5\u001b[0m     train_dataset\u001b[38;5;241m=\u001b[39mdataset[\u001b[38;5;124m'\u001b[39m\u001b[38;5;124mtrain\u001b[39m\u001b[38;5;124m'\u001b[39m],\n\u001b[1;32m      6\u001b[0m     eval_dataset\u001b[38;5;241m=\u001b[39mgeneralization_datasets[\u001b[38;5;124m'\u001b[39m\u001b[38;5;124mfuzzy_pos\u001b[39m\u001b[38;5;124m'\u001b[39m],\n\u001b[1;32m      7\u001b[0m     compute_metrics\u001b[38;5;241m=\u001b[39m\u001b[38;5;28;01mlambda\u001b[39;00m x: compute_metrics(x, single_class\u001b[38;5;241m=\u001b[39m\u001b[38;5;28;01mTrue\u001b[39;00m),\n\u001b[1;32m      8\u001b[0m )\n\u001b[1;32m     10\u001b[0m trainer\u001b[38;5;241m.\u001b[39mevaluate()\n",
      "\u001b[0;31mNameError\u001b[0m: name 'model' is not defined"
     ]
    }
   ],
   "source": [
    "trainer = Trainer(\n",
    "    model=model,\n",
    "    tokenizer=tokenizer,\n",
    "    args=targs,\n",
    "    train_dataset=dataset['train'],\n",
    "    eval_dataset=generalization_datasets['fuzzy_pos'],\n",
    "    compute_metrics=lambda x: compute_metrics(x, single_class=True),\n",
    ")\n",
    "\n",
    "trainer.evaluate()"
   ]
  },
  {
   "cell_type": "code",
   "execution_count": 17,
   "metadata": {
    "execution": {
     "iopub.execute_input": "2024-01-22T04:57:05.831303Z",
     "iopub.status.busy": "2024-01-22T04:57:05.831111Z",
     "iopub.status.idle": "2024-01-22T04:57:05.844662Z",
     "shell.execute_reply": "2024-01-22T04:57:05.844291Z"
    }
   },
   "outputs": [
    {
     "ename": "NameError",
     "evalue": "name 'model' is not defined",
     "output_type": "error",
     "traceback": [
      "\u001b[0;31m---------------------------------------------------------------------------\u001b[0m",
      "\u001b[0;31mNameError\u001b[0m                                 Traceback (most recent call last)",
      "Cell \u001b[0;32mIn[17], line 2\u001b[0m\n\u001b[1;32m      1\u001b[0m trainer \u001b[38;5;241m=\u001b[39m Trainer(\n\u001b[0;32m----> 2\u001b[0m     model\u001b[38;5;241m=\u001b[39mmodel,\n\u001b[1;32m      3\u001b[0m     tokenizer\u001b[38;5;241m=\u001b[39mtokenizer,\n\u001b[1;32m      4\u001b[0m     args\u001b[38;5;241m=\u001b[39mtargs,\n\u001b[1;32m      5\u001b[0m     train_dataset\u001b[38;5;241m=\u001b[39mdataset[\u001b[38;5;124m'\u001b[39m\u001b[38;5;124mtrain\u001b[39m\u001b[38;5;124m'\u001b[39m],\n\u001b[1;32m      6\u001b[0m     eval_dataset\u001b[38;5;241m=\u001b[39mgeneralization_datasets[\u001b[38;5;124m'\u001b[39m\u001b[38;5;124mprefix\u001b[39m\u001b[38;5;124m'\u001b[39m],\n\u001b[1;32m      7\u001b[0m     compute_metrics\u001b[38;5;241m=\u001b[39mcompute_metrics,\n\u001b[1;32m      8\u001b[0m )\n\u001b[1;32m     10\u001b[0m trainer\u001b[38;5;241m.\u001b[39mevaluate()\n",
      "\u001b[0;31mNameError\u001b[0m: name 'model' is not defined"
     ]
    }
   ],
   "source": [
    "trainer = Trainer(\n",
    "    model=model,\n",
    "    tokenizer=tokenizer,\n",
    "    args=targs,\n",
    "    train_dataset=dataset['train'],\n",
    "    eval_dataset=generalization_datasets['prefix'],\n",
    "    compute_metrics=compute_metrics,\n",
    ")\n",
    "\n",
    "trainer.evaluate()"
   ]
  },
  {
   "cell_type": "markdown",
   "metadata": {},
   "source": [
    "## Sample Efficiency"
   ]
  },
  {
   "cell_type": "markdown",
   "metadata": {},
   "source": [
    "### Training"
   ]
  },
  {
   "cell_type": "code",
   "execution_count": 18,
   "metadata": {
    "execution": {
     "iopub.execute_input": "2024-01-22T04:57:05.846683Z",
     "iopub.status.busy": "2024-01-22T04:57:05.846479Z",
     "iopub.status.idle": "2024-01-22T04:57:05.870443Z",
     "shell.execute_reply": "2024-01-22T04:57:05.870035Z"
    }
   },
   "outputs": [
    {
     "ename": "NameError",
     "evalue": "name 'torch' is not defined",
     "output_type": "error",
     "traceback": [
      "\u001b[0;31m---------------------------------------------------------------------------\u001b[0m",
      "\u001b[0;31mNameError\u001b[0m                                 Traceback (most recent call last)",
      "Cell \u001b[0;32mIn[18], line 1\u001b[0m\n\u001b[0;32m----> 1\u001b[0m loss_fn \u001b[38;5;241m=\u001b[39m torch\u001b[38;5;241m.\u001b[39mnn\u001b[38;5;241m.\u001b[39mCrossEntropyLoss()\n\u001b[1;32m      2\u001b[0m data \u001b[38;5;241m=\u001b[39m {\u001b[38;5;124m'\u001b[39m\u001b[38;5;124mval_loss\u001b[39m\u001b[38;5;124m'\u001b[39m: [], \u001b[38;5;124m'\u001b[39m\u001b[38;5;124maccuracy\u001b[39m\u001b[38;5;124m'\u001b[39m: [], \u001b[38;5;124m'\u001b[39m\u001b[38;5;124mprecision\u001b[39m\u001b[38;5;124m'\u001b[39m: [], \u001b[38;5;124m'\u001b[39m\u001b[38;5;124mrecall\u001b[39m\u001b[38;5;124m'\u001b[39m: [], \u001b[38;5;124m'\u001b[39m\u001b[38;5;124mf1\u001b[39m\u001b[38;5;124m'\u001b[39m: [], \u001b[38;5;124m'\u001b[39m\u001b[38;5;124mAUC\u001b[39m\u001b[38;5;124m'\u001b[39m: [], \u001b[38;5;124m'\u001b[39m\u001b[38;5;124mtpr_01\u001b[39m\u001b[38;5;124m'\u001b[39m: [], \u001b[38;5;124m'\u001b[39m\u001b[38;5;124mtpr_001\u001b[39m\u001b[38;5;124m'\u001b[39m: [], \u001b[38;5;124m'\u001b[39m\u001b[38;5;124mtpr_0001\u001b[39m\u001b[38;5;124m'\u001b[39m: []}\n\u001b[1;32m      3\u001b[0m \u001b[38;5;28;01mdef\u001b[39;00m \u001b[38;5;21mcompute_metrics\u001b[39m(eval_pred):\n",
      "\u001b[0;31mNameError\u001b[0m: name 'torch' is not defined"
     ]
    }
   ],
   "source": [
    "loss_fn = torch.nn.CrossEntropyLoss()\n",
    "data = {'val_loss': [], 'accuracy': [], 'precision': [], 'recall': [], 'f1': [], 'AUC': [], 'tpr_01': [], 'tpr_001': [], 'tpr_0001': []}\n",
    "def compute_metrics(eval_pred):\n",
    "    \n",
    "    logits, labels = eval_pred\n",
    "    logits = np.array(logits[0]) # (n_examples, n_classes)\n",
    "    labels = np.array(labels) # (n_examples)\n",
    "\n",
    "    preds = np.argmax(logits, axis=1)\n",
    "    normalized_prob = np.exp(logits) / np.exp(logits).sum(axis=1, keepdims=True)\n",
    "    positive_prob = normalized_prob[:, 1]\n",
    "    acc = accuracy_score(labels, preds)\n",
    "    precision, recall, f1, _ = precision_recall_fscore_support(labels, preds, average='binary')\n",
    "    auc = roc_auc_score(labels, positive_prob)\n",
    "    \n",
    "    loss = loss_fn(torch.tensor(logits), torch.tensor(labels))\n",
    "\n",
    "    # calculate tpr at fpr = 0.01, 0.001, and 0.0001\n",
    "    tpr_01 = tpr_at_fpr(positive_prob, labels, 0.01)\n",
    "    tpr_001 = tpr_at_fpr(positive_prob, labels, 0.001)\n",
    "    tpr_0001 = tpr_at_fpr(positive_prob, labels, 0.0001)\n",
    "\n",
    "    # log\n",
    "    data['val_loss'].append(loss.item())\n",
    "    data['accuracy'].append(acc)\n",
    "    data['precision'].append(precision)\n",
    "    data['recall'].append(recall)\n",
    "    data['f1'].append(f1)\n",
    "    data['AUC'].append(auc)\n",
    "    data['tpr_01'].append(tpr_01)\n",
    "    data['tpr_001'].append(tpr_001)\n",
    "    data['tpr_0001'].append(tpr_0001)\n",
    "\n",
    "    return {'val_loss': loss.item(), 'accuracy': acc, 'precision': precision, 'recall': recall, 'f1': f1, 'AUC': auc, 'tpr_01': tpr_01, 'tpr_001': tpr_001, 'tpr_0001': tpr_0001}"
   ]
  },
  {
   "cell_type": "code",
   "execution_count": 19,
   "metadata": {
    "execution": {
     "iopub.execute_input": "2024-01-22T04:57:05.872149Z",
     "iopub.status.busy": "2024-01-22T04:57:05.871961Z",
     "iopub.status.idle": "2024-01-22T04:57:05.888811Z",
     "shell.execute_reply": "2024-01-22T04:57:05.888432Z"
    }
   },
   "outputs": [
    {
     "ename": "NameError",
     "evalue": "name 'os' is not defined",
     "output_type": "error",
     "traceback": [
      "\u001b[0;31m---------------------------------------------------------------------------\u001b[0m",
      "\u001b[0;31mNameError\u001b[0m                                 Traceback (most recent call last)",
      "Cell \u001b[0;32mIn[19], line 2\u001b[0m\n\u001b[1;32m      1\u001b[0m targs \u001b[38;5;241m=\u001b[39m TrainingArguments(\n\u001b[0;32m----> 2\u001b[0m             output_dir \u001b[38;5;241m=\u001b[39m os\u001b[38;5;241m.\u001b[39mpath\u001b[38;5;241m.\u001b[39mjoin(path, \u001b[38;5;124m'\u001b[39m\u001b[38;5;124mfinetuning/eval\u001b[39m\u001b[38;5;124m'\u001b[39m),\n\u001b[1;32m      3\u001b[0m             evaluation_strategy \u001b[38;5;241m=\u001b[39m \u001b[38;5;124m'\u001b[39m\u001b[38;5;124msteps\u001b[39m\u001b[38;5;124m'\u001b[39m,\n\u001b[1;32m      4\u001b[0m             eval_steps\u001b[38;5;241m=\u001b[39m\u001b[38;5;241m1\u001b[39m, \n\u001b[1;32m      5\u001b[0m             logging_strategy \u001b[38;5;241m=\u001b[39m \u001b[38;5;124m'\u001b[39m\u001b[38;5;124msteps\u001b[39m\u001b[38;5;124m'\u001b[39m,\n\u001b[1;32m      6\u001b[0m             logging_steps\u001b[38;5;241m=\u001b[39m\u001b[38;5;241m1\u001b[39m,\n\u001b[1;32m      7\u001b[0m             save_strategy\u001b[38;5;241m=\u001b[39m\u001b[38;5;124m'\u001b[39m\u001b[38;5;124msteps\u001b[39m\u001b[38;5;124m'\u001b[39m,\n\u001b[1;32m      8\u001b[0m             learning_rate\u001b[38;5;241m=\u001b[39mlr,\n\u001b[1;32m      9\u001b[0m             per_device_train_batch_size\u001b[38;5;241m=\u001b[39mbatch_size,\n\u001b[1;32m     10\u001b[0m             per_device_eval_batch_size\u001b[38;5;241m=\u001b[39m\u001b[38;5;241m256\u001b[39m,\n\u001b[1;32m     11\u001b[0m             num_train_epochs\u001b[38;5;241m=\u001b[39m\u001b[38;5;241m1\u001b[39m,\n\u001b[1;32m     12\u001b[0m             save_total_limit\u001b[38;5;241m=\u001b[39m\u001b[38;5;241m2\u001b[39m,\n\u001b[1;32m     13\u001b[0m             load_best_model_at_end\u001b[38;5;241m=\u001b[39m\u001b[38;5;28;01mTrue\u001b[39;00m,\n\u001b[1;32m     14\u001b[0m             metric_for_best_model\u001b[38;5;241m=\u001b[39m\u001b[38;5;124m'\u001b[39m\u001b[38;5;124mval_loss\u001b[39m\u001b[38;5;124m'\u001b[39m,\n\u001b[1;32m     15\u001b[0m             weight_decay\u001b[38;5;241m=\u001b[39m\u001b[38;5;241m0.01\u001b[39m,\n\u001b[1;32m     16\u001b[0m             report_to\u001b[38;5;241m=\u001b[39m\u001b[38;5;124m'\u001b[39m\u001b[38;5;124mwandb\u001b[39m\u001b[38;5;124m'\u001b[39m,\n\u001b[1;32m     17\u001b[0m             seed\u001b[38;5;241m=\u001b[39mseed,\n\u001b[1;32m     18\u001b[0m         )\n\u001b[1;32m     20\u001b[0m trainer \u001b[38;5;241m=\u001b[39m Trainer(\n\u001b[1;32m     21\u001b[0m     model\u001b[38;5;241m=\u001b[39mmodel,\n\u001b[1;32m     22\u001b[0m     tokenizer\u001b[38;5;241m=\u001b[39mtokenizer,\n\u001b[0;32m   (...)\u001b[0m\n\u001b[1;32m     26\u001b[0m     compute_metrics\u001b[38;5;241m=\u001b[39mcompute_metrics,\n\u001b[1;32m     27\u001b[0m )\n",
      "\u001b[0;31mNameError\u001b[0m: name 'os' is not defined"
     ]
    }
   ],
   "source": [
    "targs = TrainingArguments(\n",
    "            output_dir = os.path.join(path, 'finetuning/eval'),\n",
    "            evaluation_strategy = 'steps',\n",
    "            eval_steps=1, \n",
    "            logging_strategy = 'steps',\n",
    "            logging_steps=1,\n",
    "            save_strategy='steps',\n",
    "            learning_rate=lr,\n",
    "            per_device_train_batch_size=batch_size,\n",
    "            per_device_eval_batch_size=256,\n",
    "            num_train_epochs=1,\n",
    "            save_total_limit=2,\n",
    "            load_best_model_at_end=True,\n",
    "            metric_for_best_model='val_loss',\n",
    "            weight_decay=0.01,\n",
    "            report_to='wandb',\n",
    "            seed=seed,\n",
    "        )\n",
    "\n",
    "trainer = Trainer(\n",
    "    model=model,\n",
    "    tokenizer=tokenizer,\n",
    "    args=targs,\n",
    "    train_dataset=dataset['train'],\n",
    "    eval_dataset=dataset['val'],\n",
    "    compute_metrics=compute_metrics,\n",
    ")"
   ]
  },
  {
   "cell_type": "code",
   "execution_count": 20,
   "metadata": {
    "execution": {
     "iopub.execute_input": "2024-01-22T04:57:05.890762Z",
     "iopub.status.busy": "2024-01-22T04:57:05.890557Z",
     "iopub.status.idle": "2024-01-22T04:57:05.901248Z",
     "shell.execute_reply": "2024-01-22T04:57:05.900883Z"
    }
   },
   "outputs": [
    {
     "ename": "NameError",
     "evalue": "name 'trainer' is not defined",
     "output_type": "error",
     "traceback": [
      "\u001b[0;31m---------------------------------------------------------------------------\u001b[0m",
      "\u001b[0;31mNameError\u001b[0m                                 Traceback (most recent call last)",
      "Cell \u001b[0;32mIn[20], line 1\u001b[0m\n\u001b[0;32m----> 1\u001b[0m trainer\u001b[38;5;241m.\u001b[39mtrain()\n",
      "\u001b[0;31mNameError\u001b[0m: name 'trainer' is not defined"
     ]
    }
   ],
   "source": [
    "trainer.train()"
   ]
  },
  {
   "cell_type": "code",
   "execution_count": 21,
   "metadata": {
    "execution": {
     "iopub.execute_input": "2024-01-22T04:57:05.903038Z",
     "iopub.status.busy": "2024-01-22T04:57:05.902848Z",
     "iopub.status.idle": "2024-01-22T04:57:05.915302Z",
     "shell.execute_reply": "2024-01-22T04:57:05.914934Z"
    }
   },
   "outputs": [
    {
     "ename": "NameError",
     "evalue": "name 'data' is not defined",
     "output_type": "error",
     "traceback": [
      "\u001b[0;31m---------------------------------------------------------------------------\u001b[0m",
      "\u001b[0;31mNameError\u001b[0m                                 Traceback (most recent call last)",
      "Cell \u001b[0;32mIn[21], line 4\u001b[0m\n\u001b[1;32m      1\u001b[0m \u001b[38;5;28;01mimport\u001b[39;00m \u001b[38;5;21;01mpickle\u001b[39;00m\n\u001b[1;32m      3\u001b[0m \u001b[38;5;28;01mwith\u001b[39;00m \u001b[38;5;28mopen\u001b[39m(\u001b[38;5;124m'\u001b[39m\u001b[38;5;124msample_efficiency.pkl\u001b[39m\u001b[38;5;124m'\u001b[39m, \u001b[38;5;124m'\u001b[39m\u001b[38;5;124mwb\u001b[39m\u001b[38;5;124m'\u001b[39m) \u001b[38;5;28;01mas\u001b[39;00m f:\n\u001b[0;32m----> 4\u001b[0m     pickle\u001b[38;5;241m.\u001b[39mdump(data, f)\n",
      "\u001b[0;31mNameError\u001b[0m: name 'data' is not defined"
     ]
    }
   ],
   "source": [
    "import pickle\n",
    "\n",
    "with open('sample_efficiency.pkl', 'wb') as f:\n",
    "    pickle.dump(data, f)"
   ]
  },
  {
   "cell_type": "markdown",
   "metadata": {},
   "source": [
    "### Evaluation"
   ]
  },
  {
   "cell_type": "code",
   "execution_count": 22,
   "metadata": {
    "execution": {
     "iopub.execute_input": "2024-01-22T04:57:05.917152Z",
     "iopub.status.busy": "2024-01-22T04:57:05.916962Z",
     "iopub.status.idle": "2024-01-22T04:57:05.930731Z",
     "shell.execute_reply": "2024-01-22T04:57:05.930333Z"
    }
   },
   "outputs": [
    {
     "ename": "EOFError",
     "evalue": "Ran out of input",
     "output_type": "error",
     "traceback": [
      "\u001b[0;31m---------------------------------------------------------------------------\u001b[0m",
      "\u001b[0;31mEOFError\u001b[0m                                  Traceback (most recent call last)",
      "Cell \u001b[0;32mIn[22], line 4\u001b[0m\n\u001b[1;32m      1\u001b[0m \u001b[38;5;28;01mimport\u001b[39;00m \u001b[38;5;21;01mpickle\u001b[39;00m \n\u001b[1;32m      3\u001b[0m \u001b[38;5;28;01mwith\u001b[39;00m \u001b[38;5;28mopen\u001b[39m(\u001b[38;5;124m'\u001b[39m\u001b[38;5;124msample_efficiency.pkl\u001b[39m\u001b[38;5;124m'\u001b[39m, \u001b[38;5;124m'\u001b[39m\u001b[38;5;124mrb\u001b[39m\u001b[38;5;124m'\u001b[39m) \u001b[38;5;28;01mas\u001b[39;00m f:\n\u001b[0;32m----> 4\u001b[0m     data \u001b[38;5;241m=\u001b[39m pickle\u001b[38;5;241m.\u001b[39mload(f)\n\u001b[1;32m      6\u001b[0m xs \u001b[38;5;241m=\u001b[39m [\u001b[38;5;241m32\u001b[39m\u001b[38;5;241m*\u001b[39mi \u001b[38;5;28;01mfor\u001b[39;00m i \u001b[38;5;129;01min\u001b[39;00m \u001b[38;5;28mrange\u001b[39m(\u001b[38;5;28mlen\u001b[39m(data[\u001b[38;5;124m'\u001b[39m\u001b[38;5;124maccuracy\u001b[39m\u001b[38;5;124m'\u001b[39m]))]\n\u001b[1;32m      7\u001b[0m idxs \u001b[38;5;241m=\u001b[39m [i \u001b[38;5;28;01mfor\u001b[39;00m i \u001b[38;5;129;01min\u001b[39;00m xs \u001b[38;5;28;01mif\u001b[39;00m i \u001b[38;5;241m&\u001b[39m (i\u001b[38;5;241m-\u001b[39m\u001b[38;5;241m1\u001b[39m) \u001b[38;5;241m==\u001b[39m \u001b[38;5;241m0\u001b[39m]\n",
      "\u001b[0;31mEOFError\u001b[0m: Ran out of input"
     ]
    }
   ],
   "source": [
    "import pickle \n",
    "\n",
    "with open('sample_efficiency.pkl', 'rb') as f:\n",
    "    data = pickle.load(f)\n",
    "\n",
    "xs = [32*i for i in range(len(data['accuracy']))]\n",
    "idxs = [i for i in xs if i & (i-1) == 0]"
   ]
  },
  {
   "cell_type": "code",
   "execution_count": 23,
   "metadata": {
    "execution": {
     "iopub.execute_input": "2024-01-22T04:57:05.932518Z",
     "iopub.status.busy": "2024-01-22T04:57:05.932329Z",
     "iopub.status.idle": "2024-01-22T04:57:09.412492Z",
     "shell.execute_reply": "2024-01-22T04:57:09.412065Z"
    }
   },
   "outputs": [
    {
     "ename": "NameError",
     "evalue": "name 'data' is not defined",
     "output_type": "error",
     "traceback": [
      "\u001b[0;31m---------------------------------------------------------------------------\u001b[0m",
      "\u001b[0;31mNameError\u001b[0m                                 Traceback (most recent call last)",
      "Cell \u001b[0;32mIn[23], line 11\u001b[0m\n\u001b[1;32m      8\u001b[0m fig, axes \u001b[38;5;241m=\u001b[39m plt\u001b[38;5;241m.\u001b[39msubplots(\u001b[38;5;241m2\u001b[39m,\u001b[38;5;241m4\u001b[39m, figsize\u001b[38;5;241m=\u001b[39m(\u001b[38;5;241m20\u001b[39m,\u001b[38;5;241m10\u001b[39m))\n\u001b[1;32m      9\u001b[0m axes \u001b[38;5;241m=\u001b[39m axes\u001b[38;5;241m.\u001b[39mflatten()\n\u001b[0;32m---> 11\u001b[0m \u001b[38;5;28;01mfor\u001b[39;00m i, key \u001b[38;5;129;01min\u001b[39;00m \u001b[38;5;28menumerate\u001b[39m(data\u001b[38;5;241m.\u001b[39mkeys()):\n\u001b[1;32m     12\u001b[0m     \u001b[38;5;28;01mif\u001b[39;00m key \u001b[38;5;241m==\u001b[39m \u001b[38;5;124m'\u001b[39m\u001b[38;5;124mval_loss\u001b[39m\u001b[38;5;124m'\u001b[39m:\n\u001b[1;32m     13\u001b[0m         \u001b[38;5;28;01mcontinue\u001b[39;00m\n",
      "\u001b[0;31mNameError\u001b[0m: name 'data' is not defined"
     ]
    },
    {
     "data": {
      "image/png": "[encoded data removed]",
      "text/plain": [
       "<Figure size 2000x1000 with 8 Axes>"
      ]
     },
     "metadata": {},
     "output_type": "display_data"
    }
   ],
   "source": [
    "import matplotlib.pyplot as plt \n",
    "import seaborn as sns \n",
    "\n",
    "sns.set_style('darkgrid')\n",
    "sns.set_context('paper')\n",
    "\n",
    "# create 4 x 2 subplots\n",
    "fig, axes = plt.subplots(2,4, figsize=(20,10))\n",
    "axes = axes.flatten()\n",
    "\n",
    "for i, key in enumerate(data.keys()):\n",
    "    if key == 'val_loss':\n",
    "        continue\n",
    "    ax = axes[i-1]\n",
    "    ax.plot([data[key][x//32] for x in idxs], label=key)\n",
    "    ax.set_xticks(range(9))\n",
    "    ax.set_xticklabels(idxs)\n",
    "     \n",
    "    ax.set_title(key)\n",
    "    ax.title.set_fontsize(16)\n",
    "\n",
    "plt.suptitle(\"Text Classifier Sample Efficiency\", fontsize=20)\n",
    "plt.tight_layout()\n",
    "plt.show()"
   ]
  },
  {
   "cell_type": "code",
   "execution_count": null,
   "metadata": {},
   "outputs": [],
   "source": []
  }
 ],
 "metadata": {
  "kernelspec": {
   "display_name": "base",
   "language": "python",
   "name": "python3"
  },
  "language_info": {
   "codemirror_mode": {
    "name": "ipython",
    "version": 3
   },
   "file_extension": ".py",
   "mimetype": "text/x-python",
   "name": "python",
   "nbconvert_exporter": "python",
   "pygments_lexer": "ipython3",
   "version": "3.11.5"
  }
 },
 "nbformat": 4,
 "nbformat_minor": 2
}
